{
 "cells": [
  {
   "cell_type": "markdown",
   "metadata": {},
   "source": [
    "# Summary\n",
    "\n",
    "Wrangle the all card data.  Joins set data as well.  Then selects Standard Legal cards and other \n",
    "interesting data sets."
   ]
  },
  {
   "cell_type": "code",
   "execution_count": 99,
   "metadata": {},
   "outputs": [],
   "source": [
    "# Setup Notebook\n",
    "import os\n",
    "if os.path.basename(os.getcwd()) != \"mtg-modeling\":\n",
    "    get_ipython().run_line_magic(\"run\", '-i \"../../scripts/notebook_header.py\"')  # type: ignore"
   ]
  },
  {
   "cell_type": "code",
   "execution_count": 100,
   "metadata": {},
   "outputs": [],
   "source": [
    "import pandas as pd\n",
    "import polars as pl"
   ]
  },
  {
   "cell_type": "code",
   "execution_count": 101,
   "metadata": {},
   "outputs": [],
   "source": [
    "SET_CODE = \"BLB\"\n",
    "\n",
    "paths = {\n",
    "    \"raw\": Path(\"data/raw/mtgjson/AllPrintingsParquetFiles\"),\n",
    "    \"interim\": Path(\"data/interim/mtgjson/AllPrintings\"),\n",
    "    \"processed\": Path(\"data/processed/mtgjson/AllPrintings\"),\n",
    "}\n",
    "\n",
    "paths['raw'].exists()\n",
    "os.makedirs(paths[\"interim\"], exist_ok=True)\n",
    "os.makedirs(paths[\"processed\"], exist_ok=True)"
   ]
  },
  {
   "cell_type": "code",
   "execution_count": 102,
   "metadata": {},
   "outputs": [],
   "source": [
    "cards = pl.scan_parquet(paths[\"raw\"] / \"cards.parquet\")\n",
    "legalities = pl.scan_parquet(paths[\"raw\"] / \"cardLegalities.parquet\")\n",
    "purchase_urls = pl.scan_parquet(paths[\"raw\"] / \"cardPurchaseUrls.parquet\")\n",
    "sets = pl.scan_parquet(paths[\"raw\"] / \"sets.parquet\")"
   ]
  },
  {
   "cell_type": "code",
   "execution_count": 103,
   "metadata": {},
   "outputs": [
    {
     "data": {
      "text/plain": [
       "['artist',\n",
       " 'artistIds',\n",
       " 'asciiName',\n",
       " 'attractionLights',\n",
       " 'availability',\n",
       " 'boosterTypes',\n",
       " 'borderColor',\n",
       " 'cardParts',\n",
       " 'colorIdentity',\n",
       " 'colorIndicator',\n",
       " 'colors',\n",
       " 'defense',\n",
       " 'duelDeck',\n",
       " 'edhrecRank',\n",
       " 'edhrecSaltiness',\n",
       " 'faceConvertedManaCost',\n",
       " 'faceFlavorName',\n",
       " 'faceManaValue',\n",
       " 'faceName',\n",
       " 'finishes',\n",
       " 'flavorName',\n",
       " 'flavorText',\n",
       " 'frameEffects',\n",
       " 'frameVersion',\n",
       " 'hand',\n",
       " 'hasAlternativeDeckLimit',\n",
       " 'hasContentWarning',\n",
       " 'hasFoil',\n",
       " 'hasNonFoil',\n",
       " 'isAlternative',\n",
       " 'isFullArt',\n",
       " 'isFunny',\n",
       " 'isOnlineOnly',\n",
       " 'isOversized',\n",
       " 'isPromo',\n",
       " 'isRebalanced',\n",
       " 'isReprint',\n",
       " 'isReserved',\n",
       " 'isStarter',\n",
       " 'isStorySpotlight',\n",
       " 'isTextless',\n",
       " 'isTimeshifted',\n",
       " 'keywords',\n",
       " 'language',\n",
       " 'layout',\n",
       " 'leadershipSkills',\n",
       " 'life',\n",
       " 'loyalty',\n",
       " 'manaCost',\n",
       " 'manaValue',\n",
       " 'name',\n",
       " 'number',\n",
       " 'originalPrintings',\n",
       " 'originalReleaseDate',\n",
       " 'originalText',\n",
       " 'originalType',\n",
       " 'otherFaceIds',\n",
       " 'power',\n",
       " 'printings',\n",
       " 'promoTypes',\n",
       " 'rarity',\n",
       " 'rebalancedPrintings',\n",
       " 'relatedCards',\n",
       " 'securityStamp',\n",
       " 'setCode',\n",
       " 'side',\n",
       " 'signature',\n",
       " 'sourceProducts',\n",
       " 'subsets',\n",
       " 'subtypes',\n",
       " 'supertypes',\n",
       " 'text',\n",
       " 'toughness',\n",
       " 'type',\n",
       " 'types',\n",
       " 'uuid',\n",
       " 'variations',\n",
       " 'watermark']"
      ]
     },
     "execution_count": 103,
     "metadata": {},
     "output_type": "execute_result"
    }
   ],
   "source": [
    "cards.collect().columns"
   ]
  },
  {
   "cell_type": "code",
   "execution_count": 104,
   "metadata": {},
   "outputs": [
    {
     "name": "stdout",
     "output_type": "stream",
     "text": [
      "(96216, 127)\n"
     ]
    }
   ],
   "source": [
    "results = (\n",
    "    cards\n",
    "    .join(sets, left_on='setCode', right_on='code', how='left')\n",
    "    .join(legalities, on='uuid', how='left')\n",
    "    .join(purchase_urls, on='uuid', how='left')\n",
    ")\n",
    "\n",
    "wide_cards = results.collect()\n",
    "wide_cards.write_parquet(paths[\"interim\"] / \"wide_cards.parquet\")\n",
    "print(wide_cards.shape)"
   ]
  },
  {
   "cell_type": "markdown",
   "metadata": {},
   "source": [
    "## Data for Standard Legal Cards\n",
    "\n",
    "Used for analysis of the Standard format.  \n",
    "\n",
    "See the [MTG Wiki Standard/Timeline](https://mtg.fandom.com/wiki/Standard/Timeline) page for validate correct card composition."
   ]
  },
  {
   "cell_type": "code",
   "execution_count": 105,
   "metadata": {},
   "outputs": [
    {
     "name": "stdout",
     "output_type": "stream",
     "text": [
      "(6344, 127)\n"
     ]
    }
   ],
   "source": [
    "standard_results = (\n",
    "    results\n",
    "    .filter(pl.col('standard') == 'Legal')\n",
    "    .filter(pl.col('borderColor') == 'black')\n",
    "    .filter(pl.col('isPromo').is_null())\n",
    "    # .filter(pl.col('isReprint').is_null())\n",
    "    .filter(pl.col('promoTypes').is_null())\n",
    "    .sort(pl.col('name'), descending=False)\n",
    "    .sort(pl.col('releaseDate'), descending=False)\n",
    "    .sort(pl.col('power'), descending=False)\n",
    ")\n",
    "\n",
    "standard_cards = standard_results.collect()\n",
    "standard_cards.write_parquet(paths[\"processed\"] / \"standard_cards.parquet\")\n",
    "print(standard_cards.shape)"
   ]
  },
  {
   "cell_type": "markdown",
   "metadata": {},
   "source": [
    "## Outlaws of Thunder Junction Standard Legal Set\n",
    "\n",
    "Per the [wiki](https://mtg.fandom.com/wiki/Standard/Timeline), there should be 271 cards in the OTJ set."
   ]
  },
  {
   "cell_type": "code",
   "execution_count": 106,
   "metadata": {},
   "outputs": [],
   "source": [
    "otj_results = (\n",
    "    results\n",
    "    .filter(pl.col('standard') == 'Legal')\n",
    "    .filter(pl.col('borderColor') == 'black')\n",
    "    .filter(pl.col('isPromo').is_null())\n",
    "    # .filter(pl.col('isReprint').is_null())\n",
    "    .filter(pl.col('promoTypes').is_null())\n",
    "    .filter(pl.col('setCode') == SET_CODE)\n",
    "    .sort(pl.col('number'))\n",
    ")\n",
    "\n",
    "otj_cards = otj_results.collect()\n",
    "otj_cards.write_parquet(paths[\"processed\"] / f\"{SET_CODE}_std_cards.parquet\")\n",
    "otj_cards_ids = (\n",
    "    otj_cards.select([pl.col(\"name\"), pl.col(\"number\").str.zfill(3)])\n",
    "    .sort(pl.col(\"number\"))\n",
    "    .to_pandas()\n",
    ")"
   ]
  },
  {
   "cell_type": "code",
   "execution_count": 107,
   "metadata": {},
   "outputs": [
    {
     "data": {
      "text/html": [
       "<div><style>\n",
       ".dataframe > thead > tr,\n",
       ".dataframe > tbody > tr {\n",
       "  text-align: right;\n",
       "  white-space: pre-wrap;\n",
       "}\n",
       "</style>\n",
       "<small>shape: (5, 19)</small><table border=\"1\" class=\"dataframe\"><thead><tr><th>name</th><th>setCode</th><th>releaseDate</th><th>number</th><th>layout</th><th>availability</th><th>power</th><th>toughness</th><th>colorIdentity</th><th>colors</th><th>types</th><th>subtypes</th><th>supertypes</th><th>manaCost</th><th>manaValue</th><th>edhrecRank</th><th>edhrecSaltiness</th><th>text</th><th>flavorText</th></tr><tr><td>str</td><td>str</td><td>str</td><td>str</td><td>str</td><td>str</td><td>str</td><td>str</td><td>str</td><td>str</td><td>str</td><td>str</td><td>str</td><td>str</td><td>f64</td><td>f64</td><td>f64</td><td>str</td><td>str</td></tr></thead><tbody><tr><td>&quot;Banishing Light&quot;</td><td>&quot;BLB&quot;</td><td>&quot;2024-08-02&quot;</td><td>&quot;001&quot;</td><td>&quot;normal&quot;</td><td>&quot;arena, mtgo, paper&quot;</td><td>null</td><td>null</td><td>&quot;W&quot;</td><td>&quot;W&quot;</td><td>&quot;Enchantment&quot;</td><td>&quot;&quot;</td><td>&quot;&quot;</td><td>&quot;{2}{W}&quot;</td><td>3.0</td><td>2267.0</td><td>0.21</td><td>&quot;When Banishing Light enters, e…</td><td>&quot;&quot;If you cannot find light in t…</td></tr><tr><td>&quot;Dewdrop Cure&quot;</td><td>&quot;BLB&quot;</td><td>&quot;2024-08-02&quot;</td><td>&quot;010&quot;</td><td>&quot;normal&quot;</td><td>&quot;arena, mtgo, paper&quot;</td><td>null</td><td>null</td><td>&quot;W&quot;</td><td>&quot;W&quot;</td><td>&quot;Sorcery&quot;</td><td>&quot;&quot;</td><td>&quot;&quot;</td><td>&quot;{2}{W}&quot;</td><td>3.0</td><td>15834.0</td><td>null</td><td>&quot;Gift a card (You may promise a…</td><td>null</td></tr><tr><td>&quot;Maha, Its Feathers Night&quot;</td><td>&quot;BLB&quot;</td><td>&quot;2024-08-02&quot;</td><td>&quot;100&quot;</td><td>&quot;normal&quot;</td><td>&quot;arena, mtgo, paper&quot;</td><td>&quot;6&quot;</td><td>&quot;5&quot;</td><td>&quot;B&quot;</td><td>&quot;B&quot;</td><td>&quot;Creature&quot;</td><td>&quot;Elemental, Bird&quot;</td><td>&quot;Legendary&quot;</td><td>&quot;{3}{B}{B}&quot;</td><td>5.0</td><td>11109.0</td><td>null</td><td>&quot;Flying, trample\\nWard—Discard …</td><td>&quot;Its wingspan reaches from dusk…</td></tr><tr><td>&quot;Moonstone Harbinger&quot;</td><td>&quot;BLB&quot;</td><td>&quot;2024-08-02&quot;</td><td>&quot;101&quot;</td><td>&quot;normal&quot;</td><td>&quot;arena, mtgo, paper&quot;</td><td>&quot;1&quot;</td><td>&quot;3&quot;</td><td>&quot;B&quot;</td><td>&quot;B&quot;</td><td>&quot;Creature&quot;</td><td>&quot;Bat, Warrior&quot;</td><td>&quot;&quot;</td><td>&quot;{2}{B}&quot;</td><td>3.0</td><td>16560.0</td><td>null</td><td>&quot;Flying, deathtouch\\nWhenever y…</td><td>&quot;Moonstone weapons drink in the…</td></tr><tr><td>&quot;Nocturnal Hunger&quot;</td><td>&quot;BLB&quot;</td><td>&quot;2024-08-02&quot;</td><td>&quot;102&quot;</td><td>&quot;normal&quot;</td><td>&quot;arena, mtgo, paper&quot;</td><td>null</td><td>null</td><td>&quot;B&quot;</td><td>&quot;B&quot;</td><td>&quot;Instant&quot;</td><td>&quot;&quot;</td><td>&quot;&quot;</td><td>&quot;{2}{B}&quot;</td><td>3.0</td><td>19199.0</td><td>null</td><td>&quot;Gift a Food (You may promise a…</td><td>null</td></tr></tbody></table></div>"
      ],
      "text/plain": [
       "shape: (5, 19)\n",
       "┌────────────┬─────────┬────────────┬────────┬───┬────────────┬────────────┬───────────┬───────────┐\n",
       "│ name       ┆ setCode ┆ releaseDat ┆ number ┆ … ┆ edhrecRank ┆ edhrecSalt ┆ text      ┆ flavorTex │\n",
       "│ ---        ┆ ---     ┆ e          ┆ ---    ┆   ┆ ---        ┆ iness      ┆ ---       ┆ t         │\n",
       "│ str        ┆ str     ┆ ---        ┆ str    ┆   ┆ f64        ┆ ---        ┆ str       ┆ ---       │\n",
       "│            ┆         ┆ str        ┆        ┆   ┆            ┆ f64        ┆           ┆ str       │\n",
       "╞════════════╪═════════╪════════════╪════════╪═══╪════════════╪════════════╪═══════════╪═══════════╡\n",
       "│ Banishing  ┆ BLB     ┆ 2024-08-02 ┆ 001    ┆ … ┆ 2267.0     ┆ 0.21       ┆ When      ┆ \"If you   │\n",
       "│ Light      ┆         ┆            ┆        ┆   ┆            ┆            ┆ Banishing ┆ cannot    │\n",
       "│            ┆         ┆            ┆        ┆   ┆            ┆            ┆ Light     ┆ find      │\n",
       "│            ┆         ┆            ┆        ┆   ┆            ┆            ┆ enters,   ┆ light in  │\n",
       "│            ┆         ┆            ┆        ┆   ┆            ┆            ┆ e…        ┆ t…        │\n",
       "│ Dewdrop    ┆ BLB     ┆ 2024-08-02 ┆ 010    ┆ … ┆ 15834.0    ┆ null       ┆ Gift a    ┆ null      │\n",
       "│ Cure       ┆         ┆            ┆        ┆   ┆            ┆            ┆ card (You ┆           │\n",
       "│            ┆         ┆            ┆        ┆   ┆            ┆            ┆ may       ┆           │\n",
       "│            ┆         ┆            ┆        ┆   ┆            ┆            ┆ promise   ┆           │\n",
       "│            ┆         ┆            ┆        ┆   ┆            ┆            ┆ a…        ┆           │\n",
       "│ Maha, Its  ┆ BLB     ┆ 2024-08-02 ┆ 100    ┆ … ┆ 11109.0    ┆ null       ┆ Flying,   ┆ Its       │\n",
       "│ Feathers   ┆         ┆            ┆        ┆   ┆            ┆            ┆ trample\\n ┆ wingspan  │\n",
       "│ Night      ┆         ┆            ┆        ┆   ┆            ┆            ┆ Ward—Disc ┆ reaches   │\n",
       "│            ┆         ┆            ┆        ┆   ┆            ┆            ┆ ard …     ┆ from      │\n",
       "│            ┆         ┆            ┆        ┆   ┆            ┆            ┆           ┆ dusk…     │\n",
       "│ Moonstone  ┆ BLB     ┆ 2024-08-02 ┆ 101    ┆ … ┆ 16560.0    ┆ null       ┆ Flying,   ┆ Moonstone │\n",
       "│ Harbinger  ┆         ┆            ┆        ┆   ┆            ┆            ┆ deathtouc ┆ weapons   │\n",
       "│            ┆         ┆            ┆        ┆   ┆            ┆            ┆ h\\nWhenev ┆ drink in  │\n",
       "│            ┆         ┆            ┆        ┆   ┆            ┆            ┆ er y…     ┆ the…      │\n",
       "│ Nocturnal  ┆ BLB     ┆ 2024-08-02 ┆ 102    ┆ … ┆ 19199.0    ┆ null       ┆ Gift a    ┆ null      │\n",
       "│ Hunger     ┆         ┆            ┆        ┆   ┆            ┆            ┆ Food (You ┆           │\n",
       "│            ┆         ┆            ┆        ┆   ┆            ┆            ┆ may       ┆           │\n",
       "│            ┆         ┆            ┆        ┆   ┆            ┆            ┆ promise   ┆           │\n",
       "│            ┆         ┆            ┆        ┆   ┆            ┆            ┆ a…        ┆           │\n",
       "└────────────┴─────────┴────────────┴────────┴───┴────────────┴────────────┴───────────┴───────────┘"
      ]
     },
     "execution_count": 107,
     "metadata": {},
     "output_type": "execute_result"
    }
   ],
   "source": [
    "otj_core_results = (\n",
    "    otj_results\n",
    "    .select([\n",
    "        pl.col('name'),\n",
    "        pl.col('setCode'),\n",
    "        pl.col('releaseDate'),\n",
    "        pl.col('number').str.zfill(3),\n",
    "        pl.col('layout'),\n",
    "        pl.col('availability'),\n",
    "        pl.col('power'),\n",
    "        pl.col('toughness'),\n",
    "        pl.col('colorIdentity'),\n",
    "        pl.col('colors'),\n",
    "        pl.col('types'),\n",
    "        pl.col('subtypes'),\n",
    "        pl.col('supertypes'),\n",
    "        pl.col('manaCost'),\n",
    "        pl.col('manaValue'),\n",
    "        pl.col('edhrecRank'),\n",
    "        pl.col('edhrecSaltiness'),\n",
    "        pl.col('text'),\n",
    "        pl.col('flavorText'),\n",
    "    ])\n",
    ")\n",
    "\n",
    "otj_core_cards = otj_core_results.collect()\n",
    "otj_core_cards.write_parquet(paths[\"processed\"] / f\"{SET_CODE}_std_thin.parquet\")\n",
    "otj_core_cards.head()"
   ]
  },
  {
   "cell_type": "code",
   "execution_count": null,
   "metadata": {},
   "outputs": [],
   "source": []
  }
 ],
 "metadata": {
  "kernelspec": {
   "display_name": "dl+bayes-env",
   "language": "python",
   "name": "python3"
  },
  "language_info": {
   "codemirror_mode": {
    "name": "ipython",
    "version": 3
   },
   "file_extension": ".py",
   "mimetype": "text/x-python",
   "name": "python",
   "nbconvert_exporter": "python",
   "pygments_lexer": "ipython3",
   "version": "3.10.9"
  }
 },
 "nbformat": 4,
 "nbformat_minor": 2
}
