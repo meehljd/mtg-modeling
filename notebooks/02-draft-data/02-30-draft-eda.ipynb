{
 "cells": [
  {
   "cell_type": "markdown",
   "metadata": {},
   "source": [
    "# Summary\n",
    "\n",
    "Exploratory data analysis of draft data (e.g. win rates)"
   ]
  },
  {
   "cell_type": "code",
   "execution_count": 2,
   "metadata": {},
   "outputs": [
    {
     "name": "stdout",
     "output_type": "stream",
     "text": [
      "Changed working directory to: d:\\mtg-modeling\n"
     ]
    }
   ],
   "source": [
    "# Setup Notebook\n",
    "import os\n",
    "if os.path.basename(os.getcwd()) != \"mtg-modeling\":\n",
    "    get_ipython().run_line_magic(\"run\", '-i \"../../scripts/notebook_header.py\"')  # type: ignore"
   ]
  },
  {
   "cell_type": "code",
   "execution_count": 3,
   "metadata": {},
   "outputs": [],
   "source": [
    "import pandas as pd\n",
    "from tqdm.notebook import tqdm\n",
    "from pathlib import Path\n",
    "import matplotlib.pyplot as plt\n",
    "import seaborn as sns\n",
    "import numpy as np\n",
    "import time\n",
    "import polars as pl"
   ]
  },
  {
   "cell_type": "code",
   "execution_count": 4,
   "metadata": {},
   "outputs": [],
   "source": [
    "SET_CODE = \"BLB\"\n",
    "\n",
    "paths = {\n",
    "    \"processed\": Path(\"data/processed/17lands/game_data/premier_draft\"),\n",
    "}\n",
    "summary_file = paths[\"processed\"] / f\"{SET_CODE}_Game_PD_Summary.parquet\"\n",
    "game_file = paths[\"processed\"] / f\"{SET_CODE}_Game_PD_Games.parquet\"\n",
    "draft_file = paths[\"processed\"] / f\"{SET_CODE}_Game_PD_Drafts.parquet\"\n",
    "card_file = paths[\"processed\"] / f\"{SET_CODE}_Game_PD_Cards.parquet\"\n"
   ]
  },
  {
   "cell_type": "markdown",
   "metadata": {},
   "source": [
    "# Summary Data"
   ]
  },
  {
   "cell_type": "code",
   "execution_count": 11,
   "metadata": {},
   "outputs": [
    {
     "data": {
      "text/html": [
       "<div><style>\n",
       ".dataframe > thead > tr,\n",
       ".dataframe > tbody > tr {\n",
       "  text-align: right;\n",
       "  white-space: pre-wrap;\n",
       "}\n",
       "</style>\n",
       "<small>shape: (1, 19)</small><table border=\"1\" class=\"dataframe\"><thead><tr><th>first_game</th><th>last_game</th><th>max_games</th><th>win_rate</th><th>start_rate</th><th>n_games</th><th>n_mul</th><th>n_opp_mul</th><th>mean_turns</th><th>max_turns</th><th>min_turns</th><th>n_drafts</th><th>mean_matches</th><th>n_games_per_draft</th><th>n_cards</th><th>max_card</th><th>mean_land</th><th>max_land</th><th>min_land</th></tr><tr><td>str</td><td>str</td><td>i64</td><td>f64</td><td>f64</td><td>u32</td><td>i64</td><td>i64</td><td>f64</td><td>i64</td><td>i64</td><td>u32</td><td>f64</td><td>f64</td><td>i32</td><td>i64</td><td>f64</td><td>i32</td><td>i32</td></tr></thead><tbody><tr><td>&quot;2024-07-30 15:41:04&quot;</td><td>&quot;2024-08-18 23:59:52&quot;</td><td>2</td><td>0.547108</td><td>0.500285</td><td>679966</td><td>92172</td><td>96719</td><td>8.88899</td><td>33</td><td>1</td><td>116804</td><td>5.827651</td><td>5.821427</td><td>276</td><td>7</td><td>22.164273</td><td>37</td><td>11</td></tr></tbody></table></div>"
      ],
      "text/plain": [
       "shape: (1, 19)\n",
       "┌─────────────┬────────────┬───────────┬──────────┬───┬──────────┬───────────┬──────────┬──────────┐\n",
       "│ first_game  ┆ last_game  ┆ max_games ┆ win_rate ┆ … ┆ max_card ┆ mean_land ┆ max_land ┆ min_land │\n",
       "│ ---         ┆ ---        ┆ ---       ┆ ---      ┆   ┆ ---      ┆ ---       ┆ ---      ┆ ---      │\n",
       "│ str         ┆ str        ┆ i64       ┆ f64      ┆   ┆ i64      ┆ f64       ┆ i32      ┆ i32      │\n",
       "╞═════════════╪════════════╪═══════════╪══════════╪═══╪══════════╪═══════════╪══════════╪══════════╡\n",
       "│ 2024-07-30  ┆ 2024-08-18 ┆ 2         ┆ 0.547108 ┆ … ┆ 7        ┆ 22.164273 ┆ 37       ┆ 11       │\n",
       "│ 15:41:04    ┆ 23:59:52   ┆           ┆          ┆   ┆          ┆           ┆          ┆          │\n",
       "└─────────────┴────────────┴───────────┴──────────┴───┴──────────┴───────────┴──────────┴──────────┘"
      ]
     },
     "execution_count": 11,
     "metadata": {},
     "output_type": "execute_result"
    }
   ],
   "source": [
    "df_summary = pl.scan_parquet(summary_file)\n",
    "df_summary.collect()"
   ]
  },
  {
   "cell_type": "markdown",
   "metadata": {},
   "source": [
    "# Draft Data\n",
    "\n"
   ]
  },
  {
   "cell_type": "code",
   "execution_count": 5,
   "metadata": {},
   "outputs": [],
   "source": [
    "df_draft = pl.scan_parquet(draft_file)"
   ]
  },
  {
   "cell_type": "markdown",
   "metadata": {},
   "source": [
    "## Color Decks"
   ]
  },
  {
   "cell_type": "code",
   "execution_count": 7,
   "metadata": {},
   "outputs": [
    {
     "name": "stderr",
     "output_type": "stream",
     "text": [
      "C:\\Users\\Josh.Meehl\\AppData\\Local\\Temp\\ipykernel_22544\\1621132549.py:1: DeprecationWarning: `LazyGroupBy.count` is deprecated. It has been renamed to `len`.\n",
      "  df_draft.group_by(\"main_colors\").count().sort(by='count', descending=True).head(10).collect()\n"
     ]
    },
    {
     "data": {
      "text/html": [
       "<div><style>\n",
       ".dataframe > thead > tr,\n",
       ".dataframe > tbody > tr {\n",
       "  text-align: right;\n",
       "  white-space: pre-wrap;\n",
       "}\n",
       "</style>\n",
       "<small>shape: (10, 2)</small><table border=\"1\" class=\"dataframe\"><thead><tr><th>main_colors</th><th>count</th></tr><tr><td>str</td><td>u32</td></tr></thead><tbody><tr><td>&quot;BG&quot;</td><td>18607</td></tr><tr><td>&quot;WG&quot;</td><td>17175</td></tr><tr><td>&quot;UG&quot;</td><td>13357</td></tr><tr><td>&quot;WB&quot;</td><td>13062</td></tr><tr><td>&quot;WR&quot;</td><td>11756</td></tr><tr><td>&quot;BR&quot;</td><td>10065</td></tr><tr><td>&quot;RG&quot;</td><td>8524</td></tr><tr><td>&quot;UB&quot;</td><td>7153</td></tr><tr><td>&quot;UR&quot;</td><td>5114</td></tr><tr><td>&quot;WU&quot;</td><td>4266</td></tr></tbody></table></div>"
      ],
      "text/plain": [
       "shape: (10, 2)\n",
       "┌─────────────┬───────┐\n",
       "│ main_colors ┆ count │\n",
       "│ ---         ┆ ---   │\n",
       "│ str         ┆ u32   │\n",
       "╞═════════════╪═══════╡\n",
       "│ BG          ┆ 18607 │\n",
       "│ WG          ┆ 17175 │\n",
       "│ UG          ┆ 13357 │\n",
       "│ WB          ┆ 13062 │\n",
       "│ WR          ┆ 11756 │\n",
       "│ BR          ┆ 10065 │\n",
       "│ RG          ┆ 8524  │\n",
       "│ UB          ┆ 7153  │\n",
       "│ UR          ┆ 5114  │\n",
       "│ WU          ┆ 4266  │\n",
       "└─────────────┴───────┘"
      ]
     },
     "execution_count": 7,
     "metadata": {},
     "output_type": "execute_result"
    }
   ],
   "source": [
    "df_draft.group_by(\"main_colors\").count().sort(by='count', descending=True).head(10).collect()"
   ]
  },
  {
   "cell_type": "code",
   "execution_count": 10,
   "metadata": {},
   "outputs": [
    {
     "name": "stderr",
     "output_type": "stream",
     "text": [
      "C:\\Users\\Josh.Meehl\\AppData\\Local\\Temp\\ipykernel_22544\\3316925235.py:1: DeprecationWarning: `LazyGroupBy.count` is deprecated. It has been renamed to `len`.\n",
      "  df_draft.group_by(\"opp_colors\").count().sort(by='count', descending=True).head(10).collect()\n"
     ]
    },
    {
     "data": {
      "text/html": [
       "<div><style>\n",
       ".dataframe > thead > tr,\n",
       ".dataframe > tbody > tr {\n",
       "  text-align: right;\n",
       "  white-space: pre-wrap;\n",
       "}\n",
       "</style>\n",
       "<small>shape: (10, 2)</small><table border=\"1\" class=\"dataframe\"><thead><tr><th>opp_colors</th><th>count</th></tr><tr><td>str</td><td>u32</td></tr></thead><tbody><tr><td>&quot;WG&quot;</td><td>13135</td></tr><tr><td>&quot;WB&quot;</td><td>12874</td></tr><tr><td>&quot;BG&quot;</td><td>11951</td></tr><tr><td>&quot;WR&quot;</td><td>11417</td></tr><tr><td>&quot;UG&quot;</td><td>9932</td></tr><tr><td>&quot;BR&quot;</td><td>9675</td></tr><tr><td>&quot;RG&quot;</td><td>7919</td></tr><tr><td>&quot;UB&quot;</td><td>5366</td></tr><tr><td>&quot;UR&quot;</td><td>5154</td></tr><tr><td>&quot;WU&quot;</td><td>4110</td></tr></tbody></table></div>"
      ],
      "text/plain": [
       "shape: (10, 2)\n",
       "┌────────────┬───────┐\n",
       "│ opp_colors ┆ count │\n",
       "│ ---        ┆ ---   │\n",
       "│ str        ┆ u32   │\n",
       "╞════════════╪═══════╡\n",
       "│ WG         ┆ 13135 │\n",
       "│ WB         ┆ 12874 │\n",
       "│ BG         ┆ 11951 │\n",
       "│ WR         ┆ 11417 │\n",
       "│ UG         ┆ 9932  │\n",
       "│ BR         ┆ 9675  │\n",
       "│ RG         ┆ 7919  │\n",
       "│ UB         ┆ 5366  │\n",
       "│ UR         ┆ 5154  │\n",
       "│ WU         ┆ 4110  │\n",
       "└────────────┴───────┘"
      ]
     },
     "execution_count": 10,
     "metadata": {},
     "output_type": "execute_result"
    }
   ],
   "source": [
    "df_draft.group_by(\"opp_colors\").count().sort(by='count', descending=True).head(10).collect()"
   ]
  },
  {
   "cell_type": "markdown",
   "metadata": {},
   "source": [
    "## Player Rank"
   ]
  },
  {
   "cell_type": "code",
   "execution_count": 8,
   "metadata": {},
   "outputs": [
    {
     "name": "stderr",
     "output_type": "stream",
     "text": [
      "C:\\Users\\Josh.Meehl\\AppData\\Local\\Temp\\ipykernel_22544\\728000847.py:1: DeprecationWarning: `LazyGroupBy.count` is deprecated. It has been renamed to `len`.\n",
      "  df_draft.group_by(\"rank\").count().sort(by='count', descending=True).head(10).collect()\n"
     ]
    },
    {
     "data": {
      "text/html": [
       "<div><style>\n",
       ".dataframe > thead > tr,\n",
       ".dataframe > tbody > tr {\n",
       "  text-align: right;\n",
       "  white-space: pre-wrap;\n",
       "}\n",
       "</style>\n",
       "<small>shape: (7, 2)</small><table border=\"1\" class=\"dataframe\"><thead><tr><th>rank</th><th>count</th></tr><tr><td>str</td><td>u32</td></tr></thead><tbody><tr><td>&quot;platinum&quot;</td><td>49053</td></tr><tr><td>&quot;gold&quot;</td><td>25872</td></tr><tr><td>&quot;silver&quot;</td><td>16999</td></tr><tr><td>&quot;diamond&quot;</td><td>13538</td></tr><tr><td>&quot;bronze&quot;</td><td>5593</td></tr><tr><td>&quot;mythic&quot;</td><td>5474</td></tr><tr><td>null</td><td>275</td></tr></tbody></table></div>"
      ],
      "text/plain": [
       "shape: (7, 2)\n",
       "┌──────────┬───────┐\n",
       "│ rank     ┆ count │\n",
       "│ ---      ┆ ---   │\n",
       "│ str      ┆ u32   │\n",
       "╞══════════╪═══════╡\n",
       "│ platinum ┆ 49053 │\n",
       "│ gold     ┆ 25872 │\n",
       "│ silver   ┆ 16999 │\n",
       "│ diamond  ┆ 13538 │\n",
       "│ bronze   ┆ 5593  │\n",
       "│ mythic   ┆ 5474  │\n",
       "│ null     ┆ 275   │\n",
       "└──────────┴───────┘"
      ]
     },
     "execution_count": 8,
     "metadata": {},
     "output_type": "execute_result"
    }
   ],
   "source": [
    "df_draft.group_by(\"rank\").count().sort(by='count', descending=True).head(10).collect()"
   ]
  },
  {
   "cell_type": "code",
   "execution_count": 9,
   "metadata": {},
   "outputs": [
    {
     "name": "stderr",
     "output_type": "stream",
     "text": [
      "C:\\Users\\Josh.Meehl\\AppData\\Local\\Temp\\ipykernel_22544\\3682080557.py:1: DeprecationWarning: `LazyGroupBy.count` is deprecated. It has been renamed to `len`.\n",
      "  df_draft.group_by(\"opp_rank\").count().sort(by='count', descending=True).head(10).collect()\n"
     ]
    },
    {
     "data": {
      "text/html": [
       "<div><style>\n",
       ".dataframe > thead > tr,\n",
       ".dataframe > tbody > tr {\n",
       "  text-align: right;\n",
       "  white-space: pre-wrap;\n",
       "}\n",
       "</style>\n",
       "<small>shape: (1, 2)</small><table border=\"1\" class=\"dataframe\"><thead><tr><th>opp_rank</th><th>count</th></tr><tr><td>str</td><td>u32</td></tr></thead><tbody><tr><td>&quot;None&quot;</td><td>116804</td></tr></tbody></table></div>"
      ],
      "text/plain": [
       "shape: (1, 2)\n",
       "┌──────────┬────────┐\n",
       "│ opp_rank ┆ count  │\n",
       "│ ---      ┆ ---    │\n",
       "│ str      ┆ u32    │\n",
       "╞══════════╪════════╡\n",
       "│ None     ┆ 116804 │\n",
       "└──────────┴────────┘"
      ]
     },
     "execution_count": 9,
     "metadata": {},
     "output_type": "execute_result"
    }
   ],
   "source": [
    "df_draft.group_by(\"opp_rank\").count().sort(by='count', descending=True).head(10).collect()"
   ]
  },
  {
   "cell_type": "markdown",
   "metadata": {},
   "source": [
    "## Lands"
   ]
  },
  {
   "cell_type": "markdown",
   "metadata": {},
   "source": [
    "## Mana Curve"
   ]
  }
 ],
 "metadata": {
  "kernelspec": {
   "display_name": "dl+bayes-env",
   "language": "python",
   "name": "python3"
  },
  "language_info": {
   "codemirror_mode": {
    "name": "ipython",
    "version": 3
   },
   "file_extension": ".py",
   "mimetype": "text/x-python",
   "name": "python",
   "nbconvert_exporter": "python",
   "pygments_lexer": "ipython3",
   "version": "3.10.9"
  }
 },
 "nbformat": 4,
 "nbformat_minor": 2
}
