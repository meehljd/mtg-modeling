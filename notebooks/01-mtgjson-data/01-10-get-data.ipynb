{
 "cells": [
  {
   "cell_type": "markdown",
   "metadata": {},
   "source": [
    "# Summary\n",
    "\n",
    "The code to acquire and pre-process the card data to use for future analysis."
   ]
  },
  {
   "cell_type": "markdown",
   "metadata": {},
   "source": [
    "# Grab MTGJSON Card Data\n",
    "\n",
    "Here I will download and clean the data for MTG cards.\n",
    "\n",
    "First we will download the data from [MTGJSON](https://mtgjson.com/downloads/all-files/).  The `AllPrintings` card data comes in various formats, such as json, sql, csv, and parquet.\n",
    "\n",
    "I will use the [parquet format](https://parquet.apache.org/), since that is the most performant format for data analysis.  It has high compression, fast load times, and can query directly on disk.  This minimizes both disk space and memory usage.\n",
    "\n",
    "Data URLs:\n",
    "- __Linux__: https://mtgjson.com/api/v5/AllPrintingsParquetFiles.tar.gz\n",
    "- __Windows__: https://mtgjson.com/api/v5/AllPrintingsParquetFiles.zip\n",
    "\n",
    "The following code downloads and decompresses the data."
   ]
  },
  {
   "cell_type": "code",
   "execution_count": 2,
   "metadata": {},
   "outputs": [
    {
     "name": "stdout",
     "output_type": "stream",
     "text": [
      "Changed working directory to: d:\\mtg-modeling\n"
     ]
    }
   ],
   "source": [
    "# Setup Notebook\n",
    "import os\n",
    "if os.path.basename(os.getcwd()) != 'mtg-modeling':\n",
    "    %run -i \"../../scripts/notebook_header.py\""
   ]
  },
  {
   "cell_type": "code",
   "execution_count": 5,
   "metadata": {},
   "outputs": [],
   "source": [
    "from src.data.mtgjson_fetcher import MtgJsonFetcher\n",
    "\n",
    "DOWNLOAD_MTGJSON = True"
   ]
  },
  {
   "cell_type": "code",
   "execution_count": 6,
   "metadata": {},
   "outputs": [
    {
     "name": "stdout",
     "output_type": "stream",
     "text": [
      "Downloading AllPrintingsParquetFiles Data\n",
      "Starting datetime: 2024-08-23 20:08:24.759423\n"
     ]
    }
   ],
   "source": [
    "card_fetcher = MtgJsonFetcher(dataset='AllPrintingsParquetFiles', save_root='data/raw/mtgjson3')\n",
    "if DOWNLOAD_MTGJSON:\n",
    "    card_fetcher.fetch()"
   ]
  },
  {
   "cell_type": "markdown",
   "metadata": {},
   "source": [
    "# Grab MTGJSON All Price Data\n",
    "\n",
    "Next we will download the data from [MTGJSON](https://mtgjson.com/downloads/all-files/).  The `AllPrices` card data only comes in json format.  We will have to convert this to parquet for ease of use in future analysis.  \n",
    "\n",
    "Note this data only covers the previous 90 days.\n",
    "\n",
    "Since the file is very large, I will use [polars](https://docs.pola.rs) instead of [pandas](https://pandas.pydata.org/docs/)\n",
    "\n",
    "Data URLs:\n",
    "- __Linux__: https://mtgjson.com/api/v5/AllPrices.json.gz\n",
    "- __Windows__: https://mtgjson.com/api/v5/AllPrices.json.zip\n",
    "\n",
    "The following code downloads and decompresses the data."
   ]
  },
  {
   "cell_type": "code",
   "execution_count": null,
   "metadata": {},
   "outputs": [],
   "source": [
    "price_fetcher = MtgJsonFetcher(dataset='AllPrices.json', save_root='data/raw/mtgjson3')\n",
    "if DOWNLOAD_MTGJSON:\n",
    "    price_fetcher.fetch()"
   ]
  }
 ],
 "metadata": {
  "kernelspec": {
   "display_name": "dl+bayes-env",
   "language": "python",
   "name": "python3"
  },
  "language_info": {
   "codemirror_mode": {
    "name": "ipython",
    "version": 3
   },
   "file_extension": ".py",
   "mimetype": "text/x-python",
   "name": "python",
   "nbconvert_exporter": "python",
   "pygments_lexer": "ipython3",
   "version": "3.10.9"
  }
 },
 "nbformat": 4,
 "nbformat_minor": 2
}
