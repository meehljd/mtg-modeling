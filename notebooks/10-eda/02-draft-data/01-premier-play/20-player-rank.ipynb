{
 "cells": [
  {
   "cell_type": "raw",
   "metadata": {
    "vscode": {
     "languageId": "raw"
    }
   },
   "source": [
    "---\n",
    "draft: false\n",
    "title: \"Bloomburrow (BLB) Arena Draft Analysis\"\n",
    "author: \"Josh Meehl\"\n",
    "date: 2024-09-03\n",
    "description: \"Draft set analysis for Bloomburrow\"\n",
    "categories: [\"EDA\", \"Draft\", \"BLB\", \"Arena\"]\n",
    "---"
   ]
  },
  {
   "cell_type": "code",
   "execution_count": null,
   "metadata": {},
   "outputs": [],
   "source": [
    "# | output: false\n",
    "# Setup Notebook\n",
    "\n",
    "path = \"../../../../scripts/notebook_header.py\"\n",
    "import os\n",
    "\n",
    "\n",
    "if os.path.basename(os.getcwd()) != \"mtg-modeling\":\n",
    "    args = f\"--path {path}\"\n",
    "    get_ipython().run_line_magic(\"run\", f\"-i {path} {args}\")  # type: ignore"
   ]
  },
  {
   "cell_type": "code",
   "execution_count": null,
   "metadata": {},
   "outputs": [],
   "source": [
    "import polars as pl\n",
    "import matplotlib.pyplot as plt\n",
    "import seaborn as sns\n",
    "\n",
    "import src.plots.annotate as anno\n",
    "import src.plots.symbols as symbols"
   ]
  },
  {
   "cell_type": "code",
   "execution_count": null,
   "metadata": {},
   "outputs": [],
   "source": [
    "set_code = \"All_Sets\"\n",
    "set_codes_order = [\"MKM\", \"OTJ\", \"MH3\", \"BLB\"]\n",
    "\n",
    "paths = {\n",
    "    \"processed\": Path(\"data/processed/17lands/game_data/premier_draft\"),\n",
    "}\n",
    "summary_file = paths[\"processed\"] / f\"{set_code}_Game_PD_Summary.parquet\"\n",
    "game_file = paths[\"processed\"] / f\"{set_code}_Game_PD_Games.parquet\"\n",
    "draft_file = paths[\"processed\"] / f\"{set_code}_Game_PD_Drafts.parquet\"\n",
    "card_file = paths[\"processed\"] / f\"{set_code}_Game_PD_Cards.parquet\""
   ]
  },
  {
   "cell_type": "code",
   "execution_count": null,
   "metadata": {},
   "outputs": [],
   "source": [
    "df_draft = pl.scan_parquet(draft_file)"
   ]
  }
 ],
 "metadata": {
  "language_info": {
   "name": "python"
  }
 },
 "nbformat": 4,
 "nbformat_minor": 2
}
