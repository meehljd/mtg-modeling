{
 "cells": [
  {
   "cell_type": "markdown",
   "metadata": {},
   "source": [
    "# Summary\n",
    "\n",
    "The code to wrangle the data across multiple sets"
   ]
  },
  {
   "cell_type": "markdown",
   "metadata": {},
   "source": [
    "# Introduction\n",
    "\n",
    "This takes the set files from [20-draft-data-wrangle](20-draft-data-wrangle.ipynb) and combines them into a single file."
   ]
  },
  {
   "cell_type": "markdown",
   "metadata": {},
   "source": [
    "# Initial Setup"
   ]
  },
  {
   "cell_type": "code",
   "execution_count": 1,
   "metadata": {},
   "outputs": [
    {
     "name": "stdout",
     "output_type": "stream",
     "text": [
      "Changed working directory to: D:\\mtg-modeling\n"
     ]
    }
   ],
   "source": [
    "# | output: false\n",
    "path = \"../../../../scripts/notebook_header.py\"\n",
    "import os\n",
    "\n",
    "if os.path.basename(os.getcwd()) != \"mtg-modeling\":\n",
    "    args = f\"--path {path}\"\n",
    "    get_ipython().run_line_magic(\"run\", f\"-i {path} {args}\")  # type: ignore  # type: ignore"
   ]
  },
  {
   "cell_type": "code",
   "execution_count": 2,
   "metadata": {},
   "outputs": [],
   "source": [
    "from pathlib import Path\n",
    "import polars as pl"
   ]
  },
  {
   "cell_type": "markdown",
   "metadata": {},
   "source": [
    "Define Paths"
   ]
  },
  {
   "cell_type": "code",
   "execution_count": 3,
   "metadata": {},
   "outputs": [],
   "source": [
    "set_codes = [\"MKM\", \"OTJ\", \"MH3\", \"BLB\"]\n",
    "\n",
    "file_suffixes = {\n",
    "    \"summary\": \"_Game_PD_Summary\",\n",
    "    \"game\": \"_Game_PD_Games\",\n",
    "    \"draft\": \"_Game_PD_Drafts\",\n",
    "    # \"card\": \"_Game_PD_Cards\",  # Card data has diff col widths.  Have to preprocess first\n",
    "}\n",
    "\n",
    "root = Path(\"data/processed/17lands/game_data/premier_draft\")\n",
    "\n",
    "\n",
    "def build_filenames(root, set_codes, file_suffix):\n",
    "    return {\n",
    "        \"in_files\": [root / f\"{code}{file_suffix}.parquet\" for code in set_codes],\n",
    "        \"out_file\": root / f\"All_Sets{file_suffix}.parquet\",\n",
    "    }\n",
    "\n",
    "\n",
    "all_files = {\n",
    "    key: build_filenames(root, set_codes, value) for key, value in file_suffixes.items()\n",
    "}"
   ]
  },
  {
   "cell_type": "code",
   "execution_count": 4,
   "metadata": {},
   "outputs": [],
   "source": [
    "def read_files(files):\n",
    "    return [pl.read_parquet(file) for file in files]\n",
    "\n",
    "\n",
    "for files in all_files.values():\n",
    "    df_games = pl.concat(read_files(files[\"in_files\"]), how=\"vertical\")\n",
    "    df_games.write_parquet(files[\"out_file\"])"
   ]
  }
 ],
 "metadata": {
  "kernelspec": {
   "display_name": "dl+bayes-env",
   "language": "python",
   "name": "python3"
  },
  "language_info": {
   "codemirror_mode": {
    "name": "ipython",
    "version": 3
   },
   "file_extension": ".py",
   "mimetype": "text/x-python",
   "name": "python",
   "nbconvert_exporter": "python",
   "pygments_lexer": "ipython3",
   "version": "3.10.9"
  }
 },
 "nbformat": 4,
 "nbformat_minor": 2
}
