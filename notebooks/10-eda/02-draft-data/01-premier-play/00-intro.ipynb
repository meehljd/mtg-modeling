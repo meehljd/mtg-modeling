{
 "cells": [
  {
   "cell_type": "raw",
   "metadata": {
    "vscode": {
     "languageId": "raw"
    }
   },
   "source": [
    "---\n",
    "draft: false\n",
    "title: \"17Lands Draft Data Analysis Overview\"\n",
    "author: \"Josh Meehl\"\n",
    "date: 2024-09-10\n",
    "description: \"Overview of the 17Lands Data Analyses\"\n",
    "categories: [\"EDA\", \"Draft\", \"Arena\"]\n",
    "---"
   ]
  },
  {
   "cell_type": "markdown",
   "metadata": {
    "vscode": {
     "languageId": "raw"
    }
   },
   "source": [
    "# Introduction\n",
    "\n",
    "I have always been curious about Draft format in MTG, as it requires one to be good at the game, but also building competitive decks in a highly constrained environment.  I have been analyzing the latests sets to see how they each perform in draft.\n",
    "\n",
    "Currently I have analyzed the deck performance for the recent sets.  Soon I will add analysis at the card level to see which cards are the most valuable in draft."
   ]
  },
  {
   "cell_type": "markdown",
   "metadata": {
    "vscode": {
     "languageId": "plaintext"
    }
   },
   "source": [
    "## Set Analyzed\n",
    "\n",
    "| Set Name                    | Code | Arena Release Date | Deck Analysis                 | Card Analysis |\n",
    "| --------------------------- | ---- | ------------------ | ----------------------------- | ------------- |\n",
    "| Murders at Karlov Manor     | MKM  | 2024-02-09         | [MKM Deck](10-MKM-deck.ipynb) | -             |\n",
    "| Outlaws of Thunder Junction | OTJ  | 2024-04-16         | [OTJ Deck](11-OTJ-deck.ipynb) | -             |\n",
    "| Modern Horizons 3           | MH3  | 2024-06-11         | [MH3 Deck](12-MH3-deck.ipynb) | -             |\n",
    "| Bloomburrow                 | BLB  | 2024-07-30         | [BLB Deck](13-BLB-deck.ipynb) | -             |\n",
    "| Duskmourn: House of Horror  | DSK  | 2024-09-24         | -                             | -             |\n",
    "\n",
    " <!-- https://articles.starcitygames.com/magic-the-gathering/magic-the-gathering-full-set-release-schedule-for-2024/ -->\n",
    " <!-- https://www.ign.com/articles/magic-the-gathering-full-release-schedule-2024#2 -->\n",
    "\n",
    "## Other Analysis\n",
    "\n",
    "Some aspects of the game don't very much between sets.  These general analysis are:\n",
    "\n",
    "<!-- - [Player Rank](20-player-rank.ipynb) -->\n",
    "<!-- - [Mulligans](21-mulligans.ipynb) -->\n",
    "<!-- - [Turns](22-turns.ipynb) -->\n",
    "<!-- - [Builds](23-builds.ipynb) -->\n",
    "- [Starting Player](24-starting-player.ipynb)"
   ]
  },
  {
   "cell_type": "markdown",
   "metadata": {},
   "source": [
    "\n",
    "# MTG Arena Draft\n",
    "\n",
    "These analyses is from players on [MTG Arena](https://magic.wizards.com/en/mtgarena).  MTG Arena is an online platform for playing MTG.  The Draft format on MTG Arena is a popular way to play limited MTG.  In the Draft format, players open booster packs and pick one card from the pack.  The remaining cards are passed to the next player.  This process continues until all cards are picked.  Players then construct a deck from the picked cards and play a tournament with the constructed deck.\n",
    "\n",
    "MTG Arena offers several Draft formats.  I will focus on the [Premier Draft](https://magicarena.fandom.com/wiki/Premier_Draft) format, which is a best-of-one (Bo1) format.  In the Premier Draft format, players draft against other players in a pod of 8 players.  Players play a tournament with the drafted deck.  Players play until they reach 7 wins or 3 losses.  Players have a sideboard and are allowed to change the deck composition between games.\n",
    "\n",
    "Other formats include Quick Draft, which also Bo1, but the drafting process in against a pool of bots, and play is against players with independent draft pools.  Traditional Draft is a best-of-three (Bo3) format.  Sealed Deck is another limited format where players open 6 booster packs and construct a deck from the opened cards.  These are out of scope for now."
   ]
  },
  {
   "cell_type": "markdown",
   "metadata": {},
   "source": [
    "# 17 Lands Data\n",
    "\n",
    "As outlined in the [about](../../../00-intro/10-introduction.ipynb) page, the game play data will focus on limited draft on the MTG Arena platform.\n",
    "\n",
    "The best source of draft data is the [17Lands](https://www.17lands.com/) website. 17lands is a website that provides draft and gameplay data for Arena. The data is collected from users who have installed the 17Lands tracker, which records draft picks and gameplay data. The data is then aggregated and made available for analysis.\n",
    "\n",
    "## Data Source\n",
    "\n",
    "17Lands offers [public datasets](https://www.17lands.com/public_datasets) for download. The data is available in CSV format. The newest sets are updated regularly for a few months after initial set release.\n",
    "\n",
    "## Data Files\n",
    "\n",
    "There are 3 files types available.\n",
    "\n",
    "- **DraftData:** Data related to the draft pool and picks.\n",
    "- **GameData:** Data related to game play and outcomes.\n",
    "- **ReplayData:** Detailed data related to player actions in game play.\n",
    "\n",
    "## Game Formats\n",
    "\n",
    "The game formats can be Draft or Sealed.\n",
    "\n",
    "- **Draft:** A set of 8 players open a shared pool of packs and select cards to build a deck.\n",
    "- **Sealed:** A player opens a set of packs and selects cards to build a deck.\n",
    "\n",
    "The tournament types can be Traditional or Premier.\n",
    "\n",
    "- **Traditional:** A best of 3 match with sideboarding.\n",
    "- **Premier:** A best of 1 match.\n",
    "\n",
    "## Terms\n",
    "\n",
    "The following terms are used in the data set:\n",
    "\n",
    "- **game:** a single game of MTG\n",
    "- **match:** a series of games between two players. Typically best of 1 or best of 3.\n",
    "- **draft:** an initial draft event, followed by a series of matches between a group of players.\n",
    "- **build:** a instance of a deck in a draft. Can be adjusted between games.\n"
   ]
  },
  {
   "cell_type": "markdown",
   "metadata": {},
   "source": []
  }
 ],
 "metadata": {
  "language_info": {
   "name": "python"
  }
 },
 "nbformat": 4,
 "nbformat_minor": 2
}
