{
 "cells": [
  {
   "cell_type": "markdown",
   "metadata": {},
   "source": [
    "# Summary\n",
    "\n",
    "The code to wrangle the data.  Deal with NAs, join data frames, etc."
   ]
  },
  {
   "cell_type": "markdown",
   "metadata": {},
   "source": [
    "# Introduction\n",
    "\n",
    "This data set is very large, in both memory and in size.  Each row is a game, with identifiers for the draft event and the player.  The columns have information on the given draft game, with the majority are for card counts per state, such as the number of a given card in the deck or the number of a given card in the opening hand.\n",
    "\n",
    "Ideally I want to melt the data into a tall layout, with rows for each unique combination of card and game and columns for the card count states, such as deck, hand, etc.  This will allow me to easily filter and group the data for analysis.  Unfortunately, after attempting to wrangle in this format, I found that the data set is too large to handle in memory.  I could play with making spares arrays, but I think that would be too much work for this data set.\n",
    "\n",
    "For this notebook, I will keep the data in the wide layout and aggregate down into useful tables, such as per-game and per-player summaries.\n",
    "\n",
    "## Terms\n",
    "\n",
    "The following terms are used in the data set:\n",
    "- __game:__ a single game of MTG\n",
    "- __match:__ a series of games between two players.  Typically best of 1 or best of 3.\n",
    "- __draft:__ an initial draft event, followed by a series of matches between a group of players.\n",
    "- __build:__ a instance of a deck in a draft.  Can be adjusted between games."
   ]
  },
  {
   "cell_type": "markdown",
   "metadata": {},
   "source": [
    "# Initial Setup"
   ]
  },
  {
   "cell_type": "code",
   "execution_count": 40,
   "metadata": {},
   "outputs": [],
   "source": [
    "# Setup Notebook\n",
    "import os\n",
    "\n",
    "if os.path.basename(os.getcwd()) != \"mtg-modeling\":\n",
    "    get_ipython().run_line_magic(\"run\", '-i \"../../scripts/notebook_header.py\"')  # type: ignore"
   ]
  },
  {
   "cell_type": "code",
   "execution_count": 41,
   "metadata": {},
   "outputs": [],
   "source": [
    "import pandas as pd\n",
    "from tqdm.notebook import tqdm\n",
    "from pathlib import Path\n",
    "import matplotlib.pyplot as plt\n",
    "import seaborn as sns\n",
    "import numpy as np\n",
    "import time\n",
    "import polars as pl"
   ]
  },
  {
   "cell_type": "markdown",
   "metadata": {},
   "source": [
    "Define Paths"
   ]
  },
  {
   "cell_type": "code",
   "execution_count": 42,
   "metadata": {},
   "outputs": [],
   "source": [
    "SET_CODE = \"MH3\"\n",
    "\n",
    "paths = {\n",
    "    \"raw\": Path(\"data/raw/17lands/game_data/PremierDraft\"),\n",
    "    \"interim\": Path(\"data/interim/17lands/game_data/premier_draft\"),\n",
    "    \"processed\": Path(\"data/processed/17lands/game_data/premier_draft\"),\n",
    "}\n",
    "\n",
    "csv_file = paths[\"raw\"] / f\"game_data_public.{SET_CODE}.PremierDraft.csv\"\n",
    "parquet_file = paths[\"interim\"] / f\"game_data_public.{SET_CODE}.PremierDraft.parquet\"\n",
    "\n",
    "summary_file = paths[\"processed\"] / f\"{SET_CODE}_Game_PD_Summary.parquet\"\n",
    "game_file = paths[\"processed\"] / f\"{SET_CODE}_Game_PD_Games.parquet\"\n",
    "draft_file = paths[\"processed\"] / f\"{SET_CODE}_Game_PD_Drafts.parquet\"\n",
    "card_file = paths[\"processed\"] / f\"{SET_CODE}_Game_PD_Cards.parquet\"\n",
    "\n",
    "os.makedirs(paths[\"interim\"], exist_ok=True)\n",
    "os.makedirs(paths[\"processed\"], exist_ok=True)"
   ]
  },
  {
   "cell_type": "markdown",
   "metadata": {},
   "source": [
    "Convert the csv file to parquet if needed."
   ]
  },
  {
   "cell_type": "code",
   "execution_count": 43,
   "metadata": {},
   "outputs": [],
   "source": [
    "if not os.path.exists(parquet_file):\n",
    "    # df = pd.read_csv(csv_file)  # pandas works faster than polars, unless >2GB then it breaks\n",
    "    # df.to_parquet(parquet_file)\n",
    "    df = pl.scan_csv(csv_file)\n",
    "    df.sink_parquet(parquet_file)\n",
    "    # print(f\"Converted {csv_file} to parquet\")"
   ]
  },
  {
   "cell_type": "markdown",
   "metadata": {},
   "source": [
    "Scan file into a lazy frame."
   ]
  },
  {
   "cell_type": "code",
   "execution_count": 44,
   "metadata": {},
   "outputs": [],
   "source": [
    "df_lazy = pl.scan_parquet(parquet_file)"
   ]
  },
  {
   "cell_type": "markdown",
   "metadata": {},
   "source": [
    "Parse column names, such as the card name and the card state."
   ]
  },
  {
   "cell_type": "code",
   "execution_count": 45,
   "metadata": {},
   "outputs": [
    {
     "data": {
      "text/plain": [
       "(1630, 1605, 25)"
      ]
     },
     "execution_count": 45,
     "metadata": {},
     "output_type": "execute_result"
    }
   ],
   "source": [
    "cols = df_lazy.collect_schema().names()\n",
    "state_prefixes = [\"tutored_\", \"deck_\", \"opening_hand_\", \"drawn_\", \"sideboard_\"]\n",
    "card_cols = [col for col in cols if any([col.startswith(s) for s in state_prefixes])]\n",
    "index_cols = [col for col in cols if col not in card_cols]\n",
    "\n",
    "card_names = [col.split(\"_\")[-1] for col in card_cols if col.startswith(\"deck_\")]\n",
    "land_cards = [\"Plains\", \"Island\", \"Swamp\", \"Mountain\", \"Forest\"]\n",
    "non_land_cards = [card for card in card_names if card not in land_cards]\n",
    "non_land_card_cols = [\n",
    "    col for col in card_cols if all([land not in col for land in land_cards])\n",
    "]\n",
    "land_card_cols = [col for col in card_cols if any([land in col for land in land_cards])]\n",
    "len(card_cols), len(non_land_card_cols), len(land_card_cols)"
   ]
  },
  {
   "cell_type": "markdown",
   "metadata": {},
   "source": [
    "Check for extra underscores in card names."
   ]
  },
  {
   "cell_type": "code",
   "execution_count": 46,
   "metadata": {},
   "outputs": [],
   "source": [
    "counts = [col.count(\"_\") for col in card_cols if col.startswith(\"deck_\")]\n",
    "assert max(counts) == 1, \"There are some cards with underscores in their names\""
   ]
  },
  {
   "cell_type": "markdown",
   "metadata": {},
   "source": [
    "Show first few rows of the data."
   ]
  },
  {
   "cell_type": "code",
   "execution_count": 47,
   "metadata": {},
   "outputs": [
    {
     "data": {
      "text/html": [
       "<div><style>\n",
       ".dataframe > thead > tr,\n",
       ".dataframe > tbody > tr {\n",
       "  text-align: right;\n",
       "  white-space: pre-wrap;\n",
       "}\n",
       "</style>\n",
       "<small>shape: (4, 20)</small><table border=\"1\" class=\"dataframe\"><thead><tr><th>expansion</th><th>event_type</th><th>draft_id</th><th>draft_time</th><th>game_time</th><th>build_index</th><th>match_number</th><th>game_number</th><th>rank</th><th>opp_rank</th><th>main_colors</th><th>splash_colors</th><th>on_play</th><th>num_mulligans</th><th>opp_num_mulligans</th><th>opp_colors</th><th>num_turns</th><th>won</th><th>user_n_games_bucket</th><th>user_game_win_rate_bucket</th></tr><tr><td>str</td><td>str</td><td>str</td><td>str</td><td>str</td><td>i64</td><td>i64</td><td>i64</td><td>str</td><td>str</td><td>str</td><td>str</td><td>bool</td><td>i64</td><td>i64</td><td>str</td><td>i64</td><td>bool</td><td>i64</td><td>f64</td></tr></thead><tbody><tr><td>&quot;MH3&quot;</td><td>&quot;PremierDraft&quot;</td><td>&quot;1eb51dd54ef54385bfaeb5e38935a3…</td><td>&quot;2024-06-24 12:18:07&quot;</td><td>&quot;2024-06-26 12:56:58&quot;</td><td>0</td><td>6</td><td>2</td><td>&quot;mythic&quot;</td><td>&quot;None&quot;</td><td>&quot;WB&quot;</td><td>&quot;U&quot;</td><td>false</td><td>0</td><td>0</td><td>&quot;WUB&quot;</td><td>12</td><td>false</td><td>100</td><td>0.54</td></tr><tr><td>&quot;MH3&quot;</td><td>&quot;PremierDraft&quot;</td><td>&quot;974497b3df524cf383afe967f69398…</td><td>&quot;2024-06-12 09:09:24&quot;</td><td>&quot;2024-06-13 17:33:07&quot;</td><td>0</td><td>9</td><td>2</td><td>&quot;gold&quot;</td><td>&quot;None&quot;</td><td>&quot;WG&quot;</td><td>&quot;B&quot;</td><td>true</td><td>1</td><td>1</td><td>&quot;WG&quot;</td><td>7</td><td>false</td><td>100</td><td>0.52</td></tr><tr><td>&quot;MH3&quot;</td><td>&quot;PremierDraft&quot;</td><td>&quot;2b455807b08e4c528df0f6f6c874c1…</td><td>&quot;2024-06-16 10:52:05&quot;</td><td>&quot;2024-06-17 10:32:42&quot;</td><td>1</td><td>9</td><td>2</td><td>&quot;platinum&quot;</td><td>&quot;None&quot;</td><td>&quot;WG&quot;</td><td>&quot;B&quot;</td><td>false</td><td>0</td><td>0</td><td>&quot;WR&quot;</td><td>8</td><td>true</td><td>100</td><td>0.56</td></tr><tr><td>&quot;MH3&quot;</td><td>&quot;PremierDraft&quot;</td><td>&quot;5b0cce69d76042a196d6663dfc565a…</td><td>&quot;2024-07-05 18:44:34&quot;</td><td>&quot;2024-07-07 09:28:02&quot;</td><td>2</td><td>3</td><td>2</td><td>&quot;silver&quot;</td><td>&quot;None&quot;</td><td>&quot;WB&quot;</td><td>null</td><td>true</td><td>0</td><td>0</td><td>&quot;WURG&quot;</td><td>12</td><td>false</td><td>10</td><td>0.38</td></tr></tbody></table></div>"
      ],
      "text/plain": [
       "shape: (4, 20)\n",
       "┌───────────┬────────────┬────────────┬────────────┬───┬───────────┬───────┬───────────┬───────────┐\n",
       "│ expansion ┆ event_type ┆ draft_id   ┆ draft_time ┆ … ┆ num_turns ┆ won   ┆ user_n_ga ┆ user_game │\n",
       "│ ---       ┆ ---        ┆ ---        ┆ ---        ┆   ┆ ---       ┆ ---   ┆ mes_bucke ┆ _win_rate │\n",
       "│ str       ┆ str        ┆ str        ┆ str        ┆   ┆ i64       ┆ bool  ┆ t         ┆ _bucket   │\n",
       "│           ┆            ┆            ┆            ┆   ┆           ┆       ┆ ---       ┆ ---       │\n",
       "│           ┆            ┆            ┆            ┆   ┆           ┆       ┆ i64       ┆ f64       │\n",
       "╞═══════════╪════════════╪════════════╪════════════╪═══╪═══════════╪═══════╪═══════════╪═══════════╡\n",
       "│ MH3       ┆ PremierDra ┆ 1eb51dd54e ┆ 2024-06-24 ┆ … ┆ 12        ┆ false ┆ 100       ┆ 0.54      │\n",
       "│           ┆ ft         ┆ f54385bfae ┆ 12:18:07   ┆   ┆           ┆       ┆           ┆           │\n",
       "│           ┆            ┆ b5e38935a3 ┆            ┆   ┆           ┆       ┆           ┆           │\n",
       "│           ┆            ┆ …          ┆            ┆   ┆           ┆       ┆           ┆           │\n",
       "│ MH3       ┆ PremierDra ┆ 974497b3df ┆ 2024-06-12 ┆ … ┆ 7         ┆ false ┆ 100       ┆ 0.52      │\n",
       "│           ┆ ft         ┆ 524cf383af ┆ 09:09:24   ┆   ┆           ┆       ┆           ┆           │\n",
       "│           ┆            ┆ e967f69398 ┆            ┆   ┆           ┆       ┆           ┆           │\n",
       "│           ┆            ┆ …          ┆            ┆   ┆           ┆       ┆           ┆           │\n",
       "│ MH3       ┆ PremierDra ┆ 2b455807b0 ┆ 2024-06-16 ┆ … ┆ 8         ┆ true  ┆ 100       ┆ 0.56      │\n",
       "│           ┆ ft         ┆ 8e4c528df0 ┆ 10:52:05   ┆   ┆           ┆       ┆           ┆           │\n",
       "│           ┆            ┆ f6f6c874c1 ┆            ┆   ┆           ┆       ┆           ┆           │\n",
       "│           ┆            ┆ …          ┆            ┆   ┆           ┆       ┆           ┆           │\n",
       "│ MH3       ┆ PremierDra ┆ 5b0cce69d7 ┆ 2024-07-05 ┆ … ┆ 12        ┆ false ┆ 10        ┆ 0.38      │\n",
       "│           ┆ ft         ┆ 6042a196d6 ┆ 18:44:34   ┆   ┆           ┆       ┆           ┆           │\n",
       "│           ┆            ┆ 663dfc565a ┆            ┆   ┆           ┆       ┆           ┆           │\n",
       "│           ┆            ┆ …          ┆            ┆   ┆           ┆       ┆           ┆           │\n",
       "└───────────┴────────────┴────────────┴────────────┴───┴───────────┴───────┴───────────┴───────────┘"
      ]
     },
     "execution_count": 47,
     "metadata": {},
     "output_type": "execute_result"
    }
   ],
   "source": [
    "df_lazy.filter(pl.col(\"game_number\") > 1).select(index_cols).head(30).collect()"
   ]
  },
  {
   "cell_type": "markdown",
   "metadata": {},
   "source": [
    "Convert timestamps from strings to datetimes"
   ]
  },
  {
   "cell_type": "code",
   "execution_count": 48,
   "metadata": {},
   "outputs": [],
   "source": [
    "df_lazy = df_lazy.with_columns(\n",
    "    pl.col(\"draft_time\").str.strptime(pl.Datetime, \"%Y-%m-%d %H:%M:%S\"),\n",
    "    pl.col(\"game_time\").str.strptime(pl.Datetime, \"%Y-%m-%d %H:%M:%S\"),\n",
    ")"
   ]
  },
  {
   "cell_type": "markdown",
   "metadata": {},
   "source": [
    "# Games Table\n",
    "\n",
    "A table of each game, excludes card data."
   ]
  },
  {
   "cell_type": "code",
   "execution_count": 49,
   "metadata": {},
   "outputs": [
    {
     "data": {
      "text/html": [
       "<div><style>\n",
       ".dataframe > thead > tr,\n",
       ".dataframe > tbody > tr {\n",
       "  text-align: right;\n",
       "  white-space: pre-wrap;\n",
       "}\n",
       "</style>\n",
       "<small>shape: (2, 20)</small><table border=\"1\" class=\"dataframe\"><thead><tr><th>expansion</th><th>event_type</th><th>draft_id</th><th>draft_time</th><th>game_time</th><th>build_index</th><th>match_number</th><th>game_number</th><th>rank</th><th>opp_rank</th><th>main_colors</th><th>splash_colors</th><th>on_play</th><th>num_mulligans</th><th>opp_num_mulligans</th><th>opp_colors</th><th>num_turns</th><th>won</th><th>user_n_games_bucket</th><th>user_game_win_rate_bucket</th></tr><tr><td>str</td><td>str</td><td>str</td><td>datetime[μs]</td><td>datetime[μs]</td><td>i64</td><td>i64</td><td>i64</td><td>str</td><td>str</td><td>str</td><td>str</td><td>bool</td><td>i64</td><td>i64</td><td>str</td><td>i64</td><td>bool</td><td>i64</td><td>f64</td></tr></thead><tbody><tr><td>&quot;MH3&quot;</td><td>&quot;PremierDraft&quot;</td><td>&quot;5bf33eab9e7745a68d0a3cf59c2ca5…</td><td>2024-06-11 15:32:57</td><td>2024-06-11 16:06:01</td><td>0</td><td>1</td><td>1</td><td>&quot;gold&quot;</td><td>&quot;None&quot;</td><td>&quot;WUR&quot;</td><td>null</td><td>false</td><td>0</td><td>0</td><td>&quot;RG&quot;</td><td>10</td><td>true</td><td>10</td><td>0.62</td></tr><tr><td>&quot;MH3&quot;</td><td>&quot;PremierDraft&quot;</td><td>&quot;5bf33eab9e7745a68d0a3cf59c2ca5…</td><td>2024-06-11 15:32:57</td><td>2024-06-11 16:50:17</td><td>0</td><td>2</td><td>1</td><td>&quot;gold&quot;</td><td>&quot;None&quot;</td><td>&quot;WUR&quot;</td><td>null</td><td>false</td><td>0</td><td>0</td><td>&quot;UB&quot;</td><td>19</td><td>true</td><td>10</td><td>0.62</td></tr></tbody></table></div>"
      ],
      "text/plain": [
       "shape: (2, 20)\n",
       "┌───────────┬────────────┬────────────┬────────────┬───┬───────────┬──────┬────────────┬───────────┐\n",
       "│ expansion ┆ event_type ┆ draft_id   ┆ draft_time ┆ … ┆ num_turns ┆ won  ┆ user_n_gam ┆ user_game │\n",
       "│ ---       ┆ ---        ┆ ---        ┆ ---        ┆   ┆ ---       ┆ ---  ┆ es_bucket  ┆ _win_rate │\n",
       "│ str       ┆ str        ┆ str        ┆ datetime[μ ┆   ┆ i64       ┆ bool ┆ ---        ┆ _bucket   │\n",
       "│           ┆            ┆            ┆ s]         ┆   ┆           ┆      ┆ i64        ┆ ---       │\n",
       "│           ┆            ┆            ┆            ┆   ┆           ┆      ┆            ┆ f64       │\n",
       "╞═══════════╪════════════╪════════════╪════════════╪═══╪═══════════╪══════╪════════════╪═══════════╡\n",
       "│ MH3       ┆ PremierDra ┆ 5bf33eab9e ┆ 2024-06-11 ┆ … ┆ 10        ┆ true ┆ 10         ┆ 0.62      │\n",
       "│           ┆ ft         ┆ 7745a68d0a ┆ 15:32:57   ┆   ┆           ┆      ┆            ┆           │\n",
       "│           ┆            ┆ 3cf59c2ca5 ┆            ┆   ┆           ┆      ┆            ┆           │\n",
       "│           ┆            ┆ …          ┆            ┆   ┆           ┆      ┆            ┆           │\n",
       "│ MH3       ┆ PremierDra ┆ 5bf33eab9e ┆ 2024-06-11 ┆ … ┆ 19        ┆ true ┆ 10         ┆ 0.62      │\n",
       "│           ┆ ft         ┆ 7745a68d0a ┆ 15:32:57   ┆   ┆           ┆      ┆            ┆           │\n",
       "│           ┆            ┆ 3cf59c2ca5 ┆            ┆   ┆           ┆      ┆            ┆           │\n",
       "│           ┆            ┆ …          ┆            ┆   ┆           ┆      ┆            ┆           │\n",
       "└───────────┴────────────┴────────────┴────────────┴───┴───────────┴──────┴────────────┴───────────┘"
      ]
     },
     "execution_count": 49,
     "metadata": {},
     "output_type": "execute_result"
    }
   ],
   "source": [
    "df_games = df_lazy.select(index_cols)\n",
    "df_games.collect().write_parquet(game_file)\n",
    "\n",
    "df_games.head(2).collect()"
   ]
  },
  {
   "cell_type": "markdown",
   "metadata": {},
   "source": [
    "# Draft Table\n",
    "\n",
    "A table of the aggregated draft data, excluding card data."
   ]
  },
  {
   "cell_type": "code",
   "execution_count": 50,
   "metadata": {},
   "outputs": [
    {
     "data": {
      "text/html": [
       "<div><style>\n",
       ".dataframe > thead > tr,\n",
       ".dataframe > tbody > tr {\n",
       "  text-align: right;\n",
       "  white-space: pre-wrap;\n",
       "}\n",
       "</style>\n",
       "<small>shape: (5, 19)</small><table border=\"1\" class=\"dataframe\"><thead><tr><th>draft_id</th><th>n_builds</th><th>n_matches</th><th>n_games</th><th>n_wins</th><th>win_rate</th><th>rank</th><th>opp_rank</th><th>main_colors</th><th>opp_colors</th><th>splash_colors</th><th>n_starts</th><th>n_muls</th><th>n_opp_muls</th><th>mean_turns</th><th>draft_time</th><th>first_game_time</th><th>last_game_time</th><th>n_losses</th></tr><tr><td>str</td><td>i64</td><td>i64</td><td>u32</td><td>u32</td><td>f64</td><td>str</td><td>str</td><td>str</td><td>str</td><td>str</td><td>u32</td><td>i64</td><td>i64</td><td>f64</td><td>datetime[μs]</td><td>datetime[μs]</td><td>datetime[μs]</td><td>u32</td></tr></thead><tbody><tr><td>&quot;79a08bea4574490ca34883687276b3…</td><td>0</td><td>8</td><td>8</td><td>5</td><td>0.625</td><td>&quot;platinum&quot;</td><td>&quot;None&quot;</td><td>&quot;URG&quot;</td><td>&quot;UB&quot;</td><td>null</td><td>4</td><td>1</td><td>0</td><td>7.5</td><td>2024-07-09 14:33:41</td><td>2024-07-09 14:58:21</td><td>2024-07-09 17:54:55</td><td>3</td></tr><tr><td>&quot;94de267b709d45ab80cbbd56b51f6a…</td><td>1</td><td>6</td><td>6</td><td>3</td><td>0.5</td><td>&quot;platinum&quot;</td><td>&quot;None&quot;</td><td>&quot;UR&quot;</td><td>&quot;WUR&quot;</td><td>&quot;B&quot;</td><td>3</td><td>0</td><td>2</td><td>8.333333</td><td>2024-06-15 22:22:41</td><td>2024-06-15 22:45:35</td><td>2024-06-15 23:11:52</td><td>3</td></tr><tr><td>&quot;b59ff369db0949fba55d25f33a9a61…</td><td>1</td><td>7</td><td>7</td><td>4</td><td>0.571429</td><td>&quot;platinum&quot;</td><td>&quot;None&quot;</td><td>&quot;WB&quot;</td><td>&quot;WUR&quot;</td><td>null</td><td>4</td><td>0</td><td>0</td><td>7.857143</td><td>2024-06-14 06:17:55</td><td>2024-06-14 06:49:53</td><td>2024-06-14 22:03:44</td><td>3</td></tr><tr><td>&quot;f075826d79a6418ea86b7d55de101a…</td><td>0</td><td>5</td><td>5</td><td>3</td><td>0.6</td><td>&quot;diamond&quot;</td><td>&quot;None&quot;</td><td>&quot;UB&quot;</td><td>&quot;BG&quot;</td><td>&quot;WR&quot;</td><td>4</td><td>2</td><td>0</td><td>10.0</td><td>2024-06-13 00:26:12</td><td>2024-06-13 00:54:09</td><td>2024-06-13 11:26:32</td><td>2</td></tr><tr><td>&quot;bb3a2f5028344240b90064fade9506…</td><td>1</td><td>7</td><td>7</td><td>4</td><td>0.571429</td><td>&quot;platinum&quot;</td><td>&quot;None&quot;</td><td>&quot;WR&quot;</td><td>&quot;WUR&quot;</td><td>null</td><td>3</td><td>3</td><td>1</td><td>7.285714</td><td>2024-06-22 18:14:24</td><td>2024-06-22 18:22:11</td><td>2024-06-22 20:19:47</td><td>3</td></tr></tbody></table></div>"
      ],
      "text/plain": [
       "shape: (5, 19)\n",
       "┌────────────┬──────────┬───────────┬─────────┬───┬────────────┬────────────┬───────────┬──────────┐\n",
       "│ draft_id   ┆ n_builds ┆ n_matches ┆ n_games ┆ … ┆ draft_time ┆ first_game ┆ last_game ┆ n_losses │\n",
       "│ ---        ┆ ---      ┆ ---       ┆ ---     ┆   ┆ ---        ┆ _time      ┆ _time     ┆ ---      │\n",
       "│ str        ┆ i64      ┆ i64       ┆ u32     ┆   ┆ datetime[μ ┆ ---        ┆ ---       ┆ u32      │\n",
       "│            ┆          ┆           ┆         ┆   ┆ s]         ┆ datetime[μ ┆ datetime[ ┆          │\n",
       "│            ┆          ┆           ┆         ┆   ┆            ┆ s]         ┆ μs]       ┆          │\n",
       "╞════════════╪══════════╪═══════════╪═════════╪═══╪════════════╪════════════╪═══════════╪══════════╡\n",
       "│ 79a08bea45 ┆ 0        ┆ 8         ┆ 8       ┆ … ┆ 2024-07-09 ┆ 2024-07-09 ┆ 2024-07-0 ┆ 3        │\n",
       "│ 74490ca348 ┆          ┆           ┆         ┆   ┆ 14:33:41   ┆ 14:58:21   ┆ 9         ┆          │\n",
       "│ 83687276b3 ┆          ┆           ┆         ┆   ┆            ┆            ┆ 17:54:55  ┆          │\n",
       "│ …          ┆          ┆           ┆         ┆   ┆            ┆            ┆           ┆          │\n",
       "│ 94de267b70 ┆ 1        ┆ 6         ┆ 6       ┆ … ┆ 2024-06-15 ┆ 2024-06-15 ┆ 2024-06-1 ┆ 3        │\n",
       "│ 9d45ab80cb ┆          ┆           ┆         ┆   ┆ 22:22:41   ┆ 22:45:35   ┆ 5         ┆          │\n",
       "│ bd56b51f6a ┆          ┆           ┆         ┆   ┆            ┆            ┆ 23:11:52  ┆          │\n",
       "│ …          ┆          ┆           ┆         ┆   ┆            ┆            ┆           ┆          │\n",
       "│ b59ff369db ┆ 1        ┆ 7         ┆ 7       ┆ … ┆ 2024-06-14 ┆ 2024-06-14 ┆ 2024-06-1 ┆ 3        │\n",
       "│ 0949fba55d ┆          ┆           ┆         ┆   ┆ 06:17:55   ┆ 06:49:53   ┆ 4         ┆          │\n",
       "│ 25f33a9a61 ┆          ┆           ┆         ┆   ┆            ┆            ┆ 22:03:44  ┆          │\n",
       "│ …          ┆          ┆           ┆         ┆   ┆            ┆            ┆           ┆          │\n",
       "│ f075826d79 ┆ 0        ┆ 5         ┆ 5       ┆ … ┆ 2024-06-13 ┆ 2024-06-13 ┆ 2024-06-1 ┆ 2        │\n",
       "│ a6418ea86b ┆          ┆           ┆         ┆   ┆ 00:26:12   ┆ 00:54:09   ┆ 3         ┆          │\n",
       "│ 7d55de101a ┆          ┆           ┆         ┆   ┆            ┆            ┆ 11:26:32  ┆          │\n",
       "│ …          ┆          ┆           ┆         ┆   ┆            ┆            ┆           ┆          │\n",
       "│ bb3a2f5028 ┆ 1        ┆ 7         ┆ 7       ┆ … ┆ 2024-06-22 ┆ 2024-06-22 ┆ 2024-06-2 ┆ 3        │\n",
       "│ 344240b900 ┆          ┆           ┆         ┆   ┆ 18:14:24   ┆ 18:22:11   ┆ 2         ┆          │\n",
       "│ 64fade9506 ┆          ┆           ┆         ┆   ┆            ┆            ┆ 20:19:47  ┆          │\n",
       "│ …          ┆          ┆           ┆         ┆   ┆            ┆            ┆           ┆          │\n",
       "└────────────┴──────────┴───────────┴─────────┴───┴────────────┴────────────┴───────────┴──────────┘"
      ]
     },
     "execution_count": 50,
     "metadata": {},
     "output_type": "execute_result"
    }
   ],
   "source": [
    "df_draft = (\n",
    "    df_games.group_by(\"draft_id\")\n",
    "    .agg(\n",
    "        pl.col(\"build_index\").max().alias(\"n_builds\"),\n",
    "        pl.col(\"match_number\").max().alias(\"n_matches\"),\n",
    "        pl.col(\"game_number\").count().alias(\"n_games\"),\n",
    "        pl.col(\"won\").sum().alias(\"n_wins\"),\n",
    "        pl.col(\"won\").mean().alias(\"win_rate\"),\n",
    "        pl.col(\"rank\").last(),\n",
    "        pl.col(\"opp_rank\").last(),\n",
    "        pl.col(\"main_colors\").last(),\n",
    "        pl.col(\"opp_colors\").last(),\n",
    "        pl.col(\"splash_colors\").last(),\n",
    "        pl.col(\"on_play\").sum().alias(\"n_starts\"),\n",
    "        pl.col(\"num_mulligans\").sum().alias(\"n_muls\"),\n",
    "        pl.col(\"opp_num_mulligans\").sum().alias(\"n_opp_muls\"),\n",
    "        pl.col(\"num_turns\").mean().alias(\"mean_turns\"),\n",
    "        pl.col(\"draft_time\").mean().alias(\"draft_time\"),\n",
    "        pl.col(\"game_time\").first().alias(\"first_game_time\"),\n",
    "        pl.col(\"game_time\").last().alias(\"last_game_time\"),\n",
    "    )\n",
    "    .with_columns(\n",
    "        (pl.col(\"n_games\") - pl.col(\"n_wins\")).alias(\"n_losses\"),\n",
    "    )\n",
    ")\n",
    "\n",
    "df_draft.collect().write_parquet(draft_file)\n",
    "\n",
    "df_draft.head().collect()"
   ]
  },
  {
   "cell_type": "markdown",
   "metadata": {},
   "source": [
    "# Card Data"
   ]
  },
  {
   "cell_type": "code",
   "execution_count": 51,
   "metadata": {},
   "outputs": [
    {
     "data": {
      "text/html": [
       "<div><style>\n",
       ".dataframe > thead > tr,\n",
       ".dataframe > tbody > tr {\n",
       "  text-align: right;\n",
       "  white-space: pre-wrap;\n",
       "}\n",
       "</style>\n",
       "<small>shape: (5, 1_634)</small><table border=\"1\" class=\"dataframe\"><thead><tr><th>draft_id</th><th>match_number</th><th>game_number</th><th>build_index</th><th>opening_hand_Forest</th><th>drawn_Forest</th><th>tutored_Forest</th><th>deck_Forest</th><th>sideboard_Forest</th><th>opening_hand_Island</th><th>drawn_Island</th><th>tutored_Island</th><th>deck_Island</th><th>sideboard_Island</th><th>opening_hand_Mountain</th><th>drawn_Mountain</th><th>tutored_Mountain</th><th>deck_Mountain</th><th>sideboard_Mountain</th><th>opening_hand_Plains</th><th>drawn_Plains</th><th>tutored_Plains</th><th>deck_Plains</th><th>sideboard_Plains</th><th>opening_hand_Swamp</th><th>drawn_Swamp</th><th>tutored_Swamp</th><th>deck_Swamp</th><th>sideboard_Swamp</th><th>opening_hand_Abstruse Appropriation</th><th>drawn_Abstruse Appropriation</th><th>tutored_Abstruse Appropriation</th><th>deck_Abstruse Appropriation</th><th>sideboard_Abstruse Appropriation</th><th>opening_hand_Accursed Marauder</th><th>drawn_Accursed Marauder</th><th>tutored_Accursed Marauder</th><th>&hellip;</th><th>deck_Witch Enchanter</th><th>sideboard_Witch Enchanter</th><th>opening_hand_Wither and Bloom</th><th>drawn_Wither and Bloom</th><th>tutored_Wither and Bloom</th><th>deck_Wither and Bloom</th><th>sideboard_Wither and Bloom</th><th>opening_hand_Wooded Foothills</th><th>drawn_Wooded Foothills</th><th>tutored_Wooded Foothills</th><th>deck_Wooded Foothills</th><th>sideboard_Wooded Foothills</th><th>opening_hand_Worn Powerstone</th><th>drawn_Worn Powerstone</th><th>tutored_Worn Powerstone</th><th>deck_Worn Powerstone</th><th>sideboard_Worn Powerstone</th><th>opening_hand_Wrath of the Skies</th><th>drawn_Wrath of the Skies</th><th>tutored_Wrath of the Skies</th><th>deck_Wrath of the Skies</th><th>sideboard_Wrath of the Skies</th><th>opening_hand_Writhing Chrysalis</th><th>drawn_Writhing Chrysalis</th><th>tutored_Writhing Chrysalis</th><th>deck_Writhing Chrysalis</th><th>sideboard_Writhing Chrysalis</th><th>opening_hand_Wumpus Aberration</th><th>drawn_Wumpus Aberration</th><th>tutored_Wumpus Aberration</th><th>deck_Wumpus Aberration</th><th>sideboard_Wumpus Aberration</th><th>opening_hand_Wurmcoil Larva</th><th>drawn_Wurmcoil Larva</th><th>tutored_Wurmcoil Larva</th><th>deck_Wurmcoil Larva</th><th>sideboard_Wurmcoil Larva</th></tr><tr><td>str</td><td>i64</td><td>i64</td><td>i64</td><td>i64</td><td>i64</td><td>i64</td><td>i64</td><td>i64</td><td>i64</td><td>i64</td><td>i64</td><td>i64</td><td>i64</td><td>i64</td><td>i64</td><td>i64</td><td>i64</td><td>i64</td><td>i64</td><td>i64</td><td>i64</td><td>i64</td><td>i64</td><td>i64</td><td>i64</td><td>i64</td><td>i64</td><td>i64</td><td>i64</td><td>i64</td><td>i64</td><td>i64</td><td>i64</td><td>i64</td><td>i64</td><td>i64</td><td>&hellip;</td><td>i64</td><td>i64</td><td>i64</td><td>i64</td><td>i64</td><td>i64</td><td>i64</td><td>i64</td><td>i64</td><td>i64</td><td>i64</td><td>i64</td><td>i64</td><td>i64</td><td>i64</td><td>i64</td><td>i64</td><td>i64</td><td>i64</td><td>i64</td><td>i64</td><td>i64</td><td>i64</td><td>i64</td><td>i64</td><td>i64</td><td>i64</td><td>i64</td><td>i64</td><td>i64</td><td>i64</td><td>i64</td><td>i64</td><td>i64</td><td>i64</td><td>i64</td><td>i64</td></tr></thead><tbody><tr><td>&quot;5bf33eab9e7745a68d0a3cf59c2ca5…</td><td>1</td><td>1</td><td>0</td><td>0</td><td>0</td><td>0</td><td>0</td><td>0</td><td>1</td><td>0</td><td>0</td><td>3</td><td>0</td><td>0</td><td>1</td><td>0</td><td>4</td><td>0</td><td>1</td><td>2</td><td>0</td><td>5</td><td>0</td><td>0</td><td>0</td><td>0</td><td>0</td><td>0</td><td>0</td><td>0</td><td>0</td><td>0</td><td>0</td><td>0</td><td>0</td><td>0</td><td>&hellip;</td><td>0</td><td>0</td><td>0</td><td>0</td><td>0</td><td>0</td><td>0</td><td>0</td><td>0</td><td>0</td><td>0</td><td>0</td><td>0</td><td>0</td><td>0</td><td>0</td><td>0</td><td>0</td><td>0</td><td>0</td><td>0</td><td>0</td><td>0</td><td>0</td><td>0</td><td>0</td><td>0</td><td>0</td><td>0</td><td>0</td><td>0</td><td>0</td><td>0</td><td>0</td><td>0</td><td>0</td><td>0</td></tr><tr><td>&quot;5bf33eab9e7745a68d0a3cf59c2ca5…</td><td>2</td><td>1</td><td>0</td><td>0</td><td>0</td><td>0</td><td>0</td><td>0</td><td>0</td><td>1</td><td>0</td><td>3</td><td>0</td><td>1</td><td>2</td><td>0</td><td>4</td><td>0</td><td>1</td><td>3</td><td>0</td><td>5</td><td>0</td><td>0</td><td>0</td><td>0</td><td>0</td><td>0</td><td>0</td><td>0</td><td>0</td><td>0</td><td>0</td><td>0</td><td>0</td><td>0</td><td>&hellip;</td><td>0</td><td>0</td><td>0</td><td>0</td><td>0</td><td>0</td><td>0</td><td>0</td><td>0</td><td>0</td><td>0</td><td>0</td><td>0</td><td>0</td><td>0</td><td>0</td><td>0</td><td>0</td><td>0</td><td>0</td><td>0</td><td>0</td><td>0</td><td>0</td><td>0</td><td>0</td><td>0</td><td>0</td><td>0</td><td>0</td><td>0</td><td>0</td><td>0</td><td>0</td><td>0</td><td>0</td><td>0</td></tr><tr><td>&quot;5bf33eab9e7745a68d0a3cf59c2ca5…</td><td>3</td><td>1</td><td>0</td><td>0</td><td>0</td><td>0</td><td>0</td><td>0</td><td>0</td><td>1</td><td>0</td><td>3</td><td>0</td><td>1</td><td>2</td><td>0</td><td>4</td><td>0</td><td>2</td><td>0</td><td>0</td><td>5</td><td>0</td><td>0</td><td>0</td><td>0</td><td>0</td><td>0</td><td>0</td><td>0</td><td>0</td><td>0</td><td>0</td><td>0</td><td>0</td><td>0</td><td>&hellip;</td><td>0</td><td>0</td><td>0</td><td>0</td><td>0</td><td>0</td><td>0</td><td>0</td><td>0</td><td>0</td><td>0</td><td>0</td><td>0</td><td>0</td><td>0</td><td>0</td><td>0</td><td>0</td><td>0</td><td>0</td><td>0</td><td>0</td><td>0</td><td>0</td><td>0</td><td>0</td><td>0</td><td>0</td><td>0</td><td>0</td><td>0</td><td>0</td><td>0</td><td>0</td><td>0</td><td>0</td><td>0</td></tr><tr><td>&quot;5bf33eab9e7745a68d0a3cf59c2ca5…</td><td>4</td><td>1</td><td>0</td><td>0</td><td>0</td><td>0</td><td>0</td><td>0</td><td>0</td><td>1</td><td>0</td><td>3</td><td>0</td><td>1</td><td>2</td><td>0</td><td>4</td><td>0</td><td>1</td><td>2</td><td>0</td><td>5</td><td>0</td><td>0</td><td>0</td><td>0</td><td>0</td><td>0</td><td>0</td><td>0</td><td>0</td><td>0</td><td>0</td><td>0</td><td>0</td><td>0</td><td>&hellip;</td><td>0</td><td>0</td><td>0</td><td>0</td><td>0</td><td>0</td><td>0</td><td>0</td><td>0</td><td>0</td><td>0</td><td>0</td><td>0</td><td>0</td><td>0</td><td>0</td><td>0</td><td>0</td><td>0</td><td>0</td><td>0</td><td>0</td><td>0</td><td>0</td><td>0</td><td>0</td><td>0</td><td>0</td><td>0</td><td>0</td><td>0</td><td>0</td><td>0</td><td>0</td><td>0</td><td>0</td><td>0</td></tr><tr><td>&quot;5bf33eab9e7745a68d0a3cf59c2ca5…</td><td>5</td><td>1</td><td>0</td><td>0</td><td>0</td><td>0</td><td>0</td><td>0</td><td>1</td><td>2</td><td>0</td><td>3</td><td>0</td><td>1</td><td>2</td><td>0</td><td>4</td><td>0</td><td>1</td><td>1</td><td>0</td><td>5</td><td>0</td><td>0</td><td>0</td><td>0</td><td>0</td><td>0</td><td>0</td><td>0</td><td>0</td><td>0</td><td>0</td><td>0</td><td>0</td><td>0</td><td>&hellip;</td><td>0</td><td>0</td><td>0</td><td>0</td><td>0</td><td>0</td><td>0</td><td>0</td><td>0</td><td>0</td><td>0</td><td>0</td><td>0</td><td>0</td><td>0</td><td>0</td><td>0</td><td>0</td><td>0</td><td>0</td><td>0</td><td>0</td><td>0</td><td>0</td><td>0</td><td>0</td><td>0</td><td>0</td><td>0</td><td>0</td><td>0</td><td>0</td><td>0</td><td>0</td><td>0</td><td>0</td><td>0</td></tr></tbody></table></div>"
      ],
      "text/plain": [
       "shape: (5, 1_634)\n",
       "┌───────────┬───────────┬───────────┬───────────┬───┬───────────┬───────────┬───────────┬──────────┐\n",
       "│ draft_id  ┆ match_num ┆ game_numb ┆ build_ind ┆ … ┆ drawn_Wur ┆ tutored_W ┆ deck_Wurm ┆ sideboar │\n",
       "│ ---       ┆ ber       ┆ er        ┆ ex        ┆   ┆ mcoil     ┆ urmcoil   ┆ coil      ┆ d_Wurmco │\n",
       "│ str       ┆ ---       ┆ ---       ┆ ---       ┆   ┆ Larva     ┆ Larva     ┆ Larva     ┆ il Larva │\n",
       "│           ┆ i64       ┆ i64       ┆ i64       ┆   ┆ ---       ┆ ---       ┆ ---       ┆ ---      │\n",
       "│           ┆           ┆           ┆           ┆   ┆ i64       ┆ i64       ┆ i64       ┆ i64      │\n",
       "╞═══════════╪═══════════╪═══════════╪═══════════╪═══╪═══════════╪═══════════╪═══════════╪══════════╡\n",
       "│ 5bf33eab9 ┆ 1         ┆ 1         ┆ 0         ┆ … ┆ 0         ┆ 0         ┆ 0         ┆ 0        │\n",
       "│ e7745a68d ┆           ┆           ┆           ┆   ┆           ┆           ┆           ┆          │\n",
       "│ 0a3cf59c2 ┆           ┆           ┆           ┆   ┆           ┆           ┆           ┆          │\n",
       "│ ca5…      ┆           ┆           ┆           ┆   ┆           ┆           ┆           ┆          │\n",
       "│ 5bf33eab9 ┆ 2         ┆ 1         ┆ 0         ┆ … ┆ 0         ┆ 0         ┆ 0         ┆ 0        │\n",
       "│ e7745a68d ┆           ┆           ┆           ┆   ┆           ┆           ┆           ┆          │\n",
       "│ 0a3cf59c2 ┆           ┆           ┆           ┆   ┆           ┆           ┆           ┆          │\n",
       "│ ca5…      ┆           ┆           ┆           ┆   ┆           ┆           ┆           ┆          │\n",
       "│ 5bf33eab9 ┆ 3         ┆ 1         ┆ 0         ┆ … ┆ 0         ┆ 0         ┆ 0         ┆ 0        │\n",
       "│ e7745a68d ┆           ┆           ┆           ┆   ┆           ┆           ┆           ┆          │\n",
       "│ 0a3cf59c2 ┆           ┆           ┆           ┆   ┆           ┆           ┆           ┆          │\n",
       "│ ca5…      ┆           ┆           ┆           ┆   ┆           ┆           ┆           ┆          │\n",
       "│ 5bf33eab9 ┆ 4         ┆ 1         ┆ 0         ┆ … ┆ 0         ┆ 0         ┆ 0         ┆ 0        │\n",
       "│ e7745a68d ┆           ┆           ┆           ┆   ┆           ┆           ┆           ┆          │\n",
       "│ 0a3cf59c2 ┆           ┆           ┆           ┆   ┆           ┆           ┆           ┆          │\n",
       "│ ca5…      ┆           ┆           ┆           ┆   ┆           ┆           ┆           ┆          │\n",
       "│ 5bf33eab9 ┆ 5         ┆ 1         ┆ 0         ┆ … ┆ 0         ┆ 0         ┆ 0         ┆ 0        │\n",
       "│ e7745a68d ┆           ┆           ┆           ┆   ┆           ┆           ┆           ┆          │\n",
       "│ 0a3cf59c2 ┆           ┆           ┆           ┆   ┆           ┆           ┆           ┆          │\n",
       "│ ca5…      ┆           ┆           ┆           ┆   ┆           ┆           ┆           ┆          │\n",
       "└───────────┴───────────┴───────────┴───────────┴───┴───────────┴───────────┴───────────┴──────────┘"
      ]
     },
     "execution_count": 51,
     "metadata": {},
     "output_type": "execute_result"
    }
   ],
   "source": [
    "id_cols = [\"draft_id\", \"match_number\", \"game_number\", \"build_index\"]\n",
    "df_card = df_lazy.select(*id_cols, *land_card_cols, *non_land_card_cols)\n",
    "\n",
    "df_card.collect().write_parquet(card_file)\n",
    "\n",
    "df_card.head().collect()"
   ]
  },
  {
   "cell_type": "markdown",
   "metadata": {},
   "source": [
    "# Summary Table"
   ]
  },
  {
   "cell_type": "code",
   "execution_count": 52,
   "metadata": {},
   "outputs": [
    {
     "data": {
      "text/html": [
       "<div><style>\n",
       ".dataframe > thead > tr,\n",
       ".dataframe > tbody > tr {\n",
       "  text-align: right;\n",
       "  white-space: pre-wrap;\n",
       "}\n",
       "</style>\n",
       "<small>shape: (1, 21)</small><table border=\"1\" class=\"dataframe\"><thead><tr><th>first_game</th><th>last_game</th><th>max_games</th><th>win_rate</th><th>start_rate</th><th>n_games</th><th>n_mul</th><th>n_opp_mul</th><th>mean_turns</th><th>total_turns</th><th>max_turns</th><th>min_turns</th><th>n_drafts</th><th>n_matches</th><th>mean_matches</th><th>n_games_per_draft</th><th>n_cards</th><th>max_card</th><th>mean_land</th><th>max_land</th><th>min_land</th></tr><tr><td>datetime[μs]</td><td>datetime[μs]</td><td>i64</td><td>f64</td><td>f64</td><td>u32</td><td>i64</td><td>i64</td><td>f64</td><td>i64</td><td>i64</td><td>i64</td><td>u32</td><td>i64</td><td>f64</td><td>f64</td><td>i32</td><td>i64</td><td>f64</td><td>i32</td><td>i32</td></tr></thead><tbody><tr><td>2024-06-11 15:25:09</td><td>2024-07-15 23:59:59</td><td>2</td><td>0.550959</td><td>0.49909</td><td>767772</td><td>92041</td><td>96863</td><td>8.384565</td><td>6437434</td><td>32</td><td>1</td><td>131813</td><td>770724</td><td>5.847102</td><td>5.824706</td><td>326</td><td>10</td><td>18.029247</td><td>37</td><td>4</td></tr></tbody></table></div>"
      ],
      "text/plain": [
       "shape: (1, 21)\n",
       "┌─────────────┬────────────┬───────────┬──────────┬───┬──────────┬───────────┬──────────┬──────────┐\n",
       "│ first_game  ┆ last_game  ┆ max_games ┆ win_rate ┆ … ┆ max_card ┆ mean_land ┆ max_land ┆ min_land │\n",
       "│ ---         ┆ ---        ┆ ---       ┆ ---      ┆   ┆ ---      ┆ ---       ┆ ---      ┆ ---      │\n",
       "│ datetime[μs ┆ datetime[μ ┆ i64       ┆ f64      ┆   ┆ i64      ┆ f64       ┆ i32      ┆ i32      │\n",
       "│ ]           ┆ s]         ┆           ┆          ┆   ┆          ┆           ┆          ┆          │\n",
       "╞═════════════╪════════════╪═══════════╪══════════╪═══╪══════════╪═══════════╪══════════╪══════════╡\n",
       "│ 2024-06-11  ┆ 2024-07-15 ┆ 2         ┆ 0.550959 ┆ … ┆ 10       ┆ 18.029247 ┆ 37       ┆ 4        │\n",
       "│ 15:25:09    ┆ 23:59:59   ┆           ┆          ┆   ┆          ┆           ┆          ┆          │\n",
       "└─────────────┴────────────┴───────────┴──────────┴───┴──────────┴───────────┴──────────┴──────────┘"
      ]
     },
     "execution_count": 52,
     "metadata": {},
     "output_type": "execute_result"
    }
   ],
   "source": [
    "df_select = df_lazy.select(\n",
    "    pl.min(\"game_time\").alias(\"first_game\"),\n",
    "    pl.max(\"game_time\").alias(\"last_game\"),\n",
    "    pl.max(\"game_number\").alias(\"max_games\"),\n",
    "    pl.mean(\"won\").alias(\"win_rate\"),\n",
    "    pl.mean(\"on_play\").alias(\"start_rate\"),\n",
    "    pl.count(\"draft_id\").alias(\"n_games\"),\n",
    "    pl.sum(\"num_mulligans\").alias(\"n_mul\"),\n",
    "    pl.sum(\"opp_num_mulligans\").alias(\"n_opp_mul\"),\n",
    "    pl.mean(\"num_turns\").alias(\"mean_turns\"),\n",
    "    pl.sum(\"num_turns\").alias(\"total_turns\"),\n",
    "    pl.max(\"num_turns\").alias(\"max_turns\"),\n",
    "    pl.min(\"num_turns\").alias(\"min_turns\"),\n",
    ")\n",
    "\n",
    "df_draft_ct = df_draft.select(\n",
    "    pl.count(\"draft_id\").alias(\"n_drafts\"),\n",
    "    pl.sum(\"n_matches\").alias(\"n_matches\"),\n",
    "    pl.mean(\"n_matches\").alias(\"mean_matches\"),\n",
    ")\n",
    "\n",
    "df_max_card = df_lazy.select(non_land_card_cols).max().collect()\n",
    "df_sum_land = df_lazy.select(land_card_cols).collect().sum_horizontal()\n",
    "\n",
    "df_summary = pl.concat([df_select, df_draft_ct], how=\"horizontal\")\n",
    "\n",
    "df_summary = df_summary.with_columns(\n",
    "    (pl.col(\"n_games\") / pl.col(\"n_drafts\")).alias(\"n_games_per_draft\"),\n",
    "    pl.lit(len(card_names)).alias(\"n_cards\"),\n",
    "    df_max_card.max_horizontal().alias(\"max_card\"),\n",
    "    pl.lit(df_sum_land.mean()).alias(\"mean_land\"),\n",
    "    pl.lit(df_sum_land.max()).alias(\"max_land\"),\n",
    "    pl.lit(df_sum_land.min()).alias(\"min_land\"),\n",
    ")\n",
    "\n",
    "df_summary = df_summary.collect()\n",
    "df_summary.write_parquet(summary_file)\n",
    "\n",
    "df_summary"
   ]
  },
  {
   "cell_type": "code",
   "execution_count": null,
   "metadata": {},
   "outputs": [],
   "source": []
  }
 ],
 "metadata": {
  "kernelspec": {
   "display_name": "dl+bayes-env",
   "language": "python",
   "name": "python3"
  },
  "language_info": {
   "codemirror_mode": {
    "name": "ipython",
    "version": 3
   },
   "file_extension": ".py",
   "mimetype": "text/x-python",
   "name": "python",
   "nbconvert_exporter": "python",
   "pygments_lexer": "ipython3",
   "version": "3.12.3"
  }
 },
 "nbformat": 4,
 "nbformat_minor": 2
}
