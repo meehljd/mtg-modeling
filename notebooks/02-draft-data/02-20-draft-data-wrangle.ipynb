{
 "cells": [
  {
   "cell_type": "markdown",
   "metadata": {},
   "source": [
    "# Summary\n",
    "\n",
    "The code to wrangle the data.  Deal with NAs, join data frames, etc."
   ]
  },
  {
   "cell_type": "markdown",
   "metadata": {},
   "source": [
    "# Introduction\n",
    "\n",
    "This data set is very large, in both memory and in size.  Each row is a game, with identifiers for the draft event and the player.  The columns have information on the given draft game, with the majority are for card counts per state, such as the number of a given card in the deck or the number of a given card in the opening hand.\n",
    "\n",
    "Ideally I want to melt the data into a tall layout, with rows for each unique combination of card and game and columns for the card count states, such as deck, hand, etc.  This will allow me to easily filter and group the data for analysis.  Unfortunately, after attempting to wrangle in this format, I found that the data set is too large to handle in memory.  I could play with making spares arrays, but I think that would be too much work for this data set.\n",
    "\n",
    "For this notebook, I will keep the data in the wide layout and aggregate down into useful tables, such as per-game and per-player summaries.\n",
    "\n",
    "## Terms\n",
    "\n",
    "The following terms are used in the data set:\n",
    "- __game:__ a single game of MTG\n",
    "- __match:__ a series of games between two players.  Typically best of 1 or best of 3.\n",
    "- __draft:__ an initial draft event, followed by a series of matches between a group of players.\n",
    "- __build:__ a instance of a deck in a draft.  Can be adjusted between games."
   ]
  },
  {
   "cell_type": "markdown",
   "metadata": {},
   "source": [
    "# Initial Setup"
   ]
  },
  {
   "cell_type": "code",
   "execution_count": 1,
   "metadata": {},
   "outputs": [
    {
     "name": "stdout",
     "output_type": "stream",
     "text": [
      "Changed working directory to: d:\\mtg-modeling\n"
     ]
    }
   ],
   "source": [
    "# Setup Notebook\n",
    "import os\n",
    "\n",
    "if os.path.basename(os.getcwd()) != \"mtg-modeling\":\n",
    "    get_ipython().run_line_magic(\"run\", '-i \"../../scripts/notebook_header.py\"')  # type: ignore"
   ]
  },
  {
   "cell_type": "code",
   "execution_count": 2,
   "metadata": {},
   "outputs": [],
   "source": [
    "import pandas as pd\n",
    "from tqdm.notebook import tqdm\n",
    "from pathlib import Path\n",
    "import matplotlib.pyplot as plt\n",
    "import seaborn as sns\n",
    "import numpy as np\n",
    "import time\n",
    "import polars as pl"
   ]
  },
  {
   "cell_type": "markdown",
   "metadata": {},
   "source": [
    "Define Paths"
   ]
  },
  {
   "cell_type": "code",
   "execution_count": 3,
   "metadata": {},
   "outputs": [],
   "source": [
    "SET_CODE = \"BLB\"\n",
    "\n",
    "paths = {\n",
    "    \"raw\": Path(\"data/raw/17lands/game_data/PremierDraft\"),\n",
    "    \"interim\": Path(\"data/interim/17lands/game_data/premier_draft\"),\n",
    "    \"processed\": Path(\"data/processed/17lands/game_data/premier_draft\"),\n",
    "}\n",
    "\n",
    "csv_file = paths[\"raw\"] / f\"game_data_public.{SET_CODE}.PremierDraft.csv\"\n",
    "parquet_file = paths[\"interim\"] / f\"game_data_public.{SET_CODE}.PremierDraft.parquet\"\n",
    "\n",
    "summary_file = paths[\"processed\"] / f\"{SET_CODE}_Game_PD_Summary.parquet\"\n",
    "game_file = paths[\"processed\"] / f\"{SET_CODE}_Game_PD_Games.parquet\"\n",
    "draft_file = paths[\"processed\"] / f\"{SET_CODE}_Game_PD_Drafts.parquet\"\n",
    "card_file = paths[\"processed\"] / f\"{SET_CODE}_Game_PD_Cards.parquet\"\n",
    "\n",
    "\n",
    "os.makedirs(paths[\"interim\"], exist_ok=True)\n",
    "os.makedirs(paths[\"processed\"], exist_ok=True)"
   ]
  },
  {
   "cell_type": "markdown",
   "metadata": {},
   "source": [
    "Convert the csv file to parquet if needed."
   ]
  },
  {
   "cell_type": "code",
   "execution_count": 4,
   "metadata": {},
   "outputs": [],
   "source": [
    "if not os.path.exists(parquet_file):\n",
    "    df = pd.read_csv(csv_file)\n",
    "    df.to_parquet(parquet_file)\n",
    "    print(f\"Converted {csv_file} to parquet\")"
   ]
  },
  {
   "cell_type": "markdown",
   "metadata": {},
   "source": [
    "Scan file into a lazy frame."
   ]
  },
  {
   "cell_type": "code",
   "execution_count": 5,
   "metadata": {},
   "outputs": [],
   "source": [
    "df_lazy = pl.scan_parquet(parquet_file)"
   ]
  },
  {
   "cell_type": "markdown",
   "metadata": {},
   "source": [
    "Parse column names, such as the card name and the card state."
   ]
  },
  {
   "cell_type": "code",
   "execution_count": 6,
   "metadata": {},
   "outputs": [
    {
     "data": {
      "text/plain": [
       "(1380, 1355, 25)"
      ]
     },
     "execution_count": 6,
     "metadata": {},
     "output_type": "execute_result"
    }
   ],
   "source": [
    "cols = df_lazy.collect_schema().names()\n",
    "state_prefixes = [\"tutored_\", \"deck_\", \"opening_hand_\", \"drawn_\", \"sideboard_\"]\n",
    "card_cols = [col for col in cols if any([col.startswith(s) for s in state_prefixes])]\n",
    "index_cols = [col for col in cols if col not in card_cols]\n",
    "\n",
    "card_names = [col.split(\"_\")[-1] for col in card_cols if col.startswith(\"deck_\")]\n",
    "land_cards = [\"Plains\", \"Island\", \"Swamp\", \"Mountain\", \"Forest\"]\n",
    "non_land_cards = [card for card in card_names if card not in land_cards]\n",
    "non_land_card_cols = [\n",
    "    col for col in card_cols if all([land not in col for land in land_cards])\n",
    "]\n",
    "land_card_cols = [col for col in card_cols if any([land in col for land in land_cards])]\n",
    "len(card_cols), len(non_land_card_cols), len(land_card_cols)"
   ]
  },
  {
   "cell_type": "markdown",
   "metadata": {},
   "source": [
    "Check for extra underscores in card names."
   ]
  },
  {
   "cell_type": "code",
   "execution_count": 7,
   "metadata": {},
   "outputs": [],
   "source": [
    "counts = [col.count(\"_\") for col in card_cols if col.startswith(\"deck_\")]\n",
    "assert max(counts) == 1, \"There are some cards with underscores in their names\""
   ]
  },
  {
   "cell_type": "markdown",
   "metadata": {},
   "source": [
    "Show first few rows of the data."
   ]
  },
  {
   "cell_type": "code",
   "execution_count": 8,
   "metadata": {},
   "outputs": [
    {
     "data": {
      "text/html": [
       "<div><style>\n",
       ".dataframe > thead > tr,\n",
       ".dataframe > tbody > tr {\n",
       "  text-align: right;\n",
       "  white-space: pre-wrap;\n",
       "}\n",
       "</style>\n",
       "<small>shape: (2, 20)</small><table border=\"1\" class=\"dataframe\"><thead><tr><th>expansion</th><th>event_type</th><th>draft_id</th><th>draft_time</th><th>game_time</th><th>build_index</th><th>match_number</th><th>game_number</th><th>rank</th><th>opp_rank</th><th>main_colors</th><th>splash_colors</th><th>on_play</th><th>num_mulligans</th><th>opp_num_mulligans</th><th>opp_colors</th><th>num_turns</th><th>won</th><th>user_n_games_bucket</th><th>user_game_win_rate_bucket</th></tr><tr><td>str</td><td>str</td><td>str</td><td>str</td><td>str</td><td>i64</td><td>i64</td><td>i64</td><td>str</td><td>str</td><td>str</td><td>str</td><td>bool</td><td>i64</td><td>i64</td><td>str</td><td>i64</td><td>bool</td><td>i64</td><td>f64</td></tr></thead><tbody><tr><td>&quot;BLB&quot;</td><td>&quot;PremierDraft&quot;</td><td>&quot;19e2e5ee33d84b01888f4215aeff9c…</td><td>&quot;2024-08-01 22:14:29&quot;</td><td>&quot;2024-08-02 15:37:05&quot;</td><td>0</td><td>7</td><td>2</td><td>&quot;platinum&quot;</td><td>&quot;None&quot;</td><td>&quot;BR&quot;</td><td>null</td><td>true</td><td>0</td><td>0</td><td>&quot;UG&quot;</td><td>13</td><td>true</td><td>100</td><td>0.56</td></tr><tr><td>&quot;BLB&quot;</td><td>&quot;PremierDraft&quot;</td><td>&quot;dd424f45c9fb44f2929aa0e6d900ed…</td><td>&quot;2024-08-06 21:03:27&quot;</td><td>&quot;2024-08-07 23:03:23&quot;</td><td>0</td><td>6</td><td>2</td><td>&quot;platinum&quot;</td><td>&quot;None&quot;</td><td>&quot;UG&quot;</td><td>null</td><td>false</td><td>0</td><td>1</td><td>&quot;UB&quot;</td><td>7</td><td>false</td><td>100</td><td>0.56</td></tr></tbody></table></div>"
      ],
      "text/plain": [
       "shape: (2, 20)\n",
       "┌───────────┬────────────┬────────────┬────────────┬───┬───────────┬───────┬───────────┬───────────┐\n",
       "│ expansion ┆ event_type ┆ draft_id   ┆ draft_time ┆ … ┆ num_turns ┆ won   ┆ user_n_ga ┆ user_game │\n",
       "│ ---       ┆ ---        ┆ ---        ┆ ---        ┆   ┆ ---       ┆ ---   ┆ mes_bucke ┆ _win_rate │\n",
       "│ str       ┆ str        ┆ str        ┆ str        ┆   ┆ i64       ┆ bool  ┆ t         ┆ _bucket   │\n",
       "│           ┆            ┆            ┆            ┆   ┆           ┆       ┆ ---       ┆ ---       │\n",
       "│           ┆            ┆            ┆            ┆   ┆           ┆       ┆ i64       ┆ f64       │\n",
       "╞═══════════╪════════════╪════════════╪════════════╪═══╪═══════════╪═══════╪═══════════╪═══════════╡\n",
       "│ BLB       ┆ PremierDra ┆ 19e2e5ee33 ┆ 2024-08-01 ┆ … ┆ 13        ┆ true  ┆ 100       ┆ 0.56      │\n",
       "│           ┆ ft         ┆ d84b01888f ┆ 22:14:29   ┆   ┆           ┆       ┆           ┆           │\n",
       "│           ┆            ┆ 4215aeff9c ┆            ┆   ┆           ┆       ┆           ┆           │\n",
       "│           ┆            ┆ …          ┆            ┆   ┆           ┆       ┆           ┆           │\n",
       "│ BLB       ┆ PremierDra ┆ dd424f45c9 ┆ 2024-08-06 ┆ … ┆ 7         ┆ false ┆ 100       ┆ 0.56      │\n",
       "│           ┆ ft         ┆ fb44f2929a ┆ 21:03:27   ┆   ┆           ┆       ┆           ┆           │\n",
       "│           ┆            ┆ a0e6d900ed ┆            ┆   ┆           ┆       ┆           ┆           │\n",
       "│           ┆            ┆ …          ┆            ┆   ┆           ┆       ┆           ┆           │\n",
       "└───────────┴────────────┴────────────┴────────────┴───┴───────────┴───────┴───────────┴───────────┘"
      ]
     },
     "execution_count": 8,
     "metadata": {},
     "output_type": "execute_result"
    }
   ],
   "source": [
    "df_lazy.filter(pl.col(\"game_number\") > 1).select(index_cols).head(30).collect()"
   ]
  },
  {
   "cell_type": "markdown",
   "metadata": {},
   "source": [
    "Convert timestamps from strings to datetimes"
   ]
  },
  {
   "cell_type": "code",
   "execution_count": 9,
   "metadata": {},
   "outputs": [],
   "source": [
    "df_lazy = df_lazy.with_columns(\n",
    "    pl.col(\"draft_time\").str.strptime(pl.Datetime, \"%Y-%m-%d %H:%M:%S\"),\n",
    "    pl.col(\"game_time\").str.strptime(pl.Datetime, \"%Y-%m-%d %H:%M:%S\"),\n",
    ")"
   ]
  },
  {
   "cell_type": "markdown",
   "metadata": {},
   "source": [
    "# Games Table\n",
    "\n",
    "A table of each game, excludes card data."
   ]
  },
  {
   "cell_type": "code",
   "execution_count": 10,
   "metadata": {},
   "outputs": [
    {
     "data": {
      "text/html": [
       "<div><style>\n",
       ".dataframe > thead > tr,\n",
       ".dataframe > tbody > tr {\n",
       "  text-align: right;\n",
       "  white-space: pre-wrap;\n",
       "}\n",
       "</style>\n",
       "<small>shape: (2, 20)</small><table border=\"1\" class=\"dataframe\"><thead><tr><th>expansion</th><th>event_type</th><th>draft_id</th><th>draft_time</th><th>game_time</th><th>build_index</th><th>match_number</th><th>game_number</th><th>rank</th><th>opp_rank</th><th>main_colors</th><th>splash_colors</th><th>on_play</th><th>num_mulligans</th><th>opp_num_mulligans</th><th>opp_colors</th><th>num_turns</th><th>won</th><th>user_n_games_bucket</th><th>user_game_win_rate_bucket</th></tr><tr><td>str</td><td>str</td><td>str</td><td>datetime[μs]</td><td>datetime[μs]</td><td>i64</td><td>i64</td><td>i64</td><td>str</td><td>str</td><td>str</td><td>str</td><td>bool</td><td>i64</td><td>i64</td><td>str</td><td>i64</td><td>bool</td><td>i64</td><td>f64</td></tr></thead><tbody><tr><td>&quot;BLB&quot;</td><td>&quot;PremierDraft&quot;</td><td>&quot;deaa4cdcd3e84d8e8b5a0ea34a0f9d…</td><td>2024-07-30 22:30:39</td><td>2024-07-30 22:58:45</td><td>0</td><td>1</td><td>1</td><td>&quot;gold&quot;</td><td>&quot;None&quot;</td><td>&quot;BG&quot;</td><td>&quot;WR&quot;</td><td>true</td><td>0</td><td>1</td><td>&quot;RG&quot;</td><td>5</td><td>true</td><td>10</td><td>0.54</td></tr><tr><td>&quot;BLB&quot;</td><td>&quot;PremierDraft&quot;</td><td>&quot;deaa4cdcd3e84d8e8b5a0ea34a0f9d…</td><td>2024-07-30 22:30:39</td><td>2024-07-30 23:13:12</td><td>0</td><td>2</td><td>1</td><td>&quot;gold&quot;</td><td>&quot;None&quot;</td><td>&quot;BG&quot;</td><td>&quot;WR&quot;</td><td>true</td><td>0</td><td>0</td><td>&quot;WG&quot;</td><td>10</td><td>true</td><td>10</td><td>0.54</td></tr></tbody></table></div>"
      ],
      "text/plain": [
       "shape: (2, 20)\n",
       "┌───────────┬────────────┬────────────┬────────────┬───┬───────────┬──────┬────────────┬───────────┐\n",
       "│ expansion ┆ event_type ┆ draft_id   ┆ draft_time ┆ … ┆ num_turns ┆ won  ┆ user_n_gam ┆ user_game │\n",
       "│ ---       ┆ ---        ┆ ---        ┆ ---        ┆   ┆ ---       ┆ ---  ┆ es_bucket  ┆ _win_rate │\n",
       "│ str       ┆ str        ┆ str        ┆ datetime[μ ┆   ┆ i64       ┆ bool ┆ ---        ┆ _bucket   │\n",
       "│           ┆            ┆            ┆ s]         ┆   ┆           ┆      ┆ i64        ┆ ---       │\n",
       "│           ┆            ┆            ┆            ┆   ┆           ┆      ┆            ┆ f64       │\n",
       "╞═══════════╪════════════╪════════════╪════════════╪═══╪═══════════╪══════╪════════════╪═══════════╡\n",
       "│ BLB       ┆ PremierDra ┆ deaa4cdcd3 ┆ 2024-07-30 ┆ … ┆ 5         ┆ true ┆ 10         ┆ 0.54      │\n",
       "│           ┆ ft         ┆ e84d8e8b5a ┆ 22:30:39   ┆   ┆           ┆      ┆            ┆           │\n",
       "│           ┆            ┆ 0ea34a0f9d ┆            ┆   ┆           ┆      ┆            ┆           │\n",
       "│           ┆            ┆ …          ┆            ┆   ┆           ┆      ┆            ┆           │\n",
       "│ BLB       ┆ PremierDra ┆ deaa4cdcd3 ┆ 2024-07-30 ┆ … ┆ 10        ┆ true ┆ 10         ┆ 0.54      │\n",
       "│           ┆ ft         ┆ e84d8e8b5a ┆ 22:30:39   ┆   ┆           ┆      ┆            ┆           │\n",
       "│           ┆            ┆ 0ea34a0f9d ┆            ┆   ┆           ┆      ┆            ┆           │\n",
       "│           ┆            ┆ …          ┆            ┆   ┆           ┆      ┆            ┆           │\n",
       "└───────────┴────────────┴────────────┴────────────┴───┴───────────┴──────┴────────────┴───────────┘"
      ]
     },
     "execution_count": 10,
     "metadata": {},
     "output_type": "execute_result"
    }
   ],
   "source": [
    "df_games = df_lazy.select(index_cols)\n",
    "df_games.collect().write_parquet(game_file)\n",
    "\n",
    "df_games.head(2).collect()"
   ]
  },
  {
   "cell_type": "markdown",
   "metadata": {},
   "source": [
    "# Draft Table\n",
    "\n",
    "A table of the aggregated draft data, excluding card data."
   ]
  },
  {
   "cell_type": "code",
   "execution_count": 11,
   "metadata": {},
   "outputs": [
    {
     "data": {
      "text/html": [
       "<div><style>\n",
       ".dataframe > thead > tr,\n",
       ".dataframe > tbody > tr {\n",
       "  text-align: right;\n",
       "  white-space: pre-wrap;\n",
       "}\n",
       "</style>\n",
       "<small>shape: (5, 19)</small><table border=\"1\" class=\"dataframe\"><thead><tr><th>draft_id</th><th>n_builds</th><th>n_matches</th><th>n_games</th><th>n_wins</th><th>win_rate</th><th>rank</th><th>opp_rank</th><th>main_colors</th><th>opp_colors</th><th>splash_colors</th><th>n_starts</th><th>n_muls</th><th>n_opp_muls</th><th>mean_turns</th><th>draft_time</th><th>first_game_time</th><th>last_game_time</th><th>n_losses</th></tr><tr><td>str</td><td>i64</td><td>i64</td><td>u32</td><td>u32</td><td>f64</td><td>str</td><td>str</td><td>str</td><td>str</td><td>str</td><td>u32</td><td>i64</td><td>i64</td><td>f64</td><td>datetime[μs]</td><td>datetime[μs]</td><td>datetime[μs]</td><td>u32</td></tr></thead><tbody><tr><td>&quot;25f0adf414204fd69cc93a361eca42…</td><td>2</td><td>4</td><td>4</td><td>1</td><td>0.25</td><td>&quot;gold&quot;</td><td>&quot;None&quot;</td><td>&quot;BR&quot;</td><td>&quot;WB&quot;</td><td>&quot;UG&quot;</td><td>3</td><td>0</td><td>1</td><td>10.75</td><td>2024-08-05 17:25:06</td><td>2024-08-05 17:52:05</td><td>2024-08-05 18:36:03</td><td>3</td></tr><tr><td>&quot;8a90660af4104999bc39382bbc6e3a…</td><td>0</td><td>9</td><td>9</td><td>6</td><td>0.666667</td><td>&quot;mythic&quot;</td><td>&quot;None&quot;</td><td>&quot;BG&quot;</td><td>&quot;BG&quot;</td><td>null</td><td>4</td><td>2</td><td>0</td><td>9.222222</td><td>2024-08-14 20:59:54</td><td>2024-08-14 21:30:38</td><td>2024-08-14 22:55:21</td><td>3</td></tr><tr><td>&quot;1bbbf35893c14dc7bdc1feb1f2c330…</td><td>0</td><td>5</td><td>5</td><td>2</td><td>0.4</td><td>&quot;platinum&quot;</td><td>&quot;None&quot;</td><td>&quot;WR&quot;</td><td>&quot;UB&quot;</td><td>&quot;G&quot;</td><td>5</td><td>1</td><td>1</td><td>10.4</td><td>2024-08-14 02:43:40</td><td>2024-08-14 03:02:41</td><td>2024-08-14 03:45:41</td><td>3</td></tr><tr><td>&quot;43d91ca15020407db217609ad000d7…</td><td>0</td><td>6</td><td>6</td><td>3</td><td>0.5</td><td>&quot;diamond&quot;</td><td>&quot;None&quot;</td><td>&quot;RG&quot;</td><td>&quot;WU&quot;</td><td>null</td><td>5</td><td>2</td><td>0</td><td>9.166667</td><td>2024-08-07 11:38:29</td><td>2024-08-07 12:07:52</td><td>2024-08-07 13:02:34</td><td>3</td></tr><tr><td>&quot;0e838dcb611e45aa8cb08ed5595223…</td><td>0</td><td>5</td><td>5</td><td>4</td><td>0.8</td><td>&quot;platinum&quot;</td><td>&quot;None&quot;</td><td>&quot;BG&quot;</td><td>&quot;UR&quot;</td><td>null</td><td>2</td><td>0</td><td>0</td><td>9.2</td><td>2024-08-04 20:09:27</td><td>2024-08-04 20:39:22</td><td>2024-08-04 21:13:01</td><td>1</td></tr></tbody></table></div>"
      ],
      "text/plain": [
       "shape: (5, 19)\n",
       "┌────────────┬──────────┬───────────┬─────────┬───┬────────────┬────────────┬───────────┬──────────┐\n",
       "│ draft_id   ┆ n_builds ┆ n_matches ┆ n_games ┆ … ┆ draft_time ┆ first_game ┆ last_game ┆ n_losses │\n",
       "│ ---        ┆ ---      ┆ ---       ┆ ---     ┆   ┆ ---        ┆ _time      ┆ _time     ┆ ---      │\n",
       "│ str        ┆ i64      ┆ i64       ┆ u32     ┆   ┆ datetime[μ ┆ ---        ┆ ---       ┆ u32      │\n",
       "│            ┆          ┆           ┆         ┆   ┆ s]         ┆ datetime[μ ┆ datetime[ ┆          │\n",
       "│            ┆          ┆           ┆         ┆   ┆            ┆ s]         ┆ μs]       ┆          │\n",
       "╞════════════╪══════════╪═══════════╪═════════╪═══╪════════════╪════════════╪═══════════╪══════════╡\n",
       "│ 25f0adf414 ┆ 2        ┆ 4         ┆ 4       ┆ … ┆ 2024-08-05 ┆ 2024-08-05 ┆ 2024-08-0 ┆ 3        │\n",
       "│ 204fd69cc9 ┆          ┆           ┆         ┆   ┆ 17:25:06   ┆ 17:52:05   ┆ 5         ┆          │\n",
       "│ 3a361eca42 ┆          ┆           ┆         ┆   ┆            ┆            ┆ 18:36:03  ┆          │\n",
       "│ …          ┆          ┆           ┆         ┆   ┆            ┆            ┆           ┆          │\n",
       "│ 8a90660af4 ┆ 0        ┆ 9         ┆ 9       ┆ … ┆ 2024-08-14 ┆ 2024-08-14 ┆ 2024-08-1 ┆ 3        │\n",
       "│ 104999bc39 ┆          ┆           ┆         ┆   ┆ 20:59:54   ┆ 21:30:38   ┆ 4         ┆          │\n",
       "│ 382bbc6e3a ┆          ┆           ┆         ┆   ┆            ┆            ┆ 22:55:21  ┆          │\n",
       "│ …          ┆          ┆           ┆         ┆   ┆            ┆            ┆           ┆          │\n",
       "│ 1bbbf35893 ┆ 0        ┆ 5         ┆ 5       ┆ … ┆ 2024-08-14 ┆ 2024-08-14 ┆ 2024-08-1 ┆ 3        │\n",
       "│ c14dc7bdc1 ┆          ┆           ┆         ┆   ┆ 02:43:40   ┆ 03:02:41   ┆ 4         ┆          │\n",
       "│ feb1f2c330 ┆          ┆           ┆         ┆   ┆            ┆            ┆ 03:45:41  ┆          │\n",
       "│ …          ┆          ┆           ┆         ┆   ┆            ┆            ┆           ┆          │\n",
       "│ 43d91ca150 ┆ 0        ┆ 6         ┆ 6       ┆ … ┆ 2024-08-07 ┆ 2024-08-07 ┆ 2024-08-0 ┆ 3        │\n",
       "│ 20407db217 ┆          ┆           ┆         ┆   ┆ 11:38:29   ┆ 12:07:52   ┆ 7         ┆          │\n",
       "│ 609ad000d7 ┆          ┆           ┆         ┆   ┆            ┆            ┆ 13:02:34  ┆          │\n",
       "│ …          ┆          ┆           ┆         ┆   ┆            ┆            ┆           ┆          │\n",
       "│ 0e838dcb61 ┆ 0        ┆ 5         ┆ 5       ┆ … ┆ 2024-08-04 ┆ 2024-08-04 ┆ 2024-08-0 ┆ 1        │\n",
       "│ 1e45aa8cb0 ┆          ┆           ┆         ┆   ┆ 20:09:27   ┆ 20:39:22   ┆ 4         ┆          │\n",
       "│ 8ed5595223 ┆          ┆           ┆         ┆   ┆            ┆            ┆ 21:13:01  ┆          │\n",
       "│ …          ┆          ┆           ┆         ┆   ┆            ┆            ┆           ┆          │\n",
       "└────────────┴──────────┴───────────┴─────────┴───┴────────────┴────────────┴───────────┴──────────┘"
      ]
     },
     "execution_count": 11,
     "metadata": {},
     "output_type": "execute_result"
    }
   ],
   "source": [
    "df_draft = (\n",
    "    df_games.group_by(\"draft_id\")\n",
    "    .agg(\n",
    "        pl.col(\"build_index\").max().alias(\"n_builds\"),\n",
    "        pl.col(\"match_number\").max().alias(\"n_matches\"),\n",
    "        pl.col(\"game_number\").count().alias(\"n_games\"),\n",
    "        pl.col(\"won\").sum().alias(\"n_wins\"),\n",
    "        pl.col(\"won\").mean().alias(\"win_rate\"),\n",
    "        pl.col(\"rank\").last(),\n",
    "        pl.col(\"opp_rank\").last(),\n",
    "        pl.col(\"main_colors\").last(),\n",
    "        pl.col(\"opp_colors\").last(),\n",
    "        pl.col(\"splash_colors\").last(),\n",
    "        pl.col(\"on_play\").sum().alias(\"n_starts\"),\n",
    "        pl.col(\"num_mulligans\").sum().alias(\"n_muls\"),\n",
    "        pl.col(\"opp_num_mulligans\").sum().alias(\"n_opp_muls\"),\n",
    "        pl.col(\"num_turns\").mean().alias(\"mean_turns\"),\n",
    "        pl.col(\"draft_time\").mean().alias(\"draft_time\"),\n",
    "        pl.col(\"game_time\").first().alias(\"first_game_time\"),\n",
    "        pl.col(\"game_time\").last().alias(\"last_game_time\"),\n",
    "    )\n",
    "    .with_columns(\n",
    "        (pl.col(\"n_games\") - pl.col(\"n_wins\")).alias(\"n_losses\"),\n",
    "    )\n",
    ")\n",
    "\n",
    "df_draft.collect().write_parquet(draft_file)\n",
    "\n",
    "df_draft.head().collect()"
   ]
  },
  {
   "cell_type": "markdown",
   "metadata": {},
   "source": [
    "# Card Data"
   ]
  },
  {
   "cell_type": "code",
   "execution_count": 12,
   "metadata": {},
   "outputs": [
    {
     "data": {
      "text/html": [
       "<div><style>\n",
       ".dataframe > thead > tr,\n",
       ".dataframe > tbody > tr {\n",
       "  text-align: right;\n",
       "  white-space: pre-wrap;\n",
       "}\n",
       "</style>\n",
       "<small>shape: (5, 1_384)</small><table border=\"1\" class=\"dataframe\"><thead><tr><th>draft_id</th><th>match_number</th><th>game_number</th><th>build_index</th><th>opening_hand_Forest</th><th>drawn_Forest</th><th>tutored_Forest</th><th>deck_Forest</th><th>sideboard_Forest</th><th>opening_hand_Island</th><th>drawn_Island</th><th>tutored_Island</th><th>deck_Island</th><th>sideboard_Island</th><th>opening_hand_Mountain</th><th>drawn_Mountain</th><th>tutored_Mountain</th><th>deck_Mountain</th><th>sideboard_Mountain</th><th>opening_hand_Plains</th><th>drawn_Plains</th><th>tutored_Plains</th><th>deck_Plains</th><th>sideboard_Plains</th><th>opening_hand_Swamp</th><th>drawn_Swamp</th><th>tutored_Swamp</th><th>deck_Swamp</th><th>sideboard_Swamp</th><th>opening_hand_Agate Assault</th><th>drawn_Agate Assault</th><th>tutored_Agate Assault</th><th>deck_Agate Assault</th><th>sideboard_Agate Assault</th><th>opening_hand_Agate-Blade Assassin</th><th>drawn_Agate-Blade Assassin</th><th>tutored_Agate-Blade Assassin</th><th>&hellip;</th><th>deck_Whiskerquill Scribe</th><th>sideboard_Whiskerquill Scribe</th><th>opening_hand_Whiskervale Forerunner</th><th>drawn_Whiskervale Forerunner</th><th>tutored_Whiskervale Forerunner</th><th>deck_Whiskervale Forerunner</th><th>sideboard_Whiskervale Forerunner</th><th>opening_hand_Wick&#x27;s Patrol</th><th>drawn_Wick&#x27;s Patrol</th><th>tutored_Wick&#x27;s Patrol</th><th>deck_Wick&#x27;s Patrol</th><th>sideboard_Wick&#x27;s Patrol</th><th>opening_hand_Wick, the Whorled Mind</th><th>drawn_Wick, the Whorled Mind</th><th>tutored_Wick, the Whorled Mind</th><th>deck_Wick, the Whorled Mind</th><th>sideboard_Wick, the Whorled Mind</th><th>opening_hand_Wildfire Howl</th><th>drawn_Wildfire Howl</th><th>tutored_Wildfire Howl</th><th>deck_Wildfire Howl</th><th>sideboard_Wildfire Howl</th><th>opening_hand_Wishing Well</th><th>drawn_Wishing Well</th><th>tutored_Wishing Well</th><th>deck_Wishing Well</th><th>sideboard_Wishing Well</th><th>opening_hand_Ygra, Eater of All</th><th>drawn_Ygra, Eater of All</th><th>tutored_Ygra, Eater of All</th><th>deck_Ygra, Eater of All</th><th>sideboard_Ygra, Eater of All</th><th>opening_hand_Zoraline, Cosmos Caller</th><th>drawn_Zoraline, Cosmos Caller</th><th>tutored_Zoraline, Cosmos Caller</th><th>deck_Zoraline, Cosmos Caller</th><th>sideboard_Zoraline, Cosmos Caller</th></tr><tr><td>str</td><td>i64</td><td>i64</td><td>i64</td><td>i64</td><td>i64</td><td>i64</td><td>i64</td><td>i64</td><td>i64</td><td>i64</td><td>i64</td><td>i64</td><td>i64</td><td>i64</td><td>i64</td><td>i64</td><td>i64</td><td>i64</td><td>i64</td><td>i64</td><td>i64</td><td>i64</td><td>i64</td><td>i64</td><td>i64</td><td>i64</td><td>i64</td><td>i64</td><td>i64</td><td>i64</td><td>i64</td><td>i64</td><td>i64</td><td>i64</td><td>i64</td><td>i64</td><td>&hellip;</td><td>i64</td><td>i64</td><td>i64</td><td>i64</td><td>i64</td><td>i64</td><td>i64</td><td>i64</td><td>i64</td><td>i64</td><td>i64</td><td>i64</td><td>i64</td><td>i64</td><td>i64</td><td>i64</td><td>i64</td><td>i64</td><td>i64</td><td>i64</td><td>i64</td><td>i64</td><td>i64</td><td>i64</td><td>i64</td><td>i64</td><td>i64</td><td>i64</td><td>i64</td><td>i64</td><td>i64</td><td>i64</td><td>i64</td><td>i64</td><td>i64</td><td>i64</td><td>i64</td></tr></thead><tbody><tr><td>&quot;deaa4cdcd3e84d8e8b5a0ea34a0f9d…</td><td>1</td><td>1</td><td>0</td><td>2</td><td>1</td><td>0</td><td>9</td><td>0</td><td>0</td><td>0</td><td>0</td><td>0</td><td>0</td><td>0</td><td>0</td><td>0</td><td>0</td><td>0</td><td>0</td><td>0</td><td>0</td><td>0</td><td>0</td><td>1</td><td>1</td><td>0</td><td>8</td><td>0</td><td>0</td><td>0</td><td>0</td><td>0</td><td>0</td><td>0</td><td>0</td><td>0</td><td>&hellip;</td><td>0</td><td>1</td><td>0</td><td>0</td><td>0</td><td>0</td><td>0</td><td>0</td><td>0</td><td>0</td><td>0</td><td>0</td><td>0</td><td>0</td><td>0</td><td>0</td><td>0</td><td>0</td><td>0</td><td>0</td><td>0</td><td>0</td><td>0</td><td>0</td><td>0</td><td>0</td><td>0</td><td>0</td><td>0</td><td>0</td><td>1</td><td>0</td><td>0</td><td>0</td><td>0</td><td>0</td><td>0</td></tr><tr><td>&quot;deaa4cdcd3e84d8e8b5a0ea34a0f9d…</td><td>2</td><td>1</td><td>0</td><td>3</td><td>1</td><td>0</td><td>9</td><td>0</td><td>0</td><td>0</td><td>0</td><td>0</td><td>0</td><td>0</td><td>0</td><td>0</td><td>0</td><td>0</td><td>0</td><td>0</td><td>0</td><td>0</td><td>0</td><td>1</td><td>1</td><td>0</td><td>8</td><td>0</td><td>0</td><td>0</td><td>0</td><td>0</td><td>0</td><td>0</td><td>0</td><td>0</td><td>&hellip;</td><td>0</td><td>1</td><td>0</td><td>0</td><td>0</td><td>0</td><td>0</td><td>0</td><td>0</td><td>0</td><td>0</td><td>0</td><td>0</td><td>0</td><td>0</td><td>0</td><td>0</td><td>0</td><td>0</td><td>0</td><td>0</td><td>0</td><td>0</td><td>0</td><td>0</td><td>0</td><td>0</td><td>0</td><td>1</td><td>0</td><td>1</td><td>0</td><td>0</td><td>0</td><td>0</td><td>0</td><td>0</td></tr><tr><td>&quot;deaa4cdcd3e84d8e8b5a0ea34a0f9d…</td><td>3</td><td>1</td><td>0</td><td>2</td><td>3</td><td>0</td><td>9</td><td>0</td><td>0</td><td>0</td><td>0</td><td>0</td><td>0</td><td>0</td><td>0</td><td>0</td><td>0</td><td>0</td><td>0</td><td>0</td><td>0</td><td>0</td><td>0</td><td>0</td><td>1</td><td>0</td><td>8</td><td>0</td><td>0</td><td>0</td><td>0</td><td>0</td><td>0</td><td>0</td><td>0</td><td>0</td><td>&hellip;</td><td>0</td><td>1</td><td>0</td><td>0</td><td>0</td><td>0</td><td>0</td><td>0</td><td>0</td><td>0</td><td>0</td><td>0</td><td>0</td><td>0</td><td>0</td><td>0</td><td>0</td><td>0</td><td>0</td><td>0</td><td>0</td><td>0</td><td>0</td><td>0</td><td>0</td><td>0</td><td>0</td><td>0</td><td>1</td><td>0</td><td>1</td><td>0</td><td>0</td><td>0</td><td>0</td><td>0</td><td>0</td></tr><tr><td>&quot;deaa4cdcd3e84d8e8b5a0ea34a0f9d…</td><td>4</td><td>1</td><td>0</td><td>1</td><td>3</td><td>0</td><td>9</td><td>0</td><td>0</td><td>0</td><td>0</td><td>0</td><td>0</td><td>0</td><td>0</td><td>0</td><td>0</td><td>0</td><td>0</td><td>0</td><td>0</td><td>0</td><td>0</td><td>2</td><td>2</td><td>0</td><td>8</td><td>0</td><td>0</td><td>0</td><td>0</td><td>0</td><td>0</td><td>0</td><td>0</td><td>0</td><td>&hellip;</td><td>0</td><td>1</td><td>0</td><td>0</td><td>0</td><td>0</td><td>0</td><td>0</td><td>0</td><td>0</td><td>0</td><td>0</td><td>0</td><td>0</td><td>0</td><td>0</td><td>0</td><td>0</td><td>0</td><td>0</td><td>0</td><td>0</td><td>0</td><td>0</td><td>0</td><td>0</td><td>0</td><td>1</td><td>0</td><td>0</td><td>1</td><td>0</td><td>0</td><td>0</td><td>0</td><td>0</td><td>0</td></tr><tr><td>&quot;deaa4cdcd3e84d8e8b5a0ea34a0f9d…</td><td>5</td><td>1</td><td>0</td><td>3</td><td>2</td><td>0</td><td>9</td><td>0</td><td>0</td><td>0</td><td>0</td><td>0</td><td>0</td><td>0</td><td>0</td><td>0</td><td>0</td><td>0</td><td>0</td><td>0</td><td>0</td><td>0</td><td>0</td><td>0</td><td>2</td><td>0</td><td>8</td><td>0</td><td>0</td><td>0</td><td>0</td><td>0</td><td>0</td><td>0</td><td>0</td><td>0</td><td>&hellip;</td><td>0</td><td>1</td><td>0</td><td>0</td><td>0</td><td>0</td><td>0</td><td>0</td><td>0</td><td>0</td><td>0</td><td>0</td><td>0</td><td>0</td><td>0</td><td>0</td><td>0</td><td>0</td><td>0</td><td>0</td><td>0</td><td>0</td><td>0</td><td>0</td><td>0</td><td>0</td><td>0</td><td>0</td><td>0</td><td>0</td><td>1</td><td>0</td><td>0</td><td>0</td><td>0</td><td>0</td><td>0</td></tr></tbody></table></div>"
      ],
      "text/plain": [
       "shape: (5, 1_384)\n",
       "┌───────────┬───────────┬───────────┬───────────┬───┬───────────┬───────────┬───────────┬──────────┐\n",
       "│ draft_id  ┆ match_num ┆ game_numb ┆ build_ind ┆ … ┆ drawn_Zor ┆ tutored_Z ┆ deck_Zora ┆ sideboar │\n",
       "│ ---       ┆ ber       ┆ er        ┆ ex        ┆   ┆ aline,    ┆ oraline,  ┆ line,     ┆ d_Zorali │\n",
       "│ str       ┆ ---       ┆ ---       ┆ ---       ┆   ┆ Cosmos    ┆ Cosmos    ┆ Cosmos    ┆ ne,      │\n",
       "│           ┆ i64       ┆ i64       ┆ i64       ┆   ┆ Caller    ┆ Calle…    ┆ Caller    ┆ Cosmos   │\n",
       "│           ┆           ┆           ┆           ┆   ┆ ---       ┆ ---       ┆ ---       ┆ Cal…     │\n",
       "│           ┆           ┆           ┆           ┆   ┆ i64       ┆ i64       ┆ i64       ┆ ---      │\n",
       "│           ┆           ┆           ┆           ┆   ┆           ┆           ┆           ┆ i64      │\n",
       "╞═══════════╪═══════════╪═══════════╪═══════════╪═══╪═══════════╪═══════════╪═══════════╪══════════╡\n",
       "│ deaa4cdcd ┆ 1         ┆ 1         ┆ 0         ┆ … ┆ 0         ┆ 0         ┆ 0         ┆ 0        │\n",
       "│ 3e84d8e8b ┆           ┆           ┆           ┆   ┆           ┆           ┆           ┆          │\n",
       "│ 5a0ea34a0 ┆           ┆           ┆           ┆   ┆           ┆           ┆           ┆          │\n",
       "│ f9d…      ┆           ┆           ┆           ┆   ┆           ┆           ┆           ┆          │\n",
       "│ deaa4cdcd ┆ 2         ┆ 1         ┆ 0         ┆ … ┆ 0         ┆ 0         ┆ 0         ┆ 0        │\n",
       "│ 3e84d8e8b ┆           ┆           ┆           ┆   ┆           ┆           ┆           ┆          │\n",
       "│ 5a0ea34a0 ┆           ┆           ┆           ┆   ┆           ┆           ┆           ┆          │\n",
       "│ f9d…      ┆           ┆           ┆           ┆   ┆           ┆           ┆           ┆          │\n",
       "│ deaa4cdcd ┆ 3         ┆ 1         ┆ 0         ┆ … ┆ 0         ┆ 0         ┆ 0         ┆ 0        │\n",
       "│ 3e84d8e8b ┆           ┆           ┆           ┆   ┆           ┆           ┆           ┆          │\n",
       "│ 5a0ea34a0 ┆           ┆           ┆           ┆   ┆           ┆           ┆           ┆          │\n",
       "│ f9d…      ┆           ┆           ┆           ┆   ┆           ┆           ┆           ┆          │\n",
       "│ deaa4cdcd ┆ 4         ┆ 1         ┆ 0         ┆ … ┆ 0         ┆ 0         ┆ 0         ┆ 0        │\n",
       "│ 3e84d8e8b ┆           ┆           ┆           ┆   ┆           ┆           ┆           ┆          │\n",
       "│ 5a0ea34a0 ┆           ┆           ┆           ┆   ┆           ┆           ┆           ┆          │\n",
       "│ f9d…      ┆           ┆           ┆           ┆   ┆           ┆           ┆           ┆          │\n",
       "│ deaa4cdcd ┆ 5         ┆ 1         ┆ 0         ┆ … ┆ 0         ┆ 0         ┆ 0         ┆ 0        │\n",
       "│ 3e84d8e8b ┆           ┆           ┆           ┆   ┆           ┆           ┆           ┆          │\n",
       "│ 5a0ea34a0 ┆           ┆           ┆           ┆   ┆           ┆           ┆           ┆          │\n",
       "│ f9d…      ┆           ┆           ┆           ┆   ┆           ┆           ┆           ┆          │\n",
       "└───────────┴───────────┴───────────┴───────────┴───┴───────────┴───────────┴───────────┴──────────┘"
      ]
     },
     "execution_count": 12,
     "metadata": {},
     "output_type": "execute_result"
    }
   ],
   "source": [
    "id_cols = [\"draft_id\", \"match_number\", \"game_number\", \"build_index\"]\n",
    "df_card = df_lazy.select(*id_cols, *land_card_cols, *non_land_card_cols)\n",
    "\n",
    "df_card.collect().write_parquet(card_file)\n",
    "\n",
    "df_card.head().collect()"
   ]
  },
  {
   "cell_type": "markdown",
   "metadata": {},
   "source": [
    "# Summary Table"
   ]
  },
  {
   "cell_type": "code",
   "execution_count": 13,
   "metadata": {},
   "outputs": [
    {
     "data": {
      "text/html": [
       "<div><style>\n",
       ".dataframe > thead > tr,\n",
       ".dataframe > tbody > tr {\n",
       "  text-align: right;\n",
       "  white-space: pre-wrap;\n",
       "}\n",
       "</style>\n",
       "<small>shape: (1, 20)</small><table border=\"1\" class=\"dataframe\"><thead><tr><th>first_game</th><th>last_game</th><th>max_games</th><th>win_rate</th><th>start_rate</th><th>n_games</th><th>n_mul</th><th>n_opp_mul</th><th>mean_turns</th><th>max_turns</th><th>min_turns</th><th>n_drafts</th><th>n_matches</th><th>mean_matches</th><th>n_games_per_draft</th><th>n_cards</th><th>max_card</th><th>mean_land</th><th>max_land</th><th>min_land</th></tr><tr><td>datetime[μs]</td><td>datetime[μs]</td><td>i64</td><td>f64</td><td>f64</td><td>u32</td><td>i64</td><td>i64</td><td>f64</td><td>i64</td><td>i64</td><td>u32</td><td>i64</td><td>f64</td><td>f64</td><td>i32</td><td>i64</td><td>f64</td><td>i32</td><td>i32</td></tr></thead><tbody><tr><td>2024-07-30 15:41:04</td><td>2024-08-18 23:59:52</td><td>2</td><td>0.547108</td><td>0.500285</td><td>679966</td><td>92172</td><td>96719</td><td>8.88899</td><td>33</td><td>1</td><td>116804</td><td>680693</td><td>5.827651</td><td>5.821427</td><td>276</td><td>7</td><td>22.164273</td><td>37</td><td>11</td></tr></tbody></table></div>"
      ],
      "text/plain": [
       "shape: (1, 20)\n",
       "┌─────────────┬────────────┬───────────┬──────────┬───┬──────────┬───────────┬──────────┬──────────┐\n",
       "│ first_game  ┆ last_game  ┆ max_games ┆ win_rate ┆ … ┆ max_card ┆ mean_land ┆ max_land ┆ min_land │\n",
       "│ ---         ┆ ---        ┆ ---       ┆ ---      ┆   ┆ ---      ┆ ---       ┆ ---      ┆ ---      │\n",
       "│ datetime[μs ┆ datetime[μ ┆ i64       ┆ f64      ┆   ┆ i64      ┆ f64       ┆ i32      ┆ i32      │\n",
       "│ ]           ┆ s]         ┆           ┆          ┆   ┆          ┆           ┆          ┆          │\n",
       "╞═════════════╪════════════╪═══════════╪══════════╪═══╪══════════╪═══════════╪══════════╪══════════╡\n",
       "│ 2024-07-30  ┆ 2024-08-18 ┆ 2         ┆ 0.547108 ┆ … ┆ 7        ┆ 22.164273 ┆ 37       ┆ 11       │\n",
       "│ 15:41:04    ┆ 23:59:52   ┆           ┆          ┆   ┆          ┆           ┆          ┆          │\n",
       "└─────────────┴────────────┴───────────┴──────────┴───┴──────────┴───────────┴──────────┴──────────┘"
      ]
     },
     "execution_count": 13,
     "metadata": {},
     "output_type": "execute_result"
    }
   ],
   "source": [
    "df_select = df_lazy.select(\n",
    "    pl.min(\"game_time\").alias(\"first_game\"),\n",
    "    pl.max(\"game_time\").alias(\"last_game\"),\n",
    "    pl.max(\"game_number\").alias(\"max_games\"),\n",
    "    pl.mean(\"won\").alias(\"win_rate\"),\n",
    "    pl.mean(\"on_play\").alias(\"start_rate\"),\n",
    "    pl.count(\"draft_id\").alias(\"n_games\"),\n",
    "    pl.sum(\"num_mulligans\").alias(\"n_mul\"),\n",
    "    pl.sum(\"opp_num_mulligans\").alias(\"n_opp_mul\"),\n",
    "    pl.mean(\"num_turns\").alias(\"mean_turns\"),\n",
    "    pl.sum(\"num_turns\").alias(\"total_turns\"),\n",
    "    pl.max(\"num_turns\").alias(\"max_turns\"),\n",
    "    pl.min(\"num_turns\").alias(\"min_turns\"),\n",
    ")\n",
    "\n",
    "df_draft_ct = df_draft.select(\n",
    "    pl.count(\"draft_id\").alias(\"n_drafts\"),\n",
    "    pl.sum(\"n_matches\").alias(\"n_matches\"),\n",
    "    pl.mean(\"n_matches\").alias(\"mean_matches\"),\n",
    ")\n",
    "\n",
    "df_max_card = df_lazy.select(non_land_card_cols).max().collect()\n",
    "df_sum_land = df_lazy.select(land_card_cols).collect().sum_horizontal()\n",
    "\n",
    "df_summary = pl.concat([df_select, df_draft_ct], how=\"horizontal\")\n",
    "\n",
    "df_summary = df_summary.with_columns(\n",
    "    (pl.col(\"n_games\") / pl.col(\"n_drafts\")).alias(\"n_games_per_draft\"),\n",
    "    pl.lit(len(card_names)).alias(\"n_cards\"),\n",
    "    df_max_card.max_horizontal().alias(\"max_card\"),\n",
    "    pl.lit(df_sum_land.mean()).alias(\"mean_land\"),\n",
    "    pl.lit(df_sum_land.max()).alias(\"max_land\"),\n",
    "    pl.lit(df_sum_land.min()).alias(\"min_land\"),\n",
    ")\n",
    "\n",
    "df_summary = df_summary.collect()\n",
    "df_summary.write_parquet(summary_file)\n",
    "\n",
    "df_summary"
   ]
  },
  {
   "cell_type": "code",
   "execution_count": null,
   "metadata": {},
   "outputs": [],
   "source": []
  }
 ],
 "metadata": {
  "kernelspec": {
   "display_name": "dl+bayes-env",
   "language": "python",
   "name": "python3"
  },
  "language_info": {
   "codemirror_mode": {
    "name": "ipython",
    "version": 3
   },
   "file_extension": ".py",
   "mimetype": "text/x-python",
   "name": "python",
   "nbconvert_exporter": "python",
   "pygments_lexer": "ipython3",
   "version": "3.10.9"
  }
 },
 "nbformat": 4,
 "nbformat_minor": 2
}
