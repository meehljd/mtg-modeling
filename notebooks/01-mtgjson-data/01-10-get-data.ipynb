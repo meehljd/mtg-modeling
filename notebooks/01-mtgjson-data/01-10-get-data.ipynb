{
 "cells": [
  {
   "cell_type": "markdown",
   "metadata": {},
   "source": [
    "# Summary\n",
    "\n",
    "The code to acquire and pre-process the card data to use for future analysis."
   ]
  },
  {
   "cell_type": "markdown",
   "metadata": {},
   "source": [
    "# Grab MTGJSON Card Data\n",
    "\n",
    "Here I will download and clean the data for MTG cards.\n",
    "\n",
    "First we will download the data from [MTGJSON](https://mtgjson.com/downloads/all-files/).  The `AllPrintings` card data comes in various formats, such as json, sql, csv, and parquet.\n",
    "\n",
    "I will use the [parquet format](https://parquet.apache.org/), since that is the most performant format for data analysis.  It has high compression, fast load times, and can query directly on disk.  This minimizes both disk space and memory usage.\n",
    "\n",
    "Data URLs:\n",
    "- __Linux__: https://mtgjson.com/api/v5/AllPrintingsParquetFiles.tar.gz\n",
    "- __Windows__: https://mtgjson.com/api/v5/AllPrintingsParquetFiles.zip\n",
    "\n",
    "The following code downloads and decompresses the data."
   ]
  },
  {
   "cell_type": "code",
   "execution_count": 19,
   "metadata": {},
   "outputs": [],
   "source": [
    "# Setup Notebook\n",
    "import os\n",
    "if os.path.basename(os.getcwd()) != 'mtg-modeling':\n",
    "    get_ipython().run_line_magic(\"run\", '-i \"../../scripts/notebook_header.py\"') # type: ignore"
   ]
  },
  {
   "cell_type": "code",
   "execution_count": 20,
   "metadata": {},
   "outputs": [],
   "source": [
    "from src.data.mtgjson_fetcher import MtgJsonFetcher\n"
   ]
  },
  {
   "cell_type": "code",
   "execution_count": 21,
   "metadata": {},
   "outputs": [
    {
     "name": "stdout",
     "output_type": "stream",
     "text": [
      "Downloading AllPrintingsParquetFiles Data\n",
      "Starting datetime: 2024-08-24 20:29:54.591346\n"
     ]
    },
    {
     "name": "stderr",
     "output_type": "stream",
     "text": [
      "--2024-08-24 20:29:54--  https://mtgjson.com/api/v5/AllPrintingsParquetFiles.tar.gz\n",
      "Resolving mtgjson.com (mtgjson.com)... 104.21.64.186, 172.67.154.80\n",
      "Connecting to mtgjson.com (mtgjson.com)|104.21.64.186|:443... connected.\n",
      "HTTP request sent, awaiting response... 200 OK\n",
      "Length: 120607387 (115M) [application/octet-stream]\n",
      "Saving to: ‘data/raw/mtgjson/AllPrintingsParquetFiles.tar.gz’\n",
      "\n",
      "     0K ........ ........ ........ ........ 27% 2.92M 28s\n",
      " 32768K ........ ........ ........ ........ 55% 2.80M 18s\n",
      " 65536K ........ ........ ........ ........ 83% 2.97M 7s\n",
      " 98304K ........ ........ ...              100% 2.95M=40s\n",
      "\n",
      "2024-08-24 20:30:34 (2.90 MB/s) - ‘data/raw/mtgjson/AllPrintingsParquetFiles.tar.gz’ saved [120607387/120607387]\n",
      "\n"
     ]
    },
    {
     "name": "stdout",
     "output_type": "stream",
     "text": [
      "1.1G\tdata/raw/mtgjson\n",
      "Downloaded AllPrintingsParquetFiles Data\n",
      "Final size: 0\n",
      "Final path: data/raw/mtgjson/AllPrintingsParquetFiles\n",
      "Finished datetime: 2024-08-24 20:30:35.446599\n"
     ]
    }
   ],
   "source": [
    "card_fetcher = MtgJsonFetcher(dataset='AllPrintingsParquetFiles', save_root='data/raw/mtgjson')\n",
    "card_fetcher.fetch()"
   ]
  },
  {
   "cell_type": "markdown",
   "metadata": {},
   "source": [
    "# Grab MTGJSON All Price Data\n",
    "\n",
    "Next we will download the data from [MTGJSON](https://mtgjson.com/downloads/all-files/).  The `AllPrices` card data only comes in json format.  We will have to convert this to parquet for ease of use in future analysis.  \n",
    "\n",
    "Note this data only covers the previous 90 days.\n",
    "\n",
    "Since the file is very large, I will use [polars](https://docs.pola.rs) instead of [pandas](https://pandas.pydata.org/docs/)\n",
    "\n",
    "Data URLs:\n",
    "- __Linux__: https://mtgjson.com/api/v5/AllPrices.json.gz\n",
    "- __Windows__: https://mtgjson.com/api/v5/AllPrices.json.zip\n",
    "\n",
    "The following code downloads and decompresses the data."
   ]
  },
  {
   "cell_type": "code",
   "execution_count": 22,
   "metadata": {},
   "outputs": [
    {
     "name": "stdout",
     "output_type": "stream",
     "text": [
      "Downloading AllPrices.json Data\n",
      "Starting datetime: 2024-08-24 20:30:35.455416\n"
     ]
    },
    {
     "name": "stderr",
     "output_type": "stream",
     "text": [
      "--2024-08-24 20:30:35--  https://mtgjson.com/api/v5/AllPrices.json.gz\n",
      "Resolving mtgjson.com (mtgjson.com)... 104.21.64.186, 172.67.154.80\n",
      "Connecting to mtgjson.com (mtgjson.com)|104.21.64.186|:443... connected.\n",
      "HTTP request sent, awaiting response... 200 OK\n",
      "Length: 106343489 (101M) [application/octet-stream]\n",
      "Saving to: ‘data/raw/mtgjson/AllPrices.json.gz’\n",
      "\n",
      "     0K ........ ........ ........ ........ 31% 3.00M 23s\n",
      " 32768K ........ ........ ........ ........ 63% 3.01M 12s\n",
      " 65536K ........ ........ ........ ........ 94% 2.96M 2s\n",
      " 98304K .....                              100% 3.17M=34s\n",
      "\n",
      "2024-08-24 20:31:09 (3.00 MB/s) - ‘data/raw/mtgjson/AllPrices.json.gz’ saved [106343489/106343489]\n",
      "\n"
     ]
    },
    {
     "name": "stdout",
     "output_type": "stream",
     "text": [
      "1.1G\tdata/raw/mtgjson\n",
      "Downloaded AllPrices.json Data\n",
      "Final size: 0\n",
      "Final path: data/raw/mtgjson/AllPrices\n",
      "Finished datetime: 2024-08-24 20:31:12.933750\n"
     ]
    }
   ],
   "source": [
    "price_fetcher = MtgJsonFetcher(dataset='AllPrices.json', save_root='data/raw/mtgjson')\n",
    "price_fetcher.fetch()"
   ]
  },
  {
   "cell_type": "code",
   "execution_count": null,
   "metadata": {},
   "outputs": [],
   "source": []
  }
 ],
 "metadata": {
  "kernelspec": {
   "display_name": "dl+bayes-env",
   "language": "python",
   "name": "python3"
  },
  "language_info": {
   "codemirror_mode": {
    "name": "ipython",
    "version": 3
   },
   "file_extension": ".py",
   "mimetype": "text/x-python",
   "name": "python",
   "nbconvert_exporter": "python",
   "pygments_lexer": "ipython3",
   "version": "3.12.3"
  }
 },
 "nbformat": 4,
 "nbformat_minor": 2
}
