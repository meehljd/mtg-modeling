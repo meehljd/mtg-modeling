{
 "cells": [
  {
   "cell_type": "markdown",
   "metadata": {},
   "source": [
    "# Project Table of Contents"
   ]
  },
  {
   "cell_type": "markdown",
   "metadata": {},
   "source": [
    "- __00 Introduction__: Project introduction and supporting information.\n",
    "    - 00 00 [Table of Contents](00-00-project-table-of-contents.ipynb)\n",
    "    - 00 10 [Introduction](00-10-introduction.ipynb): An introduction to the entire project.\n",
    "    - 00 20 [Causal DAGs](00-20-causal-dags.ipynb): Exploring the casual relationships involved in gameplay and card economics\n",
    "        - Card Impact in Draft Play\n",
    "        - Secondary Market Card Value\n",
    "    - 00 30 [Strategy Review](00-30-stategy-review.ipynb): A review of prevalent MTG gameplay strategies."
   ]
  },
  {
   "cell_type": "markdown",
   "metadata": {},
   "source": [
    "- __01 MTGJSON Data__: Card and set data.\n",
    "    - 01 00 [Card Data Introduction](../01-eda-mtgjson-data/01-00-mtgjson-data-intro.ipynb): An introduction to the [MTGJSON](https://mtgjson.com/) card data, including reviewing the data files and column features.\n",
    "    - 01 10 [Get Card Data](../01-eda-mtgjson-data/01-10-get-card-data.ipynb): The code to acquire and pre-process the data to use for future analysis.\n",
    "    - 01 20 [Card Data Wrangle](../01-eda-mtgjson-data/01-20-card-data-wrangle.ipynb): The code to wrangle the data.  Deal with NAs, join data frames, etc.\n",
    "    - 01 30 [Card Features EDA](../01-eda-mtgjson-data/01-30-card-features-eda.ipynb): Exploratory data analysis of basic card features (e.g. power and toughness)"
   ]
  },
  {
   "cell_type": "markdown",
   "metadata": {
    "vscode": {
     "languageId": "plaintext"
    }
   },
   "source": [
    "- __02 Draft Data__: Draft gameplay data.\n",
    "    - 01 00 [Draft Data Introduction](../02-draft-data/02-00-draft-data-intro.ipynb): An introduction to the [17lands](https://www.17lands.com/) draft gameplay data, including reviewing the data files and column features.\n",
    "    - 01 10 [Get Draft Data](../02-draft-data/02-10-get-draft-data.ipynb): The code to acquire and pre-process the data to use for future analysis.\n",
    "    - 01 20 [Draft Data Wrangle](../02-draft-data/02-20-draft-data-wrangle.ipynb): The code to wrangle the data.  Deal with NAs, join data frames, etc.\n",
    "    - 01 30 [Draft EDA](../02-draft-data/02-30-draft-eda.ipynb): Exploratory data analysis of draft data (e.g. win rates)"
   ]
  },
  {
   "cell_type": "markdown",
   "metadata": {},
   "source": [
    "- __03 Network Data__\n",
    "    - ..."
   ]
  }
 ],
 "metadata": {
  "language_info": {
   "name": "python"
  }
 },
 "nbformat": 4,
 "nbformat_minor": 2
}
