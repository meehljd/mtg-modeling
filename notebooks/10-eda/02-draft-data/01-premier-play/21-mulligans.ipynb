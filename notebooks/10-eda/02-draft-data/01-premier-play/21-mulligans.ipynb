{
 "cells": [
  {
   "cell_type": "raw",
   "metadata": {
    "vscode": {
     "languageId": "raw"
    }
   },
   "source": [
    "---\n",
    "draft: false\n",
    "title: \"Bloomburrow (BLB) Arena Draft Analysis\"\n",
    "author: \"Josh Meehl\"\n",
    "date: 2024-09-03\n",
    "description: \"Draft set analysis for Bloomburrow\"\n",
    "categories: [\"EDA\", \"Draft\", \"BLB\", \"Arena\"]\n",
    "---"
   ]
  },
  {
   "cell_type": "code",
   "execution_count": null,
   "metadata": {},
   "outputs": [],
   "source": [
    "# | output: false\n",
    "# Setup Notebook\n",
    "\n",
    "path = \"../../../../scripts/notebook_header.py\"\n",
    "import os\n",
    "\n",
    "\n",
    "if os.path.basename(os.getcwd()) != \"mtg-modeling\":\n",
    "    args = f\"--path {path}\"\n",
    "    get_ipython().run_line_magic(\"run\", f\"-i {path} {args}\")  # type: ignore"
   ]
  },
  {
   "cell_type": "code",
   "execution_count": null,
   "metadata": {},
   "outputs": [],
   "source": [
    "import polars as pl\n",
    "import matplotlib.pyplot as plt\n",
    "import seaborn as sns\n",
    "\n",
    "import src.plots.annotate as anno\n",
    "import src.plots.symbols as symbols"
   ]
  },
  {
   "cell_type": "code",
   "execution_count": null,
   "metadata": {},
   "outputs": [],
   "source": [
    "set_code = \"All_Sets\"\n",
    "set_codes_order = [\"MKM\", \"OTJ\", \"MH3\", \"BLB\"]\n",
    "\n",
    "paths = {\n",
    "    \"processed\": Path(\"data/processed/17lands/game_data/premier_draft\"),\n",
    "}\n",
    "summary_file = paths[\"processed\"] / f\"{set_code}_Game_PD_Summary.parquet\"\n",
    "game_file = paths[\"processed\"] / f\"{set_code}_Game_PD_Games.parquet\"\n",
    "draft_file = paths[\"processed\"] / f\"{set_code}_Game_PD_Drafts.parquet\"\n",
    "card_file = paths[\"processed\"] / f\"{set_code}_Game_PD_Cards.parquet\""
   ]
  },
  {
   "cell_type": "code",
   "execution_count": null,
   "metadata": {},
   "outputs": [],
   "source": [
    "df_draft = pl.scan_parquet(draft_file)"
   ]
  },
  {
   "cell_type": "markdown",
   "metadata": {},
   "source": [
    "Mulligans are a crucial strategy in MTG. If a player's starting hand is not ideal, they can draw a new one, each time with one fewer card. This process can be repeated as needed, creating a challenging trade-off between a poor hand and a smaller one.\n",
    "\n",
    "In @fig-mulligan-distro, we observe the distribution of mulligans by the number of re-draws. Most players do not take a mulligan; about 12% take one mulligan, and 2% take two. Very few players take three or more mulligans, with only two instances of a player taking five mulligans, resulting in a starting hand of just two cards.\n",
    "\n",
    "We also see that 17Lands players are slightly less likely to take mulligans compared to their opponents, likely due to a combination of superior deck construction and more informed mulligan decisions."
   ]
  },
  {
   "cell_type": "code",
   "execution_count": null,
   "metadata": {},
   "outputs": [],
   "source": [
    "df_games = pl.scan_parquet(game_file)\n",
    "\n",
    "sum_df = df_summary.collect().to_pandas()\n",
    "mean_mulligan_rate = (sum_df[\"n_mul\"] / sum_df[\"n_games\"]).values[0]\n",
    "\n",
    "df_mul = df_games.unpivot(\n",
    "    index=[\"num_mulligans\"],\n",
    "    on=[\"num_mulligans\", \"opp_num_mulligans\"],\n",
    "    variable_name=\"Player\",\n",
    "    value_name=\"mulligan_count\",\n",
    ")\n",
    "\n",
    "\n",
    "df_mul2 = df_mul.collect().to_pandas()"
   ]
  },
  {
   "cell_type": "code",
   "execution_count": null,
   "metadata": {},
   "outputs": [],
   "source": [
    "# | label: fig-mulligan-distro\n",
    "# | fig-cap: \"Distribution of Mulligans.\"\n",
    "\n",
    "\n",
    "g = sns.displot(\n",
    "    data=df_mul2,\n",
    "    y=\"mulligan_count\",\n",
    "    hue=\"Player\",\n",
    "    multiple=\"dodge\",\n",
    "    stat=\"proportion\",\n",
    "    common_norm=False,\n",
    "    discrete=True,\n",
    "    shrink=0.9,\n",
    "    element=\"bars\",\n",
    ")\n",
    "\n",
    "anno.set_labels_to_percent()\n",
    "anno.annotate_bars()\n",
    "anno.set_axis_labels_and_show(\n",
    "    xlabel=\"Number of Mulligans per Game\",\n",
    "    ylabel=\"Proportion of Games\",\n",
    "    reverse_y=True,\n",
    "    legend=g._legend,\n",
    "    legend_labels={\n",
    "        \"num_mulligans\": \"17Lands Player\",\n",
    "        \"opp_num_mulligans\": \"Opponent\",\n",
    "    },\n",
    ")"
   ]
  },
  {
   "cell_type": "markdown",
   "metadata": {},
   "source": [
    "A side note on probability distributions: the player mulligan distributions appear to resemble Poisson distributions, with the number of mulligans taken being a discrete event.\n",
    "\n",
    "Using the mean number of mulligans per game, 0.136, I performed random sampling from a Poisson distribution with $\\lambda=0.136$. The results, shown in @fig-mulligan-poisson, closely match the actual data, though the real data shows a slightly higher number of games with one mulligan and slightly fewer for other values.\n",
    "\n",
    "We can further investigate this pattern when we explore the card data to identify random draw events that correlate with mulligan decisions, such as the number of lands in the starting hand."
   ]
  },
  {
   "cell_type": "code",
   "execution_count": null,
   "metadata": {},
   "outputs": [],
   "source": [
    "n_games = df_games.collect().shape[0]\n",
    "\n",
    "df_games = df_games.with_columns(\n",
    "    pl.Series(np.random.poisson(lam=mean_mulligan_rate, size=n_games)).alias(\n",
    "        \"sampled_mul\"\n",
    "    )\n",
    ")\n",
    "\n",
    "df_mul_sample = df_games.unpivot(\n",
    "    index=[\"draft_id\"],\n",
    "    on=[\"num_mulligans\", \"sampled_mul\"],\n",
    "    variable_name=\"Distribution\",\n",
    "    value_name=\"mulligan_count\",\n",
    ")\n",
    "\n",
    "\n",
    "df_mul_sample = df_mul_sample.collect().to_pandas()"
   ]
  },
  {
   "cell_type": "code",
   "execution_count": null,
   "metadata": {},
   "outputs": [],
   "source": [
    "# | label: fig-mulligan-poisson\n",
    "# | fig-cap: \"Distribution of Player Mulligans vs Poisson Distribution.\"\n",
    "\n",
    "custom_palette = {\n",
    "    \"num_mulligans\": \"#1f77b4\",\n",
    "    \"sampled_mul\": \"#2ca02c\",\n",
    "}\n",
    "\n",
    "g = sns.displot(\n",
    "    data=df_mul_sample,\n",
    "    y=\"mulligan_count\",\n",
    "    hue=\"Distribution\",\n",
    "    multiple=\"dodge\",\n",
    "    stat=\"proportion\",\n",
    "    common_norm=False,\n",
    "    discrete=True,\n",
    "    shrink=0.8,\n",
    "    element=\"bars\",\n",
    "    palette=custom_palette,\n",
    ")\n",
    "\n",
    "plt.gca().set(xlim=(0, 1))\n",
    "anno.set_labels_to_percent()\n",
    "anno.annotate_bars()\n",
    "anno.set_axis_labels_and_show(\n",
    "    xlabel=\"Number of Mulligans per Game\",\n",
    "    ylabel=\"Proportion of Games\",\n",
    "    reverse_y=True,\n",
    "    legend=g._legend,\n",
    "    legend_labels={\n",
    "        \"num_mulligans\": \"Mulligan Count - Data\",\n",
    "        \"sampled_mul\": \"Mulligan Count - Poisson\",\n",
    "    },\n",
    ")"
   ]
  },
  {
   "cell_type": "markdown",
   "metadata": {},
   "source": [
    "We now examine the outcomes of games where mulligans occur. In @fig-player-vs-opponent-mulligan-wins, we see a clear near-linear relationship between the number of mulligans and win rates, with win rates decreasing by approximately 15% for each mulligan taken.\n",
    "\n",
    "When comparing 17Lands players to their opponents, the rate of win decay is consistent, maintaining an 8-9% gap in favor of 17Lands players at each mulligan level.\n",
    "\n",
    "This data does not reveal the causal relationship between mulligans and win rates. It’s unclear whether mulligans are inherently detrimental or simply indicative of bad starting hands that would have had an even lower probability of winning. This question could be further explored using card data to assess the quality of starting hands that led to mulligans.\n"
   ]
  },
  {
   "cell_type": "code",
   "execution_count": null,
   "metadata": {},
   "outputs": [],
   "source": [
    "df_mul_win = (\n",
    "    df_games.group_by([\"num_mulligans\"])\n",
    "    .agg(\n",
    "        pl.col(\"won\").count().alias(\"n_games\"),\n",
    "        pl.col(\"won\").sum().alias(\"n_wins\"),\n",
    "        pl.col(\"won\").mean().alias(\"win_rate\"),\n",
    "    )\n",
    "    .with_columns((pl.col(\"n_games\") / pl.col(\"n_games\").sum()).alias(\"pct_games\"))\n",
    "    .sort(by=\"num_mulligans\", descending=False)\n",
    "    .collect()\n",
    ").to_pandas()\n",
    "\n",
    "df_mul_win_opp = (\n",
    "    df_games.with_columns((1 - pl.col(\"won\")).alias(\"opp_won\"))\n",
    "    .group_by([\"opp_num_mulligans\"])\n",
    "    .agg(\n",
    "        pl.col(\"opp_won\").count().alias(\"n_games\"),\n",
    "        pl.col(\"opp_won\").sum().alias(\"n_wins\"),\n",
    "        pl.col(\"opp_won\").mean().alias(\"win_rate\"),\n",
    "    )\n",
    "    .with_columns((pl.col(\"n_games\") / pl.col(\"n_games\").sum()).alias(\"pct_games\"))\n",
    "    .sort(by=\"opp_num_mulligans\", descending=False)\n",
    "    .collect()\n",
    ").to_pandas()\n",
    "\n",
    "df_mul_win = df_mul_win.merge(\n",
    "    df_mul_win_opp,\n",
    "    left_on=\"num_mulligans\",\n",
    "    right_on=\"opp_num_mulligans\",\n",
    "    suffixes=(\"\", \"_opp\"),\n",
    ")\n",
    "\n",
    "df_mul_win_m = df_mul_win.melt(\n",
    "    id_vars=[\"num_mulligans\"],\n",
    "    value_vars=[\"win_rate\", \"win_rate_opp\"],\n",
    "    var_name=\"Player\",\n",
    "    value_name=\"Win Rate\",\n",
    ")\n",
    "\n",
    "df_mul_win_m[\"Player\"] = df_mul_win_m[\"Player\"].replace(\n",
    "    {\"win_rate\": \"Player Win Rate\", \"win_rate_opp\": \"Opponent Win Rate\"}\n",
    ")"
   ]
  },
  {
   "cell_type": "code",
   "execution_count": null,
   "metadata": {},
   "outputs": [],
   "source": [
    "# | label: fig-player-vs-opponent-mulligan-wins\n",
    "# | fig-cap: \"Win Rates for Players and Opponents by Mulligans.\"\n",
    "\n",
    "sns.scatterplot(data=df_mul_win_m, x=\"num_mulligans\", y=\"Win Rate\", hue=\"Player\")\n",
    "sns.lineplot(\n",
    "    data=df_mul_win_m,\n",
    "    x=\"num_mulligans\",\n",
    "    y=\"Win Rate\",\n",
    "    hue=\"Player\",\n",
    "    legend=False,\n",
    "    alpha=0.5,\n",
    ")\n",
    "\n",
    "plt.fill_between(\n",
    "    df_mul_win[\"num_mulligans\"],\n",
    "    df_mul_win[\"win_rate\"],\n",
    "    df_mul_win[\"win_rate_opp\"],\n",
    "    where=(df_mul_win[\"win_rate\"] > df_mul_win[\"win_rate_opp\"]),\n",
    "    interpolate=True,\n",
    "    color=\"green\",\n",
    "    alpha=0.3,\n",
    "    label=\"Win Rate > Opponent\",\n",
    ")\n",
    "\n",
    "for i, (x, y1, y2) in enumerate(\n",
    "    zip(df_mul_win[\"num_mulligans\"], df_mul_win[\"win_rate\"], df_mul_win[\"win_rate_opp\"])\n",
    "):\n",
    "    plt.text(\n",
    "        x,\n",
    "        (y1 + y2) / 2,\n",
    "        f\"{(y1 - y2):.2%}\",\n",
    "        ha=\"center\",\n",
    "        va=\"center\",\n",
    "        fontsize=8,\n",
    "        fontstyle=\"italic\",\n",
    "    )\n",
    "\n",
    "plt.ylim = (0, 0.6)\n",
    "anno.set_labels_to_percent(axis=\"y\")\n",
    "anno.set_labels_to_ints(axis=\"x\")\n",
    "anno.set_axis_labels_and_show(\n",
    "    xlabel=\"Number of Mulligans per Game\",\n",
    "    ylabel=\"Win Rate\",\n",
    "    legend=True,\n",
    ")"
   ]
  }
 ],
 "metadata": {
  "language_info": {
   "name": "python"
  }
 },
 "nbformat": 4,
 "nbformat_minor": 2
}
