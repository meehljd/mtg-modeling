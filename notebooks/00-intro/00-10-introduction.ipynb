{
 "cells": [
  {
   "cell_type": "markdown",
   "metadata": {},
   "source": [
    "# Introduction\n",
    "\n",
    "This project is my take on applying data science to Magic: The Gathering (MTG) collectable card game.  \n",
    "\n",
    "MTG can be fodder for may aspects data science.  Here is a sampler of concepts I would like to explore:\n",
    "- __Regression:__ Predict card's expected mana cost given its attributes and keywords.\n",
    "- __LLMs:__ Generate numeric representations from card descriptions with encoder LLMs.  Use representations for predictive tasks.\n",
    "- __Network Science:__ Bipartite graphs of deck-card relationships.  Identify communities in card one-mode projection.\n",
    "- __Graph Neural Networks:__ Predict deck win rate with given card compositions.\n",
    "- __Bayesian Inference:__ Posterior distribution of a booster pack's value given the pack composition and secondary market prices.\n",
    "- __Time-Series Analysis:__ Predict card price on secondary market $d$ days after set release.\n",
    "- __Hidden Markov Models:__ Estimation of board state.  For example, estimate the states from [Quadrant Theory](https://magic.wizards.com/en/news/feature/quadrant-theory-2014-08-20).  These states are 'opening', 'parity', 'winning', or 'losing' state.\n",
    "- __Reinforcement Learning:__ Maximize the outcome of combat stage, given the board state of potentially attacking and defending creatures.\n",
    "- __Optimization__: Optimize win rate of a deck, given constraints such as maximum market cost or number of mythic rares.\n"
   ]
  },
  {
   "cell_type": "markdown",
   "metadata": {},
   "source": [
    "---\n",
    "\n",
    "# Project Table of Contents\n",
    "\n",
    "- __Introduction__\n",
    "    - [Introduction](000-introduction.ipynb)\n",
    "    - [Causal DAGs](001-causal-dags.ipynb)\n",
    "        - Card Impact in Draft Play\n",
    "        - Secondary Market Card Value\n",
    "        \n",
    "- __Data Wrangling and Exploratory Data Analysis (EDA)__\n",
    "    - [Card Data Wrangling](../010-wrangle+eda/010-card-data-wrangle.ipynb)\n",
    "    - [Card EDA](../010-wrangle+eda/011-card-eda.ipynb)\n",
    "    - [Draft Data Wrangling](../010-wrangle+eda/012-draft-data-wrangle.ipynb)\n",
    "    - [Draft EDA](../010-wrangle+eda/013-draft-eda.ipynb)\n",
    "    - Join Data...\n",
    "    - Network Data...\n",
    "\n"
   ]
  },
  {
   "cell_type": "markdown",
   "metadata": {},
   "source": [
    "---\n",
    "\n",
    "# Python Environment Setup\n",
    "\n",
    "Refer to the [README.md](../README.md) for the environment setup."
   ]
  },
  {
   "cell_type": "markdown",
   "metadata": {},
   "source": [
    "---\n",
    "\n",
    "# Scope"
   ]
  },
  {
   "cell_type": "markdown",
   "metadata": {},
   "source": [
    "## Card Scope\n",
    "\n",
    "### OTJ Set Description\n",
    "\n",
    "To keep the problem space tractable, I'll limit the analysis to the [Outlaws of Thunder Junction](https://mtg.fandom.com/wiki/Outlaws_of_Thunder_Junction) (OTJ) set, which was released on April 19, 2024.  \n",
    "\n",
    "The set contains 276 regular cards comprised of:\n",
    "\n",
    "- 91 Commons\n",
    "- 100 Uncommons\n",
    "- 60 Rares\n",
    "- 20 Mythic rares \n",
    "- 5 Basic lands\n",
    "\n",
    "Additional \"booster fun\" cards include:\n",
    "- 13 Showcase \"Wanted Poster\" cards\n",
    "- 60 Extended Art cards\n",
    "- 13 Borderless cards\n",
    "- 6 Bundle Basics lands\n",
    "- 7 Promos\n",
    "\n",
    "For game play analysis, I'll focus on the 276 regular cards.  For market analysis, I'll include the booster fun cards, as the scarcity and desirability of these cards may affect the secondary market prices and will be interesting to explore."
   ]
  },
  {
   "cell_type": "markdown",
   "metadata": {},
   "source": [
    "### Card Data Sources\n",
    "\n",
    "I'll use the card data generously made available by the tireless folks at the open-source project [MTGJSON](https://mtgjson.com/).  MTGJSON provides a comprehensive database of MTG cards, including card attributes, card text, and card prices.  The data is available in JSON format, which I'll convert to a pandas DataFrame for analysis.\n",
    "\n",
    "An alternative excellent source of MTG data is [Scryfall](https://scryfall.com/docs/api).  \n",
    "\n",
    "A nice source of data for booster pack composition is [mtg.wtf](https://mtg.wtf/).  The source code provided by [taw](https://github.com/taw) on [github](https://github.com/taw/magic-search-engine?tab=readme-ov-file) contains estimated booster pack composition probabilities.  Note that booster pack composition is proprietary information of Wizards of the Coast, and the above probabilities are estimates."
   ]
  },
  {
   "cell_type": "markdown",
   "metadata": {},
   "source": [
    "### Card EDA\n",
    "\n",
    "Refer to the [UPDATE.ipynb](UPDATE.ipynb) for the exploratory data analysis of the card data.  "
   ]
  },
  {
   "cell_type": "markdown",
   "metadata": {},
   "source": [
    "\n",
    "## Play Format Scope\n",
    "\n",
    "### Limited Play\n",
    "For game play, I will look at limited formats, such as Draft and Sealed Deck.  Constructed formats, such as Standard, Modern, and Legacy, are out of scope for now.  This is due to the complexity of the metagame and the vast number of cards available for deck construction.  \n",
    "\n",
    "Draft play also allows us to study three types of player skill.  First, there is the skill of drafting the best cards from the draft pool based on one's currently drafted cards.  Second, there is the skill of deck construction from the drafted cards.  Third, there is the skill of playing the deck in a tournament setting. \n",
    "\n",
    "Sealed and constructed formats are also interesting, but exclude the drafting skill.  Constructed formats also require a deep understanding of the metagame, which is out of scope for now.\n"
   ]
  },
  {
   "cell_type": "markdown",
   "metadata": {},
   "source": [
    "### MTG Arena Draft\n",
    "\n",
    "I will specifically look at the Draft format on [MTG Arena](https://magic.wizards.com/en/mtgarena).  MTG Arena is an online platform for playing MTG.  The Draft format on MTG Arena is a popular way to play limited MTG.  In the Draft format, players open booster packs and pick one card from the pack.  The remaining cards are passed to the next player.  This process continues until all cards are picked.  Players then construct a deck from the picked cards and play a tournament with the constructed deck.\n",
    "\n",
    "MTG Arena offers several Draft formats.  I will focus on the [Premier Draft](https://magicarena.fandom.com/wiki/Premier_Draft) format, which is a best-of-one (Bo1) format.  In the Premier Draft format, players draft against other players in a pod of 8 players.  Players play a tournament with the drafted deck.  Players play until they reach 7 wins or 3 losses.  Players have a sideboard and are allowed to change the deck composition between games.\n",
    "\n",
    "Other formats include Quick Draft, which also Bo1, but the drafting process in against a pool of bots, and play is against players with independent draft pools.  Traditional Draft is a best-of-three (Bo3) format.  Sealed Deck is another limited format where players open 6 booster packs and construct a deck from the opened cards.  These are out of scope for now."
   ]
  },
  {
   "cell_type": "markdown",
   "metadata": {},
   "source": [
    "### Draft Play Data Sources\n",
    "\n",
    "For draft play, I will used data from [17lands](https://www.17lands.com/public_datasets).  They compile data from their user base to provide draft pick data.  The data includes the draft pick order, the cards picked, and the win rate of the deck."
   ]
  },
  {
   "cell_type": "markdown",
   "metadata": {},
   "source": [
    "### Draft EDA\n",
    "\n",
    "Refer to the [UPDATE.ipynb](UPDATE.ipynb) for the exploratory data analysis of the draft data."
   ]
  }
 ],
 "metadata": {
  "kernelspec": {
   "display_name": "dl+bayes-env",
   "language": "python",
   "name": "python3"
  },
  "language_info": {
   "codemirror_mode": {
    "name": "ipython",
    "version": 3
   },
   "file_extension": ".py",
   "mimetype": "text/x-python",
   "name": "python",
   "nbconvert_exporter": "python",
   "pygments_lexer": "ipython3",
   "version": "3.12.3"
  }
 },
 "nbformat": 4,
 "nbformat_minor": 2
}
