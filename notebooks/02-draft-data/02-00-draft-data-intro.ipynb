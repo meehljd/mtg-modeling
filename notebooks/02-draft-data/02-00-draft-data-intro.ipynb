{
 "cells": [
  {
   "cell_type": "raw",
   "metadata": {
    "vscode": {
     "languageId": "raw"
    }
   },
   "source": [
    "---\n",
    "draft: false\n",
    "title: \"17Lands Draft Data Analysis Overview\"\n",
    "author: \"Josh Meehl\"\n",
    "date: 2024-09-10\n",
    "description: \"Overview of the 17Lands Data Analyses\"\n",
    "categories: [\"EDA\", \"Draft\", \"Arena\"]\n",
    "---"
   ]
  },
  {
   "cell_type": "markdown",
   "metadata": {},
   "source": [
    "# Summary\n",
    "\n",
    "An introduction to the [17lands](https://www.17lands.com/) draft gameplay data, including reviewing the data files and column features.\n"
   ]
  },
  {
   "cell_type": "markdown",
   "metadata": {
    "vscode": {
     "languageId": "plaintext"
    }
   },
   "source": [
    "# Set Analysis\n",
    "\n",
    "| Set Name                    | Code | Arena Release Date | Deck Analysis                                                       | Card Analysis |\n",
    "| --------------------------- | ---- | ------------------ | ------------------------------------------------------------------- | ------------- |\n",
    "| Murders at Karlov Manor     | MKM  | 2024-02-09         | -                                                                   | -             |\n",
    "| Outlaws of Thunder Junction | OTJ  | 2024-04-16         | [OTJ Deck](02-31-draft-eda-OTJ-games.ipynb) | -             |\n",
    "| Modern Horizons 3           | MH3  | 2024-07-11         | -                                                                   | -             |\n",
    "| Bloomburrow                 | BLB  | 2024-07-30         | [BLB Deck](02-30-draft-eda-BLB-games.ipynb) | -             |\n",
    "| Duskmourn: House of Horror  | DSK  | 2024-09-24         | -                                                                   | -             |\n",
    "\n",
    " <!-- https://articles.starcitygames.com/magic-the-gathering/magic-the-gathering-full-set-release-schedule-for-2024/ -->\n",
    " <!-- https://www.ign.com/articles/magic-the-gathering-full-release-schedule-2024#2 -->\n"
   ]
  },
  {
   "cell_type": "markdown",
   "metadata": {},
   "source": [
    "# 17 Lands\n",
    "\n",
    "As outlined in the [00-10-introduction](../00-intro/00-10-introduction.ipynb) notebook, the game play data will focus on limited draft on the MTG Arena platform.\n",
    "\n",
    "The best source of draft data is the [17Lands](https://www.17lands.com/) website. 17lands is a website that provides draft and gameplay data for Arena. The data is collected from users who have installed the 17Lands tracker, which records draft picks and gameplay data. The data is then aggregated and made available for analysis.\n",
    "\n",
    "## Data Source\n",
    "\n",
    "17Lands offers [public datasets](https://www.17lands.com/public_datasets) for download. The data is available in CSV format. The newest sets are updated regularly for a few months after initial set release.\n",
    "\n",
    "## Data Files\n",
    "\n",
    "There are 3 files types available.\n",
    "\n",
    "- **DraftData:** Data related to the draft pool and picks.\n",
    "- **GameData:** Data related to game play and outcomes.\n",
    "- **ReplayData:** Detailed data related to player actions in game play.\n",
    "\n",
    "## Game Formats\n",
    "\n",
    "The game formats can be Draft or Sealed.\n",
    "\n",
    "- **Draft:** A set of 8 players open a shared pool of packs and select cards to build a deck.\n",
    "- **Sealed:** A player opens a set of packs and selects cards to build a deck.\n",
    "\n",
    "The tournament types can be Traditional or Premier.\n",
    "\n",
    "- **Traditional:** A best of 3 match with sideboarding.\n",
    "- **Premier:** A best of 1 match.\n",
    "\n",
    "## Terms\n",
    "\n",
    "The following terms are used in the data set:\n",
    "\n",
    "- **game:** a single game of MTG\n",
    "- **match:** a series of games between two players. Typically best of 1 or best of 3.\n",
    "- **draft:** an initial draft event, followed by a series of matches between a group of players.\n",
    "- **build:** a instance of a deck in a draft. Can be adjusted between games.\n"
   ]
  },
  {
   "cell_type": "markdown",
   "metadata": {},
   "source": []
  }
 ],
 "metadata": {
  "language_info": {
   "name": "python"
  }
 },
 "nbformat": 4,
 "nbformat_minor": 2
}
