{
 "cells": [
  {
   "cell_type": "markdown",
   "metadata": {},
   "source": [
    "# Summary\n",
    "\n",
    "The code to acquire and pre-process the all price data to use for future analysis."
   ]
  },
  {
   "cell_type": "code",
   "execution_count": 1,
   "metadata": {},
   "outputs": [
    {
     "name": "stdout",
     "output_type": "stream",
     "text": [
      "Changed working directory to: d:\\mtg-modeling\n"
     ]
    }
   ],
   "source": [
    "# Setup Notebook\n",
    "import os\n",
    "if os.path.basename(os.getcwd()) != \"mtg-modeling\":\n",
    "    get_ipython().run_line_magic(\"run\", '-i \"../../scripts/notebook_header.py\"')  # type: ignore"
   ]
  },
  {
   "cell_type": "code",
   "execution_count": 2,
   "metadata": {},
   "outputs": [],
   "source": [
    "import pandas as pd\n",
    "import polars as pl\n",
    "from src.data.mtgjson_wrangler import MtgPricesJsonWrangler"
   ]
  },
  {
   "cell_type": "code",
   "execution_count": 3,
   "metadata": {},
   "outputs": [],
   "source": [
    "PROCESS_DATA = True\n",
    "\n",
    "filename = \"flat_prices_2024-05-25_2024-08-24.parquet\"\n",
    "\n",
    "paths = {\n",
    "    \"raw_file\": Path(\"data/raw/mtgjson/AllPrices/AllPrices.json\"),\n",
    "    \"interim\": Path(\"data/interim/mtgjson/AllPrices\"),\n",
    "    \"interim_cards\": Path(\"data/interim/mtgjson/AllPrintings\"),\n",
    "    \"processed\": Path(\"data/processed/mtgjson/AllPrices\"),\n",
    "}"
   ]
  },
  {
   "cell_type": "code",
   "execution_count": 4,
   "metadata": {},
   "outputs": [
    {
     "name": "stdout",
     "output_type": "stream",
     "text": [
      "Reading JSON\n",
      "Writing data...\n",
      "Metadata written!\n",
      "Interim data written!\n",
      "Unstacking data...\n",
      "Data unstacked!\n",
      "Saving data...\n",
      "Data saved!\n",
      "Final data loaded!\n"
     ]
    },
    {
     "data": {
      "text/plain": [
       "(46959192, 8)"
      ]
     },
     "execution_count": 4,
     "metadata": {},
     "output_type": "execute_result"
    }
   ],
   "source": [
    "if PROCESS_DATA:\n",
    "    wrangler = MtgPricesJsonWrangler(paths)\n",
    "    wrangler.raw_json_to_parquet()\n",
    "    wrangler.unstack_data()\n",
    "else:\n",
    "    wrangler = MtgPricesJsonWrangler(paths, filename=filename)\n",
    "\n",
    "df = wrangler.load_data()\n",
    "df.shape"
   ]
  },
  {
   "cell_type": "code",
   "execution_count": 5,
   "metadata": {},
   "outputs": [
    {
     "data": {
      "text/plain": [
       "(96216, 7)"
      ]
     },
     "execution_count": 5,
     "metadata": {},
     "output_type": "execute_result"
    }
   ],
   "source": [
    "df_cards = (\n",
    "    pl.scan_parquet(paths[\"interim_cards\"] /  \"wide_cards.parquet\")\n",
    "    .select([\"uuid\", \"name\", \"setCode\", \"number\", \"rarity\", \"type\", \"colors\"])\n",
    "    .collect()\n",
    ")\n",
    "df_cards.shape"
   ]
  },
  {
   "cell_type": "code",
   "execution_count": 6,
   "metadata": {},
   "outputs": [
    {
     "name": "stdout",
     "output_type": "stream",
     "text": [
      "Shape: (46602076, 14)\n",
      "Mem Size in GB: 5.41\n"
     ]
    },
    {
     "data": {
      "text/html": [
       "<div><style>\n",
       ".dataframe > thead > tr,\n",
       ".dataframe > tbody > tr {\n",
       "  text-align: right;\n",
       "  white-space: pre-wrap;\n",
       "}\n",
       "</style>\n",
       "<small>shape: (1, 14)</small><table border=\"1\" class=\"dataframe\"><thead><tr><th>uuid</th><th>medium</th><th>providers</th><th>currency</th><th>list</th><th>finish</th><th>date</th><th>price</th><th>name</th><th>setCode</th><th>number</th><th>rarity</th><th>type</th><th>colors</th></tr><tr><td>str</td><td>str</td><td>str</td><td>str</td><td>str</td><td>str</td><td>date</td><td>f64</td><td>str</td><td>str</td><td>str</td><td>str</td><td>str</td><td>str</td></tr></thead><tbody><tr><td>&quot;00010d56-fe38-5e35-8aed-518019…</td><td>&quot;paper&quot;</td><td>&quot;cardkingdom&quot;</td><td>&quot;USD&quot;</td><td>&quot;buylist&quot;</td><td>&quot;foil&quot;</td><td>2024-05-23</td><td>5.0</td><td>&quot;Sphinx of the Final Word&quot;</td><td>&quot;POGW&quot;</td><td>&quot;63s&quot;</td><td>&quot;mythic&quot;</td><td>&quot;Creature — Sphinx&quot;</td><td>&quot;U&quot;</td></tr></tbody></table></div>"
      ],
      "text/plain": [
       "shape: (1, 14)\n",
       "┌────────────────────┬────────┬─────────────┬──────────┬───┬────────┬────────┬────────────┬────────┐\n",
       "│ uuid               ┆ medium ┆ providers   ┆ currency ┆ … ┆ number ┆ rarity ┆ type       ┆ colors │\n",
       "│ ---                ┆ ---    ┆ ---         ┆ ---      ┆   ┆ ---    ┆ ---    ┆ ---        ┆ ---    │\n",
       "│ str                ┆ str    ┆ str         ┆ str      ┆   ┆ str    ┆ str    ┆ str        ┆ str    │\n",
       "╞════════════════════╪════════╪═════════════╪══════════╪═══╪════════╪════════╪════════════╪════════╡\n",
       "│ 00010d56-fe38-5e35 ┆ paper  ┆ cardkingdom ┆ USD      ┆ … ┆ 63s    ┆ mythic ┆ Creature — ┆ U      │\n",
       "│ -8aed-518019…      ┆        ┆             ┆          ┆   ┆        ┆        ┆ Sphinx     ┆        │\n",
       "└────────────────────┴────────┴─────────────┴──────────┴───┴────────┴────────┴────────────┴────────┘"
      ]
     },
     "execution_count": 6,
     "metadata": {},
     "output_type": "execute_result"
    }
   ],
   "source": [
    "df_full = df.join(df_cards, on=\"uuid\", how=\"inner\")\n",
    "print(f\"Shape: {df_full.shape}\")\n",
    "print(f\"Mem Size in GB: {df_full.estimated_size() / (1024**3):.2f}\")\n",
    "df_full.head(1)"
   ]
  },
  {
   "cell_type": "code",
   "execution_count": 7,
   "metadata": {},
   "outputs": [],
   "source": [
    "min_date = df_full[\"date\"].min()\n",
    "max_date = df_full[\"date\"].max()\n",
    "df_full.write_parquet(paths[\"interim\"] / f\"wide_prices_{min_date}_{max_date}.parquet\")"
   ]
  },
  {
   "cell_type": "code",
   "execution_count": 8,
   "metadata": {},
   "outputs": [
    {
     "data": {
      "text/plain": [
       "(268816, 14)"
      ]
     },
     "execution_count": 8,
     "metadata": {},
     "output_type": "execute_result"
    }
   ],
   "source": [
    "df_otj = df_full.filter(\n",
    "    pl.col(\"setCode\") == \"OTJ\"\n",
    ")\n",
    "df_otj.write_parquet(paths[\"processed\"] / f\"prices_OTJ_{min_date}_{max_date}.parquet\")\n",
    "df_otj.shape"
   ]
  },
  {
   "cell_type": "code",
   "execution_count": null,
   "metadata": {},
   "outputs": [],
   "source": []
  }
 ],
 "metadata": {
  "kernelspec": {
   "display_name": "dl+bayes-env",
   "language": "python",
   "name": "python3"
  },
  "language_info": {
   "codemirror_mode": {
    "name": "ipython",
    "version": 3
   },
   "file_extension": ".py",
   "mimetype": "text/x-python",
   "name": "python",
   "nbconvert_exporter": "python",
   "pygments_lexer": "ipython3",
   "version": "3.10.9"
  }
 },
 "nbformat": 4,
 "nbformat_minor": 2
}
