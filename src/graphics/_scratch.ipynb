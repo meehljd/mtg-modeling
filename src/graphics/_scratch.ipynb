{
 "cells": [
  {
   "cell_type": "code",
   "execution_count": 23,
   "metadata": {},
   "outputs": [],
   "source": [
    "import matplotlib.pyplot as plt\n",
    "import numpy as np\n",
    "import yaml"
   ]
  },
  {
   "cell_type": "code",
   "execution_count": 44,
   "metadata": {},
   "outputs": [
    {
     "data": {
      "text/plain": [
       "{'colors': {'W': '#fffbd5',\n",
       "  'U': '#aae0fa',\n",
       "  'B': '#cbc2bf',\n",
       "  'R': '#f9aa8f',\n",
       "  'G': '#9bd3ae'},\n",
       " 'pairs': {'WU': ['W', 'U'],\n",
       "  'WB': ['W', 'B'],\n",
       "  'WR': ['W', 'R'],\n",
       "  'WG': ['W', 'G'],\n",
       "  'UB': ['U', 'B'],\n",
       "  'UR': ['U', 'R'],\n",
       "  'UG': ['U', 'G'],\n",
       "  'BR': ['B', 'R'],\n",
       "  'BG': ['B', 'G'],\n",
       "  'RG': ['R', 'G']}}"
      ]
     },
     "execution_count": 44,
     "metadata": {},
     "output_type": "execute_result"
    }
   ],
   "source": [
    "with open(\"../src/graphics/color_palette.yml\", \"r\") as file:\n",
    "    color_config = yaml.safe_load(file)\n",
    "color_config"
   ]
  },
  {
   "cell_type": "code",
   "execution_count": 56,
   "metadata": {},
   "outputs": [],
   "source": [
    "def draw_semi_circle(rotation_angle=45):\n",
    "    # Define the semicircle points\n",
    "    theta = np.linspace(0, np.pi, 100)\n",
    "    x = np.cos(theta)\n",
    "    y = np.sin(theta)\n",
    "\n",
    "    # Rotate the points by 45 degrees\n",
    "    t = np.deg2rad(rotation_angle)\n",
    "    x_rotated = x * np.cos(t) - y * np.sin(t)\n",
    "    y_rotated = x * np.sin(t) + y * np.cos(t)\n",
    "\n",
    "    # Center the semicircle in the 100x100 image with center at (50, 50)\n",
    "    x_centered = 50 + 40 * x_rotated\n",
    "    y_centered = 50 + 40 * y_rotated\n",
    "\n",
    "    # Add lines to form the complete shape\n",
    "    x_full = np.append(x_centered, [x_centered[0], x_centered[-1]])\n",
    "    y_full = np.append(y_centered, [y_centered[0], y_centered[-1]])\n",
    "    return x_full, y_full\n",
    "\n",
    "\n",
    "def plot_mana_half(first=True, char=\"W\", color=\"#aae0fa\", ax=None):\n",
    "    if first:\n",
    "        rotation_angle = 45\n",
    "        text_x = 34\n",
    "        text_y = 60\n",
    "    else:\n",
    "        rotation_angle = 45 + 180\n",
    "        text_x = 65\n",
    "        text_y = 33\n",
    "\n",
    "    x_full, y_full = draw_semi_circle(rotation_angle=rotation_angle)\n",
    "    ax.fill(x_full, y_full, color=color)\n",
    "    ax.text(\n",
    "        text_x,\n",
    "        text_y,\n",
    "        char,\n",
    "        fontsize=23,\n",
    "        color=\"#130c0e\",\n",
    "        ha=\"center\",\n",
    "        va=\"center\",\n",
    "        fontname=\"monospace\",\n",
    "        weight=\"bold\",\n",
    "    )"
   ]
  },
  {
   "cell_type": "code",
   "execution_count": 58,
   "metadata": {},
   "outputs": [],
   "source": [
    "c1 = \"W\"\n",
    "c2 = \"U\"\n",
    "\n",
    "color_palette = color_config[\"colors\"]\n",
    "\n",
    "for name, [c1, c2] in color_config[\"pairs\"].items():\n",
    "    fig, ax = plt.subplots(figsize=(1, 1), dpi=100)\n",
    "    plot_mana_half(first=True, char=c1, color=color_palette[c1], ax=ax)\n",
    "    plot_mana_half(first=False, char=c2, color=color_palette[c2], ax=ax)\n",
    "\n",
    "    ax.set_aspect(\"equal\")\n",
    "    plt.xlim(0, 100)\n",
    "    plt.ylim(0, 100)\n",
    "    plt.axis(\"off\")\n",
    "\n",
    "    plt.savefig(\n",
    "        f\"../images/mana_symbols/png/{name}.png\",\n",
    "        bbox_inches=\"tight\",\n",
    "        pad_inches=0,\n",
    "        transparent=True,\n",
    "    )\n",
    "    plt.close()"
   ]
  },
  {
   "cell_type": "code",
   "execution_count": null,
   "metadata": {},
   "outputs": [],
   "source": []
  }
 ],
 "metadata": {
  "kernelspec": {
   "display_name": "dl+bayes-env",
   "language": "python",
   "name": "python3"
  },
  "language_info": {
   "codemirror_mode": {
    "name": "ipython",
    "version": 3
   },
   "file_extension": ".py",
   "mimetype": "text/x-python",
   "name": "python",
   "nbconvert_exporter": "python",
   "pygments_lexer": "ipython3",
   "version": "3.12.3"
  }
 },
 "nbformat": 4,
 "nbformat_minor": 2
}
