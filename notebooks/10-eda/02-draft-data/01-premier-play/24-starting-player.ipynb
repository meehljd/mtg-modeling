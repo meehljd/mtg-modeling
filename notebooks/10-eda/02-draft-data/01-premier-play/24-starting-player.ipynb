{
 "cells": [
  {
   "cell_type": "raw",
   "metadata": {
    "vscode": {
     "languageId": "raw"
    }
   },
   "source": [
    "---\n",
    "draft: false\n",
    "title: \"Starting Player Draft Analysis\"\n",
    "author: \"Josh Meehl\"\n",
    "date: 2024-09-18\n",
    "description: \"An analysis of the starting player win rates.\"\n",
    "categories: [\"EDA\", \"Draft\", \"Arena\"]\n",
    "---"
   ]
  },
  {
   "cell_type": "code",
   "execution_count": 11,
   "metadata": {},
   "outputs": [],
   "source": [
    "# | output: false\n",
    "# Setup Notebook\n",
    "\n",
    "path = \"../../../../scripts/notebook_header.py\"\n",
    "import os\n",
    "\n",
    "\n",
    "if os.path.basename(os.getcwd()) != \"mtg-modeling\":\n",
    "    args = f\"--path {path}\"\n",
    "    get_ipython().run_line_magic(\"run\", f\"-i {path} {args}\")  # type: ignore"
   ]
  },
  {
   "cell_type": "code",
   "execution_count": 12,
   "metadata": {},
   "outputs": [],
   "source": [
    "import polars as pl\n",
    "import matplotlib.pyplot as plt\n",
    "import seaborn as sns\n",
    "\n",
    "import src.plots.annotate as anno\n",
    "import src.plots.symbols as symbols"
   ]
  },
  {
   "cell_type": "code",
   "execution_count": 13,
   "metadata": {},
   "outputs": [],
   "source": [
    "set_code = \"All_Sets\"\n",
    "set_codes_order = [\"MKM\", \"OTJ\", \"MH3\", \"BLB\"]\n",
    "\n",
    "paths = {\n",
    "    \"processed\": Path(\"data/processed/17lands/game_data/premier_draft\"),\n",
    "}\n",
    "summary_file = paths[\"processed\"] / f\"{set_code}_Game_PD_Summary.parquet\"\n",
    "game_file = paths[\"processed\"] / f\"{set_code}_Game_PD_Games.parquet\"\n",
    "draft_file = paths[\"processed\"] / f\"{set_code}_Game_PD_Drafts.parquet\"\n",
    "card_file = paths[\"processed\"] / f\"{set_code}_Game_PD_Cards.parquet\""
   ]
  },
  {
   "cell_type": "code",
   "execution_count": 14,
   "metadata": {},
   "outputs": [],
   "source": [
    "df_game = pl.scan_parquet(game_file)"
   ]
  },
  {
   "cell_type": "markdown",
   "metadata": {},
   "source": [
    "# Introduction\n",
    "\n",
    "This is a quick analysis to see the impact of being the first to play in a game has a distinct advantage.  In MTG, to balance the advantage of first to play, the first player forgoes drawing a card on their first turn.  This analysis will see if this effect is enough to balance out the advantage of going first.\n",
    "\n",
    "This is a part of the MTG Arena draft analysis.  See the [Draft Introduction](00-intro.ipynb) for more information.  "
   ]
  },
  {
   "cell_type": "markdown",
   "metadata": {},
   "source": [
    "# Starting Player\n",
    "\n",
    "To assess the impact of going first or second, I plotted the win rates for each scenario. As shown in @fig-starting-win-rate, the win rate is significantly higher for the player who starts, with nearly a 7% advantage.  \n",
    "\n",
    "This data is for 17Lands players, who have a high average win rate compared to the general MTG Arena population."
   ]
  },
  {
   "cell_type": "code",
   "execution_count": 15,
   "metadata": {},
   "outputs": [],
   "source": [
    "starting = (\n",
    "    df_game.group_by([\"on_play\", \"expansion\"])\n",
    "    .agg(\n",
    "        pl.col(\"won\").sum().alias(\"n_wins\"),\n",
    "        pl.col(\"won\").count().alias(\"n_games\"),\n",
    "    )\n",
    "    .with_columns(\n",
    "        (pl.col(\"n_wins\") / pl.col(\"n_games\")).alias(\"win_rate\"),\n",
    "        (pl.col(\"n_games\") / pl.col(\"n_games\").sum()).alias(\"pct_games\"),\n",
    "    )\n",
    "    .sort(by=[\"expansion\", \"on_play\"], descending=[False, True])\n",
    ")\n",
    "\n",
    "mean_win_rate = starting.group_by(\"expansion\").agg(\n",
    "    pl.col(\"win_rate\").mean().alias(\"mean_win_rate\")\n",
    ")\n",
    "\n",
    "starting = (\n",
    "    starting.join(mean_win_rate, on=\"expansion\")\n",
    "    .with_columns(\n",
    "        (pl.col(\"win_rate\") / pl.col(\"mean_win_rate\") - 1).alias(\"normalized_win_rate\")\n",
    "    )\n",
    "    .collect()\n",
    "    .to_pandas()\n",
    ")\n",
    "\n",
    "starting[\"Player\"] = starting[\"on_play\"].map({False: \"2nd Player\", True: \"1st Player\"})\n",
    "\n",
    "starting_only = starting[starting[\"on_play\"] == 1]\n",
    "starting_only = starting_only.merge(\n",
    "    starting[starting[\"on_play\"] == 0],\n",
    "    on=\"expansion\",\n",
    "    suffixes=(\"_player1\", \"_player2\"),\n",
    ")\n",
    "starting_only[\"win_rate_spread\"] = (\n",
    "    starting_only[\"win_rate_player1\"] - starting_only[\"win_rate_player2\"]\n",
    ")"
   ]
  },
  {
   "cell_type": "code",
   "execution_count": 16,
   "metadata": {},
   "outputs": [
    {
     "data": {
      "image/png": "[encoded data removed]",
      "text/plain": [
       "<Figure size 640x480 with 1 Axes>"
      ]
     },
     "metadata": {},
     "output_type": "display_data"
    }
   ],
   "source": [
    "# | label: fig-starting-win-rate\n",
    "# | fig-cap: \"The win rate of 1st versus 2nd player.\"\n",
    "\n",
    "\n",
    "g = sns.barplot(\n",
    "    data=starting,\n",
    "    x=\"win_rate\",\n",
    "    y=\"Player\",\n",
    "    order=[\"1st Player\", \"2nd Player\"],\n",
    "    orient=\"h\",\n",
    ")\n",
    "plt.gca().set(xlim=(0.40, 0.60))\n",
    "anno.set_labels_to_percent()\n",
    "anno.set_axis_labels_and_show(\n",
    "    xlabel=\"Win Rate\",\n",
    "    ylabel=\"\",\n",
    ")"
   ]
  },
  {
   "cell_type": "markdown",
   "metadata": {},
   "source": [
    "# Advantage per Set\n",
    "\n",
    "To see if the advantage of going first is consistent across all sets, I plotted the win rate for first player for each draft set.  As shown in @fig-starting-set-win-rate, the advantage of going first does vary between sets, but the first player has a distinct advantage in all sets.\n",
    "\n",
    "Note that 17Lands players have a high win rate "
   ]
  },
  {
   "cell_type": "code",
   "execution_count": 17,
   "metadata": {},
   "outputs": [
    {
     "data": {
      "image/png": "[encoded data removed]",
      "text/plain": [
       "<Figure size 640x480 with 1 Axes>"
      ]
     },
     "metadata": {},
     "output_type": "display_data"
    }
   ],
   "source": [
    "# | label: fig-starting-set-win-rate\n",
    "# | fig-cap: \"The win rate for the first player by set.\"\n",
    "\n",
    "\n",
    "g = sns.barplot(\n",
    "    data=starting_only,\n",
    "    x=\"win_rate_player1\",\n",
    "    y=\"expansion\",\n",
    "    order=set_codes_order,\n",
    "    hue=\"expansion\",\n",
    "    hue_order=set_codes_order,\n",
    "    orient=\"h\",\n",
    ")\n",
    "plt.gca().set(xlim=(0.40, 0.60))\n",
    "anno.set_labels_to_percent()\n",
    "anno.set_axis_labels_and_show(\n",
    "    xlabel=\"1st Player Win Rate\",\n",
    "    ylabel=\"Expansion Set\",\n",
    ")"
   ]
  },
  {
   "cell_type": "markdown",
   "metadata": {},
   "source": [
    "# Spread of Win Rates\n",
    "\n",
    "To account for the set differences in win rates for the 17Lands players, I plotted the spread of win rates for each set.  As shown in @fig-starting-set-win-rate-spread, the spread of win rates being 5.5% for OTJ and up to 7.5% for MH3.  \n",
    "\n",
    "One reason MH3 may be more sensitive to the starting player is that the set has a faster play rate, with almost 1 turn less per game compared to the other sets analyzed.  See the [Game Length](22-turns.ipynb) analysis for more information."
   ]
  },
  {
   "cell_type": "code",
   "execution_count": 18,
   "metadata": {},
   "outputs": [
    {
     "data": {
      "image/png": "[encoded data removed]",
      "text/plain": [
       "<Figure size 640x480 with 1 Axes>"
      ]
     },
     "metadata": {},
     "output_type": "display_data"
    }
   ],
   "source": [
    "# | label: fig-starting-win-rate-spread\n",
    "# | fig-cap: \"Difference in win rates between first player and second player.\"\n",
    "\n",
    "\n",
    "g = sns.barplot(\n",
    "    data=starting_only,\n",
    "    x=\"win_rate_spread\",\n",
    "    y=\"expansion\",\n",
    "    order=set_codes_order,\n",
    "    hue=\"expansion\",\n",
    "    hue_order=set_codes_order,\n",
    "    orient=\"h\",\n",
    ")\n",
    "# plt.gca().set(xlim=(0.90, 1.10))\n",
    "anno.set_labels_to_percent()\n",
    "anno.set_axis_labels_and_show(\n",
    "    xlabel=\"Win Rate Spread, (1st Player - 2nd Player)\",\n",
    "    ylabel=\"Expansion Set\",\n",
    ")"
   ]
  },
  {
   "cell_type": "code",
   "execution_count": 19,
   "metadata": {},
   "outputs": [],
   "source": [
    "# ADD Player Rank vs 1st Player Win Rate"
   ]
  },
  {
   "cell_type": "code",
   "execution_count": 20,
   "metadata": {},
   "outputs": [],
   "source": [
    "# ADD Game Length vs 1st Player Win Rate"
   ]
  },
  {
   "cell_type": "code",
   "execution_count": 21,
   "metadata": {},
   "outputs": [],
   "source": [
    "# ADD Temporal (Tempo) Analysis of Win Rate"
   ]
  },
  {
   "cell_type": "markdown",
   "metadata": {},
   "source": [
    "# Conclusion\n",
    "\n",
    "We have seen that the starting player has a distinct advantage in MTG Arena draft games.  This advantage is consistent across all sets analyzed, with the first player having a 5.5% to 7.5% advantage.  This disadvantage of not drawing a card on the first turn is not enough to balance out the advantage of going first.\n",
    "\n",
    "Aspects affecting this advantage could be the rate of play, with short games having a higher advantage for the starting player.  This could be due to the first player being able to get ahead in tempo and maintain that advantage throughout the game.\n",
    "\n",
    "Future analysis will look and player rank, game length, and tempo to see if these factors affect the advantage of going first."
   ]
  }
 ],
 "metadata": {
  "kernelspec": {
   "display_name": "Python 3",
   "language": "python",
   "name": "python3"
  },
  "language_info": {
   "codemirror_mode": {
    "name": "ipython",
    "version": 3
   },
   "file_extension": ".py",
   "mimetype": "text/x-python",
   "name": "python",
   "nbconvert_exporter": "python",
   "pygments_lexer": "ipython3",
   "version": "3.10.9"
  }
 },
 "nbformat": 4,
 "nbformat_minor": 2
}
