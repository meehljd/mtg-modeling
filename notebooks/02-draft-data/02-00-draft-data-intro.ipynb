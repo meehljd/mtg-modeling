{
 "cells": [
  {
   "cell_type": "markdown",
   "metadata": {},
   "source": [
    "# Summary\n",
    "\n",
    "An introduction to the [17lands](https://www.17lands.com/) draft gameplay data, including reviewing the data files and column features."
   ]
  },
  {
   "cell_type": "markdown",
   "metadata": {},
   "source": [
    "# 17 Lands\n",
    "\n",
    "As outlined in the [00-10-introduction](../00-intro/00-10-introduction.ipynb) notebook, the game play data will focus on limited draft on the MTG Arena platform.\n",
    "\n",
    "The best source of draft data is the [17Lands](https://www.17lands.com/) website. 17lands is a website that provides draft and gameplay data for Arena. The data is collected from users who have installed the 17Lands tracker, which records draft picks and gameplay data. The data is then aggregated and made available for analysis.\n",
    "\n",
    "## Data Source\n",
    "17Lands offers [public datasets](https://www.17lands.com/public_datasets) for download. The data is available in CSV format.  The newest sets are updated regularly for a few months after initial set release.\n",
    "\n",
    "## Data Files\n",
    "There are 3 files types available.  \n",
    "- __DraftData:__ Data related to the draft pool and picks.\n",
    "- __GameData:__ Data related to game play and outcomes.\n",
    "- __ReplayData:__ Detailed data related to player actions in game play.\n",
    "\n",
    "## Game Formats\n",
    "The game formats can be Draft or Sealed.\n",
    "- __Draft:__ A set of 8 players open a shared pool of packs and select cards to build a deck.\n",
    "- __Sealed:__ A player opens a set of packs and selects cards to build a deck.\n",
    "\n",
    "The tournament types can be Traditional or Premier.\n",
    "- __Traditional:__ A best of 3 match with sideboarding.\n",
    "- __Premier:__ A best of 1 match."
   ]
  }
 ],
 "metadata": {
  "language_info": {
   "name": "python"
  }
 },
 "nbformat": 4,
 "nbformat_minor": 2
}
