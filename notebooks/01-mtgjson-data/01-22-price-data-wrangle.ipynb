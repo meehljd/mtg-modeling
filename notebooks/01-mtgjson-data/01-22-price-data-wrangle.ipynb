{
 "cells": [
  {
   "cell_type": "markdown",
   "metadata": {},
   "source": [
    "# Summary\n",
    "\n",
    "The code to acquire and pre-process the all price data to use for future analysis."
   ]
  },
  {
   "cell_type": "code",
   "execution_count": 2,
   "metadata": {},
   "outputs": [
    {
     "name": "stdout",
     "output_type": "stream",
     "text": [
      "Changed working directory to: d:\\mtg-modeling\n"
     ]
    }
   ],
   "source": [
    "# Setup Notebook\n",
    "import os\n",
    "if os.path.basename(os.getcwd()) != 'mtg-modeling':\n",
    "    %run -i \"../../scripts/notebook_header.py\""
   ]
  },
  {
   "cell_type": "code",
   "execution_count": null,
   "metadata": {},
   "outputs": [
    {
     "ename": "ModuleNotFoundError",
     "evalue": "No module named 'polars'",
     "output_type": "error",
     "traceback": [
      "\u001b[1;31m---------------------------------------------------------------------------\u001b[0m\n",
      "\u001b[1;31mModuleNotFoundError\u001b[0m                       Traceback (most recent call last)\n",
      "Cell \u001b[1;32mIn[4], line 2\u001b[0m\n",
      "\u001b[0;32m      1\u001b[0m \u001b[38;5;28;01mimport\u001b[39;00m \u001b[38;5;21;01mpandas\u001b[39;00m \u001b[38;5;28;01mas\u001b[39;00m \u001b[38;5;21;01mpd\u001b[39;00m\n",
      "\u001b[1;32m----> 2\u001b[0m \u001b[38;5;28;01mimport\u001b[39;00m \u001b[38;5;21;01mpolars\u001b[39;00m \u001b[38;5;28;01mas\u001b[39;00m \u001b[38;5;21;01mpl\u001b[39;00m\n",
      "\u001b[0;32m      3\u001b[0m \u001b[38;5;28;01mfrom\u001b[39;00m \u001b[38;5;21;01msrc\u001b[39;00m\u001b[38;5;21;01m.\u001b[39;00m\u001b[38;5;21;01mdata\u001b[39;00m\u001b[38;5;21;01m.\u001b[39;00m\u001b[38;5;21;01mmtgjson_data\u001b[39;00m \u001b[38;5;28;01mimport\u001b[39;00m MtgPricesJsonWrangler\n",
      "\n",
      "\u001b[1;31mModuleNotFoundError\u001b[0m: No module named 'polars'"
     ]
    }
   ],
   "source": [
    "import pandas as pd\n",
    "import polars as pl\n",
    "from src.data.mtgjson_data import MtgPricesJsonWrangler"
   ]
  },
  {
   "cell_type": "code",
   "execution_count": null,
   "metadata": {},
   "outputs": [],
   "source": [
    "paths = {\n",
    "    'raw_filepath': \"data/raw/mtgjson/AllPricesJson/AllPrices.json\",\n",
    "    'interim_path': \"data/interim/mtgjson/prices\",\n",
    "    'processed_path': \"data/processed/mtgjson/prices\",\n",
    "}\n",
    "\n",
    "wrangler = MtgPricesJsonWrangler(paths)"
   ]
  },
  {
   "cell_type": "code",
   "execution_count": null,
   "metadata": {},
   "outputs": [
    {
     "name": "stdout",
     "output_type": "stream",
     "text": [
      "Reading JSON\n",
      "Writing metadata to processed directory\n",
      "Metadata written!\n",
      "Writing data to interim directory\n",
      "Data written!\n",
      "Data persisted\n"
     ]
    }
   ],
   "source": [
    "wrangler.raw_json_to_parquet()"
   ]
  },
  {
   "cell_type": "code",
   "execution_count": null,
   "metadata": {},
   "outputs": [
    {
     "data": {
      "text/html": [
       "<div>\n",
       "<style scoped>\n",
       "    .dataframe tbody tr th:only-of-type {\n",
       "        vertical-align: middle;\n",
       "    }\n",
       "\n",
       "    .dataframe tbody tr th {\n",
       "        vertical-align: top;\n",
       "    }\n",
       "\n",
       "    .dataframe thead th {\n",
       "        text-align: right;\n",
       "    }\n",
       "</style>\n",
       "<table border=\"1\" class=\"dataframe\">\n",
       "  <thead>\n",
       "    <tr style=\"text-align: right;\">\n",
       "      <th></th>\n",
       "      <th>uuid</th>\n",
       "      <th>data</th>\n",
       "    </tr>\n",
       "  </thead>\n",
       "  <tbody>\n",
       "    <tr>\n",
       "      <th>0</th>\n",
       "      <td>00010d56-fe38-5e35-8aed-518019aa36a5</td>\n",
       "      <td>{'paper': {'cardkingdom': {'buylist': {'foil':...</td>\n",
       "    </tr>\n",
       "    <tr>\n",
       "      <th>1</th>\n",
       "      <td>0001e0d0-2dcd-5640-aadc-a84765cf5fc9</td>\n",
       "      <td>{'paper': {'cardkingdom': {'buylist': {'normal...</td>\n",
       "    </tr>\n",
       "    <tr>\n",
       "      <th>2</th>\n",
       "      <td>0003caab-9ff5-5d1a-bc06-976dd0457f19</td>\n",
       "      <td>{'mtgo': {'cardhoarder': {'retail': {'foil': {...</td>\n",
       "    </tr>\n",
       "    <tr>\n",
       "      <th>3</th>\n",
       "      <td>0003d249-25d9-5223-af1e-1130f09622a7</td>\n",
       "      <td>{'mtgo': {'cardhoarder': {'retail': {'foil': {...</td>\n",
       "    </tr>\n",
       "    <tr>\n",
       "      <th>4</th>\n",
       "      <td>0004a4fb-92c6-59b2-bdbe-ceb584a9e401</td>\n",
       "      <td>{'mtgo': {'cardhoarder': {'retail': {'normal':...</td>\n",
       "    </tr>\n",
       "  </tbody>\n",
       "</table>\n",
       "</div>"
      ],
      "text/plain": [
       "                                   uuid  \\\n",
       "0  00010d56-fe38-5e35-8aed-518019aa36a5   \n",
       "1  0001e0d0-2dcd-5640-aadc-a84765cf5fc9   \n",
       "2  0003caab-9ff5-5d1a-bc06-976dd0457f19   \n",
       "3  0003d249-25d9-5223-af1e-1130f09622a7   \n",
       "4  0004a4fb-92c6-59b2-bdbe-ceb584a9e401   \n",
       "\n",
       "                                                data  \n",
       "0  {'paper': {'cardkingdom': {'buylist': {'foil':...  \n",
       "1  {'paper': {'cardkingdom': {'buylist': {'normal...  \n",
       "2  {'mtgo': {'cardhoarder': {'retail': {'foil': {...  \n",
       "3  {'mtgo': {'cardhoarder': {'retail': {'foil': {...  \n",
       "4  {'mtgo': {'cardhoarder': {'retail': {'normal':...  "
      ]
     },
     "metadata": {},
     "output_type": "display_data"
    }
   ],
   "source": [
    "wrangler.data = wrangler.data[:1000]\n",
    "wrangler.data.head()"
   ]
  },
  {
   "cell_type": "code",
   "execution_count": null,
   "metadata": {},
   "outputs": [
    {
     "name": "stdout",
     "output_type": "stream",
     "text": [
      "shape: (5, 2)\n",
      "┌─────────────────────────────────┬─────────────────────────────────┐\n",
      "│ uuid                            ┆ data                            │\n",
      "│ ---                             ┆ ---                             │\n",
      "│ str                             ┆ struct[2]                       │\n",
      "╞═════════════════════════════════╪═════════════════════════════════╡\n",
      "│ 00010d56-fe38-5e35-8aed-518019… ┆ {null,{{{null,{5.5,5.5,5.5,5.5… │\n",
      "│ 0001e0d0-2dcd-5640-aadc-a84765… ┆ {null,{{{null,null,{null,1.85,… │\n",
      "│ 0003caab-9ff5-5d1a-bc06-976dd0… ┆ {{{\"USD\",{{0.01,0.01,0.01,0.01… │\n",
      "│ 0003d249-25d9-5223-af1e-1130f0… ┆ {{{\"USD\",{{0.01,0.01,0.01,0.01… │\n",
      "│ 0004a4fb-92c6-59b2-bdbe-ceb584… ┆ {{{\"USD\",{null,{0.03,0.03,0.03… │\n",
      "└─────────────────────────────────┴─────────────────────────────────┘\n"
     ]
    }
   ],
   "source": [
    "data_filename = \"allCardPrices.parquet\"\n",
    "\n",
    "df = pl.read_parquet(paths[\"interim_path\"] / data_filename)\n",
    "df = df[:1000]\n",
    "print(df.head(5))"
   ]
  },
  {
   "cell_type": "code",
   "execution_count": null,
   "metadata": {},
   "outputs": [
    {
     "name": "stdout",
     "output_type": "stream",
     "text": [
      "shape: (5, 3)\n",
      "┌────────────────────────────────┬────────────────────────────────┬────────────────────────────────┐\n",
      "│ uuid                           ┆ mtgo                           ┆ paper                          │\n",
      "│ ---                            ┆ ---                            ┆ ---                            │\n",
      "│ str                            ┆ struct[1]                      ┆ struct[4]                      │\n",
      "╞════════════════════════════════╪════════════════════════════════╪════════════════════════════════╡\n",
      "│ 00010d56-fe38-5e35-8aed-518019 ┆ null                           ┆ {{{null,{5.5,5.5,5.5,5.5,5.5,5 │\n",
      "│ …                              ┆                                ┆ …                              │\n",
      "│ 0001e0d0-2dcd-5640-aadc-a84765 ┆ null                           ┆ {{{null,null,{null,1.85,1.1,1. │\n",
      "│ …                              ┆                                ┆ …                              │\n",
      "│ 0003caab-9ff5-5d1a-bc06-976dd0 ┆ {{\"USD\",{{0.01,0.01,0.01,0.01, ┆ {{{null,{0.2,0.2,0.2,0.2,0.15, │\n",
      "│ …                              ┆ …                              ┆ …                              │\n",
      "│ 0003d249-25d9-5223-af1e-1130f0 ┆ {{\"USD\",{{0.01,0.01,0.01,0.01, ┆ {{{null,{0.08,null,null,null,n │\n",
      "│ …                              ┆ …                              ┆ …                              │\n",
      "│ 0004a4fb-92c6-59b2-bdbe-ceb584 ┆ {{\"USD\",{null,{0.03,0.03,0.03, ┆ {{{null,{1.75,2.0,2.0,2.0,2.0, │\n",
      "│ …                              ┆ …                              ┆ …                              │\n",
      "└────────────────────────────────┴────────────────────────────────┴────────────────────────────────┘\n"
     ]
    }
   ],
   "source": [
    "print(df.unnest('data').head())"
   ]
  },
  {
   "cell_type": "code",
   "execution_count": null,
   "metadata": {},
   "outputs": [
    {
     "name": "stdout",
     "output_type": "stream",
     "text": [
      "shape: (5, 3)\n",
      "┌─────────────────────────────────┬──────────┬─────────────────────────────────┐\n",
      "│ uuid                            ┆ variable ┆ value                           │\n",
      "│ ---                             ┆ ---      ┆ ---                             │\n",
      "│ str                             ┆ str      ┆ struct[5]                       │\n",
      "╞═════════════════════════════════╪══════════╪═════════════════════════════════╡\n",
      "│ 0003caab-9ff5-5d1a-bc06-976dd0… ┆ mtgo     ┆ {null,null,null,null,{\"USD\",{{… │\n",
      "│ 0003d249-25d9-5223-af1e-1130f0… ┆ mtgo     ┆ {null,null,null,null,{\"USD\",{{… │\n",
      "│ 0004a4fb-92c6-59b2-bdbe-ceb584… ┆ mtgo     ┆ {null,null,null,null,{\"USD\",{n… │\n",
      "│ 0005d268-3fd0-5424-bc6b-573ecd… ┆ mtgo     ┆ {null,null,null,null,{\"USD\",{{… │\n",
      "│ 0005f481-f2d4-53fa-ba37-cfcf5a… ┆ mtgo     ┆ {null,null,null,null,{\"USD\",{{… │\n",
      "└─────────────────────────────────┴──────────┴─────────────────────────────────┘\n"
     ]
    }
   ],
   "source": [
    "df1 = (df\n",
    "    .unnest(\"data\")\n",
    "    .unpivot(index='uuid')\n",
    "    .drop_nulls('value')\n",
    "    )\n",
    "print(df1.head())"
   ]
  },
  {
   "cell_type": "code",
   "execution_count": null,
   "metadata": {},
   "outputs": [
    {
     "data": {
      "text/html": [
       "<div>\n",
       "<style scoped>\n",
       "    .dataframe tbody tr th:only-of-type {\n",
       "        vertical-align: middle;\n",
       "    }\n",
       "\n",
       "    .dataframe tbody tr th {\n",
       "        vertical-align: top;\n",
       "    }\n",
       "\n",
       "    .dataframe thead th {\n",
       "        text-align: right;\n",
       "    }\n",
       "</style>\n",
       "<table border=\"1\" class=\"dataframe\">\n",
       "  <thead>\n",
       "    <tr style=\"text-align: right;\">\n",
       "      <th></th>\n",
       "      <th>paper</th>\n",
       "      <th>mtgo</th>\n",
       "    </tr>\n",
       "  </thead>\n",
       "  <tbody>\n",
       "    <tr>\n",
       "      <th>0</th>\n",
       "      <td>{'cardkingdom': {'buylist': {'foil': {'2024-05...</td>\n",
       "      <td>NaN</td>\n",
       "    </tr>\n",
       "    <tr>\n",
       "      <th>1</th>\n",
       "      <td>{'cardkingdom': {'buylist': {'normal': {'2024-...</td>\n",
       "      <td>NaN</td>\n",
       "    </tr>\n",
       "    <tr>\n",
       "      <th>2</th>\n",
       "      <td>{'cardkingdom': {'buylist': {'foil': {'2024-05...</td>\n",
       "      <td>{'cardhoarder': {'retail': {'foil': {'2024-05-...</td>\n",
       "    </tr>\n",
       "    <tr>\n",
       "      <th>3</th>\n",
       "      <td>{'cardkingdom': {'buylist': {'foil': {'2024-05...</td>\n",
       "      <td>{'cardhoarder': {'retail': {'foil': {'2024-05-...</td>\n",
       "    </tr>\n",
       "    <tr>\n",
       "      <th>4</th>\n",
       "      <td>{'cardkingdom': {'buylist': {'foil': {'2024-05...</td>\n",
       "      <td>{'cardhoarder': {'retail': {'normal': {'2024-0...</td>\n",
       "    </tr>\n",
       "    <tr>\n",
       "      <th>...</th>\n",
       "      <td>...</td>\n",
       "      <td>...</td>\n",
       "    </tr>\n",
       "    <tr>\n",
       "      <th>995</th>\n",
       "      <td>{'cardkingdom': {'retail': {'foil': {'2024-05-...</td>\n",
       "      <td>{'cardhoarder': {'retail': {'foil': {'2024-05-...</td>\n",
       "    </tr>\n",
       "    <tr>\n",
       "      <th>996</th>\n",
       "      <td>{'cardkingdom': {'buylist': {'foil': {'2024-05...</td>\n",
       "      <td>{'cardhoarder': {'retail': {'foil': {'2024-05-...</td>\n",
       "    </tr>\n",
       "    <tr>\n",
       "      <th>997</th>\n",
       "      <td>{'cardkingdom': {'retail': {'normal': {'2024-0...</td>\n",
       "      <td>NaN</td>\n",
       "    </tr>\n",
       "    <tr>\n",
       "      <th>998</th>\n",
       "      <td>{'cardkingdom': {'buylist': {'foil': {'2024-06...</td>\n",
       "      <td>{'cardhoarder': {'retail': {'foil': {'2024-05-...</td>\n",
       "    </tr>\n",
       "    <tr>\n",
       "      <th>999</th>\n",
       "      <td>{'cardkingdom': {'buylist': {'foil': {'2024-05...</td>\n",
       "      <td>NaN</td>\n",
       "    </tr>\n",
       "  </tbody>\n",
       "</table>\n",
       "<p>1000 rows × 2 columns</p>\n",
       "</div>"
      ],
      "text/plain": [
       "                                                 paper  \\\n",
       "0    {'cardkingdom': {'buylist': {'foil': {'2024-05...   \n",
       "1    {'cardkingdom': {'buylist': {'normal': {'2024-...   \n",
       "2    {'cardkingdom': {'buylist': {'foil': {'2024-05...   \n",
       "3    {'cardkingdom': {'buylist': {'foil': {'2024-05...   \n",
       "4    {'cardkingdom': {'buylist': {'foil': {'2024-05...   \n",
       "..                                                 ...   \n",
       "995  {'cardkingdom': {'retail': {'foil': {'2024-05-...   \n",
       "996  {'cardkingdom': {'buylist': {'foil': {'2024-05...   \n",
       "997  {'cardkingdom': {'retail': {'normal': {'2024-0...   \n",
       "998  {'cardkingdom': {'buylist': {'foil': {'2024-06...   \n",
       "999  {'cardkingdom': {'buylist': {'foil': {'2024-05...   \n",
       "\n",
       "                                                  mtgo  \n",
       "0                                                  NaN  \n",
       "1                                                  NaN  \n",
       "2    {'cardhoarder': {'retail': {'foil': {'2024-05-...  \n",
       "3    {'cardhoarder': {'retail': {'foil': {'2024-05-...  \n",
       "4    {'cardhoarder': {'retail': {'normal': {'2024-0...  \n",
       "..                                                 ...  \n",
       "995  {'cardhoarder': {'retail': {'foil': {'2024-05-...  \n",
       "996  {'cardhoarder': {'retail': {'foil': {'2024-05-...  \n",
       "997                                                NaN  \n",
       "998  {'cardhoarder': {'retail': {'foil': {'2024-05-...  \n",
       "999                                                NaN  \n",
       "\n",
       "[1000 rows x 2 columns]"
      ]
     },
     "metadata": {},
     "output_type": "display_data"
    }
   ],
   "source": [
    "wrangler.data[\"data\"].apply(pd.Series)"
   ]
  },
  {
   "cell_type": "code",
   "execution_count": null,
   "metadata": {},
   "outputs": [],
   "source": []
  },
  {
   "cell_type": "code",
   "execution_count": null,
   "metadata": {},
   "outputs": [],
   "source": [
    "def extract_dict(df, var_keys=['paper', 'mtgo'], var_name='format', id_vars=['uuid'], index_vars=None):\n",
    "    if index_vars is None:\n",
    "        index_vars = id_vars\n",
    "    df.set_index(index_vars, inplace=True)\n",
    "    df = df['data'].apply(pd.Series)\n",
    "    df.reset_index(inplace=True)\n",
    "    df = df.melt(id_vars=id_vars, value_vars=var_keys, value_name='data', var_name=var_name)\n",
    "    df.dropna(subset=['data'], inplace=True)\n",
    "    return df"
   ]
  },
  {
   "cell_type": "code",
   "execution_count": null,
   "metadata": {},
   "outputs": [],
   "source": [
    "def process_price_data(df):\n",
    "\n",
    "    df.reset_index(inplace=True)\n",
    "    df.rename(columns={'index': 'uuid'}, inplace=True)\n",
    "\n",
    "    print(f\"   Starting Format Extraction.  Shape: {df.shape}\")\n",
    "    df = extract_dict(df, var_keys=['paper', 'mtgo'], var_name='format', id_vars=['uuid'])\n",
    "    print(f\"   Starting Provider Extraction.  Shape: {df.shape}\")\n",
    "    df = extract_dict(df, var_keys=['cardhoarder', 'cardkingdom', 'cardmarket', 'cardsphere', 'tcgplayer'], var_name='providers', id_vars=['uuid', 'format'])\n",
    "    print(f\"   Starting List Extraction.  Shape: {df.shape}\")\n",
    "    df = extract_dict(df, var_keys=['retail', 'buylist'], var_name='list', id_vars=['uuid', 'format', 'providers', 'currency'], index_vars=['uuid', 'format', 'providers'])\n",
    "    print(f\"   Starting Type Extraction.  Shape: {df.shape}\")\n",
    "    df = extract_dict(df, var_keys=['normal', 'foil'], var_name='type', id_vars=['uuid', 'format', 'providers', 'currency', 'list'])\n",
    "    print(f\"   Starting Date & Price Extraction.  Shape: {df.shape}\")\n",
    "    df = extract_dict(df, var_keys=None, var_name='date', id_vars=['uuid', 'format', 'providers', 'currency', 'list', 'type'])\n",
    "    print(f\"   Sorting and Saving.  Shape: {df.shape}\")\n",
    "    df.rename(columns={'data': 'price'}, inplace=True)\n",
    "    df.sort_values(['uuid', 'format', 'providers', 'currency', 'list', 'type', 'date'], inplace=True)\n",
    "    df.reset_index(drop=True, inplace=True)\n",
    "    return df"
   ]
  },
  {
   "cell_type": "code",
   "execution_count": null,
   "metadata": {},
   "outputs": [
    {
     "name": "stdout",
     "output_type": "stream",
     "text": [
      "Processing 0/101571\n",
      "   Starting Format Extraction.  Shape: (10000, 2)\n",
      "   Starting Provider Extraction.  Shape: (15592, 3)\n",
      "   Starting List Extraction.  Shape: (43816, 4)\n",
      "   Starting Type Extraction.  Shape: (48789, 6)\n",
      "   Starting Date & Price Extraction.  Shape: (71351, 7)\n",
      "   Sorting and Saving.  Shape: (5855193, 8)\n",
      "Processing 10000/101571\n",
      "   Starting Format Extraction.  Shape: (10000, 2)\n",
      "   Starting Provider Extraction.  Shape: (15631, 3)\n",
      "   Starting List Extraction.  Shape: (43850, 4)\n",
      "   Starting Type Extraction.  Shape: (48734, 6)\n",
      "   Starting Date & Price Extraction.  Shape: (71406, 7)\n",
      "   Sorting and Saving.  Shape: (5853369, 8)\n",
      "Processing 20000/101571\n",
      "   Starting Format Extraction.  Shape: (10000, 2)\n",
      "   Starting Provider Extraction.  Shape: (15614, 3)\n",
      "   Starting List Extraction.  Shape: (43762, 4)\n",
      "   Starting Type Extraction.  Shape: (48726, 6)\n",
      "   Starting Date & Price Extraction.  Shape: (71217, 7)\n",
      "   Sorting and Saving.  Shape: (5841349, 8)\n",
      "Processing 30000/101571\n",
      "   Starting Format Extraction.  Shape: (10000, 2)\n",
      "   Starting Provider Extraction.  Shape: (15710, 3)\n",
      "   Starting List Extraction.  Shape: (43933, 4)\n",
      "   Starting Type Extraction.  Shape: (48939, 6)\n",
      "   Starting Date & Price Extraction.  Shape: (71995, 7)\n",
      "   Sorting and Saving.  Shape: (5915358, 8)\n",
      "Processing 40000/101571\n",
      "   Starting Format Extraction.  Shape: (10000, 2)\n",
      "   Starting Provider Extraction.  Shape: (14399, 3)\n",
      "   Starting List Extraction.  Shape: (36825, 4)\n",
      "   Starting Type Extraction.  Shape: (40352, 6)\n",
      "   Starting Date & Price Extraction.  Shape: (58225, 7)\n",
      "   Sorting and Saving.  Shape: (4784806, 8)\n",
      "Processing 50000/101571\n",
      "   Starting Format Extraction.  Shape: (10000, 2)\n",
      "   Starting Provider Extraction.  Shape: (13727, 3)\n",
      "   Starting List Extraction.  Shape: (36294, 4)\n",
      "   Starting Type Extraction.  Shape: (36258, 6)\n",
      "   Starting Date & Price Extraction.  Shape: (50697, 7)\n",
      "   Sorting and Saving.  Shape: (4133864, 8)\n",
      "Processing 60000/101571\n",
      "   Starting Format Extraction.  Shape: (10000, 2)\n",
      "   Starting Provider Extraction.  Shape: (13490, 3)\n",
      "   Starting List Extraction.  Shape: (36525, 4)\n",
      "   Starting Type Extraction.  Shape: (34699, 6)\n",
      "   Starting Date & Price Extraction.  Shape: (48173, 7)\n",
      "   Sorting and Saving.  Shape: (3926025, 8)\n",
      "Processing 70000/101571\n",
      "   Starting Format Extraction.  Shape: (10000, 2)\n",
      "   Starting Provider Extraction.  Shape: (12932, 3)\n",
      "   Starting List Extraction.  Shape: (32694, 4)\n",
      "   Starting Type Extraction.  Shape: (33983, 6)\n",
      "   Starting Date & Price Extraction.  Shape: (45082, 7)\n",
      "   Sorting and Saving.  Shape: (3641640, 8)\n",
      "Processing 80000/101571\n",
      "   Starting Format Extraction.  Shape: (10000, 2)\n",
      "   Starting Provider Extraction.  Shape: (15267, 3)\n",
      "   Starting List Extraction.  Shape: (38488, 4)\n",
      "   Starting Type Extraction.  Shape: (42118, 6)\n",
      "   Starting Date & Price Extraction.  Shape: (58090, 7)\n",
      "   Sorting and Saving.  Shape: (4710683, 8)\n",
      "Processing 90000/101571\n",
      "   Starting Format Extraction.  Shape: (10000, 2)\n",
      "   Starting Provider Extraction.  Shape: (12943, 3)\n",
      "   Starting List Extraction.  Shape: (31344, 4)\n",
      "   Starting Type Extraction.  Shape: (36155, 6)\n",
      "   Starting Date & Price Extraction.  Shape: (44548, 7)\n",
      "   Sorting and Saving.  Shape: (3365292, 8)\n",
      "Processing 100000/101571\n",
      "   Starting Format Extraction.  Shape: (1571, 2)\n",
      "   Starting Provider Extraction.  Shape: (2312, 3)\n",
      "   Starting List Extraction.  Shape: (4356, 4)\n",
      "   Starting Type Extraction.  Shape: (4493, 6)\n",
      "   Starting Date & Price Extraction.  Shape: (5974, 7)\n",
      "   Sorting and Saving.  Shape: (115888, 8)\n"
     ]
    },
    {
     "data": {
      "text/plain": [
       "48143467"
      ]
     },
     "metadata": {},
     "output_type": "display_data"
    }
   ],
   "source": [
    "tot_len = 0\n",
    "chunk_size = 10000\n",
    "for i, start in enumerate(range(0, df.shape[0], chunk_size)):\n",
    "    print(f\"Processing {i*10000}/{df.shape[0]}\")\n",
    "    end = min(start + chunk_size, df.shape[0])\n",
    "    df_chunk = df.loc[df.index[start:end]]\n",
    "    df_chunk = process_price_data(df_chunk)\n",
    "    df_chunk.to_parquet(interim_root / f'AllPrices_chunk_{i}.parquet')\n",
    "    tot_len += df_chunk.shape[0]\n",
    "tot_len"
   ]
  },
  {
   "cell_type": "code",
   "execution_count": null,
   "metadata": {},
   "outputs": [
    {
     "name": "stdout",
     "output_type": "stream",
     "text": [
      "Loading 0/10\n"
     ]
    },
    {
     "name": "stdout",
     "output_type": "stream",
     "text": [
      "Loading 1/10\n",
      "Loading 2/10\n",
      "Loading 3/10\n",
      "Loading 4/10\n",
      "Loading 5/10\n",
      "Loading 6/10\n",
      "Loading 7/10\n",
      "Loading 8/10\n",
      "Loading 9/10\n",
      "Loading 10/10\n",
      "(48143467, 8)\n"
     ]
    },
    {
     "ename": "",
     "evalue": "",
     "output_type": "error",
     "traceback": [
      "\u001b[1;31mThe Kernel crashed while executing code in the current cell or a previous cell. \n",
      "\n",
      "\u001b[1;31mPlease review the code in the cell(s) to identify a possible cause of the failure. \n",
      "\n",
      "\u001b[1;31mClick <a href='https://aka.ms/vscodeJupyterKernelCrash'>here</a> for more info. \n",
      "\n",
      "\u001b[1;31mView Jupyter <a href='command:jupyter.viewOutput'>log</a> for further details."
     ]
    }
   ],
   "source": [
    "n = 10\n",
    "dfs = []\n",
    "for j in range(n+1):\n",
    "    print(f\"Loading {j}/{n}\")\n",
    "    df = pd.read_parquet(interim_root / f'AllPrices_chunk_{j}.parquet')\n",
    "    dfs.append(df)\n",
    "df = pd.concat(dfs)\n",
    "print(df.shape)\n",
    "# assert df.shape[0] == tot_len, f\"{df.shape[0]} != {tot_len}\""
   ]
  },
  {
   "cell_type": "code",
   "execution_count": null,
   "metadata": {},
   "outputs": [],
   "source": [
    "min_date = df['date'].min()\n",
    "max_date = df['date'].max()\n",
    "df.to_parquet(processed_root / f'AllPrices_{min_date}_{max_date}.parquet', engine='pyarrow', compression='snappy', partition_cols=['uuid', 'format', 'providers', 'currency', 'list', 'type', 'date'])"
   ]
  },
  {
   "cell_type": "code",
   "execution_count": null,
   "metadata": {},
   "outputs": [],
   "source": [
    "for j in range(n+1):\n",
    "    file_path = interim_root / f'AllPrices_chunk_{j}.parquet'\n",
    "    if os.path.exists(file_path):\n",
    "        os.remove(file_path)"
   ]
  },
  {
   "cell_type": "code",
   "execution_count": null,
   "metadata": {},
   "outputs": [
    {
     "data": {
      "text/html": [
       "<div>\n",
       "<style scoped>\n",
       "    .dataframe tbody tr th:only-of-type {\n",
       "        vertical-align: middle;\n",
       "    }\n",
       "\n",
       "    .dataframe tbody tr th {\n",
       "        vertical-align: top;\n",
       "    }\n",
       "\n",
       "    .dataframe thead th {\n",
       "        text-align: right;\n",
       "    }\n",
       "</style>\n",
       "<table border=\"1\" class=\"dataframe\">\n",
       "  <thead>\n",
       "    <tr style=\"text-align: right;\">\n",
       "      <th></th>\n",
       "      <th>uuid</th>\n",
       "      <th>format</th>\n",
       "      <th>providers</th>\n",
       "      <th>currency</th>\n",
       "      <th>list</th>\n",
       "      <th>type</th>\n",
       "      <th>date</th>\n",
       "      <th>price</th>\n",
       "    </tr>\n",
       "  </thead>\n",
       "  <tbody>\n",
       "    <tr>\n",
       "      <th>0</th>\n",
       "      <td>00010d56-fe38-5e35-8aed-518019aa36a5</td>\n",
       "      <td>paper</td>\n",
       "      <td>cardkingdom</td>\n",
       "      <td>USD</td>\n",
       "      <td>buylist</td>\n",
       "      <td>foil</td>\n",
       "      <td>2024-05-16</td>\n",
       "      <td>5.5</td>\n",
       "    </tr>\n",
       "    <tr>\n",
       "      <th>1</th>\n",
       "      <td>00010d56-fe38-5e35-8aed-518019aa36a5</td>\n",
       "      <td>paper</td>\n",
       "      <td>cardkingdom</td>\n",
       "      <td>USD</td>\n",
       "      <td>buylist</td>\n",
       "      <td>foil</td>\n",
       "      <td>2024-05-17</td>\n",
       "      <td>5.5</td>\n",
       "    </tr>\n",
       "    <tr>\n",
       "      <th>2</th>\n",
       "      <td>00010d56-fe38-5e35-8aed-518019aa36a5</td>\n",
       "      <td>paper</td>\n",
       "      <td>cardkingdom</td>\n",
       "      <td>USD</td>\n",
       "      <td>buylist</td>\n",
       "      <td>foil</td>\n",
       "      <td>2024-05-18</td>\n",
       "      <td>5.5</td>\n",
       "    </tr>\n",
       "    <tr>\n",
       "      <th>3</th>\n",
       "      <td>00010d56-fe38-5e35-8aed-518019aa36a5</td>\n",
       "      <td>paper</td>\n",
       "      <td>cardkingdom</td>\n",
       "      <td>USD</td>\n",
       "      <td>buylist</td>\n",
       "      <td>foil</td>\n",
       "      <td>2024-05-19</td>\n",
       "      <td>5.5</td>\n",
       "    </tr>\n",
       "    <tr>\n",
       "      <th>4</th>\n",
       "      <td>00010d56-fe38-5e35-8aed-518019aa36a5</td>\n",
       "      <td>paper</td>\n",
       "      <td>cardkingdom</td>\n",
       "      <td>USD</td>\n",
       "      <td>buylist</td>\n",
       "      <td>foil</td>\n",
       "      <td>2024-05-20</td>\n",
       "      <td>5.5</td>\n",
       "    </tr>\n",
       "  </tbody>\n",
       "</table>\n",
       "</div>"
      ],
      "text/plain": [
       "                                   uuid format    providers currency     list  \\\n",
       "0  00010d56-fe38-5e35-8aed-518019aa36a5  paper  cardkingdom      USD  buylist   \n",
       "1  00010d56-fe38-5e35-8aed-518019aa36a5  paper  cardkingdom      USD  buylist   \n",
       "2  00010d56-fe38-5e35-8aed-518019aa36a5  paper  cardkingdom      USD  buylist   \n",
       "3  00010d56-fe38-5e35-8aed-518019aa36a5  paper  cardkingdom      USD  buylist   \n",
       "4  00010d56-fe38-5e35-8aed-518019aa36a5  paper  cardkingdom      USD  buylist   \n",
       "\n",
       "   type        date  price  \n",
       "0  foil  2024-05-16    5.5  \n",
       "1  foil  2024-05-17    5.5  \n",
       "2  foil  2024-05-18    5.5  \n",
       "3  foil  2024-05-19    5.5  \n",
       "4  foil  2024-05-20    5.5  "
      ]
     },
     "metadata": {},
     "output_type": "display_data"
    }
   ],
   "source": [
    "min_date = '2024-05-16'\n",
    "max_date = '2024-08-16'\n",
    "df = pd.read_parquet(processed_root / f'AllPrices_{min_date}_{max_date}.parquet', engine='pyarrow', filters=[('uuid', '==', '00010d56-fe38-5e35-8aed-518019aa36a5')])\n",
    "df.head()"
   ]
  },
  {
   "cell_type": "code",
   "execution_count": null,
   "metadata": {},
   "outputs": [],
   "source": []
  }
 ],
 "metadata": {
  "kernelspec": {
   "display_name": "dl+bayes-env",
   "language": "python",
   "name": "python3"
  },
  "language_info": {
   "codemirror_mode": {
    "name": "ipython",
    "version": 3
   },
   "file_extension": ".py",
   "mimetype": "text/x-python",
   "name": "python",
   "nbconvert_exporter": "python",
   "pygments_lexer": "ipython3",
   "version": "3.10.9"
  }
 },
 "nbformat": 4,
 "nbformat_minor": 2
}
