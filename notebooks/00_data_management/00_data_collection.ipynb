{
 "cells": [
  {
   "cell_type": "markdown",
   "metadata": {},
   "source": [
    "# Data Sources\n",
    "\n",
    "There are some good sources of data for MTG\n",
    "\n",
    "https://scryfall.com/\n",
    "\n",
    "https://mtgjson.com/\n",
    "\n",
    "https://github.com/taw/magic-search-engine/tree/master"
   ]
  },
  {
   "cell_type": "markdown",
   "metadata": {},
   "source": [
    "## Magice Search Engine\n",
    "\n",
    "The Magic Search Engine by [taw](https://github.com/taw) has compiled card, deck, and booster data.\n",
    "\n",
    "Let's clone the repo then copy the data directory.\n",
    "\n",
    "Note this repo is pretty large at 122 MB.  Only doing a shallow clone, due to much larger size."
   ]
  },
  {
   "cell_type": "code",
   "execution_count": 6,
   "metadata": {},
   "outputs": [],
   "source": [
    "import os\n",
    "import json\n",
    "import requests\n",
    "import gzip\n",
    "import shutil\n",
    "import pathlib\n",
    "from collections import defaultdict"
   ]
  },
  {
   "cell_type": "code",
   "execution_count": 7,
   "metadata": {},
   "outputs": [],
   "source": [
    "!git config --global http.postBuffer 1048576000\n",
    "os.chdir(os.path.expanduser('~/'))\n",
    "!git clone  --depth 1 https://github.com/taw/magic-search-engine.git #shallower clone\n",
    "os.chdir('magic-search-engine')\n",
    "!cp -r data/* ~/mtg-modeling/data/magic-search-engine\n",
    "os.chdir(os.path.expanduser(\"~/mtg-modeling\"))"
   ]
  },
  {
   "cell_type": "markdown",
   "metadata": {},
   "source": [
    "Let's open a set json and explore"
   ]
  },
  {
   "cell_type": "code",
   "execution_count": 12,
   "metadata": {},
   "outputs": [],
   "source": [
    "filepath = 'data/magic-search-engine/sets/OTJ.json'\n",
    "with open(filepath, 'r', encoding='utf-8') as f:\n",
    "    data = json.load(f)"
   ]
  },
  {
   "cell_type": "code",
   "execution_count": 14,
   "metadata": {},
   "outputs": [
    {
     "data": {
      "text/plain": [
       "dict_keys(['baseSetSize', 'block', 'cards', 'cardsphereSetId', 'code', 'isFoilOnly', 'isOnlineOnly', 'keyruneCode', 'languages', 'mcmId', 'mcmIdExtras', 'mcmName', 'mtgoCode', 'name', 'releaseDate', 'sealedProduct', 'tcgplayerGroupId', 'tokenSetCode', 'tokens', 'totalSetSize', 'translations', 'type', 'meta'])"
      ]
     },
     "execution_count": 14,
     "metadata": {},
     "output_type": "execute_result"
    }
   ],
   "source": [
    "data.keys()"
   ]
  },
  {
   "cell_type": "code",
   "execution_count": 29,
   "metadata": {},
   "outputs": [
    {
     "data": {
      "text/plain": [
       "{'artist': 'Darrell Riche',\n",
       " 'artistIds': ['262c8e55-4efc-467b-a042-6f734b9d2e01'],\n",
       " 'availability': ['arena', 'mtgo', 'paper'],\n",
       " 'boosterTypes': ['default'],\n",
       " 'borderColor': 'black',\n",
       " 'colorIdentity': ['W'],\n",
       " 'colors': ['W'],\n",
       " 'convertedManaCost': 3.0,\n",
       " 'finishes': ['nonfoil', 'foil'],\n",
       " 'flavorText': 'Weary travelers trade stories of the Eversaloon, an extraplanar respite that appears at the moment it is most needed.',\n",
       " 'foreignData': [{'flavorText': 'Müde Reisende erzählen sich Geschichten vom Saloon der Ewigkeit, einem außerweltlichen Ort zur Rast, der Verirrten erscheint, wenn ihre Not am größten ist.',\n",
       "   'identifiers': {'multiverseId': 655206,\n",
       "    'scryfallId': '3fdab8b0-7a42-4892-bbac-5f8738c35e4f'},\n",
       "   'language': 'German',\n",
       "   'multiverseId': 655206,\n",
       "   'name': 'Noch eine Runde',\n",
       "   'text': 'Schicke eine beliebige Anzahl an Kreaturen, die du kontrollierst, ins Exil und bringe sie dann unter der Kontrolle ihres Besitzers ins Spiel zurück. Wiederhole dann diesen Vorgang X weitere Male.',\n",
       "   'type': 'Hexerei'},\n",
       "  {'flavorText': 'Los viajantes exhaustos intercambian historias de la Permataberna, un lugar de reposo extraplanar que se aparece ante los extraviados cuando más lo necesitan.',\n",
       "   'identifiers': {'multiverseId': 655470,\n",
       "    'scryfallId': 'e15ae49e-8fa3-4346-bde8-f2a19bf7b0e5'},\n",
       "   'language': 'Spanish',\n",
       "   'multiverseId': 655470,\n",
       "   'name': 'Otra ronda',\n",
       "   'text': 'Exilia cualquier cantidad de criaturas que controlas y luego regrésalas al campo de batalla bajo el control de su propietario. Luego, repite este proceso X veces más.',\n",
       "   'type': 'Conjuro'},\n",
       "  {'flavorText': \"Les voyageurs fatigués racontent des histoires sur le Saloon de l'éternité, un refuge extraplanaire apparaissant au moment où l'on en a le plus besoin.\",\n",
       "   'identifiers': {'multiverseId': 655734,\n",
       "    'scryfallId': '759573b8-9d17-4693-aa33-5d799cbabbbf'},\n",
       "   'language': 'French',\n",
       "   'multiverseId': 655734,\n",
       "   'name': 'Un petit dernier',\n",
       "   'text': \"Exilez n'importe quel nombre de créatures que vous contrôlez, puis renvoyez-les sur le champ de bataille sous le contrôle de leur propriétaire. Puis répétez ce processus X fois.\",\n",
       "   'type': 'Rituel'},\n",
       "  {'flavorText': 'I viaggiatori stanchi condividono storie del Saloon Eterno, un rifugio extraplanare che compare nel momento del bisogno.',\n",
       "   'identifiers': {'multiverseId': 655998,\n",
       "    'scryfallId': 'd3f33804-609d-4842-a314-c07a5f4eab18'},\n",
       "   'language': 'Italian',\n",
       "   'multiverseId': 655998,\n",
       "   'name': 'Un Altro Giro',\n",
       "   'text': 'Esilia un qualsiasi numero di creature che controlli, poi rimettile sul campo di battaglia sotto il controllo dei rispettivi proprietari. Poi ripeti questo procedimento altre X volte.',\n",
       "   'type': 'Stregoneria'},\n",
       "  {'flavorText': '疲れ切った旅人達は常在酒場についての物語を語り合う。それは次元を超えた場所にある休息所で、道を失った者たちが心から休息を望むときに現れるのだ。',\n",
       "   'identifiers': {'multiverseId': 656262,\n",
       "    'scryfallId': '2846fe55-f43c-49b4-b14a-6b705e106298'},\n",
       "   'language': 'Japanese',\n",
       "   'multiverseId': 656262,\n",
       "   'name': 'もう一杯ずつ',\n",
       "   'text': 'あなたがコントロールしている望む数のクリーチャーを追放し、それらをオーナーのコントロール下で戦場に戻す。その後、この手順をさらにＸ回繰り返す。',\n",
       "   'type': 'ソーサリー'},\n",
       "  {'flavorText': 'Os viajantes cansados contam histórias sobre o Salão Eterno, um refúgio extraplanar que aparece na hora de maior necessidade.',\n",
       "   'identifiers': {'multiverseId': 656526,\n",
       "    'scryfallId': '73959d46-1483-4b96-aaaa-9272436ee372'},\n",
       "   'language': 'Portuguese (Brazil)',\n",
       "   'multiverseId': 656526,\n",
       "   'name': 'Mais Uma Rodada',\n",
       "   'text': 'Exile qualquer número de criaturas que você controla e depois as devolva ao campo de batalha sob o controle de seus donos. Depois, repita esse processo mais X vezes.',\n",
       "   'type': 'Feitiço'},\n",
       "  {'flavorText': '疲惫旅行者之间的谈资都少不了恒永吧，这处外时空的暂息之地总会在最需要的时候出现。',\n",
       "   'identifiers': {'multiverseId': 656790,\n",
       "    'scryfallId': 'c1e0f652-cebc-4e1d-aa1e-078d5667509c'},\n",
       "   'language': 'Chinese Simplified',\n",
       "   'multiverseId': 656790,\n",
       "   'name': '再来一杯',\n",
       "   'text': '放逐任意数量由你操控的生物，然后将它们在其拥有者的操控下移回战场。然后将此流程再重复X次。',\n",
       "   'type': '法术'}],\n",
       " 'frameVersion': '2015',\n",
       " 'hasFoil': True,\n",
       " 'hasNonFoil': True,\n",
       " 'identifiers': {'cardKingdomFoilId': '294709',\n",
       "  'cardKingdomId': '294101',\n",
       "  'cardsphereId': '119368',\n",
       "  'mcmId': '764241',\n",
       "  'mcmMetaId': '433016',\n",
       "  'mtgArenaId': '90347',\n",
       "  'mtgjsonV4Id': 'c43d92d3-63e4-5acb-ac1e-7e47d828dd45',\n",
       "  'mtgoId': '123913',\n",
       "  'multiverseId': '654942',\n",
       "  'scryfallCardBackId': '0aeebaf5-8c7d-4636-9e82-8c27447861f7',\n",
       "  'scryfallId': '4f8dc511-e307-4412-bb79-375a6077312d',\n",
       "  'scryfallIllustrationId': '32f15077-3ed4-4b89-9966-0f8650b2942f',\n",
       "  'scryfallOracleId': '8095ca78-db19-4724-a6ff-eacc85fa2274',\n",
       "  'tcgplayerProductId': '544488'},\n",
       " 'language': 'English',\n",
       " 'layout': 'normal',\n",
       " 'legalities': {'alchemy': 'Legal',\n",
       "  'brawl': 'Legal',\n",
       "  'commander': 'Legal',\n",
       "  'duel': 'Legal',\n",
       "  'explorer': 'Legal',\n",
       "  'future': 'Legal',\n",
       "  'gladiator': 'Legal',\n",
       "  'historic': 'Legal',\n",
       "  'legacy': 'Legal',\n",
       "  'modern': 'Legal',\n",
       "  'oathbreaker': 'Legal',\n",
       "  'penny': 'Legal',\n",
       "  'pioneer': 'Legal',\n",
       "  'standard': 'Legal',\n",
       "  'standardbrawl': 'Legal',\n",
       "  'timeless': 'Legal',\n",
       "  'vintage': 'Legal'},\n",
       " 'manaCost': '{X}{X}{2}{W}',\n",
       " 'manaValue': 3.0,\n",
       " 'name': 'Another Round',\n",
       " 'number': '1',\n",
       " 'originalText': \"Exile any number of creatures you control, then return them to the battlefield under their owner's control. Then repeat this process X more times.\",\n",
       " 'originalType': 'Sorcery',\n",
       " 'purchaseUrls': {'cardKingdom': 'https://mtgjson.com/links/9aad29129ef9ef11',\n",
       "  'cardKingdomFoil': 'https://mtgjson.com/links/ae302d4bd898c7af',\n",
       "  'cardmarket': 'https://mtgjson.com/links/550929c3dd28bbbd',\n",
       "  'tcgplayer': 'https://mtgjson.com/links/0795d85ea31e4a05'},\n",
       " 'rarity': 'rare',\n",
       " 'rulings': [{'date': '2024-04-12',\n",
       "   'text': 'Abilities that trigger “When [this creature] enters the battlefield” or “When [this creature] leaves the battlefield” will trigger each time that creature enters or leaves the battlefield as a result of Another Round’s effect. If those abilities require targets, you won’t choose those targets until after Another Round finishes resolving, when those abilities are put onto the stack.'},\n",
       "  {'date': '2024-04-12',\n",
       "   'text': 'All abilities that trigger while Another Round is resolving are put on the stack after Another Round is finished resolving. All such abilities controlled by the player whose turn it is are put on the stack first, then those controlled by the next player in turn order, and so on. For each player, they can put their abilities on the stack in the order of their choice. Abilities don’t have to be put on the stack in the order in which they triggered.'},\n",
       "  {'date': '2024-04-12',\n",
       "   'text': 'If X is 0, you’ll perform the process just once when Another Round resolves.'},\n",
       "  {'date': '2024-04-12',\n",
       "   'text': 'If a token is exiled this way, it will cease to exist and won’t return to the battlefield.'},\n",
       "  {'date': '2024-04-12',\n",
       "   'text': 'Once an exiled creature returns, it’s considered a new object with no relation to the object that it was. Auras attached to the exiled creature will be put into their owners’ graveyards. Equipment attached to the exiled creature will become unattached and remain on the battlefield. Any counters on the exiled creature will cease to exist.'},\n",
       "  {'date': '2024-04-12',\n",
       "   'text': 'You don’t have to choose the same set of creatures each time you repeat this process.'}],\n",
       " 'securityStamp': 'oval',\n",
       " 'setCode': 'OTJ',\n",
       " 'sourceProducts': {'foil': ['6b307a92-0a52-5ecc-aaeb-1fa4180ec7ad',\n",
       "   '7c02f937-ddc8-57af-9cf7-a09f7c0be1c3'],\n",
       "  'nonfoil': ['7c02f937-ddc8-57af-9cf7-a09f7c0be1c3']},\n",
       " 'subtypes': [],\n",
       " 'supertypes': [],\n",
       " 'text': \"Exile any number of creatures you control, then return them to the battlefield under their owner's control. Then repeat this process X more times.\",\n",
       " 'type': 'Sorcery',\n",
       " 'types': ['Sorcery'],\n",
       " 'uuid': 'c37140a4-32c2-569c-91ca-34fb56a1b6c5',\n",
       " 'variations': ['79c76c90-f2f9-5ff5-9108-ea583f09ac5b']}"
      ]
     },
     "execution_count": 29,
     "metadata": {},
     "output_type": "execute_result"
    }
   ],
   "source": [
    "data['cards'][0]"
   ]
  },
  {
   "cell_type": "code",
   "execution_count": 39,
   "metadata": {},
   "outputs": [
    {
     "data": {
      "text/plain": [
       "defaultdict(int,\n",
       "            {'artist': 374,\n",
       "             'artistIds': 374,\n",
       "             'availability': 374,\n",
       "             'boosterTypes': 276,\n",
       "             'borderColor': 374,\n",
       "             'colorIdentity': 374,\n",
       "             'colors': 374,\n",
       "             'convertedManaCost': 374,\n",
       "             'finishes': 374,\n",
       "             'flavorText': 175,\n",
       "             'foreignData': 374,\n",
       "             'frameVersion': 374,\n",
       "             'hasFoil': 374,\n",
       "             'hasNonFoil': 374,\n",
       "             'identifiers': 374,\n",
       "             'language': 374,\n",
       "             'layout': 374,\n",
       "             'legalities': 374,\n",
       "             'manaCost': 334,\n",
       "             'manaValue': 374,\n",
       "             'name': 374,\n",
       "             'number': 374,\n",
       "             'originalText': 359,\n",
       "             'originalType': 374,\n",
       "             'purchaseUrls': 374,\n",
       "             'rarity': 374,\n",
       "             'rulings': 290,\n",
       "             'securityStamp': 168,\n",
       "             'setCode': 374,\n",
       "             'sourceProducts': 368,\n",
       "             'subtypes': 374,\n",
       "             'supertypes': 374,\n",
       "             'text': 374,\n",
       "             'type': 374,\n",
       "             'types': 374,\n",
       "             'uuid': 374,\n",
       "             'variations': 188,\n",
       "             'edhrecSaltiness': 33,\n",
       "             'isReprint': 34,\n",
       "             'keywords': 223,\n",
       "             'power': 216,\n",
       "             'toughness': 216,\n",
       "             'frameEffects': 151,\n",
       "             'leadershipSkills': 83,\n",
       "             'isStorySpotlight': 6,\n",
       "             'loyalty': 5,\n",
       "             'watermark': 1,\n",
       "             'isFullArt': 5,\n",
       "             'isStarter': 98,\n",
       "             'promoTypes': 88,\n",
       "             'isPromo': 7,\n",
       "             'isAlternative': 2})"
      ]
     },
     "execution_count": 39,
     "metadata": {},
     "output_type": "execute_result"
    }
   ],
   "source": [
    "card_keys = defaultdict(int)\n",
    "cards = data['cards']\n",
    "\n",
    "for card in cards:\n",
    "    for k,v in card.items():\n",
    "        card_keys[k] += 1\n",
    "\n",
    "card_keys"
   ]
  },
  {
   "cell_type": "code",
   "execution_count": 48,
   "metadata": {},
   "outputs": [],
   "source": [
    "def count_keys(term):\n",
    "    val_counts = defaultdict(int)\n",
    "\n",
    "    for card in cards:\n",
    "        if term in card:\n",
    "            if isinstance(card[term], list):\n",
    "                for keyword in card[term]:\n",
    "                    val_counts[keyword] += 1\n",
    "            else:\n",
    "                val_counts[card[term]] += 1\n",
    "\n",
    "    return val_counts"
   ]
  },
  {
   "cell_type": "code",
   "execution_count": 51,
   "metadata": {},
   "outputs": [
    {
     "data": {
      "text/plain": [
       "defaultdict(int,\n",
       "            {'Flying': 40,\n",
       "             'Ward': 8,\n",
       "             'Flash': 13,\n",
       "             'Plot': 51,\n",
       "             'Saddle': 24,\n",
       "             'Vigilance': 17,\n",
       "             'Spree': 28,\n",
       "             'Scry': 5,\n",
       "             'Lifelink': 11,\n",
       "             'Equip': 8,\n",
       "             'Mill': 8,\n",
       "             'Surveil': 9,\n",
       "             'Enchant': 3,\n",
       "             'Menace': 7,\n",
       "             'Treasure': 20,\n",
       "             'Deathtouch': 7,\n",
       "             'Haste': 15,\n",
       "             'Reach': 13,\n",
       "             'Affinity': 1,\n",
       "             'Trample': 18,\n",
       "             'First strike': 3,\n",
       "             'Protection': 1,\n",
       "             'Defender': 2,\n",
       "             'Landfall': 2,\n",
       "             'Prowess': 2,\n",
       "             'Investigate': 2,\n",
       "             'Crew': 2})"
      ]
     },
     "execution_count": 51,
     "metadata": {},
     "output_type": "execute_result"
    }
   ],
   "source": [
    "count_keys(term='keywords')"
   ]
  },
  {
   "cell_type": "code",
   "execution_count": 50,
   "metadata": {},
   "outputs": [
    {
     "data": {
      "text/plain": [
       "defaultdict(int, {True: 34})"
      ]
     },
     "execution_count": 50,
     "metadata": {},
     "output_type": "execute_result"
    }
   ],
   "source": [
    "count_keys(term='isReprint')"
   ]
  },
  {
   "cell_type": "code",
   "execution_count": 52,
   "metadata": {},
   "outputs": [
    {
     "data": {
      "text/plain": [
       "defaultdict(int, {'W': 94, 'R': 100, 'U': 97, 'B': 94, 'G': 99})"
      ]
     },
     "execution_count": 52,
     "metadata": {},
     "output_type": "execute_result"
    }
   ],
   "source": [
    "count_keys(term='colorIdentity')"
   ]
  },
  {
   "cell_type": "code",
   "execution_count": 53,
   "metadata": {},
   "outputs": [
    {
     "data": {
      "text/plain": [
       "defaultdict(int, {'rare': 122, 'mythic': 41, 'common': 106, 'uncommon': 105})"
      ]
     },
     "execution_count": 53,
     "metadata": {},
     "output_type": "execute_result"
    }
   ],
   "source": [
    "count_keys(term='rarity')"
   ]
  },
  {
   "cell_type": "code",
   "execution_count": 54,
   "metadata": {},
   "outputs": [
    {
     "data": {
      "text/plain": [
       "defaultdict(int,\n",
       "            {3.0: 95,\n",
       "             4.0: 54,\n",
       "             1.0: 41,\n",
       "             6.0: 11,\n",
       "             2.0: 98,\n",
       "             5.0: 34,\n",
       "             7.0: 1,\n",
       "             0.0: 40})"
      ]
     },
     "execution_count": 54,
     "metadata": {},
     "output_type": "execute_result"
    }
   ],
   "source": [
    "count_keys(term='manaValue')"
   ]
  },
  {
   "cell_type": "code",
   "execution_count": 56,
   "metadata": {},
   "outputs": [
    {
     "data": {
      "text/plain": [
       "defaultdict(int,\n",
       "            {'Sorcery': 39,\n",
       "             'Creature': 214,\n",
       "             'Instant': 39,\n",
       "             'Enchantment': 25,\n",
       "             'Artifact': 17,\n",
       "             'Planeswalker': 5,\n",
       "             'Land': 40})"
      ]
     },
     "execution_count": 56,
     "metadata": {},
     "output_type": "execute_result"
    }
   ],
   "source": [
    "count_keys(term='types')"
   ]
  },
  {
   "cell_type": "code",
   "execution_count": 57,
   "metadata": {},
   "outputs": [
    {
     "data": {
      "text/plain": [
       "defaultdict(int, {'Legendary': 96, 'Basic': 15})"
      ]
     },
     "execution_count": 57,
     "metadata": {},
     "output_type": "execute_result"
    }
   ],
   "source": [
    "count_keys(term='supertypes')"
   ]
  },
  {
   "cell_type": "code",
   "execution_count": 58,
   "metadata": {},
   "outputs": [
    {
     "data": {
      "text/plain": [
       "defaultdict(int,\n",
       "            {'Angel': 3,\n",
       "             'Armadillo': 2,\n",
       "             'Bird': 9,\n",
       "             'Rogue': 44,\n",
       "             'Cat': 4,\n",
       "             'Beast': 6,\n",
       "             'Mount': 24,\n",
       "             'Sheep': 1,\n",
       "             'Rabbit': 2,\n",
       "             'Mercenary': 20,\n",
       "             'Spirit': 2,\n",
       "             'Human': 72,\n",
       "             'Scout': 9,\n",
       "             'Ox': 1,\n",
       "             'Dwarf': 4,\n",
       "             'Artificer': 1,\n",
       "             'Faerie': 3,\n",
       "             'Squirrel': 1,\n",
       "             'Noble': 2,\n",
       "             'Pegasus': 1,\n",
       "             'Knight': 2,\n",
       "             'Soldier': 4,\n",
       "             'Equipment': 8,\n",
       "             'Citizen': 1,\n",
       "             'Griffin': 1,\n",
       "             'Salamander': 2,\n",
       "             'Crab': 1,\n",
       "             'Turtle': 1,\n",
       "             'Homarid': 1,\n",
       "             'Djinn': 1,\n",
       "             'Advisor': 5,\n",
       "             'Homunculus': 2,\n",
       "             'Warlock': 18,\n",
       "             'Drake': 1,\n",
       "             'Shark': 1,\n",
       "             'Sphinx': 3,\n",
       "             'Wizard': 5,\n",
       "             'Frog': 3,\n",
       "             'Aura': 3,\n",
       "             'Shapeshifter': 2,\n",
       "             'Insect': 1,\n",
       "             'Vampire': 8,\n",
       "             'Zombie': 3,\n",
       "             'Snake': 3,\n",
       "             'Horse': 4,\n",
       "             'Skeleton': 3,\n",
       "             'Specter': 1,\n",
       "             'Rat': 1,\n",
       "             'Ogre': 3,\n",
       "             'Gorgon': 3,\n",
       "             'Assassin': 7,\n",
       "             'Coyote': 1,\n",
       "             'Lizard': 6,\n",
       "             'Minotaur': 2,\n",
       "             'Wolverine': 1,\n",
       "             'Giant': 3,\n",
       "             'Warrior': 5,\n",
       "             'Berserker': 3,\n",
       "             'Plant': 9,\n",
       "             'Porcupine': 1,\n",
       "             'Goblin': 4,\n",
       "             'Pirate': 5,\n",
       "             'Scorpion': 4,\n",
       "             'Dragon': 6,\n",
       "             'Druid': 9,\n",
       "             'Wolf': 1,\n",
       "             'Spider': 1,\n",
       "             'Wurm': 2,\n",
       "             'Bear': 2,\n",
       "             'Centaur': 1,\n",
       "             'Beaver': 1,\n",
       "             'Hydra': 2,\n",
       "             'Brushwagg': 2,\n",
       "             'Rhino': 2,\n",
       "             'Possum': 1,\n",
       "             'Bard': 1,\n",
       "             'Badger': 1,\n",
       "             'Varmint': 1,\n",
       "             'Hippogriff': 1,\n",
       "             'Kor': 1,\n",
       "             'Shaman': 2,\n",
       "             'Horror': 3,\n",
       "             'Siren': 2,\n",
       "             'Oko': 3,\n",
       "             'Demon': 2,\n",
       "             'Ninja': 2,\n",
       "             'Elf': 2,\n",
       "             'Unicorn': 2,\n",
       "             'Ranger': 2,\n",
       "             'Vehicle': 2,\n",
       "             'Scarecrow': 1,\n",
       "             'Golem': 2,\n",
       "             'Dog': 1,\n",
       "             'Desert': 15,\n",
       "             'Jace': 2,\n",
       "             'Plains': 3,\n",
       "             'Island': 3,\n",
       "             'Swamp': 3,\n",
       "             'Mountain': 3,\n",
       "             'Forest': 3})"
      ]
     },
     "execution_count": 58,
     "metadata": {},
     "output_type": "execute_result"
    }
   ],
   "source": [
    "count_keys(term='subtypes')"
   ]
  },
  {
   "cell_type": "code",
   "execution_count": 61,
   "metadata": {},
   "outputs": [
    {
     "data": {
      "text/plain": [
       "defaultdict(int, {'default': 276})"
      ]
     },
     "execution_count": 61,
     "metadata": {},
     "output_type": "execute_result"
    }
   ],
   "source": [
    "count_keys(term='boosterTypes')"
   ]
  },
  {
   "cell_type": "markdown",
   "metadata": {},
   "source": [
    "Let's take the JSON data and save the relevant fields for predictive modeling"
   ]
  },
  {
   "cell_type": "code",
   "execution_count": null,
   "metadata": {},
   "outputs": [],
   "source": [
    "filter_keys = [\n",
    "    'availability',\n",
    "    'boosterTypes',\n",
    "]\n",
    "\n",
    "card_keys[\n",
    "    ''\n",
    "]"
   ]
  },
  {
   "cell_type": "code",
   "execution_count": 10,
   "metadata": {},
   "outputs": [],
   "source": [
    "url = \"https://mtgjson.com/api/v5/AllPrintings.sqlite.gz\"\n",
    "download_path = \"../data/AllPrintings.sqlite.gz\"\n",
    "unzip_path = \"../data/AllPrintings.sqlite\"\n"
   ]
  },
  {
   "cell_type": "code",
   "execution_count": 4,
   "metadata": {},
   "outputs": [],
   "source": [
    "\n",
    "response = requests.get(url, stream=True)\n",
    "response.raise_for_status()  # Ensure we notice bad responses\n"
   ]
  },
  {
   "cell_type": "code",
   "execution_count": 11,
   "metadata": {},
   "outputs": [],
   "source": [
    "# check if paths exist\n",
    "\n",
    "parent_dir = pathlib.Path(download_path).parent\n",
    "if not parent_dir.exists():\n",
    "    parent_dir.mkdir(parents=True)\n",
    "\n",
    "parent_dir = pathlib.Path(unzip_path).parent\n",
    "if not parent_dir.exists():\n",
    "    parent_dir.mkdir(parents=True)"
   ]
  },
  {
   "cell_type": "code",
   "execution_count": 5,
   "metadata": {},
   "outputs": [],
   "source": [
    "with open(download_path, \"wb\") as f:\n",
    "    f.write(response.content)"
   ]
  },
  {
   "cell_type": "code",
   "execution_count": 15,
   "metadata": {},
   "outputs": [],
   "source": [
    "with gzip.open(download_path, \"rb\") as f_in:\n",
    "    with open(unzip_path, \"wb\") as f_out:\n",
    "        shutil.copyfileobj(f_in, f_out)"
   ]
  },
  {
   "cell_type": "code",
   "execution_count": null,
   "metadata": {},
   "outputs": [],
   "source": []
  }
 ],
 "metadata": {
  "kernelspec": {
   "display_name": "dl+bayes-env",
   "language": "python",
   "name": "python3"
  },
  "language_info": {
   "codemirror_mode": {
    "name": "ipython",
    "version": 3
   },
   "file_extension": ".py",
   "mimetype": "text/x-python",
   "name": "python",
   "nbconvert_exporter": "python",
   "pygments_lexer": "ipython3",
   "version": "3.12.3"
  }
 },
 "nbformat": 4,
 "nbformat_minor": 2
}
