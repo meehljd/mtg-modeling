{
 "cells": [
  {
   "cell_type": "markdown",
   "metadata": {},
   "source": [
    "# Summary\n",
    "\n",
    "The code to acquire and pre-process the data to use for future analysis."
   ]
  },
  {
   "cell_type": "code",
   "execution_count": 1,
   "metadata": {},
   "outputs": [
    {
     "name": "stdout",
     "output_type": "stream",
     "text": [
      "Changed working directory to: /root/mtg-modeling\n"
     ]
    }
   ],
   "source": [
    "# Setup Notebook\n",
    "import os\n",
    "\n",
    "if os.path.basename(os.getcwd()) != \"mtg-modeling\":\n",
    "    get_ipython().run_line_magic(\"run\", '-i \"../../scripts/notebook_header.py\"')  # type: ignore"
   ]
  },
  {
   "cell_type": "code",
   "execution_count": 2,
   "metadata": {},
   "outputs": [],
   "source": [
    "import requests\n",
    "import gzip\n",
    "import shutil\n",
    "import itertools"
   ]
  },
  {
   "cell_type": "code",
   "execution_count": 3,
   "metadata": {},
   "outputs": [],
   "source": [
    "set_codes = [\"OTJ\", \"MH3\", \"MKM\"]\n",
    "draft_formats = [\"PremierDraft\"]  # , \"TradDraft\", \"Sealed\", \"TradSealed\"]\n",
    "data_types = [\"game_data\"]  # , \"draft_data\"]  # omit 'replay_data' due to large size"
   ]
  },
  {
   "cell_type": "code",
   "execution_count": 4,
   "metadata": {},
   "outputs": [
    {
     "name": "stdout",
     "output_type": "stream",
     "text": [
      "Downloading OTJ PremierDraft game_data Data...\n",
      "Downloading MH3 PremierDraft game_data Data...\n",
      "Downloading MKM PremierDraft game_data Data...\n",
      "Done!\n"
     ]
    }
   ],
   "source": [
    "for set_code, draft_format, data_type in itertools.product(\n",
    "    set_codes, draft_formats, data_types\n",
    "):\n",
    "    print(f\"Downloading {set_code} {draft_format} {data_type} Data...\")\n",
    "    save_path = Path(f\"data/raw/17lands/{data_type}/{draft_format}\")\n",
    "    gz_file = f\"{data_type}_public.{set_code}.{draft_format}.csv.gz\"\n",
    "    csv_file = f\"{data_type}_public.{set_code}.{draft_format}.csv\"\n",
    "    url = f\"https://17lands-public.s3.amazonaws.com/analysis_data/{data_type}/{gz_file}\"\n",
    "    os.makedirs(save_path, exist_ok=True)\n",
    "\n",
    "    # Download File\n",
    "    response = requests.get(url, stream=True)\n",
    "    if response.status_code != 200:\n",
    "        print(\n",
    "            f\"Failed to download {set_code} {draft_format} {data_type} data from {url}.\"\n",
    "        )\n",
    "        continue\n",
    "    with open(save_path / gz_file, \"wb\") as file:\n",
    "        file.write(response.content)\n",
    "\n",
    "    # Unzip File\n",
    "    with gzip.open(save_path / gz_file, \"rb\") as f_in:\n",
    "        with open(save_path / csv_file, \"wb\") as f_out:\n",
    "            shutil.copyfileobj(f_in, f_out)\n",
    "\n",
    "    os.remove(save_path / gz_file)\n",
    "print(\"Done!\")"
   ]
  }
 ],
 "metadata": {
  "kernelspec": {
   "display_name": "Python 3",
   "language": "python",
   "name": "python3"
  },
  "language_info": {
   "codemirror_mode": {
    "name": "ipython",
    "version": 3
   },
   "file_extension": ".py",
   "mimetype": "text/x-python",
   "name": "python",
   "nbconvert_exporter": "python",
   "pygments_lexer": "ipython3",
   "version": "3.12.3"
  }
 },
 "nbformat": 4,
 "nbformat_minor": 2
}
