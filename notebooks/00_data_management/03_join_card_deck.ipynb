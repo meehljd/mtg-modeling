{
 "cells": [
  {
   "cell_type": "code",
   "execution_count": 1,
   "metadata": {},
   "outputs": [],
   "source": [
    "import pandas as pd"
   ]
  },
  {
   "cell_type": "code",
   "execution_count": 2,
   "metadata": {},
   "outputs": [],
   "source": [
    "deck_file = '../../data/OTJ/deck.feather'\n",
    "card_file = '../../data/OTJ/card.feather'"
   ]
  },
  {
   "cell_type": "code",
   "execution_count": 3,
   "metadata": {},
   "outputs": [
    {
     "data": {
      "text/plain": [
       "(1167709, 399)"
      ]
     },
     "execution_count": 3,
     "metadata": {},
     "output_type": "execute_result"
    }
   ],
   "source": [
    "\n",
    "df_d = pd.read_feather(deck_file)\n",
    "df_d.shape"
   ]
  },
  {
   "cell_type": "code",
   "execution_count": 10,
   "metadata": {},
   "outputs": [
    {
     "data": {
      "text/plain": [
       "['expansion',\n",
       " 'event_type',\n",
       " 'build_index',\n",
       " 'match_number',\n",
       " 'game_number',\n",
       " 'rank',\n",
       " 'opp_rank',\n",
       " 'main_colors',\n",
       " 'splash_colors',\n",
       " 'on_play',\n",
       " 'num_mulligans',\n",
       " 'opp_num_mulligans',\n",
       " 'opp_colors',\n",
       " 'num_turns',\n",
       " 'won',\n",
       " 'user_n_games_bucket',\n",
       " 'user_game_win_rate_bucket',\n",
       " 'draft_idx',\n",
       " 'Abraded Bluffs',\n",
       " 'Abrupt Decay']"
      ]
     },
     "execution_count": 10,
     "metadata": {},
     "output_type": "execute_result"
    }
   ],
   "source": [
    "df_d[:100].columns.to_list()[:20]"
   ]
  },
  {
   "cell_type": "code",
   "execution_count": 9,
   "metadata": {},
   "outputs": [
    {
     "data": {
      "text/plain": [
       "Series([], Name: count, dtype: int64)"
      ]
     },
     "execution_count": 9,
     "metadata": {},
     "output_type": "execute_result"
    }
   ],
   "source": [
    "df_d['opp_rank'].value_counts()"
   ]
  },
  {
   "cell_type": "code",
   "execution_count": 16,
   "metadata": {},
   "outputs": [
    {
     "data": {
      "text/html": [
       "<div>\n",
       "<style scoped>\n",
       "    .dataframe tbody tr th:only-of-type {\n",
       "        vertical-align: middle;\n",
       "    }\n",
       "\n",
       "    .dataframe tbody tr th {\n",
       "        vertical-align: top;\n",
       "    }\n",
       "\n",
       "    .dataframe thead th {\n",
       "        text-align: right;\n",
       "    }\n",
       "</style>\n",
       "<table border=\"1\" class=\"dataframe\">\n",
       "  <thead>\n",
       "    <tr style=\"text-align: right;\">\n",
       "      <th></th>\n",
       "      <th>event_type</th>\n",
       "      <th>build_index</th>\n",
       "      <th>match_number</th>\n",
       "      <th>game_number</th>\n",
       "      <th>draft_idx</th>\n",
       "      <th>won</th>\n",
       "    </tr>\n",
       "  </thead>\n",
       "  <tbody>\n",
       "    <tr>\n",
       "      <th>0</th>\n",
       "      <td>PremierDraft</td>\n",
       "      <td>0</td>\n",
       "      <td>1</td>\n",
       "      <td>1</td>\n",
       "      <td>0</td>\n",
       "      <td>True</td>\n",
       "    </tr>\n",
       "    <tr>\n",
       "      <th>1</th>\n",
       "      <td>PremierDraft</td>\n",
       "      <td>0</td>\n",
       "      <td>2</td>\n",
       "      <td>1</td>\n",
       "      <td>0</td>\n",
       "      <td>True</td>\n",
       "    </tr>\n",
       "    <tr>\n",
       "      <th>2</th>\n",
       "      <td>PremierDraft</td>\n",
       "      <td>0</td>\n",
       "      <td>3</td>\n",
       "      <td>1</td>\n",
       "      <td>0</td>\n",
       "      <td>False</td>\n",
       "    </tr>\n",
       "    <tr>\n",
       "      <th>3</th>\n",
       "      <td>PremierDraft</td>\n",
       "      <td>0</td>\n",
       "      <td>4</td>\n",
       "      <td>1</td>\n",
       "      <td>0</td>\n",
       "      <td>False</td>\n",
       "    </tr>\n",
       "    <tr>\n",
       "      <th>4</th>\n",
       "      <td>PremierDraft</td>\n",
       "      <td>0</td>\n",
       "      <td>5</td>\n",
       "      <td>1</td>\n",
       "      <td>0</td>\n",
       "      <td>True</td>\n",
       "    </tr>\n",
       "    <tr>\n",
       "      <th>5</th>\n",
       "      <td>PremierDraft</td>\n",
       "      <td>0</td>\n",
       "      <td>6</td>\n",
       "      <td>1</td>\n",
       "      <td>0</td>\n",
       "      <td>True</td>\n",
       "    </tr>\n",
       "    <tr>\n",
       "      <th>6</th>\n",
       "      <td>PremierDraft</td>\n",
       "      <td>0</td>\n",
       "      <td>7</td>\n",
       "      <td>1</td>\n",
       "      <td>0</td>\n",
       "      <td>True</td>\n",
       "    </tr>\n",
       "    <tr>\n",
       "      <th>7</th>\n",
       "      <td>PremierDraft</td>\n",
       "      <td>0</td>\n",
       "      <td>8</td>\n",
       "      <td>1</td>\n",
       "      <td>0</td>\n",
       "      <td>False</td>\n",
       "    </tr>\n",
       "    <tr>\n",
       "      <th>8</th>\n",
       "      <td>PremierDraft</td>\n",
       "      <td>0</td>\n",
       "      <td>1</td>\n",
       "      <td>1</td>\n",
       "      <td>1</td>\n",
       "      <td>False</td>\n",
       "    </tr>\n",
       "    <tr>\n",
       "      <th>9</th>\n",
       "      <td>PremierDraft</td>\n",
       "      <td>0</td>\n",
       "      <td>2</td>\n",
       "      <td>1</td>\n",
       "      <td>1</td>\n",
       "      <td>True</td>\n",
       "    </tr>\n",
       "    <tr>\n",
       "      <th>10</th>\n",
       "      <td>PremierDraft</td>\n",
       "      <td>1</td>\n",
       "      <td>3</td>\n",
       "      <td>1</td>\n",
       "      <td>1</td>\n",
       "      <td>True</td>\n",
       "    </tr>\n",
       "    <tr>\n",
       "      <th>11</th>\n",
       "      <td>PremierDraft</td>\n",
       "      <td>1</td>\n",
       "      <td>4</td>\n",
       "      <td>1</td>\n",
       "      <td>1</td>\n",
       "      <td>True</td>\n",
       "    </tr>\n",
       "    <tr>\n",
       "      <th>12</th>\n",
       "      <td>PremierDraft</td>\n",
       "      <td>1</td>\n",
       "      <td>5</td>\n",
       "      <td>1</td>\n",
       "      <td>1</td>\n",
       "      <td>False</td>\n",
       "    </tr>\n",
       "    <tr>\n",
       "      <th>13</th>\n",
       "      <td>PremierDraft</td>\n",
       "      <td>1</td>\n",
       "      <td>6</td>\n",
       "      <td>1</td>\n",
       "      <td>1</td>\n",
       "      <td>False</td>\n",
       "    </tr>\n",
       "    <tr>\n",
       "      <th>14</th>\n",
       "      <td>PremierDraft</td>\n",
       "      <td>0</td>\n",
       "      <td>1</td>\n",
       "      <td>1</td>\n",
       "      <td>2</td>\n",
       "      <td>True</td>\n",
       "    </tr>\n",
       "    <tr>\n",
       "      <th>15</th>\n",
       "      <td>PremierDraft</td>\n",
       "      <td>0</td>\n",
       "      <td>2</td>\n",
       "      <td>1</td>\n",
       "      <td>2</td>\n",
       "      <td>True</td>\n",
       "    </tr>\n",
       "    <tr>\n",
       "      <th>16</th>\n",
       "      <td>PremierDraft</td>\n",
       "      <td>0</td>\n",
       "      <td>3</td>\n",
       "      <td>1</td>\n",
       "      <td>2</td>\n",
       "      <td>True</td>\n",
       "    </tr>\n",
       "    <tr>\n",
       "      <th>17</th>\n",
       "      <td>PremierDraft</td>\n",
       "      <td>0</td>\n",
       "      <td>4</td>\n",
       "      <td>1</td>\n",
       "      <td>2</td>\n",
       "      <td>False</td>\n",
       "    </tr>\n",
       "    <tr>\n",
       "      <th>18</th>\n",
       "      <td>PremierDraft</td>\n",
       "      <td>0</td>\n",
       "      <td>5</td>\n",
       "      <td>1</td>\n",
       "      <td>2</td>\n",
       "      <td>False</td>\n",
       "    </tr>\n",
       "    <tr>\n",
       "      <th>19</th>\n",
       "      <td>PremierDraft</td>\n",
       "      <td>0</td>\n",
       "      <td>6</td>\n",
       "      <td>1</td>\n",
       "      <td>2</td>\n",
       "      <td>True</td>\n",
       "    </tr>\n",
       "    <tr>\n",
       "      <th>20</th>\n",
       "      <td>PremierDraft</td>\n",
       "      <td>0</td>\n",
       "      <td>7</td>\n",
       "      <td>1</td>\n",
       "      <td>2</td>\n",
       "      <td>True</td>\n",
       "    </tr>\n",
       "    <tr>\n",
       "      <th>21</th>\n",
       "      <td>PremierDraft</td>\n",
       "      <td>0</td>\n",
       "      <td>8</td>\n",
       "      <td>1</td>\n",
       "      <td>2</td>\n",
       "      <td>False</td>\n",
       "    </tr>\n",
       "    <tr>\n",
       "      <th>22</th>\n",
       "      <td>PremierDraft</td>\n",
       "      <td>0</td>\n",
       "      <td>1</td>\n",
       "      <td>1</td>\n",
       "      <td>3</td>\n",
       "      <td>False</td>\n",
       "    </tr>\n",
       "    <tr>\n",
       "      <th>23</th>\n",
       "      <td>PremierDraft</td>\n",
       "      <td>0</td>\n",
       "      <td>2</td>\n",
       "      <td>1</td>\n",
       "      <td>3</td>\n",
       "      <td>True</td>\n",
       "    </tr>\n",
       "    <tr>\n",
       "      <th>24</th>\n",
       "      <td>PremierDraft</td>\n",
       "      <td>0</td>\n",
       "      <td>3</td>\n",
       "      <td>1</td>\n",
       "      <td>3</td>\n",
       "      <td>False</td>\n",
       "    </tr>\n",
       "    <tr>\n",
       "      <th>25</th>\n",
       "      <td>PremierDraft</td>\n",
       "      <td>0</td>\n",
       "      <td>4</td>\n",
       "      <td>1</td>\n",
       "      <td>3</td>\n",
       "      <td>False</td>\n",
       "    </tr>\n",
       "    <tr>\n",
       "      <th>26</th>\n",
       "      <td>PremierDraft</td>\n",
       "      <td>0</td>\n",
       "      <td>1</td>\n",
       "      <td>1</td>\n",
       "      <td>4</td>\n",
       "      <td>True</td>\n",
       "    </tr>\n",
       "    <tr>\n",
       "      <th>27</th>\n",
       "      <td>PremierDraft</td>\n",
       "      <td>0</td>\n",
       "      <td>2</td>\n",
       "      <td>1</td>\n",
       "      <td>4</td>\n",
       "      <td>True</td>\n",
       "    </tr>\n",
       "    <tr>\n",
       "      <th>28</th>\n",
       "      <td>PremierDraft</td>\n",
       "      <td>0</td>\n",
       "      <td>3</td>\n",
       "      <td>1</td>\n",
       "      <td>4</td>\n",
       "      <td>True</td>\n",
       "    </tr>\n",
       "    <tr>\n",
       "      <th>29</th>\n",
       "      <td>PremierDraft</td>\n",
       "      <td>0</td>\n",
       "      <td>4</td>\n",
       "      <td>1</td>\n",
       "      <td>4</td>\n",
       "      <td>False</td>\n",
       "    </tr>\n",
       "  </tbody>\n",
       "</table>\n",
       "</div>"
      ],
      "text/plain": [
       "      event_type  build_index  match_number  game_number  draft_idx    won\n",
       "0   PremierDraft            0             1            1          0   True\n",
       "1   PremierDraft            0             2            1          0   True\n",
       "2   PremierDraft            0             3            1          0  False\n",
       "3   PremierDraft            0             4            1          0  False\n",
       "4   PremierDraft            0             5            1          0   True\n",
       "5   PremierDraft            0             6            1          0   True\n",
       "6   PremierDraft            0             7            1          0   True\n",
       "7   PremierDraft            0             8            1          0  False\n",
       "8   PremierDraft            0             1            1          1  False\n",
       "9   PremierDraft            0             2            1          1   True\n",
       "10  PremierDraft            1             3            1          1   True\n",
       "11  PremierDraft            1             4            1          1   True\n",
       "12  PremierDraft            1             5            1          1  False\n",
       "13  PremierDraft            1             6            1          1  False\n",
       "14  PremierDraft            0             1            1          2   True\n",
       "15  PremierDraft            0             2            1          2   True\n",
       "16  PremierDraft            0             3            1          2   True\n",
       "17  PremierDraft            0             4            1          2  False\n",
       "18  PremierDraft            0             5            1          2  False\n",
       "19  PremierDraft            0             6            1          2   True\n",
       "20  PremierDraft            0             7            1          2   True\n",
       "21  PremierDraft            0             8            1          2  False\n",
       "22  PremierDraft            0             1            1          3  False\n",
       "23  PremierDraft            0             2            1          3   True\n",
       "24  PremierDraft            0             3            1          3  False\n",
       "25  PremierDraft            0             4            1          3  False\n",
       "26  PremierDraft            0             1            1          4   True\n",
       "27  PremierDraft            0             2            1          4   True\n",
       "28  PremierDraft            0             3            1          4   True\n",
       "29  PremierDraft            0             4            1          4  False"
      ]
     },
     "execution_count": 16,
     "metadata": {},
     "output_type": "execute_result"
    }
   ],
   "source": [
    "df_d[['event_type', 'build_index', 'match_number', 'game_number', 'draft_idx', 'won']].head(30)"
   ]
  },
  {
   "cell_type": "code",
   "execution_count": 37,
   "metadata": {},
   "outputs": [
    {
     "data": {
      "text/plain": [
       "2"
      ]
     },
     "execution_count": 37,
     "metadata": {},
     "output_type": "execute_result"
    }
   ],
   "source": [
    "df_d['game_number'].max()"
   ]
  },
  {
   "cell_type": "code",
   "execution_count": null,
   "metadata": {},
   "outputs": [],
   "source": [
    "# id\n",
    "\n",
    "# {draft_idx}_{build_index}_{match_number}_{game_number}_{record}"
   ]
  },
  {
   "cell_type": "code",
   "execution_count": 35,
   "metadata": {},
   "outputs": [
    {
     "data": {
      "text/plain": [
       "0     000000_00_1_1\n",
       "1     000000_00_2_1\n",
       "2     000000_00_3_1\n",
       "3     000000_00_4_1\n",
       "4     000000_00_5_1\n",
       "          ...      \n",
       "95    000015_00_3_1\n",
       "96    000015_00_4_1\n",
       "97    000015_00_5_1\n",
       "98    000015_00_6_1\n",
       "99    000015_00_7_1\n",
       "Name: id, Length: 100, dtype: object"
      ]
     },
     "execution_count": 35,
     "metadata": {},
     "output_type": "execute_result"
    }
   ],
   "source": [
    "def get_id(row):\n",
    "    draft_idx = str(row['draft_idx']).zfill(6)\n",
    "    build_index = str(row['build_index']).zfill(2)\n",
    "    match_number = str(row['match_number']).zfill(2)\n",
    "    return f\"{draft_idx}_{build_index}_{match_number}_{row['game_number']}\"\n",
    "\n",
    "df_d['id'] = df_d.head(100).apply(get_id, axis=1)\n",
    "df_d['id'].head(100)"
   ]
  },
  {
   "cell_type": "code",
   "execution_count": 26,
   "metadata": {},
   "outputs": [
    {
     "data": {
      "text/html": [
       "<div>\n",
       "<style scoped>\n",
       "    .dataframe tbody tr th:only-of-type {\n",
       "        vertical-align: middle;\n",
       "    }\n",
       "\n",
       "    .dataframe tbody tr th {\n",
       "        vertical-align: top;\n",
       "    }\n",
       "\n",
       "    .dataframe thead th {\n",
       "        text-align: right;\n",
       "    }\n",
       "</style>\n",
       "<table border=\"1\" class=\"dataframe\">\n",
       "  <thead>\n",
       "    <tr style=\"text-align: right;\">\n",
       "      <th></th>\n",
       "      <th>build_index</th>\n",
       "      <th>match_number</th>\n",
       "      <th>opp_rank</th>\n",
       "      <th>opp_colors</th>\n",
       "      <th>Plains</th>\n",
       "      <th>Vengeful Townsfolk</th>\n",
       "    </tr>\n",
       "  </thead>\n",
       "  <tbody>\n",
       "    <tr>\n",
       "      <th>9</th>\n",
       "      <td>0</td>\n",
       "      <td>2</td>\n",
       "      <td>NaN</td>\n",
       "      <td>WR</td>\n",
       "      <td>8</td>\n",
       "      <td>1</td>\n",
       "    </tr>\n",
       "    <tr>\n",
       "      <th>10</th>\n",
       "      <td>1</td>\n",
       "      <td>3</td>\n",
       "      <td>NaN</td>\n",
       "      <td>WU</td>\n",
       "      <td>7</td>\n",
       "      <td>2</td>\n",
       "    </tr>\n",
       "  </tbody>\n",
       "</table>\n",
       "</div>"
      ],
      "text/plain": [
       "    build_index  match_number  opp_rank opp_colors  Plains  Vengeful Townsfolk\n",
       "9             0             2       NaN         WR       8                   1\n",
       "10            1             3       NaN         WU       7                   2"
      ]
     },
     "execution_count": 26,
     "metadata": {},
     "output_type": "execute_result"
    }
   ],
   "source": [
    "col_mask = df_d.iloc[9] != df_d.iloc[10]\n",
    "col_mask\n",
    "\n",
    "df_d[df_d.columns[col_mask]].iloc[9:11]"
   ]
  },
  {
   "cell_type": "code",
   "execution_count": 5,
   "metadata": {},
   "outputs": [
    {
     "name": "stdout",
     "output_type": "stream",
     "text": [
      "(1167709, 399)\n",
      "(200000, 399)\n"
     ]
    }
   ],
   "source": [
    "# sample rows\n",
    "\n",
    "n_rows = 200_000  # ~1.1M rows originally\n",
    "\n",
    "print(df_d.shape)\n",
    "df_d = df_d.sample(n_rows, random_state=42)\n",
    "print(df_d.shape)"
   ]
  },
  {
   "cell_type": "code",
   "execution_count": 6,
   "metadata": {},
   "outputs": [
    {
     "name": "stdout",
     "output_type": "stream",
     "text": [
      "381\n"
     ]
    },
    {
     "data": {
      "text/plain": [
       "Index(['Razzle-Dazzler', 'Magda, the Hoardmaster', 'Bucolic Ranch',\n",
       "       'Clear Shot', 'Collector's Cage', 'Bridled Bighorn',\n",
       "       'Iron-Fist Pulverizer', 'Vadmir, New Blood', 'Mountain',\n",
       "       'Eriette's Lullaby', 'Spring Splasher', 'Obeka, Splitter of Seconds',\n",
       "       'Rambling Possum', 'Intimidation Campaign', 'Daring Thunder-Thief',\n",
       "       'Malcolm, the Eyes', 'Detention Sphere', 'The Key to the Vault',\n",
       "       'Plains', 'Mindbreak Trap', 'Unfortunate Accident',\n",
       "       'Geralf, the Fleshwright', 'Arid Archway', 'Return the Favor',\n",
       "       'Trash the Town', 'Primal Might', 'Abraded Bluffs', 'Fell the Mighty',\n",
       "       'Tyrant's Scorn', 'Bedevil', 'Boom Box', 'Annie Joins Up',\n",
       "       'Demonic Ruckus', 'Scalestorm Summoner', 'Torpor Orb',\n",
       "       'Djinn of Fool's Fall', 'Final Showdown', 'Outlaw Stitcher',\n",
       "       'Bristlepack Sentry', 'Sterling Hound', 'Plan the Heist', 'Fling',\n",
       "       'Skewer the Critics', 'Villainous Wealth', 'Bandit's Haul',\n",
       "       'Boneyard Desecrator', 'Deepmuck Desperado', 'Harrier Strix',\n",
       "       'Collective Defiance', 'Blooming Marsh', 'Grindstone',\n",
       "       'Ornery Tumblewagg', 'Void Rend', 'Lassoed by the Law', 'Gold Rush',\n",
       "       'Mourner's Surprise', 'Failed Fording', 'Ancient Cornucopia',\n",
       "       'Thoughtseize', 'Bruse Tarl, Roving Rancher', 'Pillage the Bog',\n",
       "       'Vial Smasher, Gleeful Grenadier', 'Kellan Joins Up',\n",
       "       'Shepherd of the Clouds', 'Dust Bowl', 'Tinybones, the Pickpocket',\n",
       "       'Deadeye Duelist', 'The Gitrog, Ravenous Ride', 'Aloe Alchemist',\n",
       "       'At Knifepoint', 'Forlorn Flats', 'Fractured Identity',\n",
       "       'Jace Reawakened', 'Consuming Ashes', 'Port Razer', 'Rodeo Pyromancers',\n",
       "       'Treasure Dredger', 'Desert', 'Raven of Fell Omens', 'Endless Detour',\n",
       "       'Wanted Griffin', 'Requisition Raid', 'Hollow Marauder',\n",
       "       'Spirebluff Canal', 'Transmutation Font', 'Path to Exile',\n",
       "       'Smuggler's Surprise', 'Decisive Denial', 'Prairie Dog', 'Forest',\n",
       "       'Armored Armadillo', 'Crackle with Power', 'Harvester of Misery',\n",
       "       'Ankle Biter', 'Aven Interrupter', 'Kraum, Violent Cacophony',\n",
       "       'Tarnation Vista', 'Swamp', 'Shackle Slinger', 'Pitiless Carnage'],\n",
       "      dtype='object')"
      ]
     },
     "execution_count": 6,
     "metadata": {},
     "output_type": "execute_result"
    }
   ],
   "source": [
    "card_st_idx = df_d.columns.to_list().index('Abraded Bluffs')\n",
    "card_cols = df_d.columns[card_st_idx:].to_list()\n",
    "print(len(card_cols))\n",
    "\n",
    "n_cards = 100\n",
    "df_col = df_d[card_cols][:1].sample(n_cards, axis=1, random_state=42)\n",
    "card_cols = df_col.columns\n",
    "card_cols\n"
   ]
  },
  {
   "cell_type": "code",
   "execution_count": 7,
   "metadata": {},
   "outputs": [],
   "source": [
    "df_d[card_cols] = df_d[card_cols] > 0"
   ]
  },
  {
   "cell_type": "code",
   "execution_count": 8,
   "metadata": {},
   "outputs": [
    {
     "data": {
      "text/plain": [
       "(200000, 102)"
      ]
     },
     "execution_count": 8,
     "metadata": {},
     "output_type": "execute_result"
    }
   ],
   "source": [
    "idx_cols = ['draft_idx', 'won']\n",
    "cols = idx_cols + card_cols.to_list()\n",
    "df_d = df_d[cols]\n",
    "df_d.shape\n"
   ]
  },
  {
   "cell_type": "code",
   "execution_count": 9,
   "metadata": {},
   "outputs": [
    {
     "data": {
      "text/plain": [
       "(20000000, 4)"
      ]
     },
     "execution_count": 9,
     "metadata": {},
     "output_type": "execute_result"
    }
   ],
   "source": [
    "df_d_melt = df_d[cols].melt(id_vars=idx_cols, var_name='card', value_name='in_deck')\n",
    "df_d_melt.to_feather('../../data/OTJ/deck_melt.feather')\n",
    "df_d_melt.shape"
   ]
  },
  {
   "cell_type": "code",
   "execution_count": 10,
   "metadata": {},
   "outputs": [
    {
     "data": {
      "text/html": [
       "<div>\n",
       "<style scoped>\n",
       "    .dataframe tbody tr th:only-of-type {\n",
       "        vertical-align: middle;\n",
       "    }\n",
       "\n",
       "    .dataframe tbody tr th {\n",
       "        vertical-align: top;\n",
       "    }\n",
       "\n",
       "    .dataframe thead th {\n",
       "        text-align: right;\n",
       "    }\n",
       "</style>\n",
       "<table border=\"1\" class=\"dataframe\">\n",
       "  <thead>\n",
       "    <tr style=\"text-align: right;\">\n",
       "      <th></th>\n",
       "      <th>draft_idx</th>\n",
       "      <th>won</th>\n",
       "      <th>card</th>\n",
       "      <th>in_deck</th>\n",
       "    </tr>\n",
       "  </thead>\n",
       "  <tbody>\n",
       "    <tr>\n",
       "      <th>3859356</th>\n",
       "      <td>82266</td>\n",
       "      <td>True</td>\n",
       "      <td>Mindbreak Trap</td>\n",
       "      <td>False</td>\n",
       "    </tr>\n",
       "    <tr>\n",
       "      <th>10240456</th>\n",
       "      <td>183991</td>\n",
       "      <td>False</td>\n",
       "      <td>Ornery Tumblewagg</td>\n",
       "      <td>False</td>\n",
       "    </tr>\n",
       "    <tr>\n",
       "      <th>456753</th>\n",
       "      <td>111222</td>\n",
       "      <td>True</td>\n",
       "      <td>Bucolic Ranch</td>\n",
       "      <td>False</td>\n",
       "    </tr>\n",
       "    <tr>\n",
       "      <th>18089059</th>\n",
       "      <td>112833</td>\n",
       "      <td>False</td>\n",
       "      <td>Armored Armadillo</td>\n",
       "      <td>False</td>\n",
       "    </tr>\n",
       "    <tr>\n",
       "      <th>19905149</th>\n",
       "      <td>122919</td>\n",
       "      <td>False</td>\n",
       "      <td>Pitiless Carnage</td>\n",
       "      <td>False</td>\n",
       "    </tr>\n",
       "  </tbody>\n",
       "</table>\n",
       "</div>"
      ],
      "text/plain": [
       "          draft_idx    won               card  in_deck\n",
       "3859356       82266   True     Mindbreak Trap    False\n",
       "10240456     183991  False  Ornery Tumblewagg    False\n",
       "456753       111222   True      Bucolic Ranch    False\n",
       "18089059     112833  False  Armored Armadillo    False\n",
       "19905149     122919  False   Pitiless Carnage    False"
      ]
     },
     "execution_count": 10,
     "metadata": {},
     "output_type": "execute_result"
    }
   ],
   "source": [
    "df_d_melt.sample(5)"
   ]
  },
  {
   "cell_type": "code",
   "execution_count": 11,
   "metadata": {},
   "outputs": [
    {
     "data": {
      "text/plain": [
       "0.0728424"
      ]
     },
     "execution_count": 11,
     "metadata": {},
     "output_type": "execute_result"
    }
   ],
   "source": [
    "df_d_melt['in_deck'].mean()"
   ]
  },
  {
   "cell_type": "code",
   "execution_count": 12,
   "metadata": {},
   "outputs": [
    {
     "data": {
      "text/plain": [
       "(371, 17)"
      ]
     },
     "execution_count": 12,
     "metadata": {},
     "output_type": "execute_result"
    }
   ],
   "source": [
    "df_c = pd.read_feather(card_file)\n",
    "df_c.shape\n"
   ]
  },
  {
   "cell_type": "code",
   "execution_count": 13,
   "metadata": {},
   "outputs": [
    {
     "data": {
      "text/plain": [
       "(20000000, 21)"
      ]
     },
     "execution_count": 13,
     "metadata": {},
     "output_type": "execute_result"
    }
   ],
   "source": [
    "df = pd.merge(df_d_melt, df_c, left_on='card', right_on='name', how='left')\n",
    "df.shape"
   ]
  },
  {
   "cell_type": "code",
   "execution_count": 14,
   "metadata": {},
   "outputs": [
    {
     "name": "stdout",
     "output_type": "stream",
     "text": [
      "400000\n"
     ]
    }
   ],
   "source": [
    "na_mask = df['name'].isna()\n",
    "print(na_mask.sum())\n",
    "if na_mask.sum() > 0:\n",
    "    df[na_mask].sample(10, random_state=42)"
   ]
  },
  {
   "cell_type": "code",
   "execution_count": 15,
   "metadata": {},
   "outputs": [
    {
     "data": {
      "text/html": [
       "<div>\n",
       "<style scoped>\n",
       "    .dataframe tbody tr th:only-of-type {\n",
       "        vertical-align: middle;\n",
       "    }\n",
       "\n",
       "    .dataframe tbody tr th {\n",
       "        vertical-align: top;\n",
       "    }\n",
       "\n",
       "    .dataframe thead th {\n",
       "        text-align: right;\n",
       "    }\n",
       "</style>\n",
       "<table border=\"1\" class=\"dataframe\">\n",
       "  <thead>\n",
       "    <tr style=\"text-align: right;\">\n",
       "      <th></th>\n",
       "      <th>draft_idx</th>\n",
       "      <th>won</th>\n",
       "      <th>card</th>\n",
       "      <th>in_deck</th>\n",
       "      <th>name</th>\n",
       "      <th>setCode</th>\n",
       "      <th>releaseDate</th>\n",
       "      <th>number</th>\n",
       "      <th>layout</th>\n",
       "      <th>availability</th>\n",
       "      <th>...</th>\n",
       "      <th>toughness</th>\n",
       "      <th>colorIdentity</th>\n",
       "      <th>colors</th>\n",
       "      <th>types</th>\n",
       "      <th>subtypes</th>\n",
       "      <th>supertypes</th>\n",
       "      <th>manaCost</th>\n",
       "      <th>manaValue</th>\n",
       "      <th>edhrecRank</th>\n",
       "      <th>edhrecSaltiness</th>\n",
       "    </tr>\n",
       "  </thead>\n",
       "  <tbody>\n",
       "    <tr>\n",
       "      <th>0</th>\n",
       "      <td>96414</td>\n",
       "      <td>True</td>\n",
       "      <td>Razzle-Dazzler</td>\n",
       "      <td>False</td>\n",
       "      <td>Razzle-Dazzler</td>\n",
       "      <td>OTJ</td>\n",
       "      <td>2024-04-19</td>\n",
       "      <td>63</td>\n",
       "      <td>normal</td>\n",
       "      <td>arena, mtgo, paper</td>\n",
       "      <td>...</td>\n",
       "      <td>2</td>\n",
       "      <td>U</td>\n",
       "      <td>U</td>\n",
       "      <td>Creature</td>\n",
       "      <td>Human, Wizard</td>\n",
       "      <td></td>\n",
       "      <td>{1}{U}</td>\n",
       "      <td>2.0</td>\n",
       "      <td>17822.0</td>\n",
       "      <td>NaN</td>\n",
       "    </tr>\n",
       "    <tr>\n",
       "      <th>1</th>\n",
       "      <td>170600</td>\n",
       "      <td>True</td>\n",
       "      <td>Razzle-Dazzler</td>\n",
       "      <td>False</td>\n",
       "      <td>Razzle-Dazzler</td>\n",
       "      <td>OTJ</td>\n",
       "      <td>2024-04-19</td>\n",
       "      <td>63</td>\n",
       "      <td>normal</td>\n",
       "      <td>arena, mtgo, paper</td>\n",
       "      <td>...</td>\n",
       "      <td>2</td>\n",
       "      <td>U</td>\n",
       "      <td>U</td>\n",
       "      <td>Creature</td>\n",
       "      <td>Human, Wizard</td>\n",
       "      <td></td>\n",
       "      <td>{1}{U}</td>\n",
       "      <td>2.0</td>\n",
       "      <td>17822.0</td>\n",
       "      <td>NaN</td>\n",
       "    </tr>\n",
       "    <tr>\n",
       "      <th>2</th>\n",
       "      <td>157994</td>\n",
       "      <td>True</td>\n",
       "      <td>Razzle-Dazzler</td>\n",
       "      <td>False</td>\n",
       "      <td>Razzle-Dazzler</td>\n",
       "      <td>OTJ</td>\n",
       "      <td>2024-04-19</td>\n",
       "      <td>63</td>\n",
       "      <td>normal</td>\n",
       "      <td>arena, mtgo, paper</td>\n",
       "      <td>...</td>\n",
       "      <td>2</td>\n",
       "      <td>U</td>\n",
       "      <td>U</td>\n",
       "      <td>Creature</td>\n",
       "      <td>Human, Wizard</td>\n",
       "      <td></td>\n",
       "      <td>{1}{U}</td>\n",
       "      <td>2.0</td>\n",
       "      <td>17822.0</td>\n",
       "      <td>NaN</td>\n",
       "    </tr>\n",
       "    <tr>\n",
       "      <th>3</th>\n",
       "      <td>35865</td>\n",
       "      <td>True</td>\n",
       "      <td>Razzle-Dazzler</td>\n",
       "      <td>False</td>\n",
       "      <td>Razzle-Dazzler</td>\n",
       "      <td>OTJ</td>\n",
       "      <td>2024-04-19</td>\n",
       "      <td>63</td>\n",
       "      <td>normal</td>\n",
       "      <td>arena, mtgo, paper</td>\n",
       "      <td>...</td>\n",
       "      <td>2</td>\n",
       "      <td>U</td>\n",
       "      <td>U</td>\n",
       "      <td>Creature</td>\n",
       "      <td>Human, Wizard</td>\n",
       "      <td></td>\n",
       "      <td>{1}{U}</td>\n",
       "      <td>2.0</td>\n",
       "      <td>17822.0</td>\n",
       "      <td>NaN</td>\n",
       "    </tr>\n",
       "    <tr>\n",
       "      <th>4</th>\n",
       "      <td>1123</td>\n",
       "      <td>True</td>\n",
       "      <td>Razzle-Dazzler</td>\n",
       "      <td>False</td>\n",
       "      <td>Razzle-Dazzler</td>\n",
       "      <td>OTJ</td>\n",
       "      <td>2024-04-19</td>\n",
       "      <td>63</td>\n",
       "      <td>normal</td>\n",
       "      <td>arena, mtgo, paper</td>\n",
       "      <td>...</td>\n",
       "      <td>2</td>\n",
       "      <td>U</td>\n",
       "      <td>U</td>\n",
       "      <td>Creature</td>\n",
       "      <td>Human, Wizard</td>\n",
       "      <td></td>\n",
       "      <td>{1}{U}</td>\n",
       "      <td>2.0</td>\n",
       "      <td>17822.0</td>\n",
       "      <td>NaN</td>\n",
       "    </tr>\n",
       "  </tbody>\n",
       "</table>\n",
       "<p>5 rows × 21 columns</p>\n",
       "</div>"
      ],
      "text/plain": [
       "   draft_idx   won            card  in_deck            name setCode  \\\n",
       "0      96414  True  Razzle-Dazzler    False  Razzle-Dazzler     OTJ   \n",
       "1     170600  True  Razzle-Dazzler    False  Razzle-Dazzler     OTJ   \n",
       "2     157994  True  Razzle-Dazzler    False  Razzle-Dazzler     OTJ   \n",
       "3      35865  True  Razzle-Dazzler    False  Razzle-Dazzler     OTJ   \n",
       "4       1123  True  Razzle-Dazzler    False  Razzle-Dazzler     OTJ   \n",
       "\n",
       "  releaseDate number  layout        availability  ... toughness colorIdentity  \\\n",
       "0  2024-04-19     63  normal  arena, mtgo, paper  ...         2             U   \n",
       "1  2024-04-19     63  normal  arena, mtgo, paper  ...         2             U   \n",
       "2  2024-04-19     63  normal  arena, mtgo, paper  ...         2             U   \n",
       "3  2024-04-19     63  normal  arena, mtgo, paper  ...         2             U   \n",
       "4  2024-04-19     63  normal  arena, mtgo, paper  ...         2             U   \n",
       "\n",
       "  colors     types       subtypes supertypes manaCost manaValue  edhrecRank  \\\n",
       "0      U  Creature  Human, Wizard              {1}{U}       2.0     17822.0   \n",
       "1      U  Creature  Human, Wizard              {1}{U}       2.0     17822.0   \n",
       "2      U  Creature  Human, Wizard              {1}{U}       2.0     17822.0   \n",
       "3      U  Creature  Human, Wizard              {1}{U}       2.0     17822.0   \n",
       "4      U  Creature  Human, Wizard              {1}{U}       2.0     17822.0   \n",
       "\n",
       "   edhrecSaltiness  \n",
       "0              NaN  \n",
       "1              NaN  \n",
       "2              NaN  \n",
       "3              NaN  \n",
       "4              NaN  \n",
       "\n",
       "[5 rows x 21 columns]"
      ]
     },
     "execution_count": 15,
     "metadata": {},
     "output_type": "execute_result"
    }
   ],
   "source": [
    "df.head()"
   ]
  },
  {
   "cell_type": "code",
   "execution_count": 16,
   "metadata": {},
   "outputs": [],
   "source": [
    "df.to_feather('../../data/OTJ/deck_melt_card.feather')"
   ]
  },
  {
   "cell_type": "code",
   "execution_count": null,
   "metadata": {},
   "outputs": [],
   "source": []
  }
 ],
 "metadata": {
  "kernelspec": {
   "display_name": "dl+bayes-env",
   "language": "python",
   "name": "python3"
  },
  "language_info": {
   "codemirror_mode": {
    "name": "ipython",
    "version": 3
   },
   "file_extension": ".py",
   "mimetype": "text/x-python",
   "name": "python",
   "nbconvert_exporter": "python",
   "pygments_lexer": "ipython3",
   "version": "3.12.3"
  }
 },
 "nbformat": 4,
 "nbformat_minor": 2
}
