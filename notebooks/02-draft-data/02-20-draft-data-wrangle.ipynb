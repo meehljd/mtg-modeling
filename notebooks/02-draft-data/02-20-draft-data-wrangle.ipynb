{
 "cells": [
  {
   "cell_type": "markdown",
   "metadata": {},
   "source": [
    "# Summary\n",
    "\n",
    "The code to wrangle the data.  Deal with NAs, join data frames, etc."
   ]
  },
  {
   "cell_type": "markdown",
   "metadata": {},
   "source": [
    "# Introduction\n",
    "\n",
    "This data set is very large, in both memory and in size.  Each row is a game, with identifiers for the draft event and the player.  The columns have information on the given draft game, with the majority are for card counts per state, such as the number of a given card in the deck or the number of a given card in the opening hand.\n",
    "\n",
    "Ideally I want to melt the data into a tall layout, with rows for each unique combination of card and game and columns for the card count states, such as deck, hand, etc.  This will allow me to easily filter and group the data for analysis.  Unfortunately, after attempting to wrangle in this format, I found that the data set is too large to handle in memory.  I could play with making spares arrays, but I think that would be too much work for this data set.\n",
    "\n",
    "For this notebook, I will keep the data in the wide layout and aggregate down into useful tables, such as per-game and per-player summaries.\n",
    "\n",
    "## Terms\n",
    "\n",
    "The following terms are used in the data set:\n",
    "- __game:__ a single game of MTG\n",
    "- __match:__ a series of games between two players.  Typically best of 1 or best of 3.\n",
    "- __draft:__ an initial draft event, followed by a series of matches between a group of players.\n",
    "- __build:__ a instance of a deck in a draft.  Can be adjusted between games."
   ]
  },
  {
   "cell_type": "markdown",
   "metadata": {},
   "source": [
    "# Initial Setup"
   ]
  },
  {
   "cell_type": "code",
   "execution_count": 1,
   "metadata": {},
   "outputs": [
    {
     "name": "stdout",
     "output_type": "stream",
     "text": [
      "Changed working directory to: d:\\mtg-modeling\n"
     ]
    }
   ],
   "source": [
    "# Setup Notebook\n",
    "import os\n",
    "\n",
    "if os.path.basename(os.getcwd()) != \"mtg-modeling\":\n",
    "    get_ipython().run_line_magic(\"run\", '-i \"../../scripts/notebook_header.py\"')  # type: ignore"
   ]
  },
  {
   "cell_type": "code",
   "execution_count": 2,
   "metadata": {},
   "outputs": [],
   "source": [
    "import pandas as pd\n",
    "from tqdm.notebook import tqdm\n",
    "from pathlib import Path\n",
    "import matplotlib.pyplot as plt\n",
    "import seaborn as sns\n",
    "import numpy as np\n",
    "import time\n",
    "import polars as pl"
   ]
  },
  {
   "cell_type": "markdown",
   "metadata": {},
   "source": [
    "Define Paths"
   ]
  },
  {
   "cell_type": "code",
   "execution_count": 3,
   "metadata": {},
   "outputs": [],
   "source": [
    "SET_CODE = \"OTJ\"\n",
    "\n",
    "\n",
    "paths = {\n",
    "\n",
    "    \"raw\": Path(\"data/raw/17lands/game_data/PremierDraft\"),\n",
    "\n",
    "    \"interim\": Path(\"data/interim/17lands/game_data/premier_draft\"),\n",
    "\n",
    "    \"processed\": Path(\"data/processed/17lands/game_data/premier_draft\"),\n",
    "\n",
    "}\n",
    "\n",
    "\n",
    "csv_file = paths[\"raw\"] / f\"game_data_public.{SET_CODE}.PremierDraft.csv\"\n",
    "\n",
    "parquet_file = paths[\"interim\"] / f\"game_data_public.{SET_CODE}.PremierDraft.parquet\"\n",
    "\n",
    "\n",
    "summary_file = paths[\"processed\"] / f\"{SET_CODE}_Game_PD_Summary.parquet\"\n",
    "\n",
    "game_file = paths[\"processed\"] / f\"{SET_CODE}_Game_PD_Games.parquet\"\n",
    "\n",
    "draft_file = paths[\"processed\"] / f\"{SET_CODE}_Game_PD_Drafts.parquet\"\n",
    "\n",
    "card_file = paths[\"processed\"] / f\"{SET_CODE}_Game_PD_Cards.parquet\"\n",
    "\n",
    "\n",
    "\n",
    "os.makedirs(paths[\"interim\"], exist_ok=True)\n",
    "\n",
    "os.makedirs(paths[\"processed\"], exist_ok=True)"
   ]
  },
  {
   "cell_type": "markdown",
   "metadata": {},
   "source": [
    "Convert the csv file to parquet if needed."
   ]
  },
  {
   "cell_type": "code",
   "execution_count": 4,
   "metadata": {},
   "outputs": [
    {
     "name": "stdout",
     "output_type": "stream",
     "text": [
      "Converted data\\raw\\17lands\\game_data\\PremierDraft\\game_data_public.OTJ.PremierDraft.csv to parquet\n"
     ]
    }
   ],
   "source": [
    "if not os.path.exists(parquet_file):\n",
    "    df = pd.read_csv(csv_file)\n",
    "    df.to_parquet(parquet_file)\n",
    "    print(f\"Converted {csv_file} to parquet\")"
   ]
  },
  {
   "cell_type": "markdown",
   "metadata": {},
   "source": [
    "Scan file into a lazy frame."
   ]
  },
  {
   "cell_type": "code",
   "execution_count": 5,
   "metadata": {},
   "outputs": [],
   "source": [
    "df_lazy = pl.scan_parquet(parquet_file)"
   ]
  },
  {
   "cell_type": "markdown",
   "metadata": {},
   "source": [
    "Parse column names, such as the card name and the card state."
   ]
  },
  {
   "cell_type": "code",
   "execution_count": 6,
   "metadata": {},
   "outputs": [
    {
     "data": {
      "text/plain": [
       "(1905, 1880, 25)"
      ]
     },
     "execution_count": 6,
     "metadata": {},
     "output_type": "execute_result"
    }
   ],
   "source": [
    "cols = df_lazy.collect_schema().names()\n",
    "state_prefixes = [\"tutored_\", \"deck_\", \"opening_hand_\", \"drawn_\", \"sideboard_\"]\n",
    "card_cols = [col for col in cols if any([col.startswith(s) for s in state_prefixes])]\n",
    "index_cols = [col for col in cols if col not in card_cols]\n",
    "\n",
    "card_names = [col.split(\"_\")[-1] for col in card_cols if col.startswith(\"deck_\")]\n",
    "land_cards = [\"Plains\", \"Island\", \"Swamp\", \"Mountain\", \"Forest\"]\n",
    "non_land_cards = [card for card in card_names if card not in land_cards]\n",
    "non_land_card_cols = [\n",
    "    col for col in card_cols if all([land not in col for land in land_cards])\n",
    "]\n",
    "land_card_cols = [col for col in card_cols if any([land in col for land in land_cards])]\n",
    "len(card_cols), len(non_land_card_cols), len(land_card_cols)"
   ]
  },
  {
   "cell_type": "markdown",
   "metadata": {},
   "source": [
    "Check for extra underscores in card names."
   ]
  },
  {
   "cell_type": "code",
   "execution_count": 7,
   "metadata": {},
   "outputs": [],
   "source": [
    "counts = [col.count(\"_\") for col in card_cols if col.startswith(\"deck_\")]\n",
    "assert max(counts) == 1, \"There are some cards with underscores in their names\""
   ]
  },
  {
   "cell_type": "markdown",
   "metadata": {},
   "source": [
    "Show first few rows of the data."
   ]
  },
  {
   "cell_type": "code",
   "execution_count": 8,
   "metadata": {},
   "outputs": [
    {
     "data": {
      "text/html": [
       "<div><style>\n",
       ".dataframe > thead > tr,\n",
       ".dataframe > tbody > tr {\n",
       "  text-align: right;\n",
       "  white-space: pre-wrap;\n",
       "}\n",
       "</style>\n",
       "<small>shape: (1, 20)</small><table border=\"1\" class=\"dataframe\"><thead><tr><th>expansion</th><th>event_type</th><th>draft_id</th><th>draft_time</th><th>game_time</th><th>build_index</th><th>match_number</th><th>game_number</th><th>rank</th><th>opp_rank</th><th>main_colors</th><th>splash_colors</th><th>on_play</th><th>num_mulligans</th><th>opp_num_mulligans</th><th>opp_colors</th><th>num_turns</th><th>won</th><th>user_n_games_bucket</th><th>user_game_win_rate_bucket</th></tr><tr><td>str</td><td>str</td><td>str</td><td>str</td><td>str</td><td>i64</td><td>i64</td><td>i64</td><td>str</td><td>f64</td><td>str</td><td>str</td><td>bool</td><td>i64</td><td>i64</td><td>str</td><td>i64</td><td>bool</td><td>i64</td><td>f64</td></tr></thead><tbody><tr><td>&quot;OTJ&quot;</td><td>&quot;PremierDraft&quot;</td><td>&quot;2324bdf9a7c34d70b970ad50c359b1…</td><td>&quot;2024-05-25 08:26:14&quot;</td><td>&quot;2024-05-25 19:51:42&quot;</td><td>1</td><td>6</td><td>2</td><td>&quot;platinum&quot;</td><td>null</td><td>&quot;UBR&quot;</td><td>&quot;G&quot;</td><td>false</td><td>0</td><td>0</td><td>&quot;UB&quot;</td><td>8</td><td>false</td><td>100</td><td>0.46</td></tr></tbody></table></div>"
      ],
      "text/plain": [
       "shape: (1, 20)\n",
       "┌───────────┬────────────┬────────────┬────────────┬───┬───────────┬───────┬───────────┬───────────┐\n",
       "│ expansion ┆ event_type ┆ draft_id   ┆ draft_time ┆ … ┆ num_turns ┆ won   ┆ user_n_ga ┆ user_game │\n",
       "│ ---       ┆ ---        ┆ ---        ┆ ---        ┆   ┆ ---       ┆ ---   ┆ mes_bucke ┆ _win_rate │\n",
       "│ str       ┆ str        ┆ str        ┆ str        ┆   ┆ i64       ┆ bool  ┆ t         ┆ _bucket   │\n",
       "│           ┆            ┆            ┆            ┆   ┆           ┆       ┆ ---       ┆ ---       │\n",
       "│           ┆            ┆            ┆            ┆   ┆           ┆       ┆ i64       ┆ f64       │\n",
       "╞═══════════╪════════════╪════════════╪════════════╪═══╪═══════════╪═══════╪═══════════╪═══════════╡\n",
       "│ OTJ       ┆ PremierDra ┆ 2324bdf9a7 ┆ 2024-05-25 ┆ … ┆ 8         ┆ false ┆ 100       ┆ 0.46      │\n",
       "│           ┆ ft         ┆ c34d70b970 ┆ 08:26:14   ┆   ┆           ┆       ┆           ┆           │\n",
       "│           ┆            ┆ ad50c359b1 ┆            ┆   ┆           ┆       ┆           ┆           │\n",
       "│           ┆            ┆ …          ┆            ┆   ┆           ┆       ┆           ┆           │\n",
       "└───────────┴────────────┴────────────┴────────────┴───┴───────────┴───────┴───────────┴───────────┘"
      ]
     },
     "execution_count": 8,
     "metadata": {},
     "output_type": "execute_result"
    }
   ],
   "source": [
    "df_lazy.filter(pl.col(\"game_number\") > 1).select(index_cols).head(30).collect()"
   ]
  },
  {
   "cell_type": "markdown",
   "metadata": {},
   "source": [
    "Convert timestamps from strings to datetimes"
   ]
  },
  {
   "cell_type": "code",
   "execution_count": 9,
   "metadata": {},
   "outputs": [],
   "source": [
    "df_lazy = df_lazy.with_columns(\n",
    "    pl.col(\"draft_time\").str.strptime(pl.Datetime, \"%Y-%m-%d %H:%M:%S\"),\n",
    "    pl.col(\"game_time\").str.strptime(pl.Datetime, \"%Y-%m-%d %H:%M:%S\"),\n",
    ")"
   ]
  },
  {
   "cell_type": "markdown",
   "metadata": {},
   "source": [
    "# Games Table\n",
    "\n",
    "A table of each game, excludes card data."
   ]
  },
  {
   "cell_type": "code",
   "execution_count": 10,
   "metadata": {},
   "outputs": [
    {
     "data": {
      "text/html": [
       "<div><style>\n",
       ".dataframe > thead > tr,\n",
       ".dataframe > tbody > tr {\n",
       "  text-align: right;\n",
       "  white-space: pre-wrap;\n",
       "}\n",
       "</style>\n",
       "<small>shape: (2, 20)</small><table border=\"1\" class=\"dataframe\"><thead><tr><th>expansion</th><th>event_type</th><th>draft_id</th><th>draft_time</th><th>game_time</th><th>build_index</th><th>match_number</th><th>game_number</th><th>rank</th><th>opp_rank</th><th>main_colors</th><th>splash_colors</th><th>on_play</th><th>num_mulligans</th><th>opp_num_mulligans</th><th>opp_colors</th><th>num_turns</th><th>won</th><th>user_n_games_bucket</th><th>user_game_win_rate_bucket</th></tr><tr><td>str</td><td>str</td><td>str</td><td>datetime[μs]</td><td>datetime[μs]</td><td>i64</td><td>i64</td><td>i64</td><td>str</td><td>f64</td><td>str</td><td>str</td><td>bool</td><td>i64</td><td>i64</td><td>str</td><td>i64</td><td>bool</td><td>i64</td><td>f64</td></tr></thead><tbody><tr><td>&quot;OTJ&quot;</td><td>&quot;PremierDraft&quot;</td><td>&quot;a067b94d44374400842c97a6e684b5…</td><td>2024-04-16 16:55:03</td><td>2024-04-16 17:21:22</td><td>0</td><td>1</td><td>1</td><td>&quot;bronze&quot;</td><td>null</td><td>&quot;WU&quot;</td><td>&quot;B&quot;</td><td>false</td><td>0</td><td>1</td><td>&quot;U&quot;</td><td>9</td><td>true</td><td>50</td><td>0.58</td></tr><tr><td>&quot;OTJ&quot;</td><td>&quot;PremierDraft&quot;</td><td>&quot;a067b94d44374400842c97a6e684b5…</td><td>2024-04-16 16:55:03</td><td>2024-04-16 17:37:41</td><td>0</td><td>2</td><td>1</td><td>&quot;bronze&quot;</td><td>null</td><td>&quot;WU&quot;</td><td>&quot;B&quot;</td><td>true</td><td>0</td><td>0</td><td>&quot;BR&quot;</td><td>11</td><td>true</td><td>50</td><td>0.58</td></tr></tbody></table></div>"
      ],
      "text/plain": [
       "shape: (2, 20)\n",
       "┌───────────┬────────────┬────────────┬────────────┬───┬───────────┬──────┬────────────┬───────────┐\n",
       "│ expansion ┆ event_type ┆ draft_id   ┆ draft_time ┆ … ┆ num_turns ┆ won  ┆ user_n_gam ┆ user_game │\n",
       "│ ---       ┆ ---        ┆ ---        ┆ ---        ┆   ┆ ---       ┆ ---  ┆ es_bucket  ┆ _win_rate │\n",
       "│ str       ┆ str        ┆ str        ┆ datetime[μ ┆   ┆ i64       ┆ bool ┆ ---        ┆ _bucket   │\n",
       "│           ┆            ┆            ┆ s]         ┆   ┆           ┆      ┆ i64        ┆ ---       │\n",
       "│           ┆            ┆            ┆            ┆   ┆           ┆      ┆            ┆ f64       │\n",
       "╞═══════════╪════════════╪════════════╪════════════╪═══╪═══════════╪══════╪════════════╪═══════════╡\n",
       "│ OTJ       ┆ PremierDra ┆ a067b94d44 ┆ 2024-04-16 ┆ … ┆ 9         ┆ true ┆ 50         ┆ 0.58      │\n",
       "│           ┆ ft         ┆ 374400842c ┆ 16:55:03   ┆   ┆           ┆      ┆            ┆           │\n",
       "│           ┆            ┆ 97a6e684b5 ┆            ┆   ┆           ┆      ┆            ┆           │\n",
       "│           ┆            ┆ …          ┆            ┆   ┆           ┆      ┆            ┆           │\n",
       "│ OTJ       ┆ PremierDra ┆ a067b94d44 ┆ 2024-04-16 ┆ … ┆ 11        ┆ true ┆ 50         ┆ 0.58      │\n",
       "│           ┆ ft         ┆ 374400842c ┆ 16:55:03   ┆   ┆           ┆      ┆            ┆           │\n",
       "│           ┆            ┆ 97a6e684b5 ┆            ┆   ┆           ┆      ┆            ┆           │\n",
       "│           ┆            ┆ …          ┆            ┆   ┆           ┆      ┆            ┆           │\n",
       "└───────────┴────────────┴────────────┴────────────┴───┴───────────┴──────┴────────────┴───────────┘"
      ]
     },
     "execution_count": 10,
     "metadata": {},
     "output_type": "execute_result"
    }
   ],
   "source": [
    "df_games = df_lazy.select(index_cols)\n",
    "df_games.collect().write_parquet(game_file)\n",
    "\n",
    "df_games.head(2).collect()"
   ]
  },
  {
   "cell_type": "markdown",
   "metadata": {},
   "source": [
    "# Draft Table\n",
    "\n",
    "A table of the aggregated draft data, excluding card data."
   ]
  },
  {
   "cell_type": "code",
   "execution_count": 11,
   "metadata": {},
   "outputs": [
    {
     "data": {
      "text/html": [
       "<div><style>\n",
       ".dataframe > thead > tr,\n",
       ".dataframe > tbody > tr {\n",
       "  text-align: right;\n",
       "  white-space: pre-wrap;\n",
       "}\n",
       "</style>\n",
       "<small>shape: (5, 19)</small><table border=\"1\" class=\"dataframe\"><thead><tr><th>draft_id</th><th>n_builds</th><th>n_matches</th><th>n_games</th><th>n_wins</th><th>win_rate</th><th>rank</th><th>opp_rank</th><th>main_colors</th><th>opp_colors</th><th>splash_colors</th><th>n_starts</th><th>n_muls</th><th>n_opp_muls</th><th>mean_turns</th><th>draft_time</th><th>first_game_time</th><th>last_game_time</th><th>n_losses</th></tr><tr><td>str</td><td>i64</td><td>i64</td><td>u32</td><td>u32</td><td>f64</td><td>str</td><td>f64</td><td>str</td><td>str</td><td>str</td><td>u32</td><td>i64</td><td>i64</td><td>f64</td><td>datetime[μs]</td><td>datetime[μs]</td><td>datetime[μs]</td><td>u32</td></tr></thead><tbody><tr><td>&quot;ded9a34cda89457284b5adbd384e1b…</td><td>0</td><td>8</td><td>8</td><td>5</td><td>0.625</td><td>&quot;diamond&quot;</td><td>null</td><td>&quot;URG&quot;</td><td>&quot;WBR&quot;</td><td>&quot;B&quot;</td><td>3</td><td>0</td><td>0</td><td>7.75</td><td>2024-04-19 22:36:54</td><td>2024-04-19 23:03:57</td><td>2024-04-20 04:35:10</td><td>3</td></tr><tr><td>&quot;2603abb8bf9c49919fefe57011b6fa…</td><td>1</td><td>6</td><td>6</td><td>3</td><td>0.5</td><td>&quot;gold&quot;</td><td>null</td><td>&quot;UB&quot;</td><td>&quot;WUG&quot;</td><td>&quot;RG&quot;</td><td>3</td><td>1</td><td>3</td><td>8.833333</td><td>2024-04-29 10:30:21</td><td>2024-04-29 10:55:07</td><td>2024-04-29 13:03:15</td><td>3</td></tr><tr><td>&quot;b931aaa00d7e418288a6ce6dae0c90…</td><td>0</td><td>4</td><td>4</td><td>1</td><td>0.25</td><td>&quot;platinum&quot;</td><td>null</td><td>&quot;BG&quot;</td><td>&quot;WBRG&quot;</td><td>null</td><td>2</td><td>1</td><td>0</td><td>8.75</td><td>2024-04-21 11:40:12</td><td>2024-04-21 12:00:49</td><td>2024-04-21 16:20:01</td><td>3</td></tr><tr><td>&quot;8bf53792894d49b5b1ac2db9bb12d3…</td><td>0</td><td>6</td><td>6</td><td>3</td><td>0.5</td><td>&quot;platinum&quot;</td><td>null</td><td>&quot;UR&quot;</td><td>&quot;BR&quot;</td><td>&quot;BG&quot;</td><td>4</td><td>0</td><td>1</td><td>7.833333</td><td>2024-04-25 05:20:00</td><td>2024-04-25 05:45:10</td><td>2024-04-25 06:29:02</td><td>3</td></tr><tr><td>&quot;46357dffe9ff40cb94342770fb6d16…</td><td>0</td><td>7</td><td>7</td><td>4</td><td>0.571429</td><td>&quot;platinum&quot;</td><td>null</td><td>&quot;WB&quot;</td><td>&quot;UBR&quot;</td><td>&quot;G&quot;</td><td>3</td><td>4</td><td>0</td><td>9.428571</td><td>2024-05-13 21:32:55</td><td>2024-05-13 21:59:14</td><td>2024-05-13 22:46:09</td><td>3</td></tr></tbody></table></div>"
      ],
      "text/plain": [
       "shape: (5, 19)\n",
       "┌────────────┬──────────┬───────────┬─────────┬───┬────────────┬────────────┬───────────┬──────────┐\n",
       "│ draft_id   ┆ n_builds ┆ n_matches ┆ n_games ┆ … ┆ draft_time ┆ first_game ┆ last_game ┆ n_losses │\n",
       "│ ---        ┆ ---      ┆ ---       ┆ ---     ┆   ┆ ---        ┆ _time      ┆ _time     ┆ ---      │\n",
       "│ str        ┆ i64      ┆ i64       ┆ u32     ┆   ┆ datetime[μ ┆ ---        ┆ ---       ┆ u32      │\n",
       "│            ┆          ┆           ┆         ┆   ┆ s]         ┆ datetime[μ ┆ datetime[ ┆          │\n",
       "│            ┆          ┆           ┆         ┆   ┆            ┆ s]         ┆ μs]       ┆          │\n",
       "╞════════════╪══════════╪═══════════╪═════════╪═══╪════════════╪════════════╪═══════════╪══════════╡\n",
       "│ ded9a34cda ┆ 0        ┆ 8         ┆ 8       ┆ … ┆ 2024-04-19 ┆ 2024-04-19 ┆ 2024-04-2 ┆ 3        │\n",
       "│ 89457284b5 ┆          ┆           ┆         ┆   ┆ 22:36:54   ┆ 23:03:57   ┆ 0         ┆          │\n",
       "│ adbd384e1b ┆          ┆           ┆         ┆   ┆            ┆            ┆ 04:35:10  ┆          │\n",
       "│ …          ┆          ┆           ┆         ┆   ┆            ┆            ┆           ┆          │\n",
       "│ 2603abb8bf ┆ 1        ┆ 6         ┆ 6       ┆ … ┆ 2024-04-29 ┆ 2024-04-29 ┆ 2024-04-2 ┆ 3        │\n",
       "│ 9c49919fef ┆          ┆           ┆         ┆   ┆ 10:30:21   ┆ 10:55:07   ┆ 9         ┆          │\n",
       "│ e57011b6fa ┆          ┆           ┆         ┆   ┆            ┆            ┆ 13:03:15  ┆          │\n",
       "│ …          ┆          ┆           ┆         ┆   ┆            ┆            ┆           ┆          │\n",
       "│ b931aaa00d ┆ 0        ┆ 4         ┆ 4       ┆ … ┆ 2024-04-21 ┆ 2024-04-21 ┆ 2024-04-2 ┆ 3        │\n",
       "│ 7e418288a6 ┆          ┆           ┆         ┆   ┆ 11:40:12   ┆ 12:00:49   ┆ 1         ┆          │\n",
       "│ ce6dae0c90 ┆          ┆           ┆         ┆   ┆            ┆            ┆ 16:20:01  ┆          │\n",
       "│ …          ┆          ┆           ┆         ┆   ┆            ┆            ┆           ┆          │\n",
       "│ 8bf5379289 ┆ 0        ┆ 6         ┆ 6       ┆ … ┆ 2024-04-25 ┆ 2024-04-25 ┆ 2024-04-2 ┆ 3        │\n",
       "│ 4d49b5b1ac ┆          ┆           ┆         ┆   ┆ 05:20:00   ┆ 05:45:10   ┆ 5         ┆          │\n",
       "│ 2db9bb12d3 ┆          ┆           ┆         ┆   ┆            ┆            ┆ 06:29:02  ┆          │\n",
       "│ …          ┆          ┆           ┆         ┆   ┆            ┆            ┆           ┆          │\n",
       "│ 46357dffe9 ┆ 0        ┆ 7         ┆ 7       ┆ … ┆ 2024-05-13 ┆ 2024-05-13 ┆ 2024-05-1 ┆ 3        │\n",
       "│ ff40cb9434 ┆          ┆           ┆         ┆   ┆ 21:32:55   ┆ 21:59:14   ┆ 3         ┆          │\n",
       "│ 2770fb6d16 ┆          ┆           ┆         ┆   ┆            ┆            ┆ 22:46:09  ┆          │\n",
       "│ …          ┆          ┆           ┆         ┆   ┆            ┆            ┆           ┆          │\n",
       "└────────────┴──────────┴───────────┴─────────┴───┴────────────┴────────────┴───────────┴──────────┘"
      ]
     },
     "execution_count": 11,
     "metadata": {},
     "output_type": "execute_result"
    }
   ],
   "source": [
    "df_draft = (\n",
    "    df_games.group_by(\"draft_id\")\n",
    "    .agg(\n",
    "        pl.col(\"build_index\").max().alias(\"n_builds\"),\n",
    "        pl.col(\"match_number\").max().alias(\"n_matches\"),\n",
    "        pl.col(\"game_number\").count().alias(\"n_games\"),\n",
    "        pl.col(\"won\").sum().alias(\"n_wins\"),\n",
    "        pl.col(\"won\").mean().alias(\"win_rate\"),\n",
    "        pl.col(\"rank\").last(),\n",
    "        pl.col(\"opp_rank\").last(),\n",
    "        pl.col(\"main_colors\").last(),\n",
    "        pl.col(\"opp_colors\").last(),\n",
    "        pl.col(\"splash_colors\").last(),\n",
    "        pl.col(\"on_play\").sum().alias(\"n_starts\"),\n",
    "        pl.col(\"num_mulligans\").sum().alias(\"n_muls\"),\n",
    "        pl.col(\"opp_num_mulligans\").sum().alias(\"n_opp_muls\"),\n",
    "        pl.col(\"num_turns\").mean().alias(\"mean_turns\"),\n",
    "        pl.col(\"draft_time\").mean().alias(\"draft_time\"),\n",
    "        pl.col(\"game_time\").first().alias(\"first_game_time\"),\n",
    "        pl.col(\"game_time\").last().alias(\"last_game_time\"),\n",
    "    )\n",
    "    .with_columns(\n",
    "        (pl.col(\"n_games\") - pl.col(\"n_wins\")).alias(\"n_losses\"),\n",
    "    )\n",
    ")\n",
    "\n",
    "df_draft.collect().write_parquet(draft_file)\n",
    "\n",
    "df_draft.head().collect()"
   ]
  },
  {
   "cell_type": "markdown",
   "metadata": {},
   "source": [
    "# Card Data"
   ]
  },
  {
   "cell_type": "code",
   "execution_count": 12,
   "metadata": {},
   "outputs": [
    {
     "data": {
      "text/html": [
       "<div><style>\n",
       ".dataframe > thead > tr,\n",
       ".dataframe > tbody > tr {\n",
       "  text-align: right;\n",
       "  white-space: pre-wrap;\n",
       "}\n",
       "</style>\n",
       "<small>shape: (5, 1_909)</small><table border=\"1\" class=\"dataframe\"><thead><tr><th>draft_id</th><th>match_number</th><th>game_number</th><th>build_index</th><th>opening_hand_Forest</th><th>drawn_Forest</th><th>tutored_Forest</th><th>deck_Forest</th><th>sideboard_Forest</th><th>opening_hand_Island</th><th>drawn_Island</th><th>tutored_Island</th><th>deck_Island</th><th>sideboard_Island</th><th>opening_hand_Mountain</th><th>drawn_Mountain</th><th>tutored_Mountain</th><th>deck_Mountain</th><th>sideboard_Mountain</th><th>opening_hand_Plains</th><th>drawn_Plains</th><th>tutored_Plains</th><th>deck_Plains</th><th>sideboard_Plains</th><th>opening_hand_Swamp</th><th>drawn_Swamp</th><th>tutored_Swamp</th><th>deck_Swamp</th><th>sideboard_Swamp</th><th>opening_hand_Abraded Bluffs</th><th>drawn_Abraded Bluffs</th><th>tutored_Abraded Bluffs</th><th>deck_Abraded Bluffs</th><th>sideboard_Abraded Bluffs</th><th>opening_hand_Abrupt Decay</th><th>drawn_Abrupt Decay</th><th>tutored_Abrupt Decay</th><th>&hellip;</th><th>deck_Voidslime</th><th>sideboard_Voidslime</th><th>opening_hand_Voracious Varmint</th><th>drawn_Voracious Varmint</th><th>tutored_Voracious Varmint</th><th>deck_Voracious Varmint</th><th>sideboard_Voracious Varmint</th><th>opening_hand_Vraska Joins Up</th><th>drawn_Vraska Joins Up</th><th>tutored_Vraska Joins Up</th><th>deck_Vraska Joins Up</th><th>sideboard_Vraska Joins Up</th><th>opening_hand_Vraska, the Silencer</th><th>drawn_Vraska, the Silencer</th><th>tutored_Vraska, the Silencer</th><th>deck_Vraska, the Silencer</th><th>sideboard_Vraska, the Silencer</th><th>opening_hand_Wanted Griffin</th><th>drawn_Wanted Griffin</th><th>tutored_Wanted Griffin</th><th>deck_Wanted Griffin</th><th>sideboard_Wanted Griffin</th><th>opening_hand_Worldwalker Helm</th><th>drawn_Worldwalker Helm</th><th>tutored_Worldwalker Helm</th><th>deck_Worldwalker Helm</th><th>sideboard_Worldwalker Helm</th><th>opening_hand_Wrangler of the Damned</th><th>drawn_Wrangler of the Damned</th><th>tutored_Wrangler of the Damned</th><th>deck_Wrangler of the Damned</th><th>sideboard_Wrangler of the Damned</th><th>opening_hand_Wylie Duke, Atiin Hero</th><th>drawn_Wylie Duke, Atiin Hero</th><th>tutored_Wylie Duke, Atiin Hero</th><th>deck_Wylie Duke, Atiin Hero</th><th>sideboard_Wylie Duke, Atiin Hero</th></tr><tr><td>str</td><td>i64</td><td>i64</td><td>i64</td><td>i64</td><td>i64</td><td>i64</td><td>i64</td><td>i64</td><td>i64</td><td>i64</td><td>i64</td><td>i64</td><td>i64</td><td>i64</td><td>i64</td><td>i64</td><td>i64</td><td>i64</td><td>i64</td><td>i64</td><td>i64</td><td>i64</td><td>i64</td><td>i64</td><td>i64</td><td>i64</td><td>i64</td><td>i64</td><td>i64</td><td>i64</td><td>i64</td><td>i64</td><td>i64</td><td>i64</td><td>i64</td><td>i64</td><td>&hellip;</td><td>i64</td><td>i64</td><td>i64</td><td>i64</td><td>i64</td><td>i64</td><td>i64</td><td>i64</td><td>i64</td><td>i64</td><td>i64</td><td>i64</td><td>i64</td><td>i64</td><td>i64</td><td>i64</td><td>i64</td><td>i64</td><td>i64</td><td>i64</td><td>i64</td><td>i64</td><td>i64</td><td>i64</td><td>i64</td><td>i64</td><td>i64</td><td>i64</td><td>i64</td><td>i64</td><td>i64</td><td>i64</td><td>i64</td><td>i64</td><td>i64</td><td>i64</td><td>i64</td></tr></thead><tbody><tr><td>&quot;a067b94d44374400842c97a6e684b5…</td><td>1</td><td>1</td><td>0</td><td>0</td><td>0</td><td>0</td><td>0</td><td>0</td><td>0</td><td>1</td><td>0</td><td>6</td><td>0</td><td>0</td><td>0</td><td>0</td><td>0</td><td>0</td><td>2</td><td>0</td><td>0</td><td>5</td><td>0</td><td>0</td><td>0</td><td>0</td><td>0</td><td>0</td><td>0</td><td>0</td><td>0</td><td>0</td><td>0</td><td>0</td><td>0</td><td>0</td><td>&hellip;</td><td>0</td><td>0</td><td>0</td><td>0</td><td>0</td><td>0</td><td>0</td><td>0</td><td>0</td><td>0</td><td>0</td><td>0</td><td>0</td><td>0</td><td>0</td><td>0</td><td>0</td><td>0</td><td>0</td><td>0</td><td>0</td><td>0</td><td>0</td><td>0</td><td>0</td><td>0</td><td>0</td><td>0</td><td>1</td><td>0</td><td>2</td><td>0</td><td>0</td><td>0</td><td>0</td><td>0</td><td>0</td></tr><tr><td>&quot;a067b94d44374400842c97a6e684b5…</td><td>2</td><td>1</td><td>0</td><td>0</td><td>0</td><td>0</td><td>0</td><td>0</td><td>1</td><td>3</td><td>0</td><td>6</td><td>0</td><td>0</td><td>0</td><td>0</td><td>0</td><td>0</td><td>1</td><td>1</td><td>0</td><td>5</td><td>0</td><td>0</td><td>0</td><td>0</td><td>0</td><td>0</td><td>0</td><td>0</td><td>0</td><td>0</td><td>0</td><td>0</td><td>0</td><td>0</td><td>&hellip;</td><td>0</td><td>0</td><td>0</td><td>0</td><td>0</td><td>0</td><td>0</td><td>0</td><td>0</td><td>0</td><td>0</td><td>0</td><td>0</td><td>0</td><td>0</td><td>0</td><td>0</td><td>0</td><td>0</td><td>0</td><td>0</td><td>0</td><td>0</td><td>0</td><td>0</td><td>0</td><td>0</td><td>0</td><td>2</td><td>0</td><td>2</td><td>0</td><td>0</td><td>0</td><td>0</td><td>0</td><td>0</td></tr><tr><td>&quot;a067b94d44374400842c97a6e684b5…</td><td>3</td><td>1</td><td>0</td><td>0</td><td>0</td><td>0</td><td>0</td><td>0</td><td>1</td><td>1</td><td>0</td><td>6</td><td>0</td><td>0</td><td>0</td><td>0</td><td>0</td><td>0</td><td>1</td><td>3</td><td>0</td><td>5</td><td>0</td><td>0</td><td>0</td><td>0</td><td>0</td><td>0</td><td>0</td><td>0</td><td>0</td><td>0</td><td>0</td><td>0</td><td>0</td><td>0</td><td>&hellip;</td><td>0</td><td>0</td><td>0</td><td>0</td><td>0</td><td>0</td><td>0</td><td>0</td><td>0</td><td>0</td><td>0</td><td>0</td><td>0</td><td>0</td><td>0</td><td>0</td><td>0</td><td>0</td><td>0</td><td>0</td><td>0</td><td>0</td><td>0</td><td>0</td><td>0</td><td>0</td><td>0</td><td>0</td><td>1</td><td>0</td><td>2</td><td>0</td><td>0</td><td>0</td><td>0</td><td>0</td><td>0</td></tr><tr><td>&quot;a067b94d44374400842c97a6e684b5…</td><td>4</td><td>1</td><td>0</td><td>0</td><td>0</td><td>0</td><td>0</td><td>0</td><td>1</td><td>1</td><td>0</td><td>6</td><td>0</td><td>0</td><td>0</td><td>0</td><td>0</td><td>0</td><td>1</td><td>0</td><td>1</td><td>5</td><td>0</td><td>0</td><td>0</td><td>0</td><td>0</td><td>0</td><td>0</td><td>0</td><td>0</td><td>0</td><td>0</td><td>0</td><td>0</td><td>0</td><td>&hellip;</td><td>0</td><td>0</td><td>0</td><td>0</td><td>0</td><td>0</td><td>0</td><td>0</td><td>0</td><td>0</td><td>0</td><td>0</td><td>0</td><td>0</td><td>0</td><td>0</td><td>0</td><td>0</td><td>0</td><td>0</td><td>0</td><td>0</td><td>0</td><td>0</td><td>0</td><td>0</td><td>0</td><td>1</td><td>0</td><td>0</td><td>2</td><td>0</td><td>0</td><td>0</td><td>0</td><td>0</td><td>0</td></tr><tr><td>&quot;a067b94d44374400842c97a6e684b5…</td><td>5</td><td>1</td><td>0</td><td>0</td><td>0</td><td>0</td><td>0</td><td>0</td><td>1</td><td>0</td><td>0</td><td>6</td><td>0</td><td>0</td><td>0</td><td>0</td><td>0</td><td>0</td><td>0</td><td>3</td><td>0</td><td>5</td><td>0</td><td>0</td><td>0</td><td>0</td><td>0</td><td>0</td><td>0</td><td>0</td><td>0</td><td>0</td><td>0</td><td>0</td><td>0</td><td>0</td><td>&hellip;</td><td>0</td><td>0</td><td>0</td><td>0</td><td>0</td><td>0</td><td>0</td><td>0</td><td>0</td><td>0</td><td>0</td><td>0</td><td>0</td><td>0</td><td>0</td><td>0</td><td>0</td><td>0</td><td>0</td><td>0</td><td>0</td><td>0</td><td>0</td><td>0</td><td>0</td><td>0</td><td>0</td><td>1</td><td>1</td><td>0</td><td>2</td><td>0</td><td>0</td><td>0</td><td>0</td><td>0</td><td>0</td></tr></tbody></table></div>"
      ],
      "text/plain": [
       "shape: (5, 1_909)\n",
       "┌───────────┬───────────┬───────────┬───────────┬───┬───────────┬───────────┬───────────┬──────────┐\n",
       "│ draft_id  ┆ match_num ┆ game_numb ┆ build_ind ┆ … ┆ drawn_Wyl ┆ tutored_W ┆ deck_Wyli ┆ sideboar │\n",
       "│ ---       ┆ ber       ┆ er        ┆ ex        ┆   ┆ ie Duke,  ┆ ylie      ┆ e Duke,   ┆ d_Wylie  │\n",
       "│ str       ┆ ---       ┆ ---       ┆ ---       ┆   ┆ Atiin     ┆ Duke,     ┆ Atiin     ┆ Duke,    │\n",
       "│           ┆ i64       ┆ i64       ┆ i64       ┆   ┆ Hero      ┆ Atiin     ┆ Hero      ┆ Atiin    │\n",
       "│           ┆           ┆           ┆           ┆   ┆ ---       ┆ Hero      ┆ ---       ┆ He…      │\n",
       "│           ┆           ┆           ┆           ┆   ┆ i64       ┆ ---       ┆ i64       ┆ ---      │\n",
       "│           ┆           ┆           ┆           ┆   ┆           ┆ i64       ┆           ┆ i64      │\n",
       "╞═══════════╪═══════════╪═══════════╪═══════════╪═══╪═══════════╪═══════════╪═══════════╪══════════╡\n",
       "│ a067b94d4 ┆ 1         ┆ 1         ┆ 0         ┆ … ┆ 0         ┆ 0         ┆ 0         ┆ 0        │\n",
       "│ 437440084 ┆           ┆           ┆           ┆   ┆           ┆           ┆           ┆          │\n",
       "│ 2c97a6e68 ┆           ┆           ┆           ┆   ┆           ┆           ┆           ┆          │\n",
       "│ 4b5…      ┆           ┆           ┆           ┆   ┆           ┆           ┆           ┆          │\n",
       "│ a067b94d4 ┆ 2         ┆ 1         ┆ 0         ┆ … ┆ 0         ┆ 0         ┆ 0         ┆ 0        │\n",
       "│ 437440084 ┆           ┆           ┆           ┆   ┆           ┆           ┆           ┆          │\n",
       "│ 2c97a6e68 ┆           ┆           ┆           ┆   ┆           ┆           ┆           ┆          │\n",
       "│ 4b5…      ┆           ┆           ┆           ┆   ┆           ┆           ┆           ┆          │\n",
       "│ a067b94d4 ┆ 3         ┆ 1         ┆ 0         ┆ … ┆ 0         ┆ 0         ┆ 0         ┆ 0        │\n",
       "│ 437440084 ┆           ┆           ┆           ┆   ┆           ┆           ┆           ┆          │\n",
       "│ 2c97a6e68 ┆           ┆           ┆           ┆   ┆           ┆           ┆           ┆          │\n",
       "│ 4b5…      ┆           ┆           ┆           ┆   ┆           ┆           ┆           ┆          │\n",
       "│ a067b94d4 ┆ 4         ┆ 1         ┆ 0         ┆ … ┆ 0         ┆ 0         ┆ 0         ┆ 0        │\n",
       "│ 437440084 ┆           ┆           ┆           ┆   ┆           ┆           ┆           ┆          │\n",
       "│ 2c97a6e68 ┆           ┆           ┆           ┆   ┆           ┆           ┆           ┆          │\n",
       "│ 4b5…      ┆           ┆           ┆           ┆   ┆           ┆           ┆           ┆          │\n",
       "│ a067b94d4 ┆ 5         ┆ 1         ┆ 0         ┆ … ┆ 0         ┆ 0         ┆ 0         ┆ 0        │\n",
       "│ 437440084 ┆           ┆           ┆           ┆   ┆           ┆           ┆           ┆          │\n",
       "│ 2c97a6e68 ┆           ┆           ┆           ┆   ┆           ┆           ┆           ┆          │\n",
       "│ 4b5…      ┆           ┆           ┆           ┆   ┆           ┆           ┆           ┆          │\n",
       "└───────────┴───────────┴───────────┴───────────┴───┴───────────┴───────────┴───────────┴──────────┘"
      ]
     },
     "execution_count": 12,
     "metadata": {},
     "output_type": "execute_result"
    }
   ],
   "source": [
    "id_cols = [\"draft_id\", \"match_number\", \"game_number\", \"build_index\"]\n",
    "df_card = df_lazy.select(*id_cols, *land_card_cols, *non_land_card_cols)\n",
    "\n",
    "df_card.collect().write_parquet(card_file)\n",
    "\n",
    "df_card.head().collect()"
   ]
  },
  {
   "cell_type": "markdown",
   "metadata": {},
   "source": [
    "# Summary Table"
   ]
  },
  {
   "cell_type": "code",
   "execution_count": 13,
   "metadata": {},
   "outputs": [
    {
     "data": {
      "text/html": [
       "<div><style>\n",
       ".dataframe > thead > tr,\n",
       ".dataframe > tbody > tr {\n",
       "  text-align: right;\n",
       "  white-space: pre-wrap;\n",
       "}\n",
       "</style>\n",
       "<small>shape: (1, 21)</small><table border=\"1\" class=\"dataframe\"><thead><tr><th>first_game</th><th>last_game</th><th>max_games</th><th>win_rate</th><th>start_rate</th><th>n_games</th><th>n_mul</th><th>n_opp_mul</th><th>mean_turns</th><th>total_turns</th><th>max_turns</th><th>min_turns</th><th>n_drafts</th><th>n_matches</th><th>mean_matches</th><th>n_games_per_draft</th><th>n_cards</th><th>max_card</th><th>mean_land</th><th>max_land</th><th>min_land</th></tr><tr><td>datetime[μs]</td><td>datetime[μs]</td><td>i64</td><td>f64</td><td>f64</td><td>u32</td><td>i64</td><td>i64</td><td>f64</td><td>i64</td><td>i64</td><td>i64</td><td>u32</td><td>i64</td><td>f64</td><td>f64</td><td>i32</td><td>i64</td><td>f64</td><td>i32</td><td>i32</td></tr></thead><tbody><tr><td>2024-04-16 15:29:27</td><td>2024-05-27 23:59:43</td><td>2</td><td>0.541419</td><td>0.500298</td><td>1172393</td><td>140631</td><td>149323</td><td>9.202935</td><td>10789457</td><td>32</td><td>1</td><td>202232</td><td>1173550</td><td>5.802989</td><td>5.797267</td><td>381</td><td>8</td><td>20.335398</td><td>47</td><td>5</td></tr></tbody></table></div>"
      ],
      "text/plain": [
       "shape: (1, 21)\n",
       "┌─────────────┬────────────┬───────────┬──────────┬───┬──────────┬───────────┬──────────┬──────────┐\n",
       "│ first_game  ┆ last_game  ┆ max_games ┆ win_rate ┆ … ┆ max_card ┆ mean_land ┆ max_land ┆ min_land │\n",
       "│ ---         ┆ ---        ┆ ---       ┆ ---      ┆   ┆ ---      ┆ ---       ┆ ---      ┆ ---      │\n",
       "│ datetime[μs ┆ datetime[μ ┆ i64       ┆ f64      ┆   ┆ i64      ┆ f64       ┆ i32      ┆ i32      │\n",
       "│ ]           ┆ s]         ┆           ┆          ┆   ┆          ┆           ┆          ┆          │\n",
       "╞═════════════╪════════════╪═══════════╪══════════╪═══╪══════════╪═══════════╪══════════╪══════════╡\n",
       "│ 2024-04-16  ┆ 2024-05-27 ┆ 2         ┆ 0.541419 ┆ … ┆ 8        ┆ 20.335398 ┆ 47       ┆ 5        │\n",
       "│ 15:29:27    ┆ 23:59:43   ┆           ┆          ┆   ┆          ┆           ┆          ┆          │\n",
       "└─────────────┴────────────┴───────────┴──────────┴───┴──────────┴───────────┴──────────┴──────────┘"
      ]
     },
     "execution_count": 13,
     "metadata": {},
     "output_type": "execute_result"
    }
   ],
   "source": [
    "df_select = df_lazy.select(\n",
    "    pl.min(\"game_time\").alias(\"first_game\"),\n",
    "    pl.max(\"game_time\").alias(\"last_game\"),\n",
    "    pl.max(\"game_number\").alias(\"max_games\"),\n",
    "    pl.mean(\"won\").alias(\"win_rate\"),\n",
    "    pl.mean(\"on_play\").alias(\"start_rate\"),\n",
    "    pl.count(\"draft_id\").alias(\"n_games\"),\n",
    "    pl.sum(\"num_mulligans\").alias(\"n_mul\"),\n",
    "    pl.sum(\"opp_num_mulligans\").alias(\"n_opp_mul\"),\n",
    "    pl.mean(\"num_turns\").alias(\"mean_turns\"),\n",
    "    pl.sum(\"num_turns\").alias(\"total_turns\"),\n",
    "    pl.max(\"num_turns\").alias(\"max_turns\"),\n",
    "    pl.min(\"num_turns\").alias(\"min_turns\"),\n",
    ")\n",
    "\n",
    "df_draft_ct = df_draft.select(\n",
    "    pl.count(\"draft_id\").alias(\"n_drafts\"),\n",
    "    pl.sum(\"n_matches\").alias(\"n_matches\"),\n",
    "    pl.mean(\"n_matches\").alias(\"mean_matches\"),\n",
    ")\n",
    "\n",
    "df_max_card = df_lazy.select(non_land_card_cols).max().collect()\n",
    "df_sum_land = df_lazy.select(land_card_cols).collect().sum_horizontal()\n",
    "\n",
    "df_summary = pl.concat([df_select, df_draft_ct], how=\"horizontal\")\n",
    "\n",
    "df_summary = df_summary.with_columns(\n",
    "    (pl.col(\"n_games\") / pl.col(\"n_drafts\")).alias(\"n_games_per_draft\"),\n",
    "    pl.lit(len(card_names)).alias(\"n_cards\"),\n",
    "    df_max_card.max_horizontal().alias(\"max_card\"),\n",
    "    pl.lit(df_sum_land.mean()).alias(\"mean_land\"),\n",
    "    pl.lit(df_sum_land.max()).alias(\"max_land\"),\n",
    "    pl.lit(df_sum_land.min()).alias(\"min_land\"),\n",
    ")\n",
    "\n",
    "df_summary = df_summary.collect()\n",
    "df_summary.write_parquet(summary_file)\n",
    "\n",
    "df_summary"
   ]
  },
  {
   "cell_type": "code",
   "execution_count": null,
   "metadata": {},
   "outputs": [],
   "source": []
  }
 ],
 "metadata": {
  "kernelspec": {
   "display_name": "dl+bayes-env",
   "language": "python",
   "name": "python3"
  },
  "language_info": {
   "codemirror_mode": {
    "name": "ipython",
    "version": 3
   },
   "file_extension": ".py",
   "mimetype": "text/x-python",
   "name": "python",
   "nbconvert_exporter": "python",
   "pygments_lexer": "ipython3",
   "version": "3.12.3"
  }
 },
 "nbformat": 4,
 "nbformat_minor": 2
}
