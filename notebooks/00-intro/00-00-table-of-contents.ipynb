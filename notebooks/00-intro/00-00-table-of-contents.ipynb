{
 "cells": [
  {
   "cell_type": "markdown",
   "metadata": {},
   "source": [
    "# Table of Contents\n",
    "- __00 INTRO__\n",
    "  - 00 00 [TABLE OF CONTENTS](00-00-table-of-contents.ipynb)\n",
    "  - 00 10 [INTRODUCTION](00-10-introduction.ipynb): An introduction to the entire project.\n",
    "  - 00 20 [CAUSAL DAGS](00-20-causal-dags.ipynb): Exploring the causal relationships involved in gameplay and card economics, such as card impact in draft play and secondary market card value.\n",
    "  - 00 30 [STATEGY REVIEW](00-30-stategy-review.ipynb): A review of prevalent MTG gameplay strategies.\n",
    "  - 00 40 [GLOSSARY](00-40-glossary.ipynb): A glossary of MTG and data science terms.\n",
    "- __01 MTGJSON DATA__\n",
    "  - 01 00 [MTGJSON DATA INTRO](../01-mtgjson-data/01-00-mtgjson-data-intro.ipynb): An introduction to the [MTGJSON](https://mtgjson.com/) card data, including reviewing the data files and column features.\n",
    "  - 01 10 [GET DATA](../01-mtgjson-data/01-10-get-data.ipynb): The code to acquire and pre-process the card data to use for future analysis.\n",
    "  - 01 20 [CARD DATA WRANGLE](../01-mtgjson-data/01-20-card-data-wrangle.ipynb): Wrangle the all card data.  Joins set data as well.  Then selects Standard Legal cards and other \n",
    "interesting data sets.\n",
    "  - 01 21 [BOOSTER DATA WRANGLE](../01-mtgjson-data/01-21-booster-data-wrangle.ipynb): Wrangle the booster set data.\n",
    "  - 01 22 [PRICE DATA WRANGLE](../01-mtgjson-data/01-22-price-data-wrangle.ipynb): The code to acquire and pre-process the all price data to use for future analysis.\n",
    "  - 01 30 [CARD FEATURES EDA](../01-mtgjson-data/01-30-card-features-eda.ipynb): Exploratory data analysis of basic card features (e.g. power and toughness)\n",
    "- __02 DRAFT DATA__\n",
    "  - 02 00 [DRAFT DATA INTRO](../02-draft-data/02-00-draft-data-intro.ipynb): An introduction to the [17lands](https://www.17lands.com/) draft gameplay data, including reviewing the data files and column features.\n",
    "  - 02 10 [GET DRAFT DATA](../02-draft-data/02-10-get-draft-data.ipynb): The code to acquire and pre-process the data to use for future analysis.\n",
    "  - 02 20 [DRAFT DATA WRANGLE](../02-draft-data/02-20-draft-data-wrangle.ipynb): The code to wrangle the data.  Deal with NAs, join data frames, etc.\n",
    "  - 02 30 [DRAFT EDA BLB GAMES](../02-draft-data/02-30-draft-eda-BLB-games.ipynb)\n",
    "  - 02 31 [DRAFT EDA OTJ GAMES](../02-draft-data/02-31-draft-eda-OTJ-games.ipynb)\n",
    "  - 02 40 [DRAFT CARD EDA BLB](../02-draft-data/02-40-draft-card-eda-BLB.ipynb)\n",
    "- __03 NETWORK DATA__\n",
    "  - 03 XX [WRANGLE NETWORK](../03-network-data/03-XX-wrangle-network.ipynb): Create the card-deck network data.\n"
   ]
  },
  {
   "cell_type": "code",
   "execution_count": 1,
   "metadata": {
    "execution": {
     "iopub.execute_input": "2024-09-10T15:41:59.214336Z",
     "iopub.status.busy": "2024-09-10T15:41:59.214125Z",
     "iopub.status.idle": "2024-09-10T15:41:59.216767Z",
     "shell.execute_reply": "2024-09-10T15:41:59.216360Z"
    }
   },
   "outputs": [],
   "source": [
    "import os"
   ]
  },
  {
   "cell_type": "code",
   "execution_count": null,
   "metadata": {},
   "outputs": [],
   "source": []
  }
 ],
 "metadata": {
  "kernelspec": {
   "display_name": "dl+bayes-env",
   "language": "python",
   "name": "python3"
  },
  "language_info": {
   "codemirror_mode": {
    "name": "ipython",
    "version": 3
   },
   "file_extension": ".py",
   "mimetype": "text/x-python",
   "name": "python",
   "nbconvert_exporter": "python",
   "pygments_lexer": "ipython3",
   "version": "3.12.3"
  }
 },
 "nbformat": 4,
 "nbformat_minor": 2
}
