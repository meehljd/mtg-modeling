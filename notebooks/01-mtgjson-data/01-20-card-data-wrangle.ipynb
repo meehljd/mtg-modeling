{
 "cells": [
  {
   "cell_type": "markdown",
   "metadata": {},
   "source": [
    "# Summary\n",
    "\n",
    "The code to wrangle the data.  Deal with NAs, join data frames, etc."
   ]
  },
  {
   "cell_type": "code",
   "execution_count": 2,
   "metadata": {},
   "outputs": [
    {
     "name": "stdout",
     "output_type": "stream",
     "text": [
      "Changed working directory to: d:\\mtg-modeling\n"
     ]
    }
   ],
   "source": [
    "# Setup Notebook\n",
    "import os\n",
    "if os.path.basename(os.getcwd()) != 'mtg-modeling':\n",
    "    %run -i \"../../scripts/notebook_header.py\""
   ]
  },
  {
   "cell_type": "code",
   "execution_count": 3,
   "metadata": {},
   "outputs": [],
   "source": [
    "import pandas as pd\n",
    "import polars as pl"
   ]
  },
  {
   "cell_type": "code",
   "execution_count": 25,
   "metadata": {},
   "outputs": [],
   "source": [
    "raw_path = Path('data/raw/mtgjson/AllPrintingsParquetFiles')\n",
    "interim_path = Path('data/interim/mtgjson/AllPrintingsParquetFiles')\n",
    "processed_path = Path('data/processed/mtgjson/AllPrintingsParquetFiles')\n",
    "\n",
    "raw_path.exists()\n",
    "os.makedirs(interim_path, exist_ok=True)\n",
    "os.makedirs(processed_path, exist_ok=True)"
   ]
  },
  {
   "cell_type": "code",
   "execution_count": 34,
   "metadata": {},
   "outputs": [
    {
     "data": {
      "text/plain": [
       "(764, 22)"
      ]
     },
     "execution_count": 34,
     "metadata": {},
     "output_type": "execute_result"
    }
   ],
   "source": [
    "cards = pl.scan_parquet(raw_path / 'cards.parquet')\n",
    "legalities = pl.scan_parquet(raw_path / 'cardLegalities.parquet')\n",
    "purchase_urls = pl.scan_parquet(raw_path / 'cardPurchaseUrls.parquet')\n",
    "sets = pl.scan_parquet(raw_path / 'sets.parquet')"
   ]
  },
  {
   "cell_type": "code",
   "execution_count": 65,
   "metadata": {},
   "outputs": [
    {
     "data": {
      "text/plain": [
       "['artist',\n",
       " 'artistIds',\n",
       " 'asciiName',\n",
       " 'attractionLights',\n",
       " 'availability',\n",
       " 'boosterTypes',\n",
       " 'borderColor',\n",
       " 'cardParts',\n",
       " 'colorIdentity',\n",
       " 'colorIndicator',\n",
       " 'colors',\n",
       " 'defense',\n",
       " 'duelDeck',\n",
       " 'edhrecRank',\n",
       " 'edhrecSaltiness',\n",
       " 'faceConvertedManaCost',\n",
       " 'faceFlavorName',\n",
       " 'faceManaValue',\n",
       " 'faceName',\n",
       " 'finishes',\n",
       " 'flavorName',\n",
       " 'flavorText',\n",
       " 'frameEffects',\n",
       " 'frameVersion',\n",
       " 'hand',\n",
       " 'hasAlternativeDeckLimit',\n",
       " 'hasContentWarning',\n",
       " 'hasFoil',\n",
       " 'hasNonFoil',\n",
       " 'isAlternative',\n",
       " 'isFullArt',\n",
       " 'isFunny',\n",
       " 'isOnlineOnly',\n",
       " 'isOversized',\n",
       " 'isPromo',\n",
       " 'isRebalanced',\n",
       " 'isReprint',\n",
       " 'isReserved',\n",
       " 'isStarter',\n",
       " 'isStorySpotlight',\n",
       " 'isTextless',\n",
       " 'isTimeshifted',\n",
       " 'keywords',\n",
       " 'language',\n",
       " 'layout',\n",
       " 'leadershipSkills',\n",
       " 'life',\n",
       " 'loyalty',\n",
       " 'manaCost',\n",
       " 'manaValue',\n",
       " 'name',\n",
       " 'number',\n",
       " 'originalPrintings',\n",
       " 'originalReleaseDate',\n",
       " 'originalText',\n",
       " 'originalType',\n",
       " 'otherFaceIds',\n",
       " 'power',\n",
       " 'printings',\n",
       " 'promoTypes',\n",
       " 'rarity',\n",
       " 'rebalancedPrintings',\n",
       " 'relatedCards',\n",
       " 'securityStamp',\n",
       " 'setCode',\n",
       " 'side',\n",
       " 'signature',\n",
       " 'sourceProducts',\n",
       " 'subsets',\n",
       " 'subtypes',\n",
       " 'supertypes',\n",
       " 'text',\n",
       " 'toughness',\n",
       " 'type',\n",
       " 'types',\n",
       " 'uuid',\n",
       " 'variations',\n",
       " 'watermark']"
      ]
     },
     "execution_count": 65,
     "metadata": {},
     "output_type": "execute_result"
    }
   ],
   "source": [
    "cards.collect().columns"
   ]
  },
  {
   "cell_type": "code",
   "execution_count": 53,
   "metadata": {},
   "outputs": [
    {
     "name": "stdout",
     "output_type": "stream",
     "text": [
      "(96216, 127)\n"
     ]
    }
   ],
   "source": [
    "results = (\n",
    "    cards\n",
    "    .join(sets, left_on='setCode', right_on='code', how='left')\n",
    "    .join(legalities, on='uuid', how='left')\n",
    "    .join(purchase_urls, on='uuid', how='left')\n",
    ")\n",
    "\n",
    "wide_cards = results.collect()\n",
    "wide_cards.write_parquet(interim_path / 'wide_cards.parquet')\n",
    "print(wide_cards.shape)"
   ]
  },
  {
   "cell_type": "markdown",
   "metadata": {},
   "source": [
    "## Data for Standard Legal Cards\n",
    "\n",
    "Used for analysis of the Standard format.  \n",
    "\n",
    "See the [MTG Wiki Standard/Timeline](https://mtg.fandom.com/wiki/Standard/Timeline) page for validate correct card composition."
   ]
  },
  {
   "cell_type": "code",
   "execution_count": null,
   "metadata": {},
   "outputs": [],
   "source": [
    "results.filter(pl.col)"
   ]
  },
  {
   "cell_type": "code",
   "execution_count": 63,
   "metadata": {},
   "outputs": [
    {
     "name": "stdout",
     "output_type": "stream",
     "text": [
      "(6344, 127)\n"
     ]
    }
   ],
   "source": [
    "standard_results = (\n",
    "    results\n",
    "    .filter(pl.col('standard') == 'Legal')\n",
    "    .filter(pl.col('borderColor') == 'black')\n",
    "    .filter(pl.col('isPromo').is_null())\n",
    "    # .filter(pl.col('isReprint').is_null())\n",
    "    .filter(pl.col('promoTypes').is_null())\n",
    "    .sort(pl.col('name'), descending=False)\n",
    "    .sort(pl.col('releaseDate'), descending=False)\n",
    "    .sort(pl.col('power'), descending=False)\n",
    ")\n",
    "\n",
    "standard_cards = standard_results.collect()\n",
    "standard_cards.write_parquet(processed_path / 'standard_cards.parquet')\n",
    "print(standard_cards.shape)"
   ]
  },
  {
   "cell_type": "markdown",
   "metadata": {},
   "source": [
    "## Outlaws of Thunder Junction Standard Legal Set\n",
    "\n",
    "Per the [wiki](https://mtg.fandom.com/wiki/Standard/Timeline), there should be 271 cards in the OTJ set."
   ]
  },
  {
   "cell_type": "code",
   "execution_count": 78,
   "metadata": {},
   "outputs": [],
   "source": [
    "otj_results = (\n",
    "    results\n",
    "    .filter(pl.col('standard') == 'Legal')\n",
    "    .filter(pl.col('borderColor') == 'black')\n",
    "    .filter(pl.col('isPromo').is_null())\n",
    "    # .filter(pl.col('isReprint').is_null())\n",
    "    .filter(pl.col('promoTypes').is_null())\n",
    "    .filter(pl.col('setCode') == 'OTJ')\n",
    "    .sort(pl.col('number'))\n",
    ")\n",
    "\n",
    "otj_cards = otj_results.collect()\n",
    "otj_cards.write_parquet(processed_path / 'OTJSetCards.parquet')\n",
    "otj_cards_ids = otj_cards.select([pl.col('name'), pl.col('number').str.zfill(3)]).sort(pl.col('number')).to_pandas()"
   ]
  },
  {
   "cell_type": "code",
   "execution_count": 79,
   "metadata": {},
   "outputs": [],
   "source": [
    "otj_cards_ids.to_csv(processed_path / 'OTJSetCards.csv')"
   ]
  },
  {
   "cell_type": "code",
   "execution_count": 73,
   "metadata": {},
   "outputs": [
    {
     "data": {
      "text/html": [
       "<div><style>\n",
       ".dataframe > thead > tr,\n",
       ".dataframe > tbody > tr {\n",
       "  text-align: right;\n",
       "  white-space: pre-wrap;\n",
       "}\n",
       "</style>\n",
       "<small>shape: (5, 19)</small><table border=\"1\" class=\"dataframe\"><thead><tr><th>name</th><th>setCode</th><th>releaseDate</th><th>number</th><th>layout</th><th>availability</th><th>power</th><th>toughness</th><th>colorIdentity</th><th>colors</th><th>types</th><th>subtypes</th><th>supertypes</th><th>manaCost</th><th>manaValue</th><th>edhrecRank</th><th>edhrecSaltiness</th><th>text</th><th>flavorText</th></tr><tr><td>str</td><td>str</td><td>str</td><td>str</td><td>str</td><td>str</td><td>str</td><td>str</td><td>str</td><td>str</td><td>str</td><td>str</td><td>str</td><td>str</td><td>f64</td><td>f64</td><td>f64</td><td>str</td><td>str</td></tr></thead><tbody><tr><td>&quot;Another Round&quot;</td><td>&quot;OTJ&quot;</td><td>&quot;2024-04-19&quot;</td><td>&quot;001&quot;</td><td>&quot;normal&quot;</td><td>&quot;arena, mtgo, paper&quot;</td><td>null</td><td>null</td><td>&quot;W&quot;</td><td>&quot;W&quot;</td><td>&quot;Sorcery&quot;</td><td>&quot;&quot;</td><td>&quot;&quot;</td><td>&quot;{X}{X}{2}{W}&quot;</td><td>3.0</td><td>8795.0</td><td>null</td><td>&quot;Exile any number of creatures …</td><td>&quot;Weary travelers trade stories …</td></tr><tr><td>&quot;Eriette&#x27;s Lullaby&quot;</td><td>&quot;OTJ&quot;</td><td>&quot;2024-04-19&quot;</td><td>&quot;010&quot;</td><td>&quot;normal&quot;</td><td>&quot;arena, mtgo, paper&quot;</td><td>null</td><td>null</td><td>&quot;W&quot;</td><td>&quot;W&quot;</td><td>&quot;Sorcery&quot;</td><td>&quot;&quot;</td><td>&quot;&quot;</td><td>&quot;{1}{W}&quot;</td><td>2.0</td><td>15295.0</td><td>null</td><td>&quot;Destroy target tapped creature…</td><td>&quot;When Kellan questioned her, Er…</td></tr><tr><td>&quot;Rattleback Apothecary&quot;</td><td>&quot;OTJ&quot;</td><td>&quot;2024-04-19&quot;</td><td>&quot;100&quot;</td><td>&quot;normal&quot;</td><td>&quot;arena, mtgo, paper&quot;</td><td>&quot;3&quot;</td><td>&quot;2&quot;</td><td>&quot;B&quot;</td><td>&quot;B&quot;</td><td>&quot;Creature&quot;</td><td>&quot;Gorgon, Warlock&quot;</td><td>&quot;&quot;</td><td>&quot;{2}{B}&quot;</td><td>3.0</td><td>13790.0</td><td>null</td><td>&quot;Deathtouch\\nWhenever you commi…</td><td>&quot;&quot;Looking for a little liquid c…</td></tr><tr><td>&quot;Raven of Fell Omens&quot;</td><td>&quot;OTJ&quot;</td><td>&quot;2024-04-19&quot;</td><td>&quot;101&quot;</td><td>&quot;normal&quot;</td><td>&quot;arena, mtgo, paper&quot;</td><td>&quot;1&quot;</td><td>&quot;2&quot;</td><td>&quot;B&quot;</td><td>&quot;B&quot;</td><td>&quot;Creature&quot;</td><td>&quot;Bird&quot;</td><td>&quot;&quot;</td><td>&quot;{1}{B}&quot;</td><td>2.0</td><td>13317.0</td><td>null</td><td>&quot;Flying\\nWhenever you commit a …</td><td>&quot;A raven sighted at midnight of…</td></tr><tr><td>&quot;Rictus Robber&quot;</td><td>&quot;OTJ&quot;</td><td>&quot;2024-04-19&quot;</td><td>&quot;102&quot;</td><td>&quot;normal&quot;</td><td>&quot;arena, mtgo, paper&quot;</td><td>&quot;4&quot;</td><td>&quot;3&quot;</td><td>&quot;B&quot;</td><td>&quot;B&quot;</td><td>&quot;Creature&quot;</td><td>&quot;Zombie, Rogue&quot;</td><td>&quot;&quot;</td><td>&quot;{3}{B}&quot;</td><td>4.0</td><td>19686.0</td><td>null</td><td>&quot;When Rictus Robber enters, if …</td><td>null</td></tr></tbody></table></div>"
      ],
      "text/plain": [
       "shape: (5, 19)\n",
       "┌────────────┬─────────┬────────────┬────────┬───┬────────────┬────────────┬───────────┬───────────┐\n",
       "│ name       ┆ setCode ┆ releaseDat ┆ number ┆ … ┆ edhrecRank ┆ edhrecSalt ┆ text      ┆ flavorTex │\n",
       "│ ---        ┆ ---     ┆ e          ┆ ---    ┆   ┆ ---        ┆ iness      ┆ ---       ┆ t         │\n",
       "│ str        ┆ str     ┆ ---        ┆ str    ┆   ┆ f64        ┆ ---        ┆ str       ┆ ---       │\n",
       "│            ┆         ┆ str        ┆        ┆   ┆            ┆ f64        ┆           ┆ str       │\n",
       "╞════════════╪═════════╪════════════╪════════╪═══╪════════════╪════════════╪═══════════╪═══════════╡\n",
       "│ Another    ┆ OTJ     ┆ 2024-04-19 ┆ 001    ┆ … ┆ 8795.0     ┆ null       ┆ Exile any ┆ Weary     │\n",
       "│ Round      ┆         ┆            ┆        ┆   ┆            ┆            ┆ number of ┆ travelers │\n",
       "│            ┆         ┆            ┆        ┆   ┆            ┆            ┆ creatures ┆ trade     │\n",
       "│            ┆         ┆            ┆        ┆   ┆            ┆            ┆ …         ┆ stories … │\n",
       "│ Eriette's  ┆ OTJ     ┆ 2024-04-19 ┆ 010    ┆ … ┆ 15295.0    ┆ null       ┆ Destroy   ┆ When      │\n",
       "│ Lullaby    ┆         ┆            ┆        ┆   ┆            ┆            ┆ target    ┆ Kellan    │\n",
       "│            ┆         ┆            ┆        ┆   ┆            ┆            ┆ tapped    ┆ questione │\n",
       "│            ┆         ┆            ┆        ┆   ┆            ┆            ┆ creature… ┆ d her,    │\n",
       "│            ┆         ┆            ┆        ┆   ┆            ┆            ┆           ┆ Er…       │\n",
       "│ Rattleback ┆ OTJ     ┆ 2024-04-19 ┆ 100    ┆ … ┆ 13790.0    ┆ null       ┆ Deathtouc ┆ \"Looking  │\n",
       "│ Apothecary ┆         ┆            ┆        ┆   ┆            ┆            ┆ h\\nWhenev ┆ for a     │\n",
       "│            ┆         ┆            ┆        ┆   ┆            ┆            ┆ er you    ┆ little    │\n",
       "│            ┆         ┆            ┆        ┆   ┆            ┆            ┆ commi…    ┆ liquid c… │\n",
       "│ Raven of   ┆ OTJ     ┆ 2024-04-19 ┆ 101    ┆ … ┆ 13317.0    ┆ null       ┆ Flying\\nW ┆ A raven   │\n",
       "│ Fell Omens ┆         ┆            ┆        ┆   ┆            ┆            ┆ henever   ┆ sighted   │\n",
       "│            ┆         ┆            ┆        ┆   ┆            ┆            ┆ you       ┆ at        │\n",
       "│            ┆         ┆            ┆        ┆   ┆            ┆            ┆ commit a  ┆ midnight  │\n",
       "│            ┆         ┆            ┆        ┆   ┆            ┆            ┆ …         ┆ of…       │\n",
       "│ Rictus     ┆ OTJ     ┆ 2024-04-19 ┆ 102    ┆ … ┆ 19686.0    ┆ null       ┆ When      ┆ null      │\n",
       "│ Robber     ┆         ┆            ┆        ┆   ┆            ┆            ┆ Rictus    ┆           │\n",
       "│            ┆         ┆            ┆        ┆   ┆            ┆            ┆ Robber    ┆           │\n",
       "│            ┆         ┆            ┆        ┆   ┆            ┆            ┆ enters,   ┆           │\n",
       "│            ┆         ┆            ┆        ┆   ┆            ┆            ┆ if …      ┆           │\n",
       "└────────────┴─────────┴────────────┴────────┴───┴────────────┴────────────┴───────────┴───────────┘"
      ]
     },
     "execution_count": 73,
     "metadata": {},
     "output_type": "execute_result"
    }
   ],
   "source": [
    "otj_core_results = (\n",
    "    otj_results\n",
    "    .select([\n",
    "        pl.col('name'),\n",
    "        pl.col('setCode'),\n",
    "        pl.col('releaseDate'),\n",
    "        pl.col('number').str.zfill(3),\n",
    "        pl.col('layout'),\n",
    "        pl.col('availability'),\n",
    "        pl.col('power'),\n",
    "        pl.col('toughness'),\n",
    "        pl.col('colorIdentity'),\n",
    "        pl.col('colors'),\n",
    "        pl.col('types'),\n",
    "        pl.col('subtypes'),\n",
    "        pl.col('supertypes'),\n",
    "        pl.col('manaCost'),\n",
    "        pl.col('manaValue'),\n",
    "        pl.col('edhrecRank'),\n",
    "        pl.col('edhrecSaltiness'),\n",
    "        pl.col('text'),\n",
    "        pl.col('flavorText'),\n",
    "    ])\n",
    ")\n",
    "\n",
    "otj_core_cards = otj_core_results.collect()\n",
    "otj_core_cards.write_parquet(processed_path / 'OTJ_std_core.parquet')\n",
    "otj_core_cards.head()"
   ]
  }
 ],
 "metadata": {
  "kernelspec": {
   "display_name": "dl+bayes-env",
   "language": "python",
   "name": "python3"
  },
  "language_info": {
   "codemirror_mode": {
    "name": "ipython",
    "version": 3
   },
   "file_extension": ".py",
   "mimetype": "text/x-python",
   "name": "python",
   "nbconvert_exporter": "python",
   "pygments_lexer": "ipython3",
   "version": "3.10.9"
  }
 },
 "nbformat": 4,
 "nbformat_minor": 2
}
