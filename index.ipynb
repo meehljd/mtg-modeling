{
 "cells": [
  {
   "cell_type": "raw",
   "metadata": {
    "vscode": {
     "languageId": "raw"
    }
   },
   "source": [
    "---\n",
    "draft: false\n",
    "title: \"The Data Mage\"\n",
    "author: \"Josh Meehl\"\n",
    "title-block: false\n",
    "date: 2024-09-10\n",
    "description: \"Introduction to the Data Mage\"\n",
    "---"
   ]
  },
  {
   "cell_type": "markdown",
   "metadata": {},
   "source": [
    "# Introduction\n",
    "\n",
    "Welcome to Data Mage, a journey into the world of Magic: The Gathering (MTG) through the lens of data science. MTG is a collectible card game celebrated for its popularity, rich history, and intricate gameplay, offering a treasure trove of data ripe for analysis.\n",
    "\n",
    "Recently I've rekindled my interest in MTG.  I was big into MTG during middle school from 1998-2000.  After a long hiatus, I have caught MTG fever with my son and we've been playing avidly for the last year.  I've embarked on this project to deepen my understanding of the game and share insights that others might find valuable.\n",
    "\n",
    "This exploration will delve into three main facets of MTG: __gameplay__, __collecting__, and __economics__.\n",
    "\n",
    "In terms of gameplay, I'll analyze various perspectives—from aggregate win rates to micro-level decisions like combat resolution and mulligan choices, as well as evaluations of components such as card mana efficiency. We'll also delve into the metagame, including deck building, play formats, and drafting strategies.\n",
    "\n",
    "The collecting aspect is vast, with nearly 100,000 cards printed over the game's history. I'll examine this realm by exploring elements like the probability distributions of collector booster packs.\n",
    "\n",
    "Finally, the economics of MTG, particularly the secondary market for singles, is of great interest. I'll focus on predicting card prices and analyzing price trends for new sets.\n",
    "\n",
    "Currently I have some [set analysis](notebooks/10-eda/02-draft-data/01-premier-play/00-intro.ipynb) for MTG Arena draft.\n"
   ]
  },
  {
   "cell_type": "markdown",
   "metadata": {},
   "source": [
    "# Data Science Applications\n",
    "\n",
    "Magic: The Gathering offers a fascinating playground for data science exploration. Here are some concepts I'm excited to delve into:\n",
    "\n",
    "- __Exploratory Data Analysis:__ Understand the distribution of card attributes, mana costs, and rarities.  I have analysis by draft sets [here](notebooks/10-eda/02-draft-data/01-premier-play/00-intro.ipynb).\n",
    "- __Regression Analysis:__ Predicting a card's expected mana cost based on its attributes and keywords, helping to understand the balance and design of cards.\n",
    "- __Large Language Models (LLMs):__ Using encoder LLMs to generate numeric representations from card descriptions, which can be leveraged for various predictive tasks.\n",
    "- __Network Science:__ Analyzing the relationships between decks and cards using bipartite graphs, and identifying communities within the card network through one-mode projections.\n",
    "- __Graph Neural Networks:__ Predicting a deck's win rate based on its card composition, utilizing advanced neural network architectures designed for graph data.\n",
    "- __Bayesian Inference:__ Estimating the posterior distribution of a booster pack's value given its composition and secondary market prices, providing insights into pack value.\n",
    "- __Time-Series Analysis:__ Forecasting card prices on the secondary market days after a set's release to understand and anticipate market trends.\n",
    "- __Hidden Markov Models:__ Estimating the game board state by identifying phases like 'opening', 'parity', 'winning', or 'losing' using concepts like [Quadrant Theory](https://magic.wizards.com/en/news/feature/quadrant-theory-2014-08-20).\n",
    "- __Reinforcement Learning:__ Maximizing combat outcomes by making optimal decisions during the combat phase, given the board state of attacking and defending creatures.\n",
    "- __Optimization:__ Enhancing deck win rates by optimizing card selection under constraints like maximum budget or rarity limits.\n",
    "- __Game Theory:__ Applying utility theory to calculate the expected value of hands during mulligan decisions, improving strategic choices.\n"
   ]
  },
  {
   "cell_type": "markdown",
   "metadata": {},
   "source": [
    "\n",
    "# Focus on Limited Formats\n",
    "In my analyses, I'll concentrate on limited formats such as Draft and Sealed Deck. Constructed formats like Standard, Modern, and Legacy are currently beyond the scope of this project due to their complex metagame and the vast number of cards available for deck construction.\n",
    "\n",
    "Draft play offers a unique opportunity to study multiple facets of player skill:\n",
    "\n",
    "1. Drafting Skill: Selecting the best cards from the draft pool based on the cards you've already picked.\n",
    "1. Deck Construction Skill: Building an effective deck from your drafted cards.\n",
    "1. Gameplay Skill: Playing the deck effectively in a tournament setting.\n",
    "\n",
    "While Sealed and Constructed formats are also intriguing, they exclude the drafting component. Additionally, Constructed formats require an in-depth understanding of the metagame, which I'm setting aside for now to maintain a manageable scope.\n"
   ]
  },
  {
   "cell_type": "markdown",
   "metadata": {},
   "source": [
    "# Data Sources\n",
    "\n",
    "## Card Data\n",
    "I'm utilizing card data generously provided by the tireless team behind the open-source project [MTGJSON](https://mtgjson.com/). MTGJSON offers a comprehensive database of MTG cards, including attributes, text, and prices. The data is available in JSON format, which I'll convert into pandas DataFrames for analysis.\n",
    "\n",
    "MTGJSON sources much of its data from [Scryfall](https://scryfall.com/docs/api), which also hosts an excellent web app for exploring MTG card information.\n",
    "\n",
    "For booster pack composition data, MTGJSON references estimates provided by [taw](https://github.com/taw) in his [GitHub repository](https://github.com/taw/magic-search-engine?tab=readme-ov-file). Taw also offers a web app at [mtg.wtf](https://mtg.wtf/). Please note that booster pack compositions are proprietary information of Wizards of the Coast, and these probabilities are estimated.\n",
    "\n",
    "## Draft Play Data\n",
    "For draft play analysis, I'll use data from [17Lands](https://www.17lands.com/public_datasets). They compile data from their user base to provide detailed draft pick information, including pick order, cards selected, and deck win rates.\n",
    "\n"
   ]
  },
  {
   "cell_type": "markdown",
   "metadata": {},
   "source": [
    "# Code Availability\n",
    "If you're interested in exploring the code behind these analyses, feel free to check out my [GitHub repository](https://github.com/meehljd/mtg-modeling)."
   ]
  },
  {
   "cell_type": "markdown",
   "metadata": {},
   "source": [
    "# Join the Journey\n",
    "I invite you to follow along as I explore the intersections of data science and Magic: The Gathering. Whether you're a data enthusiast, a seasoned planeswalker, or someone curious about the fusion of analytics and gaming, there's something here for you. Stay tuned for updates, and feel free to reach out with thoughts or collaborations.\n",
    "\n"
   ]
  }
 ],
 "metadata": {
  "kernelspec": {
   "display_name": "dl+bayes-env",
   "language": "python",
   "name": "python3"
  },
  "language_info": {
   "codemirror_mode": {
    "name": "ipython",
    "version": 3
   },
   "file_extension": ".py",
   "mimetype": "text/x-python",
   "name": "python",
   "nbconvert_exporter": "python",
   "pygments_lexer": "ipython3",
   "version": "3.12.3"
  }
 },
 "nbformat": 4,
 "nbformat_minor": 2
}
