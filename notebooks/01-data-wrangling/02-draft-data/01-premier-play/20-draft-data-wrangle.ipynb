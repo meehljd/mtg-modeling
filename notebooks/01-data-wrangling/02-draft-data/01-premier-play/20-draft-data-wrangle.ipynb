{
 "cells": [
  {
   "cell_type": "markdown",
   "metadata": {},
   "source": [
    "# Summary\n",
    "\n",
    "The code to wrangle the data.  Deal with NAs, join data frames, etc."
   ]
  },
  {
   "cell_type": "markdown",
   "metadata": {},
   "source": [
    "# Introduction\n",
    "\n",
    "This data set is very large, in both memory and in size.  Each row is a game, with identifiers for the draft event and the player.  The columns have information on the given draft game, with the majority are for card counts per state, such as the number of a given card in the deck or the number of a given card in the opening hand.\n",
    "\n",
    "Ideally I want to melt the data into a tall layout, with rows for each unique combination of card and game and columns for the card count states, such as deck, hand, etc.  This will allow me to easily filter and group the data for analysis.  Unfortunately, after attempting to wrangle in this format, I found that the data set is too large to handle in memory.  I could play with making spares arrays, but I think that would be too much work for this data set.\n",
    "\n",
    "For this notebook, I will keep the data in the wide layout and aggregate down into useful tables, such as per-game and per-player summaries.\n",
    "\n",
    "## Terms\n",
    "\n",
    "The following terms are used in the data set:\n",
    "- __game:__ a single game of MTG\n",
    "- __match:__ a series of games between two players.  Typically best of 1 or best of 3.\n",
    "- __draft:__ an initial draft event, followed by a series of matches between a group of players.\n",
    "- __build:__ a instance of a deck in a draft.  Can be adjusted between games."
   ]
  },
  {
   "cell_type": "markdown",
   "metadata": {},
   "source": [
    "# Initial Setup"
   ]
  },
  {
   "cell_type": "code",
   "execution_count": 57,
   "metadata": {},
   "outputs": [],
   "source": [
    "# | output: false\n",
    "path = \"../../../../scripts/notebook_header.py\"\n",
    "import os\n",
    "\n",
    "if os.path.basename(os.getcwd()) != \"mtg-modeling\":\n",
    "    args = f\"--path {path}\"\n",
    "    get_ipython().run_line_magic(\"run\", f\"-i {path} {args}\")  # type: ignore  # type: ignore"
   ]
  },
  {
   "cell_type": "code",
   "execution_count": 58,
   "metadata": {},
   "outputs": [],
   "source": [
    "import pandas as pd\n",
    "from tqdm.notebook import tqdm\n",
    "from pathlib import Path\n",
    "import matplotlib.pyplot as plt\n",
    "import seaborn as sns\n",
    "import numpy as np\n",
    "import time\n",
    "import polars as pl"
   ]
  },
  {
   "cell_type": "markdown",
   "metadata": {},
   "source": [
    "Define Paths"
   ]
  },
  {
   "cell_type": "code",
   "execution_count": 59,
   "metadata": {},
   "outputs": [],
   "source": [
    "SET_CODE = \"MKM\"\n",
    "OVERWRITE = False\n",
    "\n",
    "\n",
    "paths = {\n",
    "    \"raw\": Path(\"data/raw/17lands/game_data/PremierDraft\"),\n",
    "    \"interim\": Path(\"data/interim/17lands/game_data/premier_draft\"),\n",
    "    \"processed\": Path(\"data/processed/17lands/game_data/premier_draft\"),\n",
    "}\n",
    "\n",
    "\n",
    "csv_file = paths[\"raw\"] / f\"game_data_public.{SET_CODE}.PremierDraft.csv\"\n",
    "\n",
    "\n",
    "parquet_file = paths[\"interim\"] / f\"game_data_public.{SET_CODE}.PremierDraft.parquet\"\n",
    "\n",
    "\n",
    "summary_file = paths[\"processed\"] / f\"{SET_CODE}_Game_PD_Summary.parquet\"\n",
    "\n",
    "\n",
    "game_file = paths[\"processed\"] / f\"{SET_CODE}_Game_PD_Games.parquet\"\n",
    "\n",
    "\n",
    "draft_file = paths[\"processed\"] / f\"{SET_CODE}_Game_PD_Drafts.parquet\"\n",
    "\n",
    "\n",
    "card_file = paths[\"processed\"] / f\"{SET_CODE}_Game_PD_Cards.parquet\"\n",
    "\n",
    "os.makedirs(paths[\"interim\"], exist_ok=True)\n",
    "\n",
    "\n",
    "os.makedirs(paths[\"processed\"], exist_ok=True)"
   ]
  },
  {
   "cell_type": "markdown",
   "metadata": {},
   "source": [
    "Convert the csv file to parquet if needed."
   ]
  },
  {
   "cell_type": "code",
   "execution_count": 60,
   "metadata": {},
   "outputs": [],
   "source": [
    "if not os.path.exists(parquet_file) or OVERWRITE:\n",
    "    # df = pd.read_csv(csv_file)  # pandas works faster than polars, unless >2GB then it breaks\n",
    "    # df.to_parquet(parquet_file)\n",
    "    df = pl.scan_csv(csv_file)\n",
    "    df.sink_parquet(parquet_file)\n",
    "    # print(f\"Converted {csv_file} to parquet\")"
   ]
  },
  {
   "cell_type": "markdown",
   "metadata": {},
   "source": [
    "Scan file into a lazy frame and set the schema."
   ]
  },
  {
   "cell_type": "code",
   "execution_count": 61,
   "metadata": {},
   "outputs": [],
   "source": [
    "def standardize_schema(df):\n",
    "    # Cast 'opp_rank' column to String if it exists\n",
    "    cols = df_lazy.collect_schema().names()\n",
    "    if \"opp_rank\" in cols:\n",
    "        df = df.with_columns(pl.col(\"opp_rank\").cast(pl.Utf8))\n",
    "    return df"
   ]
  },
  {
   "cell_type": "code",
   "execution_count": 62,
   "metadata": {},
   "outputs": [],
   "source": [
    "df_lazy = pl.scan_parquet(parquet_file)\n",
    "df_lazy = standardize_schema(df_lazy)"
   ]
  },
  {
   "cell_type": "markdown",
   "metadata": {},
   "source": [
    "Parse column names, such as the card name and the card state."
   ]
  },
  {
   "cell_type": "code",
   "execution_count": 63,
   "metadata": {},
   "outputs": [
    {
     "data": {
      "text/plain": [
       "(1630, 1600, 30)"
      ]
     },
     "execution_count": 63,
     "metadata": {},
     "output_type": "execute_result"
    }
   ],
   "source": [
    "cols = df_lazy.collect_schema().names()\n",
    "state_prefixes = [\"tutored_\", \"deck_\", \"opening_hand_\", \"drawn_\", \"sideboard_\"]\n",
    "card_cols = [col for col in cols if any([col.startswith(s) for s in state_prefixes])]\n",
    "index_cols = [col for col in cols if col not in card_cols]\n",
    "\n",
    "card_names = [col.split(\"_\")[-1] for col in card_cols if col.startswith(\"deck_\")]\n",
    "land_cards = [\"Plains\", \"Island\", \"Swamp\", \"Mountain\", \"Forest\"]\n",
    "non_land_cards = [card for card in card_names if card not in land_cards]\n",
    "non_land_card_cols = [\n",
    "    col for col in card_cols if all([land not in col for land in land_cards])\n",
    "]\n",
    "land_card_cols = [col for col in card_cols if any([land in col for land in land_cards])]\n",
    "len(card_cols), len(non_land_card_cols), len(land_card_cols)"
   ]
  },
  {
   "cell_type": "markdown",
   "metadata": {},
   "source": [
    "Check for extra underscores in card names."
   ]
  },
  {
   "cell_type": "code",
   "execution_count": 64,
   "metadata": {},
   "outputs": [],
   "source": [
    "counts = [col.count(\"_\") for col in card_cols if col.startswith(\"deck_\")]\n",
    "assert max(counts) == 1, \"There are some cards with underscores in their names\""
   ]
  },
  {
   "cell_type": "markdown",
   "metadata": {},
   "source": [
    "Show first few rows of the data."
   ]
  },
  {
   "cell_type": "code",
   "execution_count": 65,
   "metadata": {},
   "outputs": [
    {
     "data": {
      "text/html": [
       "<div><style>\n",
       ".dataframe > thead > tr,\n",
       ".dataframe > tbody > tr {\n",
       "  text-align: right;\n",
       "  white-space: pre-wrap;\n",
       "}\n",
       "</style>\n",
       "<small>shape: (0, 20)</small><table border=\"1\" class=\"dataframe\"><thead><tr><th>expansion</th><th>event_type</th><th>draft_id</th><th>draft_time</th><th>game_time</th><th>build_index</th><th>match_number</th><th>game_number</th><th>rank</th><th>opp_rank</th><th>main_colors</th><th>splash_colors</th><th>on_play</th><th>num_mulligans</th><th>opp_num_mulligans</th><th>opp_colors</th><th>num_turns</th><th>won</th><th>user_n_games_bucket</th><th>user_game_win_rate_bucket</th></tr><tr><td>str</td><td>str</td><td>str</td><td>str</td><td>str</td><td>i64</td><td>i64</td><td>i64</td><td>str</td><td>str</td><td>str</td><td>str</td><td>bool</td><td>i64</td><td>i64</td><td>str</td><td>i64</td><td>bool</td><td>i64</td><td>f64</td></tr></thead><tbody></tbody></table></div>"
      ],
      "text/plain": [
       "shape: (0, 20)\n",
       "┌───────────┬────────────┬──────────┬────────────┬───┬───────────┬──────┬─────────────┬────────────┐\n",
       "│ expansion ┆ event_type ┆ draft_id ┆ draft_time ┆ … ┆ num_turns ┆ won  ┆ user_n_game ┆ user_game_ │\n",
       "│ ---       ┆ ---        ┆ ---      ┆ ---        ┆   ┆ ---       ┆ ---  ┆ s_bucket    ┆ win_rate_b │\n",
       "│ str       ┆ str        ┆ str      ┆ str        ┆   ┆ i64       ┆ bool ┆ ---         ┆ ucket      │\n",
       "│           ┆            ┆          ┆            ┆   ┆           ┆      ┆ i64         ┆ ---        │\n",
       "│           ┆            ┆          ┆            ┆   ┆           ┆      ┆             ┆ f64        │\n",
       "╞═══════════╪════════════╪══════════╪════════════╪═══╪═══════════╪══════╪═════════════╪════════════╡\n",
       "└───────────┴────────────┴──────────┴────────────┴───┴───────────┴──────┴─────────────┴────────────┘"
      ]
     },
     "execution_count": 65,
     "metadata": {},
     "output_type": "execute_result"
    }
   ],
   "source": [
    "df_lazy.filter(pl.col(\"game_number\") > 1).select(index_cols).head(30).collect()"
   ]
  },
  {
   "cell_type": "markdown",
   "metadata": {},
   "source": [
    "Convert timestamps from strings to datetimes"
   ]
  },
  {
   "cell_type": "code",
   "execution_count": 66,
   "metadata": {},
   "outputs": [],
   "source": [
    "df_lazy = df_lazy.with_columns(\n",
    "    pl.col(\"draft_time\").str.strptime(pl.Datetime, \"%Y-%m-%d %H:%M:%S\"),\n",
    "    pl.col(\"game_time\").str.strptime(pl.Datetime, \"%Y-%m-%d %H:%M:%S\"),\n",
    ")"
   ]
  },
  {
   "cell_type": "markdown",
   "metadata": {},
   "source": [
    "# Games Table\n",
    "\n",
    "A table of each game, excludes card data.\n",
    "\n",
    "Note that the 'opp_rank' does not have consistent type"
   ]
  },
  {
   "cell_type": "code",
   "execution_count": 67,
   "metadata": {},
   "outputs": [
    {
     "data": {
      "text/html": [
       "<div><style>\n",
       ".dataframe > thead > tr,\n",
       ".dataframe > tbody > tr {\n",
       "  text-align: right;\n",
       "  white-space: pre-wrap;\n",
       "}\n",
       "</style>\n",
       "<small>shape: (2, 20)</small><table border=\"1\" class=\"dataframe\"><thead><tr><th>expansion</th><th>event_type</th><th>draft_id</th><th>draft_time</th><th>game_time</th><th>build_index</th><th>match_number</th><th>game_number</th><th>rank</th><th>opp_rank</th><th>main_colors</th><th>splash_colors</th><th>on_play</th><th>num_mulligans</th><th>opp_num_mulligans</th><th>opp_colors</th><th>num_turns</th><th>won</th><th>user_n_games_bucket</th><th>user_game_win_rate_bucket</th></tr><tr><td>str</td><td>str</td><td>str</td><td>datetime[μs]</td><td>datetime[μs]</td><td>i64</td><td>i64</td><td>i64</td><td>str</td><td>str</td><td>str</td><td>str</td><td>bool</td><td>i64</td><td>i64</td><td>str</td><td>i64</td><td>bool</td><td>i64</td><td>f64</td></tr></thead><tbody><tr><td>&quot;MKM&quot;</td><td>&quot;PremierDraft&quot;</td><td>&quot;8e1e92694dcd44e380720f2ec3d971…</td><td>2024-02-06 17:48:51</td><td>2024-02-06 18:41:03</td><td>0</td><td>1</td><td>1</td><td>null</td><td>&quot;None&quot;</td><td>&quot;WB&quot;</td><td>&quot;G&quot;</td><td>true</td><td>0</td><td>0</td><td>&quot;WB&quot;</td><td>9</td><td>true</td><td>50</td><td>0.62</td></tr><tr><td>&quot;MKM&quot;</td><td>&quot;PremierDraft&quot;</td><td>&quot;8e1e92694dcd44e380720f2ec3d971…</td><td>2024-02-06 17:48:51</td><td>2024-02-06 18:49:03</td><td>0</td><td>2</td><td>1</td><td>&quot;silver&quot;</td><td>&quot;None&quot;</td><td>&quot;WB&quot;</td><td>&quot;G&quot;</td><td>true</td><td>0</td><td>0</td><td>&quot;RG&quot;</td><td>9</td><td>true</td><td>50</td><td>0.62</td></tr></tbody></table></div>"
      ],
      "text/plain": [
       "shape: (2, 20)\n",
       "┌───────────┬────────────┬────────────┬────────────┬───┬───────────┬──────┬────────────┬───────────┐\n",
       "│ expansion ┆ event_type ┆ draft_id   ┆ draft_time ┆ … ┆ num_turns ┆ won  ┆ user_n_gam ┆ user_game │\n",
       "│ ---       ┆ ---        ┆ ---        ┆ ---        ┆   ┆ ---       ┆ ---  ┆ es_bucket  ┆ _win_rate │\n",
       "│ str       ┆ str        ┆ str        ┆ datetime[μ ┆   ┆ i64       ┆ bool ┆ ---        ┆ _bucket   │\n",
       "│           ┆            ┆            ┆ s]         ┆   ┆           ┆      ┆ i64        ┆ ---       │\n",
       "│           ┆            ┆            ┆            ┆   ┆           ┆      ┆            ┆ f64       │\n",
       "╞═══════════╪════════════╪════════════╪════════════╪═══╪═══════════╪══════╪════════════╪═══════════╡\n",
       "│ MKM       ┆ PremierDra ┆ 8e1e92694d ┆ 2024-02-06 ┆ … ┆ 9         ┆ true ┆ 50         ┆ 0.62      │\n",
       "│           ┆ ft         ┆ cd44e38072 ┆ 17:48:51   ┆   ┆           ┆      ┆            ┆           │\n",
       "│           ┆            ┆ 0f2ec3d971 ┆            ┆   ┆           ┆      ┆            ┆           │\n",
       "│           ┆            ┆ …          ┆            ┆   ┆           ┆      ┆            ┆           │\n",
       "│ MKM       ┆ PremierDra ┆ 8e1e92694d ┆ 2024-02-06 ┆ … ┆ 9         ┆ true ┆ 50         ┆ 0.62      │\n",
       "│           ┆ ft         ┆ cd44e38072 ┆ 17:48:51   ┆   ┆           ┆      ┆            ┆           │\n",
       "│           ┆            ┆ 0f2ec3d971 ┆            ┆   ┆           ┆      ┆            ┆           │\n",
       "│           ┆            ┆ …          ┆            ┆   ┆           ┆      ┆            ┆           │\n",
       "└───────────┴────────────┴────────────┴────────────┴───┴───────────┴──────┴────────────┴───────────┘"
      ]
     },
     "execution_count": 67,
     "metadata": {},
     "output_type": "execute_result"
    }
   ],
   "source": [
    "df_games = df_lazy.select(index_cols)\n",
    "df_games.collect().write_parquet(game_file)\n",
    "\n",
    "df_games.head(2).collect()"
   ]
  },
  {
   "cell_type": "markdown",
   "metadata": {},
   "source": [
    "# Draft Table\n",
    "\n",
    "A table of the aggregated draft data, excluding card data."
   ]
  },
  {
   "cell_type": "code",
   "execution_count": 68,
   "metadata": {},
   "outputs": [
    {
     "data": {
      "text/html": [
       "<div><style>\n",
       ".dataframe > thead > tr,\n",
       ".dataframe > tbody > tr {\n",
       "  text-align: right;\n",
       "  white-space: pre-wrap;\n",
       "}\n",
       "</style>\n",
       "<small>shape: (5, 20)</small><table border=\"1\" class=\"dataframe\"><thead><tr><th>draft_id</th><th>expansion</th><th>n_builds</th><th>n_matches</th><th>n_games</th><th>n_wins</th><th>win_rate</th><th>rank</th><th>opp_rank</th><th>main_colors</th><th>opp_colors</th><th>splash_colors</th><th>n_starts</th><th>n_muls</th><th>n_opp_muls</th><th>mean_turns</th><th>draft_time</th><th>first_game_time</th><th>last_game_time</th><th>n_losses</th></tr><tr><td>str</td><td>str</td><td>i64</td><td>i64</td><td>u32</td><td>u32</td><td>f64</td><td>str</td><td>str</td><td>str</td><td>str</td><td>str</td><td>u32</td><td>i64</td><td>i64</td><td>f64</td><td>datetime[μs]</td><td>datetime[μs]</td><td>datetime[μs]</td><td>u32</td></tr></thead><tbody><tr><td>&quot;dd1e9b19a8bf4b6d87d58798796063…</td><td>&quot;MKM&quot;</td><td>0</td><td>7</td><td>7</td><td>4</td><td>0.571429</td><td>&quot;platinum&quot;</td><td>&quot;None&quot;</td><td>&quot;WU&quot;</td><td>&quot;BG&quot;</td><td>null</td><td>5</td><td>0</td><td>4</td><td>8.428571</td><td>2024-03-07 22:47:01</td><td>2024-03-07 23:11:35</td><td>2024-03-08 21:04:31</td><td>3</td></tr><tr><td>&quot;38e6baea32d944c59235e03931ff55…</td><td>&quot;MKM&quot;</td><td>0</td><td>5</td><td>5</td><td>2</td><td>0.4</td><td>&quot;diamond&quot;</td><td>&quot;None&quot;</td><td>&quot;UG&quot;</td><td>&quot;WUB&quot;</td><td>&quot;B&quot;</td><td>2</td><td>0</td><td>0</td><td>9.6</td><td>2024-03-11 11:27:09</td><td>2024-03-11 11:49:45</td><td>2024-03-11 12:27:10</td><td>3</td></tr><tr><td>&quot;162e396bf1a448f7b1ef9ab97e7615…</td><td>&quot;MKM&quot;</td><td>0</td><td>3</td><td>3</td><td>0</td><td>0.0</td><td>&quot;platinum&quot;</td><td>&quot;None&quot;</td><td>&quot;UBRG&quot;</td><td>&quot;B&quot;</td><td>&quot;W&quot;</td><td>1</td><td>0</td><td>0</td><td>5.333333</td><td>2024-02-06 20:36:34</td><td>2024-02-06 20:58:30</td><td>2024-02-06 21:05:37</td><td>3</td></tr><tr><td>&quot;1e15f17a131649db8fa64c2991c656…</td><td>&quot;MKM&quot;</td><td>0</td><td>5</td><td>5</td><td>2</td><td>0.4</td><td>&quot;platinum&quot;</td><td>&quot;None&quot;</td><td>&quot;UG&quot;</td><td>&quot;WR&quot;</td><td>&quot;WB&quot;</td><td>1</td><td>0</td><td>1</td><td>9.0</td><td>2024-02-15 20:12:26</td><td>2024-02-15 20:37:50</td><td>2024-02-16 15:11:45</td><td>3</td></tr><tr><td>&quot;9f3f793e47264c7db21c6a43979c2c…</td><td>&quot;MKM&quot;</td><td>0</td><td>7</td><td>7</td><td>4</td><td>0.571429</td><td>&quot;bronze&quot;</td><td>&quot;None&quot;</td><td>&quot;BR&quot;</td><td>&quot;WR&quot;</td><td>null</td><td>4</td><td>1</td><td>1</td><td>7.571429</td><td>2024-02-10 18:42:08</td><td>2024-02-10 19:02:46</td><td>2024-02-10 20:02:53</td><td>3</td></tr></tbody></table></div>"
      ],
      "text/plain": [
       "shape: (5, 20)\n",
       "┌────────────┬───────────┬──────────┬───────────┬───┬───────────┬───────────┬───────────┬──────────┐\n",
       "│ draft_id   ┆ expansion ┆ n_builds ┆ n_matches ┆ … ┆ draft_tim ┆ first_gam ┆ last_game ┆ n_losses │\n",
       "│ ---        ┆ ---       ┆ ---      ┆ ---       ┆   ┆ e         ┆ e_time    ┆ _time     ┆ ---      │\n",
       "│ str        ┆ str       ┆ i64      ┆ i64       ┆   ┆ ---       ┆ ---       ┆ ---       ┆ u32      │\n",
       "│            ┆           ┆          ┆           ┆   ┆ datetime[ ┆ datetime[ ┆ datetime[ ┆          │\n",
       "│            ┆           ┆          ┆           ┆   ┆ μs]       ┆ μs]       ┆ μs]       ┆          │\n",
       "╞════════════╪═══════════╪══════════╪═══════════╪═══╪═══════════╪═══════════╪═══════════╪══════════╡\n",
       "│ dd1e9b19a8 ┆ MKM       ┆ 0        ┆ 7         ┆ … ┆ 2024-03-0 ┆ 2024-03-0 ┆ 2024-03-0 ┆ 3        │\n",
       "│ bf4b6d87d5 ┆           ┆          ┆           ┆   ┆ 7         ┆ 7         ┆ 8         ┆          │\n",
       "│ 8798796063 ┆           ┆          ┆           ┆   ┆ 22:47:01  ┆ 23:11:35  ┆ 21:04:31  ┆          │\n",
       "│ …          ┆           ┆          ┆           ┆   ┆           ┆           ┆           ┆          │\n",
       "│ 38e6baea32 ┆ MKM       ┆ 0        ┆ 5         ┆ … ┆ 2024-03-1 ┆ 2024-03-1 ┆ 2024-03-1 ┆ 3        │\n",
       "│ d944c59235 ┆           ┆          ┆           ┆   ┆ 1         ┆ 1         ┆ 1         ┆          │\n",
       "│ e03931ff55 ┆           ┆          ┆           ┆   ┆ 11:27:09  ┆ 11:49:45  ┆ 12:27:10  ┆          │\n",
       "│ …          ┆           ┆          ┆           ┆   ┆           ┆           ┆           ┆          │\n",
       "│ 162e396bf1 ┆ MKM       ┆ 0        ┆ 3         ┆ … ┆ 2024-02-0 ┆ 2024-02-0 ┆ 2024-02-0 ┆ 3        │\n",
       "│ a448f7b1ef ┆           ┆          ┆           ┆   ┆ 6         ┆ 6         ┆ 6         ┆          │\n",
       "│ 9ab97e7615 ┆           ┆          ┆           ┆   ┆ 20:36:34  ┆ 20:58:30  ┆ 21:05:37  ┆          │\n",
       "│ …          ┆           ┆          ┆           ┆   ┆           ┆           ┆           ┆          │\n",
       "│ 1e15f17a13 ┆ MKM       ┆ 0        ┆ 5         ┆ … ┆ 2024-02-1 ┆ 2024-02-1 ┆ 2024-02-1 ┆ 3        │\n",
       "│ 1649db8fa6 ┆           ┆          ┆           ┆   ┆ 5         ┆ 5         ┆ 6         ┆          │\n",
       "│ 4c2991c656 ┆           ┆          ┆           ┆   ┆ 20:12:26  ┆ 20:37:50  ┆ 15:11:45  ┆          │\n",
       "│ …          ┆           ┆          ┆           ┆   ┆           ┆           ┆           ┆          │\n",
       "│ 9f3f793e47 ┆ MKM       ┆ 0        ┆ 7         ┆ … ┆ 2024-02-1 ┆ 2024-02-1 ┆ 2024-02-1 ┆ 3        │\n",
       "│ 264c7db21c ┆           ┆          ┆           ┆   ┆ 0         ┆ 0         ┆ 0         ┆          │\n",
       "│ 6a43979c2c ┆           ┆          ┆           ┆   ┆ 18:42:08  ┆ 19:02:46  ┆ 20:02:53  ┆          │\n",
       "│ …          ┆           ┆          ┆           ┆   ┆           ┆           ┆           ┆          │\n",
       "└────────────┴───────────┴──────────┴───────────┴───┴───────────┴───────────┴───────────┴──────────┘"
      ]
     },
     "execution_count": 68,
     "metadata": {},
     "output_type": "execute_result"
    }
   ],
   "source": [
    "df_draft = (\n",
    "    df_games.group_by(\"draft_id\")\n",
    "    .agg(\n",
    "        pl.col(\"expansion\").first(),\n",
    "        pl.col(\"build_index\").max().alias(\"n_builds\"),\n",
    "        pl.col(\"match_number\").max().alias(\"n_matches\"),\n",
    "        pl.col(\"game_number\").count().alias(\"n_games\"),\n",
    "        pl.col(\"won\").sum().alias(\"n_wins\"),\n",
    "        pl.col(\"won\").mean().alias(\"win_rate\"),\n",
    "        pl.col(\"rank\").last(),\n",
    "        pl.col(\"opp_rank\").last(),\n",
    "        pl.col(\"main_colors\").last(),\n",
    "        pl.col(\"opp_colors\").last(),\n",
    "        pl.col(\"splash_colors\").last(),\n",
    "        pl.col(\"on_play\").sum().alias(\"n_starts\"),\n",
    "        pl.col(\"num_mulligans\").sum().alias(\"n_muls\"),\n",
    "        pl.col(\"opp_num_mulligans\").sum().alias(\"n_opp_muls\"),\n",
    "        pl.col(\"num_turns\").mean().alias(\"mean_turns\"),\n",
    "        pl.col(\"draft_time\").mean().alias(\"draft_time\"),\n",
    "        pl.col(\"game_time\").first().alias(\"first_game_time\"),\n",
    "        pl.col(\"game_time\").last().alias(\"last_game_time\"),\n",
    "    )\n",
    "    .with_columns(\n",
    "        (pl.col(\"n_games\") - pl.col(\"n_wins\")).alias(\"n_losses\"),\n",
    "    )\n",
    ")\n",
    "\n",
    "df_draft.collect().write_parquet(draft_file)\n",
    "\n",
    "df_draft.head().collect()"
   ]
  },
  {
   "cell_type": "markdown",
   "metadata": {},
   "source": [
    "# Card Data"
   ]
  },
  {
   "cell_type": "code",
   "execution_count": 69,
   "metadata": {},
   "outputs": [
    {
     "data": {
      "text/html": [
       "<div><style>\n",
       ".dataframe > thead > tr,\n",
       ".dataframe > tbody > tr {\n",
       "  text-align: right;\n",
       "  white-space: pre-wrap;\n",
       "}\n",
       "</style>\n",
       "<small>shape: (5, 1_635)</small><table border=\"1\" class=\"dataframe\"><thead><tr><th>expansion</th><th>draft_id</th><th>match_number</th><th>game_number</th><th>build_index</th><th>opening_hand_Forest</th><th>drawn_Forest</th><th>tutored_Forest</th><th>deck_Forest</th><th>sideboard_Forest</th><th>opening_hand_Island</th><th>drawn_Island</th><th>tutored_Island</th><th>deck_Island</th><th>sideboard_Island</th><th>opening_hand_Mistveil Plains</th><th>drawn_Mistveil Plains</th><th>tutored_Mistveil Plains</th><th>deck_Mistveil Plains</th><th>sideboard_Mistveil Plains</th><th>opening_hand_Mountain</th><th>drawn_Mountain</th><th>tutored_Mountain</th><th>deck_Mountain</th><th>sideboard_Mountain</th><th>opening_hand_Plains</th><th>drawn_Plains</th><th>tutored_Plains</th><th>deck_Plains</th><th>sideboard_Plains</th><th>opening_hand_Swamp</th><th>drawn_Swamp</th><th>tutored_Swamp</th><th>deck_Swamp</th><th>sideboard_Swamp</th><th>opening_hand_A Killer Among Us</th><th>drawn_A Killer Among Us</th><th>&hellip;</th><th>deck_Vitu-Ghazi Inspector</th><th>sideboard_Vitu-Ghazi Inspector</th><th>opening_hand_Warleader&#x27;s Call</th><th>drawn_Warleader&#x27;s Call</th><th>tutored_Warleader&#x27;s Call</th><th>deck_Warleader&#x27;s Call</th><th>sideboard_Warleader&#x27;s Call</th><th>opening_hand_Wispdrinker Vampire</th><th>drawn_Wispdrinker Vampire</th><th>tutored_Wispdrinker Vampire</th><th>deck_Wispdrinker Vampire</th><th>sideboard_Wispdrinker Vampire</th><th>opening_hand_Wojek Investigator</th><th>drawn_Wojek Investigator</th><th>tutored_Wojek Investigator</th><th>deck_Wojek Investigator</th><th>sideboard_Wojek Investigator</th><th>opening_hand_Worldsoul&#x27;s Rage</th><th>drawn_Worldsoul&#x27;s Rage</th><th>tutored_Worldsoul&#x27;s Rage</th><th>deck_Worldsoul&#x27;s Rage</th><th>sideboard_Worldsoul&#x27;s Rage</th><th>opening_hand_Worldspine Wurm</th><th>drawn_Worldspine Wurm</th><th>tutored_Worldspine Wurm</th><th>deck_Worldspine Wurm</th><th>sideboard_Worldspine Wurm</th><th>opening_hand_Wrench</th><th>drawn_Wrench</th><th>tutored_Wrench</th><th>deck_Wrench</th><th>sideboard_Wrench</th><th>opening_hand_Yarus, Roar of the Old Gods</th><th>drawn_Yarus, Roar of the Old Gods</th><th>tutored_Yarus, Roar of the Old Gods</th><th>deck_Yarus, Roar of the Old Gods</th><th>sideboard_Yarus, Roar of the Old Gods</th></tr><tr><td>str</td><td>str</td><td>i64</td><td>i64</td><td>i64</td><td>i64</td><td>i64</td><td>i64</td><td>i64</td><td>i64</td><td>i64</td><td>i64</td><td>i64</td><td>i64</td><td>i64</td><td>i64</td><td>i64</td><td>i64</td><td>i64</td><td>i64</td><td>i64</td><td>i64</td><td>i64</td><td>i64</td><td>i64</td><td>i64</td><td>i64</td><td>i64</td><td>i64</td><td>i64</td><td>i64</td><td>i64</td><td>i64</td><td>i64</td><td>i64</td><td>i64</td><td>i64</td><td>&hellip;</td><td>i64</td><td>i64</td><td>i64</td><td>i64</td><td>i64</td><td>i64</td><td>i64</td><td>i64</td><td>i64</td><td>i64</td><td>i64</td><td>i64</td><td>i64</td><td>i64</td><td>i64</td><td>i64</td><td>i64</td><td>i64</td><td>i64</td><td>i64</td><td>i64</td><td>i64</td><td>i64</td><td>i64</td><td>i64</td><td>i64</td><td>i64</td><td>i64</td><td>i64</td><td>i64</td><td>i64</td><td>i64</td><td>i64</td><td>i64</td><td>i64</td><td>i64</td><td>i64</td></tr></thead><tbody><tr><td>&quot;MKM&quot;</td><td>&quot;8e1e92694dcd44e380720f2ec3d971…</td><td>1</td><td>1</td><td>0</td><td>0</td><td>0</td><td>0</td><td>0</td><td>0</td><td>0</td><td>0</td><td>0</td><td>0</td><td>0</td><td>0</td><td>0</td><td>0</td><td>0</td><td>0</td><td>0</td><td>0</td><td>0</td><td>0</td><td>0</td><td>0</td><td>1</td><td>0</td><td>7</td><td>0</td><td>2</td><td>1</td><td>0</td><td>8</td><td>0</td><td>0</td><td>0</td><td>&hellip;</td><td>0</td><td>0</td><td>0</td><td>0</td><td>0</td><td>0</td><td>0</td><td>0</td><td>1</td><td>0</td><td>2</td><td>0</td><td>0</td><td>0</td><td>0</td><td>0</td><td>0</td><td>0</td><td>0</td><td>0</td><td>0</td><td>0</td><td>0</td><td>0</td><td>0</td><td>0</td><td>0</td><td>0</td><td>0</td><td>0</td><td>0</td><td>0</td><td>0</td><td>0</td><td>0</td><td>0</td><td>0</td></tr><tr><td>&quot;MKM&quot;</td><td>&quot;8e1e92694dcd44e380720f2ec3d971…</td><td>2</td><td>1</td><td>0</td><td>0</td><td>0</td><td>0</td><td>0</td><td>0</td><td>0</td><td>0</td><td>0</td><td>0</td><td>0</td><td>0</td><td>0</td><td>0</td><td>0</td><td>0</td><td>0</td><td>0</td><td>0</td><td>0</td><td>0</td><td>3</td><td>0</td><td>0</td><td>7</td><td>0</td><td>0</td><td>1</td><td>0</td><td>8</td><td>0</td><td>0</td><td>0</td><td>&hellip;</td><td>0</td><td>0</td><td>0</td><td>0</td><td>0</td><td>0</td><td>0</td><td>0</td><td>1</td><td>0</td><td>2</td><td>0</td><td>0</td><td>0</td><td>0</td><td>0</td><td>0</td><td>0</td><td>0</td><td>0</td><td>0</td><td>0</td><td>0</td><td>0</td><td>0</td><td>0</td><td>0</td><td>0</td><td>0</td><td>0</td><td>0</td><td>0</td><td>0</td><td>0</td><td>0</td><td>0</td><td>0</td></tr><tr><td>&quot;MKM&quot;</td><td>&quot;8e1e92694dcd44e380720f2ec3d971…</td><td>3</td><td>1</td><td>0</td><td>0</td><td>0</td><td>0</td><td>0</td><td>0</td><td>0</td><td>0</td><td>0</td><td>0</td><td>0</td><td>0</td><td>0</td><td>0</td><td>0</td><td>0</td><td>0</td><td>0</td><td>0</td><td>0</td><td>0</td><td>1</td><td>2</td><td>0</td><td>7</td><td>0</td><td>1</td><td>2</td><td>0</td><td>8</td><td>0</td><td>0</td><td>0</td><td>&hellip;</td><td>0</td><td>0</td><td>0</td><td>0</td><td>0</td><td>0</td><td>0</td><td>2</td><td>0</td><td>0</td><td>2</td><td>0</td><td>0</td><td>0</td><td>0</td><td>0</td><td>0</td><td>0</td><td>0</td><td>0</td><td>0</td><td>0</td><td>0</td><td>0</td><td>0</td><td>0</td><td>0</td><td>0</td><td>0</td><td>0</td><td>0</td><td>0</td><td>0</td><td>0</td><td>0</td><td>0</td><td>0</td></tr><tr><td>&quot;MKM&quot;</td><td>&quot;8e1e92694dcd44e380720f2ec3d971…</td><td>4</td><td>1</td><td>0</td><td>0</td><td>0</td><td>0</td><td>0</td><td>0</td><td>0</td><td>0</td><td>0</td><td>0</td><td>0</td><td>0</td><td>0</td><td>0</td><td>0</td><td>0</td><td>0</td><td>0</td><td>0</td><td>0</td><td>0</td><td>2</td><td>1</td><td>0</td><td>7</td><td>0</td><td>0</td><td>2</td><td>0</td><td>8</td><td>0</td><td>0</td><td>0</td><td>&hellip;</td><td>0</td><td>0</td><td>0</td><td>0</td><td>0</td><td>0</td><td>0</td><td>0</td><td>1</td><td>0</td><td>2</td><td>0</td><td>0</td><td>0</td><td>0</td><td>0</td><td>0</td><td>0</td><td>0</td><td>0</td><td>0</td><td>0</td><td>0</td><td>0</td><td>0</td><td>0</td><td>0</td><td>0</td><td>0</td><td>0</td><td>0</td><td>0</td><td>0</td><td>0</td><td>0</td><td>0</td><td>0</td></tr><tr><td>&quot;MKM&quot;</td><td>&quot;8e1e92694dcd44e380720f2ec3d971…</td><td>5</td><td>1</td><td>0</td><td>0</td><td>0</td><td>0</td><td>0</td><td>0</td><td>0</td><td>0</td><td>0</td><td>0</td><td>0</td><td>0</td><td>0</td><td>0</td><td>0</td><td>0</td><td>0</td><td>0</td><td>0</td><td>0</td><td>0</td><td>1</td><td>2</td><td>0</td><td>7</td><td>0</td><td>1</td><td>1</td><td>0</td><td>8</td><td>0</td><td>0</td><td>0</td><td>&hellip;</td><td>0</td><td>0</td><td>0</td><td>0</td><td>0</td><td>0</td><td>0</td><td>0</td><td>1</td><td>0</td><td>2</td><td>0</td><td>0</td><td>0</td><td>0</td><td>0</td><td>0</td><td>0</td><td>0</td><td>0</td><td>0</td><td>0</td><td>0</td><td>0</td><td>0</td><td>0</td><td>0</td><td>0</td><td>0</td><td>0</td><td>0</td><td>0</td><td>0</td><td>0</td><td>0</td><td>0</td><td>0</td></tr></tbody></table></div>"
      ],
      "text/plain": [
       "shape: (5, 1_635)\n",
       "┌───────────┬───────────┬───────────┬───────────┬───┬───────────┬───────────┬───────────┬──────────┐\n",
       "│ expansion ┆ draft_id  ┆ match_num ┆ game_numb ┆ … ┆ drawn_Yar ┆ tutored_Y ┆ deck_Yaru ┆ sideboar │\n",
       "│ ---       ┆ ---       ┆ ber       ┆ er        ┆   ┆ us, Roar  ┆ arus,     ┆ s, Roar   ┆ d_Yarus, │\n",
       "│ str       ┆ str       ┆ ---       ┆ ---       ┆   ┆ of the    ┆ Roar of   ┆ of the    ┆ Roar of  │\n",
       "│           ┆           ┆ i64       ┆ i64       ┆   ┆ Old G…    ┆ the Old…  ┆ Old Go…   ┆ the O…   │\n",
       "│           ┆           ┆           ┆           ┆   ┆ ---       ┆ ---       ┆ ---       ┆ ---      │\n",
       "│           ┆           ┆           ┆           ┆   ┆ i64       ┆ i64       ┆ i64       ┆ i64      │\n",
       "╞═══════════╪═══════════╪═══════════╪═══════════╪═══╪═══════════╪═══════════╪═══════════╪══════════╡\n",
       "│ MKM       ┆ 8e1e92694 ┆ 1         ┆ 1         ┆ … ┆ 0         ┆ 0         ┆ 0         ┆ 0        │\n",
       "│           ┆ dcd44e380 ┆           ┆           ┆   ┆           ┆           ┆           ┆          │\n",
       "│           ┆ 720f2ec3d ┆           ┆           ┆   ┆           ┆           ┆           ┆          │\n",
       "│           ┆ 971…      ┆           ┆           ┆   ┆           ┆           ┆           ┆          │\n",
       "│ MKM       ┆ 8e1e92694 ┆ 2         ┆ 1         ┆ … ┆ 0         ┆ 0         ┆ 0         ┆ 0        │\n",
       "│           ┆ dcd44e380 ┆           ┆           ┆   ┆           ┆           ┆           ┆          │\n",
       "│           ┆ 720f2ec3d ┆           ┆           ┆   ┆           ┆           ┆           ┆          │\n",
       "│           ┆ 971…      ┆           ┆           ┆   ┆           ┆           ┆           ┆          │\n",
       "│ MKM       ┆ 8e1e92694 ┆ 3         ┆ 1         ┆ … ┆ 0         ┆ 0         ┆ 0         ┆ 0        │\n",
       "│           ┆ dcd44e380 ┆           ┆           ┆   ┆           ┆           ┆           ┆          │\n",
       "│           ┆ 720f2ec3d ┆           ┆           ┆   ┆           ┆           ┆           ┆          │\n",
       "│           ┆ 971…      ┆           ┆           ┆   ┆           ┆           ┆           ┆          │\n",
       "│ MKM       ┆ 8e1e92694 ┆ 4         ┆ 1         ┆ … ┆ 0         ┆ 0         ┆ 0         ┆ 0        │\n",
       "│           ┆ dcd44e380 ┆           ┆           ┆   ┆           ┆           ┆           ┆          │\n",
       "│           ┆ 720f2ec3d ┆           ┆           ┆   ┆           ┆           ┆           ┆          │\n",
       "│           ┆ 971…      ┆           ┆           ┆   ┆           ┆           ┆           ┆          │\n",
       "│ MKM       ┆ 8e1e92694 ┆ 5         ┆ 1         ┆ … ┆ 0         ┆ 0         ┆ 0         ┆ 0        │\n",
       "│           ┆ dcd44e380 ┆           ┆           ┆   ┆           ┆           ┆           ┆          │\n",
       "│           ┆ 720f2ec3d ┆           ┆           ┆   ┆           ┆           ┆           ┆          │\n",
       "│           ┆ 971…      ┆           ┆           ┆   ┆           ┆           ┆           ┆          │\n",
       "└───────────┴───────────┴───────────┴───────────┴───┴───────────┴───────────┴───────────┴──────────┘"
      ]
     },
     "execution_count": 69,
     "metadata": {},
     "output_type": "execute_result"
    }
   ],
   "source": [
    "id_cols = [\"expansion\", \"draft_id\", \"match_number\", \"game_number\", \"build_index\"]\n",
    "df_card = df_lazy.select(*id_cols, *land_card_cols, *non_land_card_cols)\n",
    "\n",
    "df_card.collect().write_parquet(card_file)\n",
    "\n",
    "df_card.head().collect()"
   ]
  },
  {
   "cell_type": "markdown",
   "metadata": {},
   "source": [
    "# Summary Table"
   ]
  },
  {
   "cell_type": "code",
   "execution_count": 70,
   "metadata": {},
   "outputs": [
    {
     "data": {
      "text/html": [
       "<div><style>\n",
       ".dataframe > thead > tr,\n",
       ".dataframe > tbody > tr {\n",
       "  text-align: right;\n",
       "  white-space: pre-wrap;\n",
       "}\n",
       "</style>\n",
       "<small>shape: (1, 22)</small><table border=\"1\" class=\"dataframe\"><thead><tr><th>expansion</th><th>first_game</th><th>last_game</th><th>max_games</th><th>win_rate</th><th>start_rate</th><th>n_games</th><th>n_mul</th><th>n_opp_mul</th><th>mean_turns</th><th>total_turns</th><th>max_turns</th><th>min_turns</th><th>n_drafts</th><th>n_matches</th><th>mean_matches</th><th>n_games_per_draft</th><th>n_cards</th><th>max_card</th><th>mean_land</th><th>max_land</th><th>min_land</th></tr><tr><td>str</td><td>datetime[μs]</td><td>datetime[μs]</td><td>i64</td><td>f64</td><td>f64</td><td>u32</td><td>i64</td><td>i64</td><td>f64</td><td>i64</td><td>i64</td><td>i64</td><td>u32</td><td>i64</td><td>f64</td><td>f64</td><td>i32</td><td>i64</td><td>f64</td><td>i32</td><td>i32</td></tr></thead><tbody><tr><td>&quot;MKM&quot;</td><td>2024-02-06 16:24:44</td><td>2024-03-18 23:59:48</td><td>1</td><td>0.549798</td><td>0.49982</td><td>964377</td><td>114014</td><td>121101</td><td>9.278472</td><td>8947945</td><td>32</td><td>1</td><td>165251</td><td>965887</td><td>5.844969</td><td>5.835832</td><td>326</td><td>8</td><td>22.525862</td><td>38</td><td>9</td></tr></tbody></table></div>"
      ],
      "text/plain": [
       "shape: (1, 22)\n",
       "┌───────────┬────────────┬────────────┬───────────┬───┬──────────┬───────────┬──────────┬──────────┐\n",
       "│ expansion ┆ first_game ┆ last_game  ┆ max_games ┆ … ┆ max_card ┆ mean_land ┆ max_land ┆ min_land │\n",
       "│ ---       ┆ ---        ┆ ---        ┆ ---       ┆   ┆ ---      ┆ ---       ┆ ---      ┆ ---      │\n",
       "│ str       ┆ datetime[μ ┆ datetime[μ ┆ i64       ┆   ┆ i64      ┆ f64       ┆ i32      ┆ i32      │\n",
       "│           ┆ s]         ┆ s]         ┆           ┆   ┆          ┆           ┆          ┆          │\n",
       "╞═══════════╪════════════╪════════════╪═══════════╪═══╪══════════╪═══════════╪══════════╪══════════╡\n",
       "│ MKM       ┆ 2024-02-06 ┆ 2024-03-18 ┆ 1         ┆ … ┆ 8        ┆ 22.525862 ┆ 38       ┆ 9        │\n",
       "│           ┆ 16:24:44   ┆ 23:59:48   ┆           ┆   ┆          ┆           ┆          ┆          │\n",
       "└───────────┴────────────┴────────────┴───────────┴───┴──────────┴───────────┴──────────┴──────────┘"
      ]
     },
     "execution_count": 70,
     "metadata": {},
     "output_type": "execute_result"
    }
   ],
   "source": [
    "df_select = df_lazy.select(\n",
    "    pl.first(\"expansion\").alias(\"expansion\"),\n",
    "    pl.min(\"game_time\").alias(\"first_game\"),\n",
    "    pl.max(\"game_time\").alias(\"last_game\"),\n",
    "    pl.max(\"game_number\").alias(\"max_games\"),\n",
    "    pl.mean(\"won\").alias(\"win_rate\"),\n",
    "    pl.mean(\"on_play\").alias(\"start_rate\"),\n",
    "    pl.count(\"draft_id\").alias(\"n_games\"),\n",
    "    pl.sum(\"num_mulligans\").alias(\"n_mul\"),\n",
    "    pl.sum(\"opp_num_mulligans\").alias(\"n_opp_mul\"),\n",
    "    pl.mean(\"num_turns\").alias(\"mean_turns\"),\n",
    "    pl.sum(\"num_turns\").alias(\"total_turns\"),\n",
    "    pl.max(\"num_turns\").alias(\"max_turns\"),\n",
    "    pl.min(\"num_turns\").alias(\"min_turns\"),\n",
    ")\n",
    "\n",
    "\n",
    "df_draft_ct = df_draft.select(\n",
    "    pl.count(\"draft_id\").alias(\"n_drafts\"),\n",
    "    pl.sum(\"n_matches\").alias(\"n_matches\"),\n",
    "    pl.mean(\"n_matches\").alias(\"mean_matches\"),\n",
    ")\n",
    "\n",
    "\n",
    "df_max_card = df_lazy.select(non_land_card_cols).max().collect()\n",
    "\n",
    "\n",
    "df_sum_land = df_lazy.select(land_card_cols).collect().sum_horizontal()\n",
    "\n",
    "\n",
    "df_summary = pl.concat([df_select, df_draft_ct], how=\"horizontal\")\n",
    "\n",
    "\n",
    "df_summary = df_summary.with_columns(\n",
    "    (pl.col(\"n_games\") / pl.col(\"n_drafts\")).alias(\"n_games_per_draft\"),\n",
    "    pl.lit(len(card_names)).alias(\"n_cards\"),\n",
    "    df_max_card.max_horizontal().alias(\"max_card\"),\n",
    "    pl.lit(df_sum_land.mean()).alias(\"mean_land\"),\n",
    "    pl.lit(df_sum_land.max()).alias(\"max_land\"),\n",
    "    pl.lit(df_sum_land.min()).alias(\"min_land\"),\n",
    ")\n",
    "\n",
    "\n",
    "df_summary = df_summary.collect()\n",
    "\n",
    "\n",
    "df_summary.write_parquet(summary_file)\n",
    "\n",
    "\n",
    "df_summary"
   ]
  },
  {
   "cell_type": "code",
   "execution_count": null,
   "metadata": {},
   "outputs": [],
   "source": []
  }
 ],
 "metadata": {
  "kernelspec": {
   "display_name": "dl+bayes-env",
   "language": "python",
   "name": "python3"
  },
  "language_info": {
   "codemirror_mode": {
    "name": "ipython",
    "version": 3
   },
   "file_extension": ".py",
   "mimetype": "text/x-python",
   "name": "python",
   "nbconvert_exporter": "python",
   "pygments_lexer": "ipython3",
   "version": "3.10.9"
  }
 },
 "nbformat": 4,
 "nbformat_minor": 2
}
