{
 "cells": [
  {
   "cell_type": "markdown",
   "metadata": {},
   "source": [
    "# Summary\n",
    "\n",
    "The code to wrangle the data.  Deal with NAs, join data frames, etc."
   ]
  },
  {
   "cell_type": "code",
   "execution_count": 1,
   "metadata": {},
   "outputs": [
    {
     "name": "stdout",
     "output_type": "stream",
     "text": [
      "Changed working directory to: /root/mtg-modeling\n"
     ]
    }
   ],
   "source": [
    "# Setup Notebook\n",
    "import os\n",
    "if os.path.basename(os.getcwd()) != \"mtg-modeling\":\n",
    "    get_ipython().run_line_magic(\"run\", '-i \"../../scripts/notebook_header.py\"')  # type: ignore"
   ]
  },
  {
   "cell_type": "code",
   "execution_count": 2,
   "metadata": {},
   "outputs": [],
   "source": [
    "import pandas as pd\n",
    "from tqdm.notebook import tqdm\n",
    "from pathlib import Path\n",
    "import matplotlib.pyplot as plt\n",
    "import seaborn as sns\n",
    "import numpy as np\n",
    "import time\n",
    "import polars as pl"
   ]
  },
  {
   "cell_type": "code",
   "execution_count": 3,
   "metadata": {},
   "outputs": [],
   "source": [
    "paths = {\n",
    "    \"raw\": Path(\"data/raw/17lands/game_data/PremierDraft\"),\n",
    "    \"interim\": Path(\"data/interim/17lands/game_data/premier_draft\"),\n",
    "    \"processed\": Path(\"data/processed/17lands/game_data/premier_draft\"),\n",
    "}\n"
   ]
  },
  {
   "cell_type": "code",
   "execution_count": 4,
   "metadata": {},
   "outputs": [],
   "source": [
    "csv_file = paths[\"raw\"] / \"game_data_public.BLB.PremierDraft.csv\"\n",
    "parquet_file = paths[\"interim\"] / \"game_data_public.BLB.PremierDraft.parquet\"\n",
    "final_file = paths[\"processed\"] / \"BLB_GameData_PremierDraft.parquet\"\n",
    "\n",
    "os.makedirs(paths[\"interim\"], exist_ok=True)\n",
    "os.makedirs(paths[\"processed\"], exist_ok=True)"
   ]
  },
  {
   "cell_type": "code",
   "execution_count": 5,
   "metadata": {},
   "outputs": [
    {
     "ename": "",
     "evalue": "",
     "output_type": "error",
     "traceback": [
      "\u001b[1;31mThe Kernel crashed while executing code in the current cell or a previous cell. \n",
      "\u001b[1;31mPlease review the code in the cell(s) to identify a possible cause of the failure. \n",
      "\u001b[1;31mClick <a href='https://aka.ms/vscodeJupyterKernelCrash'>here</a> for more info. \n",
      "\u001b[1;31mView Jupyter <a href='command:jupyter.viewOutput'>log</a> for further details."
     ]
    }
   ],
   "source": [
    "df_lazy = pl.scan_csv(csv_file)\n",
    "df_lazy.collect().write_parquet(parquet_file)"
   ]
  },
  {
   "cell_type": "code",
   "execution_count": 15,
   "metadata": {},
   "outputs": [
    {
     "name": "stderr",
     "output_type": "stream",
     "text": [
      "/tmp/ipykernel_22884/3497688272.py:11: DeprecationWarning: `pl.count()` is deprecated. Please use `pl.len()` instead.\n",
      "  num_rows = df_lazy.select(pl.count()).collect().item()\n"
     ]
    },
    {
     "data": {
      "application/vnd.jupyter.widget-view+json": {
       "model_id": "32b452ea23cd4e58919976db2b20ad83",
       "version_major": 2,
       "version_minor": 0
      },
      "text/plain": [
       "  0%|          | 0/10 [00:00<?, ?it/s]"
      ]
     },
     "metadata": {},
     "output_type": "display_data"
    },
    {
     "name": "stdout",
     "output_type": "stream",
     "text": [
      "(2760000, 26)\n"
     ]
    }
   ],
   "source": [
    "df_lazy = pl.scan_parquet(parquet_file)   # 680,000 rows; 1,400 columns\n",
    "cols = df_lazy.collect_schema().names()\n",
    "\n",
    "status_prefixes = ['tutored_', 'deck_', 'opening_', 'drawn_', 'sideboard_']\n",
    "card_cols = [col for col in cols if any([col.startswith(s) for s in status_prefixes])]\n",
    "index_cols = [col for col in cols if col not in card_cols]\n",
    "index_cols\n",
    "\n",
    "results = []\n",
    "chunk_size = 1000\n",
    "num_rows = df_lazy.select(pl.len()).collect().item()\n",
    "\n",
    "\n",
    "for i in tqdm(range(0, 10000, chunk_size)):\n",
    "    df_chunk = (\n",
    "        df_lazy.slice(i, chunk_size)\n",
    "        .unpivot(\n",
    "            on=card_cols,\n",
    "            index=index_cols,\n",
    "            variable_name=\"card\",\n",
    "            value_name=\"count\",\n",
    "        )\n",
    "        .with_columns(\n",
    "            pl.col(\"card\").str.extract(r\"(.*)_.*\").alias(\"status\"),\n",
    "            pl.col(\"card\").str.extract(r\".*_(.*)\").alias(\"name\"),\n",
    "        )\n",
    "        .drop(\"card\")\n",
    "        .collect()\n",
    "        .pivot(\n",
    "            on=\"status\",\n",
    "            values=\"count\",\n",
    "        )\n",
    "    )\n",
    "\n",
    "    results.append(df_chunk)\n",
    "\n",
    "df_final = pl.concat(results)\n",
    "\n",
    "print(df_final.shape)"
   ]
  },
  {
   "cell_type": "code",
   "execution_count": 7,
   "metadata": {},
   "outputs": [
    {
     "data": {
      "application/vnd.jupyter.widget-view+json": {
       "model_id": "3c9ecab3251c41a9a935c91d6a3899a0",
       "version_major": 2,
       "version_minor": 0
      },
      "text/plain": [
       "  0%|          | 0/28 [00:00<?, ?it/s]"
      ]
     },
     "metadata": {},
     "output_type": "display_data"
    },
    {
     "name": "stdout",
     "output_type": "stream",
     "text": [
      "rows: 25000, time: 21.19, rows/s: 1179.74\n",
      "rows: 50000, time: 42.97, rows/s: 1163.47\n",
      "rows: 75000, time: 64.79, rows/s: 1157.58\n",
      "rows: 100000, time: 86.39, rows/s: 1157.56\n",
      "rows: 125000, time: 108.09, rows/s: 1156.40\n",
      "rows: 150000, time: 129.73, rows/s: 1156.27\n",
      "rows: 175000, time: 151.29, rows/s: 1156.72\n",
      "rows: 200000, time: 172.82, rows/s: 1157.29\n",
      "rows: 225000, time: 194.43, rows/s: 1157.21\n",
      "rows: 250000, time: 215.95, rows/s: 1157.65\n",
      "rows: 275000, time: 237.51, rows/s: 1157.85\n",
      "rows: 300000, time: 259.21, rows/s: 1157.37\n",
      "rows: 325000, time: 280.78, rows/s: 1157.50\n",
      "rows: 350000, time: 302.86, rows/s: 1155.65\n",
      "rows: 375000, time: 324.70, rows/s: 1154.90\n",
      "rows: 400000, time: 346.51, rows/s: 1154.37\n",
      "rows: 425000, time: 368.50, rows/s: 1153.31\n",
      "rows: 450000, time: 390.43, rows/s: 1152.56\n",
      "rows: 475000, time: 412.35, rows/s: 1151.92\n",
      "rows: 500000, time: 434.41, rows/s: 1151.00\n",
      "rows: 525000, time: 456.61, rows/s: 1149.79\n",
      "rows: 550000, time: 478.72, rows/s: 1148.90\n",
      "rows: 575000, time: 500.86, rows/s: 1148.03\n",
      "rows: 600000, time: 523.35, rows/s: 1146.46\n",
      "rows: 625000, time: 545.45, rows/s: 1145.85\n",
      "rows: 650000, time: 567.18, rows/s: 1146.02\n",
      "rows: 675000, time: 589.01, rows/s: 1145.99\n",
      "rows: 700000, time: 593.89, rows/s: 1178.67\n"
     ]
    }
   ],
   "source": [
    "df_lazy = pl.scan_parquet(parquet_file)  # 680,000 rows; 1,400 columns\n",
    "cols = df_lazy.collect_schema().names()\n",
    "\n",
    "status_prefixes = [\"tutored_\", \"deck_\", \"opening_\", \"drawn_\", \"sideboard_\"]\n",
    "card_cols = [col for col in cols if any([col.startswith(s) for s in status_prefixes])]\n",
    "deck_cols = [col for col in cols if col.startswith('deck_')]\n",
    "index_cols = [col for col in cols if col not in card_cols]\n",
    "index_cols\n",
    "\n",
    "chunk_size = 25000\n",
    "\n",
    "def unpivot_cols(df, prefix=\"deck_\"):\n",
    "    cols = df.collect_schema().names()\n",
    "    card_cols = [\n",
    "        col for col in cols if any([col.startswith(s) for s in status_prefixes])\n",
    "    ]\n",
    "    prefixed_cols = [col for col in cols if col.startswith(prefix)]\n",
    "    index_cols = [col for col in cols if col not in card_cols]\n",
    "\n",
    "    return (\n",
    "        df.unpivot(\n",
    "            on=prefixed_cols,\n",
    "            index=index_cols,\n",
    "            variable_name=\"card\",\n",
    "            value_name=f\"{prefix}count\",\n",
    "        )\n",
    "        .with_columns(\n",
    "            pl.col(\"card\").str.extract(r\".*_(.*)\").alias(\"card_name\"),\n",
    "        )\n",
    "        .drop(\"card\")\n",
    "        .select([\"card_name\", f\"{prefix}count\", *index_cols])\n",
    "    )\n",
    "\n",
    "\n",
    "def unpivot_and_join(df):\n",
    "    index_cols = [\"card_name\", \"draft_id\", \"build_index\", \"match_number\", \"game_number\"]\n",
    "\n",
    "    for i, status_prefix in enumerate(status_prefixes):\n",
    "        df_temp = unpivot_cols(df.slice(0, chunk_size), prefix=status_prefix)\n",
    "        if i == 0:\n",
    "            df_final = df_temp\n",
    "        else:\n",
    "            df_final = df_final.join(\n",
    "                df_temp.select(index_cols + [f\"{status_prefix}count\"]), on=index_cols, how=\"inner\"\n",
    "            )\n",
    "    return df_final\n",
    "\n",
    "\n",
    "def sort_columns(df):\n",
    "    cols = df.collect_schema().names()\n",
    "    card_cols = [\n",
    "        \"card_name\",\n",
    "        \"deck_count\",\n",
    "        \"opening_count\",\n",
    "        \"drawn_count\",\n",
    "        \"tutored_count\",\n",
    "        \"sideboard_count\",\n",
    "    ]\n",
    "    index_cols = [col for col in cols if col not in card_cols]\n",
    "    return df.select(card_cols + index_cols)\n",
    "\n",
    "start_time = time.time()\n",
    "\n",
    "chunk_size = 25000  # max efficiency ~10k\n",
    "num_rows = df_lazy.select(pl.len()).collect().item()\n",
    "\n",
    "for i in tqdm(range(0, num_rows, chunk_size)):\n",
    "    df_chunk = df_lazy.slice(i, chunk_size)\n",
    "    df_chunk = unpivot_and_join(df_chunk)\n",
    "    df_chunk = sort_columns(df_chunk).collect()\n",
    "    df_chunk.write_parquet(\n",
    "        paths[\"interim\"] / f\"{i}_game_data_public.BLB.PremierDraft.parquet\"\n",
    "    )\n",
    "\n",
    "    end_time = time.time()\n",
    "    k_per_s = (i + chunk_size) / (end_time - start_time)\n",
    "    print(\n",
    "        f\"rows: {i + chunk_size}, time: {(end_time - start_time):.2f}, rows/s: {k_per_s:.2f}\"\n",
    "    )"
   ]
  },
  {
   "cell_type": "code",
   "execution_count": 5,
   "metadata": {},
   "outputs": [
    {
     "data": {
      "application/vnd.jupyter.widget-view+json": {
       "model_id": "ee7f3babeb0b41089ed13b7e7bca5a8e",
       "version_major": 2,
       "version_minor": 0
      },
      "text/plain": [
       "  0%|          | 0/28 [00:00<?, ?it/s]"
      ]
     },
     "metadata": {},
     "output_type": "display_data"
    },
    {
     "name": "stdout",
     "output_type": "stream",
     "text": [
      "6900000 (6900000, 26)\n",
      "13800000 (6900000, 26)\n",
      "20700000 (6900000, 26)\n",
      "27600000 (6900000, 26)\n",
      "(27600000, 26)\n",
      "34500000 (6900000, 26)\n",
      "41400000 (6900000, 26)\n",
      "48300000 (6900000, 26)\n",
      "55200000 (6900000, 26)\n",
      "(27600000, 26)\n",
      "62100000 (6900000, 26)\n",
      "69000000 (6900000, 26)\n",
      "75900000 (6900000, 26)\n",
      "82800000 (6900000, 26)\n",
      "(27600000, 26)\n",
      "89700000 (6900000, 26)\n",
      "96600000 (6900000, 26)\n",
      "103500000 (6900000, 26)\n",
      "110400000 (6900000, 26)\n",
      "(27600000, 26)\n",
      "117300000 (6900000, 26)\n",
      "124200000 (6900000, 26)\n",
      "131100000 (6900000, 26)\n",
      "138000000 (6900000, 26)\n",
      "(27600000, 26)\n",
      "144900000 (6900000, 26)\n",
      "151800000 (6900000, 26)\n",
      "158700000 (6900000, 26)\n",
      "165600000 (6900000, 26)\n",
      "(27600000, 26)\n",
      "172500000 (6900000, 26)\n",
      "179400000 (6900000, 26)\n",
      "186300000 (6900000, 26)\n",
      "187670616 (1370616, 26)\n",
      "(22070616, 26)\n"
     ]
    }
   ],
   "source": [
    "results = []\n",
    "tot_len = 0\n",
    "chunk_size = 25000  # max efficiency ~10k\n",
    "df_lazy = pl.scan_parquet(parquet_file)\n",
    "num_rows = df_lazy.select(pl.len()).collect().item()\n",
    "k = 0\n",
    "j = 0\n",
    "\n",
    "for i in tqdm(range(0, num_rows, chunk_size)):\n",
    "    df_temp = pl.read_parquet(\n",
    "            paths[\"interim\"] / f\"{i}_game_data_public.BLB.PremierDraft.parquet\", use_pyarrow=True, memory_map=False\n",
    "        )\n",
    "    tot_len += len(df_temp)\n",
    "    results.append(df_temp)\n",
    "    print(j, tot_len, df_temp.shape)\n",
    "    if j ==  3:\n",
    "        df_final = pl.concat(results)\n",
    "        print(k, df_final.shape)\n",
    "        df_final.write_parquet(\n",
    "            paths[\"interim\"] / f\"{k}_game_data_public.BLB.PremierDraft.parquet\"\n",
    "        )\n",
    "        k += 1\n",
    "        j = 0\n",
    "        results = []\n",
    "    else:\n",
    "        j += 1\n",
    "\n",
    "\n",
    "# df_final = pl.concat(results)\n",
    "# print(df_final.shape)\n",
    "# print(f\"{k_per_s:.2f} rows per second\")\n",
    "# df_final.head()"
   ]
  },
  {
   "cell_type": "code",
   "execution_count": 6,
   "metadata": {},
   "outputs": [
    {
     "data": {
      "application/vnd.jupyter.widget-view+json": {
       "model_id": "d1fb5ebfa08848e7a04f9a5d4d3ba576",
       "version_major": 2,
       "version_minor": 0
      },
      "text/plain": [
       "  0%|          | 0/7 [00:00<?, ?it/s]"
      ]
     },
     "metadata": {},
     "output_type": "display_data"
    },
    {
     "name": "stdout",
     "output_type": "stream",
     "text": [
      "0 27600000 (27600000, 26)\n",
      "1 55200000 (27600000, 26)\n",
      "7 (55200000, 26)\n"
     ]
    },
    {
     "ename": "",
     "evalue": "",
     "output_type": "error",
     "traceback": [
      "\u001b[1;31mThe Kernel crashed while executing code in the current cell or a previous cell. \n",
      "\u001b[1;31mPlease review the code in the cell(s) to identify a possible cause of the failure. \n",
      "\u001b[1;31mClick <a href='https://aka.ms/vscodeJupyterKernelCrash'>here</a> for more info. \n",
      "\u001b[1;31mView Jupyter <a href='command:jupyter.viewOutput'>log</a> for further details."
     ]
    }
   ],
   "source": [
    "k=7\n",
    "results = []\n",
    "tot_len = 0\n",
    "chunk_size = 25000  # max efficiency ~10k\n",
    "df_lazy = pl.scan_parquet(parquet_file)\n",
    "j = 0\n",
    "k2 = 0\n",
    "\n",
    "for i in tqdm(range(k)):\n",
    "    df_temp = pl.read_parquet(\n",
    "        paths[\"processed\"] / f\"{i}_game_data_public.BLB.PremierDraft.parquet\",\n",
    "        use_pyarrow=True,\n",
    "        memory_map=False,\n",
    "    )\n",
    "    tot_len += len(df_temp)\n",
    "    results.append(df_temp)\n",
    "    print(j, tot_len, df_temp.shape)\n",
    "    if j == 1:\n",
    "        df_final = pl.concat(results)\n",
    "        print(k, df_final.shape)\n",
    "        df_final.write_parquet(\n",
    "            paths[\"processed\"] / f\"{k2}_2_game_data_public.BLB.PremierDraft.parquet\"\n",
    "        )\n",
    "        k2 += 1\n",
    "        j = 0\n",
    "        results = []\n",
    "    else:\n",
    "        j += 1"
   ]
  },
  {
   "cell_type": "code",
   "execution_count": 9,
   "metadata": {},
   "outputs": [
    {
     "ename": "",
     "evalue": "",
     "output_type": "error",
     "traceback": [
      "\u001b[1;31mThe Kernel crashed while executing code in the current cell or a previous cell. \n",
      "\u001b[1;31mPlease review the code in the cell(s) to identify a possible cause of the failure. \n",
      "\u001b[1;31mClick <a href='https://aka.ms/vscodeJupyterKernelCrash'>here</a> for more info. \n",
      "\u001b[1;31mView Jupyter <a href='command:jupyter.viewOutput'>log</a> for further details."
     ]
    }
   ],
   "source": [
    "df = df_final.collect()"
   ]
  },
  {
   "cell_type": "code",
   "execution_count": null,
   "metadata": {},
   "outputs": [],
   "source": [
    "df_final.write_parquet(final_file)"
   ]
  },
  {
   "cell_type": "markdown",
   "metadata": {},
   "source": []
  },
  {
   "cell_type": "code",
   "execution_count": null,
   "metadata": {},
   "outputs": [],
   "source": [
    "(\n",
    "    df_final.select([\"card_name\", \"deck_count\"])\n",
    "    .groupby(\"card_name\")\n",
    "    .agg(pl.max(\"deck_count\"))\n",
    "    .alias(\"max_deck_count\")\n",
    "    .sort(\"max_deck_count\", reverse=True)\n",
    "    .head(10)\n",
    ")"
   ]
  }
 ],
 "metadata": {
  "kernelspec": {
   "display_name": "dl+bayes-env",
   "language": "python",
   "name": "python3"
  },
  "language_info": {
   "codemirror_mode": {
    "name": "ipython",
    "version": 3
   },
   "file_extension": ".py",
   "mimetype": "text/x-python",
   "name": "python",
   "nbconvert_exporter": "python",
   "pygments_lexer": "ipython3",
   "version": "3.12.3"
  }
 },
 "nbformat": 4,
 "nbformat_minor": 2
}
