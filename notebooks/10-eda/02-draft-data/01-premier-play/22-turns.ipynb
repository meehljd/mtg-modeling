{
 "cells": [
  {
   "cell_type": "raw",
   "metadata": {
    "vscode": {
     "languageId": "raw"
    }
   },
   "source": [
    "---\n",
    "draft: false\n",
    "title: \"Bloomburrow (BLB) Arena Draft Analysis\"\n",
    "author: \"Josh Meehl\"\n",
    "date: 2024-09-03\n",
    "description: \"Draft set analysis for Bloomburrow\"\n",
    "categories: [\"EDA\", \"Draft\", \"BLB\", \"Arena\"]\n",
    "---"
   ]
  },
  {
   "cell_type": "code",
   "execution_count": 1,
   "metadata": {},
   "outputs": [
    {
     "name": "stdout",
     "output_type": "stream",
     "text": [
      "Changed working directory to: D:\\mtg-modeling\n"
     ]
    }
   ],
   "source": [
    "# | output: false\n",
    "# Setup Notebook\n",
    "\n",
    "path = \"../../../../scripts/notebook_header.py\"\n",
    "import os\n",
    "\n",
    "\n",
    "if os.path.basename(os.getcwd()) != \"mtg-modeling\":\n",
    "    args = f\"--path {path}\"\n",
    "    get_ipython().run_line_magic(\"run\", f\"-i {path} {args}\")  # type: ignore"
   ]
  },
  {
   "cell_type": "code",
   "execution_count": 2,
   "metadata": {},
   "outputs": [],
   "source": [
    "import polars as pl\n",
    "import matplotlib.pyplot as plt\n",
    "import seaborn as sns\n",
    "\n",
    "import src.plots.annotate as anno\n",
    "import src.plots.symbols as symbols"
   ]
  },
  {
   "cell_type": "code",
   "execution_count": 3,
   "metadata": {},
   "outputs": [],
   "source": [
    "set_code = \"All_Sets\"\n",
    "set_codes_order = [\"MKM\", \"OTJ\", \"MH3\", \"BLB\"]\n",
    "\n",
    "paths = {\n",
    "    \"processed\": Path(\"data/processed/17lands/game_data/premier_draft\"),\n",
    "}\n",
    "summary_file = paths[\"processed\"] / f\"{set_code}_Game_PD_Summary.parquet\"\n",
    "game_file = paths[\"processed\"] / f\"{set_code}_Game_PD_Games.parquet\"\n",
    "draft_file = paths[\"processed\"] / f\"{set_code}_Game_PD_Drafts.parquet\"\n",
    "card_file = paths[\"processed\"] / f\"{set_code}_Game_PD_Cards.parquet\""
   ]
  },
  {
   "cell_type": "code",
   "execution_count": 4,
   "metadata": {},
   "outputs": [],
   "source": [
    "df_games = pl.scan_parquet(game_file)"
   ]
  },
  {
   "cell_type": "markdown",
   "metadata": {},
   "source": [
    "# Turn Counts\n",
    "\n",
    "The number of turns in a game is an important metric for assessing the speed of a set. In @fig-turns-per-game, we see the distribution of turn counts for the Bloomburrow set, with an average of 8.9 turns per game.\n",
    "\n",
    "Similar to the distribution seen in @fig-mulligan-poisson, this turn distribution appears to resemble a Poisson distribution."
   ]
  },
  {
   "cell_type": "code",
   "execution_count": 5,
   "metadata": {},
   "outputs": [
    {
     "data": {
      "text/html": [
       "<div>\n",
       "<style scoped>\n",
       "    .dataframe tbody tr th:only-of-type {\n",
       "        vertical-align: middle;\n",
       "    }\n",
       "\n",
       "    .dataframe tbody tr th {\n",
       "        vertical-align: top;\n",
       "    }\n",
       "\n",
       "    .dataframe thead th {\n",
       "        text-align: right;\n",
       "    }\n",
       "</style>\n",
       "<table border=\"1\" class=\"dataframe\">\n",
       "  <thead>\n",
       "    <tr style=\"text-align: right;\">\n",
       "      <th></th>\n",
       "      <th>num_turns</th>\n",
       "      <th>expansion</th>\n",
       "      <th>win_rate</th>\n",
       "      <th>n_wins</th>\n",
       "      <th>n_games</th>\n",
       "      <th>pct_games</th>\n",
       "      <th>set_n_games</th>\n",
       "      <th>set_win_rate</th>\n",
       "      <th>normalized_win_rate</th>\n",
       "      <th>normalized_pct_games</th>\n",
       "    </tr>\n",
       "  </thead>\n",
       "  <tbody>\n",
       "    <tr>\n",
       "      <th>0</th>\n",
       "      <td>33</td>\n",
       "      <td>BLB</td>\n",
       "      <td>1.0</td>\n",
       "      <td>2</td>\n",
       "      <td>2</td>\n",
       "      <td>5.214074e-07</td>\n",
       "      <td>931230</td>\n",
       "      <td>0.546025</td>\n",
       "      <td>1.831417</td>\n",
       "      <td>0.000002</td>\n",
       "    </tr>\n",
       "    <tr>\n",
       "      <th>1</th>\n",
       "      <td>32</td>\n",
       "      <td>BLB</td>\n",
       "      <td>0.0</td>\n",
       "      <td>0</td>\n",
       "      <td>1</td>\n",
       "      <td>2.607037e-07</td>\n",
       "      <td>931230</td>\n",
       "      <td>0.546025</td>\n",
       "      <td>0.000000</td>\n",
       "      <td>0.000001</td>\n",
       "    </tr>\n",
       "    <tr>\n",
       "      <th>2</th>\n",
       "      <td>32</td>\n",
       "      <td>MH3</td>\n",
       "      <td>0.0</td>\n",
       "      <td>0</td>\n",
       "      <td>1</td>\n",
       "      <td>2.607037e-07</td>\n",
       "      <td>767772</td>\n",
       "      <td>0.550959</td>\n",
       "      <td>0.000000</td>\n",
       "      <td>0.000001</td>\n",
       "    </tr>\n",
       "    <tr>\n",
       "      <th>3</th>\n",
       "      <td>32</td>\n",
       "      <td>MKM</td>\n",
       "      <td>0.5</td>\n",
       "      <td>1</td>\n",
       "      <td>2</td>\n",
       "      <td>5.214074e-07</td>\n",
       "      <td>964377</td>\n",
       "      <td>0.549798</td>\n",
       "      <td>0.909424</td>\n",
       "      <td>0.000002</td>\n",
       "    </tr>\n",
       "    <tr>\n",
       "      <th>4</th>\n",
       "      <td>32</td>\n",
       "      <td>OTJ</td>\n",
       "      <td>1.0</td>\n",
       "      <td>3</td>\n",
       "      <td>3</td>\n",
       "      <td>7.821111e-07</td>\n",
       "      <td>1172393</td>\n",
       "      <td>0.541419</td>\n",
       "      <td>1.846998</td>\n",
       "      <td>0.000003</td>\n",
       "    </tr>\n",
       "  </tbody>\n",
       "</table>\n",
       "</div>"
      ],
      "text/plain": [
       "   num_turns expansion  win_rate  n_wins  n_games     pct_games  set_n_games  \\\n",
       "0         33       BLB       1.0       2        2  5.214074e-07       931230   \n",
       "1         32       BLB       0.0       0        1  2.607037e-07       931230   \n",
       "2         32       MH3       0.0       0        1  2.607037e-07       767772   \n",
       "3         32       MKM       0.5       1        2  5.214074e-07       964377   \n",
       "4         32       OTJ       1.0       3        3  7.821111e-07      1172393   \n",
       "\n",
       "   set_win_rate  normalized_win_rate  normalized_pct_games  \n",
       "0      0.546025             1.831417              0.000002  \n",
       "1      0.546025             0.000000              0.000001  \n",
       "2      0.550959             0.000000              0.000001  \n",
       "3      0.549798             0.909424              0.000002  \n",
       "4      0.541419             1.846998              0.000003  "
      ]
     },
     "execution_count": 5,
     "metadata": {},
     "output_type": "execute_result"
    }
   ],
   "source": [
    "turns = (\n",
    "    df_games.group_by([\"num_turns\", \"expansion\"])\n",
    "    .agg(\n",
    "        pl.col(\"won\").mean().alias(\"win_rate\"),\n",
    "        pl.col(\"won\").sum().alias(\"n_wins\"),\n",
    "        pl.col(\"won\").count().alias(\"n_games\"),\n",
    "    )\n",
    "    .with_columns((pl.col(\"n_games\") / pl.col(\"n_games\").sum()).alias(\"pct_games\"))\n",
    "    .sort(by=\"num_turns\", descending=True)\n",
    ")\n",
    "\n",
    "mean_win_rate = (\n",
    "    turns.group_by(\"expansion\")\n",
    "    .agg(\n",
    "        pl.col(\"n_games\").sum().alias(\"set_n_games\"),\n",
    "        pl.col(\"n_wins\").sum().alias(\"set_n_wins\"),\n",
    "    )\n",
    "    .select(\n",
    "        \"expansion\",\n",
    "        \"set_n_games\",\n",
    "        (pl.col(\"set_n_wins\") / pl.col(\"set_n_games\")).alias(\"set_win_rate\"),\n",
    "    )\n",
    ")\n",
    "\n",
    "turns = (\n",
    "    turns.join(mean_win_rate, on=\"expansion\")\n",
    "    .with_columns(\n",
    "        (pl.col(\"win_rate\") / pl.col(\"set_win_rate\")).alias(\"normalized_win_rate\"),\n",
    "        (pl.col(\"n_games\") / pl.col(\"set_n_games\")).alias(\"normalized_pct_games\"),\n",
    "    )\n",
    "    .collect()\n",
    "    .to_pandas()\n",
    ")\n",
    "\n",
    "filtered_turns = turns.loc[turns[\"pct_games\"] > 0.001]\n",
    "mean_win_rate = df_games.select(pl.col(\"num_turns\").mean()).collect().to_numpy()[0][0]\n",
    "\n",
    "turns.head()"
   ]
  },
  {
   "cell_type": "code",
   "execution_count": 6,
   "metadata": {},
   "outputs": [],
   "source": [
    "df_plot = df_games.collect().to_pandas()\n",
    "df_plot = df_plot[df_plot[\"num_turns\"] < 20]"
   ]
  },
  {
   "cell_type": "code",
   "execution_count": 10,
   "metadata": {},
   "outputs": [
    {
     "data": {
      "image/png": "[encoded data removed]",
      "text/plain": [
       "<Figure size 640x480 with 1 Axes>"
      ]
     },
     "metadata": {},
     "output_type": "display_data"
    }
   ],
   "source": [
    "# | label: fig-turns-per-game\n",
    "# | fig-cap: \"The distribution of number of turns per game.\"\n",
    "\n",
    "\n",
    "# sns.barplot(data=turns, x=\"num_turns\", y=\"normalized_pct_games\", hue=\"expansion\")\n",
    "\n",
    "sns.histplot(\n",
    "    data=df_plot,\n",
    "    x=\"num_turns\",\n",
    "    hue=\"expansion\",\n",
    "    # multiple=\"dodge\",\n",
    "    discrete=True,\n",
    "    stat=\"probability\",\n",
    "    # fill=False,\n",
    "    # element=\"step\",\n",
    "    alpha=0.5,\n",
    "    common_norm=False,\n",
    "    palette=\"tab10\",\n",
    "    # kde=True,\n",
    ")\n",
    "anno.set_labels_to_percent(axis=\"y\")\n",
    "# anno.plot_vert_line(x=8)\n",
    "anno.set_axis_labels_and_show(\n",
    "    xlabel=\"Number of Turns per Game\",\n",
    "    ylabel=\"Proportion of Games\",\n",
    ")"
   ]
  },
  {
   "cell_type": "markdown",
   "metadata": {},
   "source": [
    "I'm also interested in how 17Lands players perform relative to the number of turns. In @fig-turns-wins, we observe that players are more likely to win games that end quickly. The win rate is 55-60% for games that conclude in fewer than 8 turns, dropping to 50-55% for games that last longer."
   ]
  },
  {
   "cell_type": "code",
   "execution_count": 9,
   "metadata": {},
   "outputs": [
    {
     "data": {
      "image/png": "[encoded data removed]",
      "text/plain": [
       "<Figure size 640x480 with 1 Axes>"
      ]
     },
     "metadata": {},
     "output_type": "display_data"
    }
   ],
   "source": [
    "# | label: fig-turns-wins\n",
    "# | fig-cap: \"The win rate versus number of turns.\"\n",
    "\n",
    "sns.barplot(data=filtered_turns, x=\"num_turns\", y=\"win_rate\")\n",
    "plt.gca().set_ylim([0.4, 0.61])\n",
    "anno.set_labels_to_percent(axis=\"y\")\n",
    "anno.set_axis_labels_and_show(\n",
    "    xlabel=\"Number of Turns per Game\",\n",
    "    ylabel=\"Win Rate\",\n",
    ")"
   ]
  },
  {
   "cell_type": "code",
   "execution_count": null,
   "metadata": {},
   "outputs": [],
   "source": []
  }
 ],
 "metadata": {
  "kernelspec": {
   "display_name": "Python 3",
   "language": "python",
   "name": "python3"
  },
  "language_info": {
   "codemirror_mode": {
    "name": "ipython",
    "version": 3
   },
   "file_extension": ".py",
   "mimetype": "text/x-python",
   "name": "python",
   "nbconvert_exporter": "python",
   "pygments_lexer": "ipython3",
   "version": "3.10.9"
  }
 },
 "nbformat": 4,
 "nbformat_minor": 2
}
