{
 "cells": [
  {
   "cell_type": "markdown",
   "metadata": {},
   "source": [
    "# Summary\n",
    "\n",
    "Exploratory data analysis of basic card features (e.g. power and toughness)"
   ]
  },
  {
   "cell_type": "markdown",
   "metadata": {},
   "source": [
    "# Explore Card Table\n",
    "\n",
    "Time to load up the card data (`cards.parquet`) and take a look at the columns and data types.  We will explore the various data columns.\n",
    "\n",
    "The file has 96,216 records of cards, with each having 78 data fields."
   ]
  },
  {
   "cell_type": "code",
   "execution_count": null,
   "metadata": {},
   "outputs": [],
   "source": [
    "# Setup Notebook\n",
    "import os\n",
    "if os.path.basename(os.getcwd()) != 'mtg-modeling':\n",
    "    %run -i \"../../scripts/notebook_header.py\""
   ]
  },
  {
   "cell_type": "code",
   "execution_count": null,
   "metadata": {},
   "outputs": [
    {
     "name": "stdout",
     "output_type": "stream",
     "text": [
      "Loaded DF of shape: (96216, 78)\n",
      "\n",
      "Columns: Index(['artist', 'artistIds', 'asciiName', 'attractionLights', 'availability',\n",
      "       'boosterTypes', 'borderColor', 'cardParts', 'colorIdentity',\n",
      "       'colorIndicator', 'colors', 'defense', 'duelDeck', 'edhrecRank',\n",
      "       'edhrecSaltiness', 'faceConvertedManaCost', 'faceFlavorName',\n",
      "       'faceManaValue', 'faceName', 'finishes', 'flavorName', 'flavorText',\n",
      "       'frameEffects', 'frameVersion', 'hand', 'hasAlternativeDeckLimit',\n",
      "       'hasContentWarning', 'hasFoil', 'hasNonFoil', 'isAlternative',\n",
      "       'isFullArt', 'isFunny', 'isOnlineOnly', 'isOversized', 'isPromo',\n",
      "       'isRebalanced', 'isReprint', 'isReserved', 'isStarter',\n",
      "       'isStorySpotlight', 'isTextless', 'isTimeshifted', 'keywords',\n",
      "       'language', 'layout', 'leadershipSkills', 'life', 'loyalty', 'manaCost',\n",
      "       'manaValue', 'name', 'number', 'originalPrintings',\n",
      "       'originalReleaseDate', 'originalText', 'originalType', 'otherFaceIds',\n",
      "       'power', 'printings', 'promoTypes', 'rarity', 'rebalancedPrintings',\n",
      "       'relatedCards', 'securityStamp', 'setCode', 'side', 'signature',\n",
      "       'sourceProducts', 'subsets', 'subtypes', 'supertypes', 'text',\n",
      "       'toughness', 'type', 'types', 'uuid', 'variations', 'watermark'],\n",
      "      dtype='object')\n"
     ]
    }
   ],
   "source": [
    "import pandas as pd\n",
    "import numpy as np\n",
    "import pathlib\n",
    "import seaborn as sns\n",
    "import matplotlib.pyplot as plt\n",
    "\n",
    "plt.rcParams['figure.figsize'] = [5, 3]\n",
    "\n",
    "PATH = pathlib.Path(\"../../data/raw/mtgjson/AllPrintingsParquetFiles/cards.parquet\")\n",
    "df = pd.read_parquet(PATH)\n",
    "print(f\"Loaded DF of shape: {df.shape}\")\n",
    "print(f\"\\nColumns: {df.columns}\")"
   ]
  },
  {
   "cell_type": "markdown",
   "metadata": {},
   "source": [
    "## Exploring Data Features\n",
    "\n",
    "Here I'll explore the various data feature is the card data."
   ]
  },
  {
   "cell_type": "markdown",
   "metadata": {},
   "source": [
    "### Identifier Features\n",
    "- `uuid`: \n",
    "- Also see the `cardIdentifiers.parquet` file"
   ]
  },
  {
   "cell_type": "markdown",
   "metadata": {},
   "source": [
    "### Name Features\n",
    "- `asciiName`: Name with only legal ASCII characters.  Only populated if non-ASCII characters in `name`\n",
    "- `flavorName`: Promotion name, with true name underneath, such as Cabal Coffers with the flavor name: [Minas Morgul](https://scryfall.com/card/ltc/360/cabal-coffers)\n",
    "- `name`: Name of the cards.  Multi-faced cards include a `//` delimiter.\n",
    "- `number`: Card number in the set\n",
    "- `setCode`: The set code a card is in\n",
    "- Also see the `sets.parquet` file for set data."
   ]
  },
  {
   "cell_type": "markdown",
   "metadata": {},
   "source": [
    "#### ASCII Name\n",
    "\n",
    "Look at the `name` and `asciiName` columns to see if there are any differences."
   ]
  },
  {
   "cell_type": "code",
   "execution_count": null,
   "metadata": {},
   "outputs": [
    {
     "data": {
      "text/html": [
       "<div>\n",
       "<style scoped>\n",
       "    .dataframe tbody tr th:only-of-type {\n",
       "        vertical-align: middle;\n",
       "    }\n",
       "\n",
       "    .dataframe tbody tr th {\n",
       "        vertical-align: top;\n",
       "    }\n",
       "\n",
       "    .dataframe thead th {\n",
       "        text-align: right;\n",
       "    }\n",
       "</style>\n",
       "<table border=\"1\" class=\"dataframe\">\n",
       "  <thead>\n",
       "    <tr style=\"text-align: right;\">\n",
       "      <th></th>\n",
       "      <th>asciiName</th>\n",
       "      <th>name</th>\n",
       "    </tr>\n",
       "  </thead>\n",
       "  <tbody>\n",
       "    <tr>\n",
       "      <th>41669</th>\n",
       "      <td>Nazgul</td>\n",
       "      <td>Nazgûl</td>\n",
       "    </tr>\n",
       "  </tbody>\n",
       "</table>\n",
       "</div>"
      ],
      "text/plain": [
       "      asciiName    name\n",
       "41669    Nazgul  Nazgûl"
      ]
     },
     "metadata": {},
     "output_type": "display_data"
    }
   ],
   "source": [
    "df.loc[df['asciiName'] == 'Nazgul', ['asciiName', 'name']].head(1)"
   ]
  },
  {
   "cell_type": "markdown",
   "metadata": {},
   "source": [
    "#### Set Code\n",
    "\n",
    "Here is the sets with the top 10 highest counts of `uuid`s."
   ]
  },
  {
   "cell_type": "code",
   "execution_count": null,
   "metadata": {},
   "outputs": [
    {
     "data": {
      "text/plain": [
       "setCode\n",
       "PLST    4853\n",
       "PRM     3200\n",
       "SLD     1612\n",
       "WHO     1186\n",
       "PIP     1076\n",
       "CMM     1068\n",
       "CLB      972\n",
       "LTR      856\n",
       "J22      835\n",
       "PSAL     725\n",
       "Name: count, dtype: int64"
      ]
     },
     "metadata": {},
     "output_type": "display_data"
    }
   ],
   "source": [
    "counts = df['setCode'].value_counts()\n",
    "counts[:10]"
   ]
  },
  {
   "cell_type": "markdown",
   "metadata": {},
   "source": [
    "A histogram of the set card counts.  It is bimodal with a peak around 200 cards, and a peak around 10 cards."
   ]
  },
  {
   "cell_type": "code",
   "execution_count": null,
   "metadata": {},
   "outputs": [
    {
     "data": {
      "image/png": "[encoded data removed]",
      "text/plain": [
       "<Figure size 500x300 with 1 Axes>"
      ]
     },
     "metadata": {},
     "output_type": "display_data"
    }
   ],
   "source": [
    "bins = counts.value_counts()\n",
    "g = sns.histplot(counts, bins=30, log_scale=[True, False], cbar=True)\n",
    "g.set(xlabel=\"Set Size\", ylabel=\"Number of Occurrences\", title=\"Set Size Distribution\")\n",
    "plt.show()"
   ]
  },
  {
   "cell_type": "markdown",
   "metadata": {},
   "source": [
    "#### Card Name\n",
    "\n",
    "See how many occurrences of each name there are in the data set.\n",
    "\n",
    "The five basic lands show up very frequently."
   ]
  },
  {
   "cell_type": "code",
   "execution_count": null,
   "metadata": {},
   "outputs": [
    {
     "data": {
      "text/plain": [
       "name\n",
       "Forest      872\n",
       "Swamp       845\n",
       "Island      835\n",
       "Mountain    833\n",
       "Plains      810\n",
       "Name: count, dtype: int64"
      ]
     },
     "metadata": {},
     "output_type": "display_data"
    }
   ],
   "source": [
    "counts = df['name'].value_counts()\n",
    "counts[:5]"
   ]
  },
  {
   "cell_type": "markdown",
   "metadata": {},
   "source": [
    "Here are the next 10 frequent cards, including `Sol Ring` and `Swords to Plowshares`"
   ]
  },
  {
   "cell_type": "code",
   "execution_count": null,
   "metadata": {},
   "outputs": [
    {
     "data": {
      "text/plain": [
       "name\n",
       "Sol Ring                92\n",
       "Swords to Plowshares    85\n",
       "Command Tower           78\n",
       "Counterspell            71\n",
       "Evolving Wilds          68\n",
       "Serra Angel             60\n",
       "Terramorphic Expanse    59\n",
       "Lightning Bolt          58\n",
       "Arcane Signet           58\n",
       "Giant Growth            57\n",
       "Disenchant              56\n",
       "Name: count, dtype: int64"
      ]
     },
     "metadata": {},
     "output_type": "display_data"
    }
   ],
   "source": [
    "counts[5:16]"
   ]
  },
  {
   "cell_type": "markdown",
   "metadata": {},
   "source": [
    "Plotting out the histogram of card name frequency, we can see it follows the power-law.  It is nearly linear on a log-log scale."
   ]
  },
  {
   "cell_type": "code",
   "execution_count": null,
   "metadata": {},
   "outputs": [
    {
     "data": {
      "image/png": "[encoded data removed]",
      "text/plain": [
       "<Figure size 500x300 with 1 Axes>"
      ]
     },
     "metadata": {},
     "output_type": "display_data"
    }
   ],
   "source": [
    "g = sns.histplot(counts[5:], log_scale=[True, True], kde=True, kde_kws={\"bw_adjust\": 2})\n",
    "g.set(xlabel=\"Card Name Count\", ylabel=\"Number of Occurrences\", title=\"Card Name Count Distribution\")\n",
    "plt.show()"
   ]
  },
  {
   "cell_type": "markdown",
   "metadata": {},
   "source": [
    "### Primary Play Features\n",
    "- `keywords`: A list of keywords on the card\n",
    "- `power`: The power of a creature card\n",
    "- `rarity`: The rarity of the card\n",
    "- `toughness`: The toughness of a creature card"
   ]
  },
  {
   "cell_type": "markdown",
   "metadata": {},
   "source": [
    "#### Keywords\n",
    "\n",
    "Get count of all keywords in the data.  There are 588 unique keywords.  We can see `flying` takes the lead, with `enchant` and `trample` also being popular.\n",
    "\n",
    "We'll adjust the data to only look at one of each unique name and removing alterative art cards."
   ]
  },
  {
   "cell_type": "code",
   "execution_count": null,
   "metadata": {},
   "outputs": [],
   "source": [
    "df_1st = df[df['isAlternative'] != True]\n",
    "df_1st = df_1st.groupby('name').first()"
   ]
  },
  {
   "cell_type": "code",
   "execution_count": null,
   "metadata": {},
   "outputs": [
    {
     "name": "stdout",
     "output_type": "stream",
     "text": [
      "Total Unique Keywords: 586\n",
      "Keywords w/ >250 Counts: 18\n",
      "Keywords w/ <10 Count: 349\n"
     ]
    },
    {
     "data": {
      "text/plain": [
       "keywords\n",
       "Flying          2746\n",
       "Enchant         1175\n",
       "Trample          816\n",
       "Haste            566\n",
       "Vigilance        544\n",
       "Equip            494\n",
       "Flash            493\n",
       "Mill             469\n",
       "Scry             396\n",
       "First strike     349\n",
       "Name: count, dtype: int64"
      ]
     },
     "metadata": {},
     "output_type": "display_data"
    }
   ],
   "source": [
    "counts = df_1st['keywords'].str.split(', ').explode().value_counts()\n",
    "print(f\"Total Unique Keywords: {counts.count()}\")\n",
    "print(f\"Keywords w/ >250 Counts: {counts[counts>250].count()}\")\n",
    "print(f\"Keywords w/ <10 Count: {counts[counts<10].count()}\")\n",
    "counts[:10]"
   ]
  },
  {
   "cell_type": "markdown",
   "metadata": {},
   "source": [
    "Here we see that most keywords are infrequent, with only 18 keywords appearing more than 250 times."
   ]
  },
  {
   "cell_type": "code",
   "execution_count": null,
   "metadata": {},
   "outputs": [
    {
     "data": {
      "image/png": "[encoded data removed]",
      "text/plain": [
       "<Figure size 500x300 with 1 Axes>"
      ]
     },
     "metadata": {},
     "output_type": "display_data"
    }
   ],
   "source": [
    "counts2 = counts[counts>1]\n",
    "g = sns.histplot(counts2, bins=30, log_scale=True)\n",
    "g.set(xlabel=\"Keyword Count\", ylabel=\"Number of occurrences\", title=\"Keyword Count Distribution\")\n",
    "plt.show()"
   ]
  },
  {
   "cell_type": "markdown",
   "metadata": {},
   "source": [
    "#### Rarity\n",
    "\n",
    "We can see that for `uuid`s, the `rare` is the most common type.  "
   ]
  },
  {
   "cell_type": "code",
   "execution_count": null,
   "metadata": {},
   "outputs": [
    {
     "data": {
      "text/plain": [
       "rarity\n",
       "rare        35408\n",
       "common      28389\n",
       "uncommon    23844\n",
       "mythic       8179\n",
       "special       387\n",
       "bonus           9\n",
       "Name: count, dtype: int64"
      ]
     },
     "metadata": {},
     "output_type": "display_data"
    }
   ],
   "source": [
    "counts = df['rarity'].value_counts()\n",
    "counts"
   ]
  },
  {
   "cell_type": "markdown",
   "metadata": {},
   "source": [
    "We clean this up by only selecting one instance of each name, and removing alterative art cards.\n",
    "\n",
    "The number of cards per rarity is fairly uniform except for `mythic` which is much lower.  Note that this is the number of uniquely named cards, not print frequency."
   ]
  },
  {
   "cell_type": "code",
   "execution_count": null,
   "metadata": {},
   "outputs": [
    {
     "data": {
      "text/plain": [
       "rarity\n",
       "common      9941\n",
       "rare        9256\n",
       "uncommon    8657\n",
       "mythic      1788\n",
       "special        9\n",
       "Name: count, dtype: int64"
      ]
     },
     "metadata": {},
     "output_type": "display_data"
    }
   ],
   "source": [
    "counts = df_1st['rarity'].value_counts()\n",
    "counts"
   ]
  },
  {
   "cell_type": "code",
   "execution_count": null,
   "metadata": {},
   "outputs": [
    {
     "data": {
      "image/png": "[encoded data removed]",
      "text/plain": [
       "<Figure size 500x300 with 1 Axes>"
      ]
     },
     "metadata": {},
     "output_type": "display_data"
    }
   ],
   "source": [
    "g = sns.barplot(x=counts.index, y=counts.values, order=['common', 'uncommon', 'rare', 'mythic'])\n",
    "g.set(xlabel=\"Rarity\", ylabel=\"Number of Occurrences\", title=\"Rarity Distribution\")\n",
    "plt.show()"
   ]
  },
  {
   "cell_type": "markdown",
   "metadata": {},
   "source": [
    "#### Power & Toughness"
   ]
  },
  {
   "cell_type": "code",
   "execution_count": null,
   "metadata": {},
   "outputs": [],
   "source": [
    "def select_numeric(counts, col='power'):\n",
    "    counts = counts.reset_index()\n",
    "    mask = counts[col].apply(lambda x: x.isnumeric())\n",
    "    counts = counts[mask]\n",
    "    counts[col] = counts[col].astype(int)\n",
    "    counts.sort_values(col, inplace=True)\n",
    "    counts = counts[counts[col] < 12]\n",
    "    counts['label'] = col\n",
    "    counts.rename(columns={col: 'value'}, inplace=True)\n",
    "    return counts\n",
    "\n",
    "def count_values(df, col='power'):\n",
    "    counts = df[col].value_counts()\n",
    "    return select_numeric(counts, col=col)\n",
    "\n",
    "def group(df, col1='power', col2='toughness'):\n",
    "    return pd.concat([count_values(df, col1), count_values(df, col2)])\n",
    "\n",
    "counts = group(df_1st, col1='power', col2='toughness')"
   ]
  },
  {
   "cell_type": "code",
   "execution_count": null,
   "metadata": {},
   "outputs": [
    {
     "data": {
      "text/plain": [
       "<Axes: xlabel='value', ylabel='count'>"
      ]
     },
     "metadata": {},
     "output_type": "display_data"
    },
    {
     "data": {
      "image/png": "[encoded data removed]",
      "text/plain": [
       "<Figure size 500x300 with 1 Axes>"
      ]
     },
     "metadata": {},
     "output_type": "display_data"
    }
   ],
   "source": [
    "sns.lineplot(data=counts, x='value', y='count', hue='label')"
   ]
  },
  {
   "cell_type": "code",
   "execution_count": null,
   "metadata": {},
   "outputs": [
    {
     "data": {
      "text/plain": [
       "name\n",
       "\"Ach! Hans, Run!\"                 None\n",
       "\"Brims\" Barone, Midway Mobster       5\n",
       "\"Lifetime\" Pass Holder               2\n",
       "\"Name Sticker\" Goblin                2\n",
       "\"Rumors of My Death . . .\"        None\n",
       "                                  ... \n",
       "Éomer, King of Rohan                 2\n",
       "Éomer, Marshal of Rohan              4\n",
       "Éowyn, Fearless Knight               3\n",
       "Éowyn, Lady of Rohan                 2\n",
       "Éowyn, Shieldmaiden                  5\n",
       "Name: power, Length: 29651, dtype: object"
      ]
     },
     "metadata": {},
     "output_type": "display_data"
    }
   ],
   "source": [
    "df_pl['power']"
   ]
  },
  {
   "cell_type": "code",
   "execution_count": null,
   "metadata": {},
   "outputs": [
    {
     "data": {
      "text/plain": [
       "<Axes: xlabel='power', ylabel='toughness'>"
      ]
     },
     "metadata": {},
     "output_type": "display_data"
    },
    {
     "data": {
      "image/png": "[encoded data removed]",
      "text/plain": [
       "<Figure size 500x300 with 1 Axes>"
      ]
     },
     "metadata": {},
     "output_type": "display_data"
    }
   ],
   "source": [
    "df_pl = df_1st[['power', 'toughness']].copy()\n",
    "df_pl.dropna(inplace=True)\n",
    "df_pl['p_mask'] = df_pl['power'].apply(lambda x: x.isnumeric())\n",
    "df_pl['t_mask'] = df_pl['toughness'].apply(lambda x: x.isnumeric())\n",
    "df_pl = df_pl[df_pl['p_mask'] & df_pl['t_mask']]\n",
    "df_pl['power'] = df_pl['power'].astype(int)\n",
    "df_pl['toughness'] = df_pl['toughness'].astype(int)\n",
    "sns.histplot(data=df_pl, x='power', y='toughness')"
   ]
  },
  {
   "cell_type": "markdown",
   "metadata": {},
   "source": [
    "### Color & Mana Features\n",
    "- `colorIdentity`\n",
    "- `colorIndicator`\n",
    "- `colors`\n",
    "- `manaCost`\n",
    "- `manaValue`"
   ]
  },
  {
   "cell_type": "markdown",
   "metadata": {},
   "source": [
    "### Card Type Features\n",
    "- `subsets`\n",
    "- `subtypes`\n",
    "- `supertypes`\n",
    "- `type`\n",
    "- `types`"
   ]
  },
  {
   "cell_type": "markdown",
   "metadata": {},
   "source": [
    "### Text Features\n",
    "- `flavorText`:\n",
    "- `hasContentWarning`: Cards that have sensitive content.  See this [article](https://magic.wizards.com/en/articles/archive/news/depictions-racism-magic-2020-06-10) for more.\n",
    "- `language`: The language the text is written in.\n",
    "- `isFunny`: Is a funny card, like in 'Un-sets'\n",
    "- `isStorySpotlight`: A [Story Spotlight](https://mtg.fandom.com/wiki/Story_Spotlight) card.  Marked as \"Story Spotlight\" with sequence number in lower border.\n",
    "- `isTextless`: The card does not have a textbox\n",
    "- `text`: The rules text in the textbox.\n",
    "- Also see the `cardRulings.parquet` file for ruling text\n",
    "- Also see the `cardForeignData.parquet` file foreign language translations"
   ]
  },
  {
   "cell_type": "markdown",
   "metadata": {},
   "source": [
    "\n",
    "### Special Play Features\n",
    "- `attractionLights`: List of attraction lights found on cards, such as Unfinity attraction ride cards\n",
    "- `defense`: Used by `Battle - Siege` type cards, such as `Invasion of Gobakhan // Lightshield Array`\n",
    "- `hand`: Adjusts starting hand value.  Used by `Vanguard` type cards.\n",
    "- `hasAlternativeDeckLimit`: Allows for more than 4 copies in a deck\n",
    "- `leadershipSkills`: Legality of a card to be a commander in various formats\n",
    "- `loyalty`: Used by planeswalkers\n",
    "- `life`: Adjusts starting life value.  Used by `Vanguard` type cards.\n",
    "- `relatedCards`: A list of card names associated to a card, such as `Sword of Dungeons & Dragons` and `Dragon`\n"
   ]
  },
  {
   "cell_type": "markdown",
   "metadata": {},
   "source": [
    "### Card Layout Variant Features\n",
    "- `cardParts`: List of multiple card parts for [meld](https://mtg.fandom.com/wiki/Meld?so=search) layouts, such as `Brisela, Voice of Nightmares` + `Bruna, the Fading Light // Brisela, Voice of Nightmares`\n",
    "- `faceConvertedManaCost`\n",
    "- `faceFlavorName`\n",
    "- `faceManaValue`\n",
    "- `faceName`\n",
    "- `layout`: Non-standard card layouts, such as split, flip, or transform\n",
    "- `otherFaceIds`: `uuid` of other faces of the card, such as double-faced cards.\n",
    "- `side`: Identifier on side of card for given face, such as `a` or `b`"
   ]
  },
  {
   "cell_type": "markdown",
   "metadata": {},
   "source": [
    "### Performance Features\n",
    "- `edhrecRank`\n",
    "- `edhrecSaltiness`"
   ]
  },
  {
   "cell_type": "markdown",
   "metadata": {},
   "source": [
    "### Legal Features\n",
    "- Also see the `cardLegalities.parquet` file for format legalities"
   ]
  },
  {
   "cell_type": "markdown",
   "metadata": {},
   "source": [
    "### Visual & Collector Features\n",
    "- `artist`\n",
    "- `artistIds`\n",
    "- `borderColor`: Boarder color of card, such as black, white, or silver\n",
    "- `finishes`: Card finish, such as foil, non-foil, or etched\n",
    "- `frameEffects`: Non-standard effects, such as etched or extended art\n",
    "- `frameVersion`: Version of frame such as 1993 or 2015\n",
    "- `hasFoil`\n",
    "- `hasNonFoil`\n",
    "- `isAlternative`\n",
    "- `isFullArt`\n",
    "- `isOversized`\n",
    "- `isTimeshifted`: [Timeshifted](https://mtg.fandom.com/wiki/Timeshifted) is a current card with a retro frame.\n",
    "- `signature`\n",
    "- `variations`: `uuid`s of other cards that are alternate printings of the card in the same set.\n",
    "- `watermark`: Name of [watermark](https://mtg.fandom.com/wiki/Watermark) on the card"
   ]
  },
  {
   "cell_type": "markdown",
   "metadata": {},
   "source": [
    "### Printing Features\n",
    "- `availability`: A lest of card's available printing types, such as paper, arena, etc.\n",
    "- `isOnlineOnly`\n",
    "- `isPromo`\n",
    "- `isRebalanced`\n",
    "- `isReprint`\n",
    "- `isReserved`\n",
    "- `printings`\n",
    "- `promoTypes`\n",
    "- `rebalancedPrintings`\n",
    "- `securityStamp`: Security stamp, such as acorn, heart, etc."
   ]
  },
  {
   "cell_type": "markdown",
   "metadata": {},
   "source": [
    "### Original Printing Features\n",
    "- `originalPrintings`: `uuid`s of original printings if its different than the original, such as rebalanced cards.\n",
    "- `originalReleaseDate`: If release date was different than the set release date.\n",
    "- `originalText`\n",
    "- `originalType`"
   ]
  },
  {
   "cell_type": "markdown",
   "metadata": {},
   "source": [
    "### Products Features\n",
    "- `boosterTypes`: List of booster types.  Default is a random booster, versus deck boosters which are deterministic.\n",
    "- `duelDeck`: Indicates which deck ('a' vs 'b') a card is in [Dual Decks](https://mtg.fandom.com/wiki/Duel_Decks)\n",
    "- `isStarter`: Is card in a starter deck product.\n",
    "- `sourceProducts`: `uuid`s of associated sealed products where card can be found.\n",
    "- Also see the `cardPrices.parquet` file for card prices.\n",
    "- Also see the `cardPurchaseUrls.parquet` file for card purchase URLs.\n",
    "- Also see the `setBoosterContents.parquet` and related files for booster pack data."
   ]
  },
  {
   "cell_type": "code",
   "execution_count": null,
   "metadata": {},
   "outputs": [
    {
     "ename": "KeyError",
     "evalue": "\"['multiverseId', 'identifiers'] not in index\"",
     "output_type": "error",
     "traceback": [
      "\u001b[1;31m---------------------------------------------------------------------------\u001b[0m\n",
      "\u001b[1;31mKeyError\u001b[0m                                  Traceback (most recent call last)\n",
      "Cell \u001b[1;32mIn[10], line 3\u001b[0m\n",
      "\u001b[0;32m      1\u001b[0m mask \u001b[38;5;241m=\u001b[39m df[\u001b[38;5;124m'\u001b[39m\u001b[38;5;124mname\u001b[39m\u001b[38;5;124m'\u001b[39m] \u001b[38;5;241m==\u001b[39m \u001b[38;5;124m'\u001b[39m\u001b[38;5;124mBoom // Bust\u001b[39m\u001b[38;5;124m'\u001b[39m\n",
      "\u001b[0;32m      2\u001b[0m mask \u001b[38;5;241m&\u001b[39m\u001b[38;5;241m=\u001b[39m df[\u001b[38;5;124m'\u001b[39m\u001b[38;5;124muuid\u001b[39m\u001b[38;5;124m'\u001b[39m] \u001b[38;5;241m==\u001b[39m \u001b[38;5;124m'\u001b[39m\u001b[38;5;124m7104f01e-0ca6-53e6-873f-ee246015174a\u001b[39m\u001b[38;5;124m'\u001b[39m\n",
      "\u001b[1;32m----> 3\u001b[0m \u001b[43mdf\u001b[49m\u001b[38;5;241;43m.\u001b[39;49m\u001b[43mloc\u001b[49m\u001b[43m[\u001b[49m\u001b[43mmask\u001b[49m\u001b[43m,\u001b[49m\u001b[43m \u001b[49m\u001b[43m[\u001b[49m\u001b[38;5;124;43m'\u001b[39;49m\u001b[38;5;124;43mfaceName\u001b[39;49m\u001b[38;5;124;43m'\u001b[39;49m\u001b[43m,\u001b[49m\u001b[43m \u001b[49m\u001b[38;5;124;43m'\u001b[39;49m\u001b[38;5;124;43mname\u001b[39;49m\u001b[38;5;124;43m'\u001b[39;49m\u001b[43m,\u001b[49m\u001b[43m \u001b[49m\u001b[38;5;124;43m'\u001b[39;49m\u001b[38;5;124;43mlanguage\u001b[39;49m\u001b[38;5;124;43m'\u001b[39;49m\u001b[43m,\u001b[49m\u001b[43m \u001b[49m\u001b[38;5;124;43m'\u001b[39;49m\u001b[38;5;124;43mmultiverseId\u001b[39;49m\u001b[38;5;124;43m'\u001b[39;49m\u001b[43m,\u001b[49m\u001b[43m \u001b[49m\u001b[38;5;124;43m'\u001b[39;49m\u001b[38;5;124;43midentifiers\u001b[39;49m\u001b[38;5;124;43m'\u001b[39;49m\u001b[43m,\u001b[49m\u001b[43m \u001b[49m\u001b[38;5;124;43m'\u001b[39;49m\u001b[38;5;124;43muuid\u001b[39;49m\u001b[38;5;124;43m'\u001b[39;49m\u001b[43m]\u001b[49m\u001b[43m]\u001b[49m\u001b[38;5;241m.\u001b[39mhead()\n",
      "\n",
      "File \u001b[1;32mc:\\Users\\Josh.Meehl\\AppData\\Local\\Programs\\Python\\Python310\\lib\\site-packages\\pandas\\core\\indexing.py:1147\u001b[0m, in \u001b[0;36m_LocationIndexer.__getitem__\u001b[1;34m(self, key)\u001b[0m\n",
      "\u001b[0;32m   1145\u001b[0m     \u001b[38;5;28;01mif\u001b[39;00m \u001b[38;5;28mself\u001b[39m\u001b[38;5;241m.\u001b[39m_is_scalar_access(key):\n",
      "\u001b[0;32m   1146\u001b[0m         \u001b[38;5;28;01mreturn\u001b[39;00m \u001b[38;5;28mself\u001b[39m\u001b[38;5;241m.\u001b[39mobj\u001b[38;5;241m.\u001b[39m_get_value(\u001b[38;5;241m*\u001b[39mkey, takeable\u001b[38;5;241m=\u001b[39m\u001b[38;5;28mself\u001b[39m\u001b[38;5;241m.\u001b[39m_takeable)\n",
      "\u001b[1;32m-> 1147\u001b[0m     \u001b[38;5;28;01mreturn\u001b[39;00m \u001b[38;5;28;43mself\u001b[39;49m\u001b[38;5;241;43m.\u001b[39;49m\u001b[43m_getitem_tuple\u001b[49m\u001b[43m(\u001b[49m\u001b[43mkey\u001b[49m\u001b[43m)\u001b[49m\n",
      "\u001b[0;32m   1148\u001b[0m \u001b[38;5;28;01melse\u001b[39;00m:\n",
      "\u001b[0;32m   1149\u001b[0m     \u001b[38;5;66;03m# we by definition only have the 0th axis\u001b[39;00m\n",
      "\u001b[0;32m   1150\u001b[0m     axis \u001b[38;5;241m=\u001b[39m \u001b[38;5;28mself\u001b[39m\u001b[38;5;241m.\u001b[39maxis \u001b[38;5;129;01mor\u001b[39;00m \u001b[38;5;241m0\u001b[39m\n",
      "\n",
      "File \u001b[1;32mc:\\Users\\Josh.Meehl\\AppData\\Local\\Programs\\Python\\Python310\\lib\\site-packages\\pandas\\core\\indexing.py:1339\u001b[0m, in \u001b[0;36m_LocIndexer._getitem_tuple\u001b[1;34m(self, tup)\u001b[0m\n",
      "\u001b[0;32m   1336\u001b[0m \u001b[38;5;28;01mif\u001b[39;00m \u001b[38;5;28mself\u001b[39m\u001b[38;5;241m.\u001b[39m_multi_take_opportunity(tup):\n",
      "\u001b[0;32m   1337\u001b[0m     \u001b[38;5;28;01mreturn\u001b[39;00m \u001b[38;5;28mself\u001b[39m\u001b[38;5;241m.\u001b[39m_multi_take(tup)\n",
      "\u001b[1;32m-> 1339\u001b[0m \u001b[38;5;28;01mreturn\u001b[39;00m \u001b[38;5;28;43mself\u001b[39;49m\u001b[38;5;241;43m.\u001b[39;49m\u001b[43m_getitem_tuple_same_dim\u001b[49m\u001b[43m(\u001b[49m\u001b[43mtup\u001b[49m\u001b[43m)\u001b[49m\n",
      "\n",
      "File \u001b[1;32mc:\\Users\\Josh.Meehl\\AppData\\Local\\Programs\\Python\\Python310\\lib\\site-packages\\pandas\\core\\indexing.py:994\u001b[0m, in \u001b[0;36m_LocationIndexer._getitem_tuple_same_dim\u001b[1;34m(self, tup)\u001b[0m\n",
      "\u001b[0;32m    991\u001b[0m \u001b[38;5;28;01mif\u001b[39;00m com\u001b[38;5;241m.\u001b[39mis_null_slice(key):\n",
      "\u001b[0;32m    992\u001b[0m     \u001b[38;5;28;01mcontinue\u001b[39;00m\n",
      "\u001b[1;32m--> 994\u001b[0m retval \u001b[38;5;241m=\u001b[39m \u001b[38;5;28;43mgetattr\u001b[39;49m\u001b[43m(\u001b[49m\u001b[43mretval\u001b[49m\u001b[43m,\u001b[49m\u001b[43m \u001b[49m\u001b[38;5;28;43mself\u001b[39;49m\u001b[38;5;241;43m.\u001b[39;49m\u001b[43mname\u001b[49m\u001b[43m)\u001b[49m\u001b[38;5;241;43m.\u001b[39;49m\u001b[43m_getitem_axis\u001b[49m\u001b[43m(\u001b[49m\u001b[43mkey\u001b[49m\u001b[43m,\u001b[49m\u001b[43m \u001b[49m\u001b[43maxis\u001b[49m\u001b[38;5;241;43m=\u001b[39;49m\u001b[43mi\u001b[49m\u001b[43m)\u001b[49m\n",
      "\u001b[0;32m    995\u001b[0m \u001b[38;5;66;03m# We should never have retval.ndim < self.ndim, as that should\u001b[39;00m\n",
      "\u001b[0;32m    996\u001b[0m \u001b[38;5;66;03m#  be handled by the _getitem_lowerdim call above.\u001b[39;00m\n",
      "\u001b[0;32m    997\u001b[0m \u001b[38;5;28;01massert\u001b[39;00m retval\u001b[38;5;241m.\u001b[39mndim \u001b[38;5;241m==\u001b[39m \u001b[38;5;28mself\u001b[39m\u001b[38;5;241m.\u001b[39mndim\n",
      "\n",
      "File \u001b[1;32mc:\\Users\\Josh.Meehl\\AppData\\Local\\Programs\\Python\\Python310\\lib\\site-packages\\pandas\\core\\indexing.py:1382\u001b[0m, in \u001b[0;36m_LocIndexer._getitem_axis\u001b[1;34m(self, key, axis)\u001b[0m\n",
      "\u001b[0;32m   1379\u001b[0m     \u001b[38;5;28;01mif\u001b[39;00m \u001b[38;5;28mhasattr\u001b[39m(key, \u001b[38;5;124m\"\u001b[39m\u001b[38;5;124mndim\u001b[39m\u001b[38;5;124m\"\u001b[39m) \u001b[38;5;129;01mand\u001b[39;00m key\u001b[38;5;241m.\u001b[39mndim \u001b[38;5;241m>\u001b[39m \u001b[38;5;241m1\u001b[39m:\n",
      "\u001b[0;32m   1380\u001b[0m         \u001b[38;5;28;01mraise\u001b[39;00m \u001b[38;5;167;01mValueError\u001b[39;00m(\u001b[38;5;124m\"\u001b[39m\u001b[38;5;124mCannot index with multidimensional key\u001b[39m\u001b[38;5;124m\"\u001b[39m)\n",
      "\u001b[1;32m-> 1382\u001b[0m     \u001b[38;5;28;01mreturn\u001b[39;00m \u001b[38;5;28;43mself\u001b[39;49m\u001b[38;5;241;43m.\u001b[39;49m\u001b[43m_getitem_iterable\u001b[49m\u001b[43m(\u001b[49m\u001b[43mkey\u001b[49m\u001b[43m,\u001b[49m\u001b[43m \u001b[49m\u001b[43maxis\u001b[49m\u001b[38;5;241;43m=\u001b[39;49m\u001b[43maxis\u001b[49m\u001b[43m)\u001b[49m\n",
      "\u001b[0;32m   1384\u001b[0m \u001b[38;5;66;03m# nested tuple slicing\u001b[39;00m\n",
      "\u001b[0;32m   1385\u001b[0m \u001b[38;5;28;01mif\u001b[39;00m is_nested_tuple(key, labels):\n",
      "\n",
      "File \u001b[1;32mc:\\Users\\Josh.Meehl\\AppData\\Local\\Programs\\Python\\Python310\\lib\\site-packages\\pandas\\core\\indexing.py:1322\u001b[0m, in \u001b[0;36m_LocIndexer._getitem_iterable\u001b[1;34m(self, key, axis)\u001b[0m\n",
      "\u001b[0;32m   1319\u001b[0m \u001b[38;5;28mself\u001b[39m\u001b[38;5;241m.\u001b[39m_validate_key(key, axis)\n",
      "\u001b[0;32m   1321\u001b[0m \u001b[38;5;66;03m# A collection of keys\u001b[39;00m\n",
      "\u001b[1;32m-> 1322\u001b[0m keyarr, indexer \u001b[38;5;241m=\u001b[39m \u001b[38;5;28;43mself\u001b[39;49m\u001b[38;5;241;43m.\u001b[39;49m\u001b[43m_get_listlike_indexer\u001b[49m\u001b[43m(\u001b[49m\u001b[43mkey\u001b[49m\u001b[43m,\u001b[49m\u001b[43m \u001b[49m\u001b[43maxis\u001b[49m\u001b[43m)\u001b[49m\n",
      "\u001b[0;32m   1323\u001b[0m \u001b[38;5;28;01mreturn\u001b[39;00m \u001b[38;5;28mself\u001b[39m\u001b[38;5;241m.\u001b[39mobj\u001b[38;5;241m.\u001b[39m_reindex_with_indexers(\n",
      "\u001b[0;32m   1324\u001b[0m     {axis: [keyarr, indexer]}, copy\u001b[38;5;241m=\u001b[39m\u001b[38;5;28;01mTrue\u001b[39;00m, allow_dups\u001b[38;5;241m=\u001b[39m\u001b[38;5;28;01mTrue\u001b[39;00m\n",
      "\u001b[0;32m   1325\u001b[0m )\n",
      "\n",
      "File \u001b[1;32mc:\\Users\\Josh.Meehl\\AppData\\Local\\Programs\\Python\\Python310\\lib\\site-packages\\pandas\\core\\indexing.py:1520\u001b[0m, in \u001b[0;36m_LocIndexer._get_listlike_indexer\u001b[1;34m(self, key, axis)\u001b[0m\n",
      "\u001b[0;32m   1517\u001b[0m ax \u001b[38;5;241m=\u001b[39m \u001b[38;5;28mself\u001b[39m\u001b[38;5;241m.\u001b[39mobj\u001b[38;5;241m.\u001b[39m_get_axis(axis)\n",
      "\u001b[0;32m   1518\u001b[0m axis_name \u001b[38;5;241m=\u001b[39m \u001b[38;5;28mself\u001b[39m\u001b[38;5;241m.\u001b[39mobj\u001b[38;5;241m.\u001b[39m_get_axis_name(axis)\n",
      "\u001b[1;32m-> 1520\u001b[0m keyarr, indexer \u001b[38;5;241m=\u001b[39m \u001b[43max\u001b[49m\u001b[38;5;241;43m.\u001b[39;49m\u001b[43m_get_indexer_strict\u001b[49m\u001b[43m(\u001b[49m\u001b[43mkey\u001b[49m\u001b[43m,\u001b[49m\u001b[43m \u001b[49m\u001b[43maxis_name\u001b[49m\u001b[43m)\u001b[49m\n",
      "\u001b[0;32m   1522\u001b[0m \u001b[38;5;28;01mreturn\u001b[39;00m keyarr, indexer\n",
      "\n",
      "File \u001b[1;32mc:\\Users\\Josh.Meehl\\AppData\\Local\\Programs\\Python\\Python310\\lib\\site-packages\\pandas\\core\\indexes\\base.py:6114\u001b[0m, in \u001b[0;36mIndex._get_indexer_strict\u001b[1;34m(self, key, axis_name)\u001b[0m\n",
      "\u001b[0;32m   6111\u001b[0m \u001b[38;5;28;01melse\u001b[39;00m:\n",
      "\u001b[0;32m   6112\u001b[0m     keyarr, indexer, new_indexer \u001b[38;5;241m=\u001b[39m \u001b[38;5;28mself\u001b[39m\u001b[38;5;241m.\u001b[39m_reindex_non_unique(keyarr)\n",
      "\u001b[1;32m-> 6114\u001b[0m \u001b[38;5;28;43mself\u001b[39;49m\u001b[38;5;241;43m.\u001b[39;49m\u001b[43m_raise_if_missing\u001b[49m\u001b[43m(\u001b[49m\u001b[43mkeyarr\u001b[49m\u001b[43m,\u001b[49m\u001b[43m \u001b[49m\u001b[43mindexer\u001b[49m\u001b[43m,\u001b[49m\u001b[43m \u001b[49m\u001b[43maxis_name\u001b[49m\u001b[43m)\u001b[49m\n",
      "\u001b[0;32m   6116\u001b[0m keyarr \u001b[38;5;241m=\u001b[39m \u001b[38;5;28mself\u001b[39m\u001b[38;5;241m.\u001b[39mtake(indexer)\n",
      "\u001b[0;32m   6117\u001b[0m \u001b[38;5;28;01mif\u001b[39;00m \u001b[38;5;28misinstance\u001b[39m(key, Index):\n",
      "\u001b[0;32m   6118\u001b[0m     \u001b[38;5;66;03m# GH 42790 - Preserve name from an Index\u001b[39;00m\n",
      "\n",
      "File \u001b[1;32mc:\\Users\\Josh.Meehl\\AppData\\Local\\Programs\\Python\\Python310\\lib\\site-packages\\pandas\\core\\indexes\\base.py:6178\u001b[0m, in \u001b[0;36mIndex._raise_if_missing\u001b[1;34m(self, key, indexer, axis_name)\u001b[0m\n",
      "\u001b[0;32m   6175\u001b[0m     \u001b[38;5;28;01mraise\u001b[39;00m \u001b[38;5;167;01mKeyError\u001b[39;00m(\u001b[38;5;124mf\u001b[39m\u001b[38;5;124m\"\u001b[39m\u001b[38;5;124mNone of [\u001b[39m\u001b[38;5;132;01m{\u001b[39;00mkey\u001b[38;5;132;01m}\u001b[39;00m\u001b[38;5;124m] are in the [\u001b[39m\u001b[38;5;132;01m{\u001b[39;00maxis_name\u001b[38;5;132;01m}\u001b[39;00m\u001b[38;5;124m]\u001b[39m\u001b[38;5;124m\"\u001b[39m)\n",
      "\u001b[0;32m   6177\u001b[0m not_found \u001b[38;5;241m=\u001b[39m \u001b[38;5;28mlist\u001b[39m(ensure_index(key)[missing_mask\u001b[38;5;241m.\u001b[39mnonzero()[\u001b[38;5;241m0\u001b[39m]]\u001b[38;5;241m.\u001b[39munique())\n",
      "\u001b[1;32m-> 6178\u001b[0m \u001b[38;5;28;01mraise\u001b[39;00m \u001b[38;5;167;01mKeyError\u001b[39;00m(\u001b[38;5;124mf\u001b[39m\u001b[38;5;124m\"\u001b[39m\u001b[38;5;132;01m{\u001b[39;00mnot_found\u001b[38;5;132;01m}\u001b[39;00m\u001b[38;5;124m not in index\u001b[39m\u001b[38;5;124m\"\u001b[39m)\n",
      "\n",
      "\u001b[1;31mKeyError\u001b[0m: \"['multiverseId', 'identifiers'] not in index\""
     ]
    }
   ],
   "source": [
    "mask = df['name'] == 'Boom // Bust'\n",
    "mask &= df['uuid'] == '7104f01e-0ca6-53e6-873f-ee246015174a'\n",
    "df.loc[mask, ['faceName', 'name', 'language', 'multiverseId', 'identifiers', 'uuid']].head()"
   ]
  },
  {
   "cell_type": "markdown",
   "metadata": {},
   "source": [
    "Here we can see that each printing of the `Boom // Bust` card has a common `multiverseId` and unique `uuid` across the Boom and Bust faces."
   ]
  },
  {
   "cell_type": "code",
   "execution_count": null,
   "metadata": {},
   "outputs": [
    {
     "data": {
      "text/html": [
       "<div>\n",
       "<style scoped>\n",
       "    .dataframe tbody tr th:only-of-type {\n",
       "        vertical-align: middle;\n",
       "    }\n",
       "\n",
       "    .dataframe tbody tr th {\n",
       "        vertical-align: top;\n",
       "    }\n",
       "\n",
       "    .dataframe thead th {\n",
       "        text-align: right;\n",
       "    }\n",
       "</style>\n",
       "<table border=\"1\" class=\"dataframe\">\n",
       "  <thead>\n",
       "    <tr style=\"text-align: right;\">\n",
       "      <th></th>\n",
       "      <th>faceName</th>\n",
       "      <th>name</th>\n",
       "      <th>language</th>\n",
       "      <th>multiverseId</th>\n",
       "      <th>identifiers</th>\n",
       "      <th>uuid</th>\n",
       "    </tr>\n",
       "  </thead>\n",
       "  <tbody>\n",
       "    <tr>\n",
       "      <th>285143</th>\n",
       "      <td>Boom</td>\n",
       "      <td>Boom // Bust</td>\n",
       "      <td>German</td>\n",
       "      <td>140480.0</td>\n",
       "      <td>{\"multiverseId\": 140480, \"scryfallId\": \"303895...</td>\n",
       "      <td>7104f01e-0ca6-53e6-873f-ee246015174a</td>\n",
       "    </tr>\n",
       "    <tr>\n",
       "      <th>285151</th>\n",
       "      <td>Bust</td>\n",
       "      <td>Boom // Bust</td>\n",
       "      <td>German</td>\n",
       "      <td>140480.0</td>\n",
       "      <td>{\"multiverseId\": 140480, \"scryfallId\": \"303895...</td>\n",
       "      <td>94a1683f-deed-5731-bc0a-894075b3fdb2</td>\n",
       "    </tr>\n",
       "  </tbody>\n",
       "</table>\n",
       "</div>"
      ],
      "text/plain": [
       "       faceName          name language  multiverseId  \\\n",
       "285143     Boom  Boom // Bust   German      140480.0   \n",
       "285151     Bust  Boom // Bust   German      140480.0   \n",
       "\n",
       "                                              identifiers  \\\n",
       "285143  {\"multiverseId\": 140480, \"scryfallId\": \"303895...   \n",
       "285151  {\"multiverseId\": 140480, \"scryfallId\": \"303895...   \n",
       "\n",
       "                                        uuid  \n",
       "285143  7104f01e-0ca6-53e6-873f-ee246015174a  \n",
       "285151  94a1683f-deed-5731-bc0a-894075b3fdb2  "
      ]
     },
     "metadata": {},
     "output_type": "display_data"
    }
   ],
   "source": [
    "mask = df['name'] == 'Boom // Bust'\n",
    "mask &= df['multiverseId'] == 140480.0\n",
    "df.loc[mask, ['faceName', 'name', 'language', 'multiverseId', 'identifiers', 'uuid']].head()"
   ]
  },
  {
   "cell_type": "markdown",
   "metadata": {},
   "source": [
    "Most cards are printed in 10 languages beyond english."
   ]
  },
  {
   "cell_type": "code",
   "execution_count": null,
   "metadata": {},
   "outputs": [
    {
     "data": {
      "text/plain": [
       "count\n",
       "10    13194\n",
       "6      9757\n",
       "7      8048\n",
       "8      5111\n",
       "5      4187\n",
       "4      3679\n",
       "9      3237\n",
       "3      3082\n",
       "1      3009\n",
       "2      2629\n",
       "Name: count, dtype: int64"
      ]
     },
     "metadata": {},
     "output_type": "display_data"
    }
   ],
   "source": [
    "df['uuid'].value_counts().value_counts()"
   ]
  },
  {
   "cell_type": "markdown",
   "metadata": {},
   "source": [
    "It appears that Phyrexian is not compatible with the UTF-8 character encoding!"
   ]
  },
  {
   "cell_type": "code",
   "execution_count": null,
   "metadata": {},
   "outputs": [
    {
     "data": {
      "text/plain": [
       "116703    |zvEZYCsDFhg.\\n|besYf,GvEng,mpreLYv co,LFr2aho...\n",
       "116704    |pcEnusL.\\n+Ⅰ: |co,tuhtZFsDYt,DEEtAGvEnyg,hruP...\n",
       "157935    |zvEpnrYhm.\\n|su,Lecc,CF,CsYPYcs,usFPuuDs²\\\\²M...\n",
       "162944                                                 None\n",
       "169505    |zvEhiUIpenDk zvE&EhclYvh.\\n|beCEcs,FgCnUCA Fg...\n",
       "Name: text, dtype: object"
      ]
     },
     "metadata": {},
     "output_type": "display_data"
    }
   ],
   "source": [
    "df.loc[df['language'] == 'Phyrexian', 'text'].head()"
   ]
  },
  {
   "cell_type": "markdown",
   "metadata": {},
   "source": [
    "## Identifiers\n",
    "\n",
    "The `cardIdentifiers.parquet` file contains the [Identifiers](https://mtgjson.com/data-models/identifiers/).  These are used to map the MTGJSON card to other platforms, such as TCG Player or MTG Arena.\n",
    "\n",
    "The other platforms are:  \n",
    " - [Card Kingdom](www.cardkingdom.com): A large-scale card vender\n",
    " - [Card Sphere](https://www.cardsphere.com/): A card trading marketplace\n",
    " - [Cardmarket](https://www.cardmarket.com/en/Magic): A card marketplace\n",
    " - [MTG Arena](https://magic.wizards.com/en/mtgarena): An online environment to play MTG\n",
    " - [MTG Online](https://magic.wizards.com/en/mtgo): An online environment to play MTG\n",
    " - [WOTC Gather](https://gatherer.wizards.com/): WOTC's official data source.\n",
    " - [Scryfall](https://scryfall.com/): Another MTG data source.  Note DFC do not have unique UUIDs.\n",
    " - [TGC Player](https://www.tcgplayer.com/): A card marketplace\n",
    "\n",
    "A note on the `uuids`.  The foil and non-foil versions of a card have unique `uuids`.  To cross-reference the other foil type, use the `mtgjsonFoilVersionId` and `mtgjsonNonFoilVersionId` fields."
   ]
  },
  {
   "cell_type": "code",
   "execution_count": null,
   "metadata": {},
   "outputs": [
    {
     "name": "stdout",
     "output_type": "stream",
     "text": [
      "Opening cardIdentifiers.parquet\n",
      "Loaded DF of shape: (96203, 21)\n"
     ]
    },
    {
     "data": {
      "text/plain": [
       "cardKingdomEtchedId                                         None\n",
       "cardKingdomFoilId                                           None\n",
       "cardKingdomId                                             122720\n",
       "cardsphereFoilId                                              21\n",
       "cardsphereId                                                  22\n",
       "mcmId                                                      16166\n",
       "mcmMetaId                                                    176\n",
       "mtgArenaId                                                  None\n",
       "mtgjsonFoilVersionId        8fd4e2eb-3eb4-50ea-856b-ef638fa47f8a\n",
       "mtgjsonNonFoilVersionId                                     None\n",
       "mtgjsonV4Id                 9eb2e54c-a12b-5e88-a9c0-d8c84c52d59c\n",
       "mtgoFoilId                                                 26993\n",
       "mtgoId                                                     26992\n",
       "multiverseId                                              129465\n",
       "scryfallCardBackId          0aeebaf5-8c7d-4636-9e82-8c27447861f7\n",
       "scryfallId                  8f7980d4-da43-4d6d-ad16-14b8a34ae91d\n",
       "scryfallIllustrationId      e4d6c53f-e936-4be8-8b70-47c2be863b20\n",
       "scryfallOracleId            a2daaf32-dbfe-4618-892e-0da24f63a44a\n",
       "tcgplayerEtchedProductId                                    None\n",
       "tcgplayerProductId                                         15033\n",
       "uuid                        57aaebc1-850c-503d-9f6e-bb8d00d8bf7c\n",
       "Name: 2, dtype: object"
      ]
     },
     "metadata": {},
     "output_type": "display_data"
    }
   ],
   "source": [
    "file = files[1]\n",
    "df = load_by_filename(file)\n",
    "df.loc[2]"
   ]
  },
  {
   "cell_type": "code",
   "execution_count": null,
   "metadata": {},
   "outputs": [
    {
     "data": {
      "text/html": [
       "<div>\n",
       "<style scoped>\n",
       "    .dataframe tbody tr th:only-of-type {\n",
       "        vertical-align: middle;\n",
       "    }\n",
       "\n",
       "    .dataframe tbody tr th {\n",
       "        vertical-align: top;\n",
       "    }\n",
       "\n",
       "    .dataframe thead th {\n",
       "        text-align: right;\n",
       "    }\n",
       "</style>\n",
       "<table border=\"1\" class=\"dataframe\">\n",
       "  <thead>\n",
       "    <tr style=\"text-align: right;\">\n",
       "      <th></th>\n",
       "      <th>mtgjsonFoilVersionId</th>\n",
       "      <th>mtgjsonNonFoilVersionId</th>\n",
       "      <th>uuid</th>\n",
       "    </tr>\n",
       "  </thead>\n",
       "  <tbody>\n",
       "    <tr>\n",
       "      <th>2</th>\n",
       "      <td>8fd4e2eb-3eb4-50ea-856b-ef638fa47f8a</td>\n",
       "      <td>None</td>\n",
       "      <td>57aaebc1-850c-503d-9f6e-bb8d00d8bf7c</td>\n",
       "    </tr>\n",
       "    <tr>\n",
       "      <th>3</th>\n",
       "      <td>None</td>\n",
       "      <td>57aaebc1-850c-503d-9f6e-bb8d00d8bf7c</td>\n",
       "      <td>8fd4e2eb-3eb4-50ea-856b-ef638fa47f8a</td>\n",
       "    </tr>\n",
       "  </tbody>\n",
       "</table>\n",
       "</div>"
      ],
      "text/plain": [
       "                   mtgjsonFoilVersionId               mtgjsonNonFoilVersionId  \\\n",
       "2  8fd4e2eb-3eb4-50ea-856b-ef638fa47f8a                                  None   \n",
       "3                                  None  57aaebc1-850c-503d-9f6e-bb8d00d8bf7c   \n",
       "\n",
       "                                   uuid  \n",
       "2  57aaebc1-850c-503d-9f6e-bb8d00d8bf7c  \n",
       "3  8fd4e2eb-3eb4-50ea-856b-ef638fa47f8a  "
      ]
     },
     "metadata": {},
     "output_type": "display_data"
    }
   ],
   "source": [
    "uuids = ['57aaebc1-850c-503d-9f6e-bb8d00d8bf7c', '8fd4e2eb-3eb4-50ea-856b-ef638fa47f8a']\n",
    "mask = df['uuid'].isin(uuids)\n",
    "df.loc[mask, ['mtgjsonFoilVersionId', 'mtgjsonNonFoilVersionId', 'uuid']]"
   ]
  },
  {
   "cell_type": "markdown",
   "metadata": {},
   "source": [
    "## Boosters\n",
    "\n",
    "df = load_by_filename(\"setBoosterContents.parquet\")\n",
    "mask = df['setCode'] == 'OTJ'\n",
    "mask &= df['boosterName'] == 'play'\n",
    "mask &= df['sheetName'] == 'breakingNews'\n",
    "df.loc[mask].head(50)\n",
    "\n",
    "df = load_by_filename(\"setBoosterContentWeights.parquet\")\n",
    "mask = df['setCode'] == 'OTJ'\n",
    "mask &= df['boosterName'] == 'play'\n",
    "df.loc[mask].head(50)\n",
    "\n",
    "df = load_by_filename(\"setBoosterSheets.parquet\")\n",
    "mask = df['setCode'] == 'OTJ'\n",
    "mask &= df['boosterName'] == 'collector'\n",
    "df.loc[mask].head(50)\n",
    "\n",
    "df = load_by_filename(\"setBoosterSheetCards.parquet\")\n",
    "mask = df['setCode'] == 'OTJ'\n",
    "mask &= df['boosterName'] == 'play'\n",
    "mask &= df['sheetName'] == 'breakingNews'\n",
    "df.loc[mask].head(50)"
   ]
  }
 ],
 "metadata": {
  "language_info": {
   "name": "python"
  }
 },
 "nbformat": 4,
 "nbformat_minor": 2
}
